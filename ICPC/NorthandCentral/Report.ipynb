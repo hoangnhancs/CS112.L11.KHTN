{
  "nbformat": 4,
  "nbformat_minor": 0,
  "metadata": {
    "kernelspec": {
      "display_name": "Python 3",
      "language": "python",
      "name": "python3"
    },
    "language_info": {
      "codemirror_mode": {
        "name": "ipython",
        "version": 3
      },
      "file_extension": ".py",
      "mimetype": "text/x-python",
      "name": "python",
      "nbconvert_exporter": "python",
      "pygments_lexer": "ipython3",
      "version": "3.8.5"
    },
    "colab": {
      "name": "Report.ipynb",
      "provenance": []
    }
  },
  "cells": [
    {
      "cell_type": "markdown",
      "metadata": {
        "id": "4KF5N9gOM4PB"
      },
      "source": [
        "<a href=\"https://colab.research.google.com/github/hoangnhancs/CS112.L11.KHTN/blob/master/ICPC/NorthandCentral/Report.ipynb\" target=\"blank\"><img src=\"https://colab.research.google.com/assets/colab-badge.svg\" alt=\"Open In Colab\"/></a>   \n",
        "If it doesn't redirect into new tab, please use `ctrl` + click or `cmd` + click(for mac user)   \n",
        "![](https://i.postimg.cc/k445hYdx/logo-uit.png)"
      ]
    },
    {
      "cell_type": "markdown",
      "metadata": {
        "id": "vjn8Zk2QM4PD"
      },
      "source": [
        "<link rel=\"stylesheet\" href=\"https://stackpath.bootstrapcdn.com/font-awesome/4.7.0/css/font-awesome.min.css\" integrity=\"sha384-wvfXpqpZZVQGK6TAh5PVlGOfQNHSoD2xbE+QkPxCAFlNEevoEH3Sl0sibVcOQVnN\" crossorigin=\"anonymous\">\n",
        "<script src='https://cdnjs.cloudflare.com/ajax/libs/mathjax/2.7.5/MathJax.js?config=TeX-MML-AM_CHTML' async></script>\n",
        "\n",
        "<h1>UIT.NSN's MEMBERS</h1>\n",
        "<div style=\"display:flex; width:100%\">\n",
        "        <div style=\"width:20%;margin: 0px auto\">\n",
        "            <h1>Thái Hoàng Nhân<br> 18521182 <br /> Leader </h1>\n",
        "            <details>\n",
        "                <summary>Image</summary>\n",
        "                <img style=\"width:100%\"\n",
        "                    src=\"https://raw.githubusercontent.com/hoangnhancs/CS112.L11.KHTN/master/resources/images/HoangNhan.png\">\n",
        "            </details>\n",
        "        </div>\n",
        "        <br>\n",
        "        <div style=\"width:20% ;margin:0px auto\">\n",
        "            <h1>Lưu Hoàng Sơn<br>18521348 <br /> Member</h1>\n",
        "            <details>\n",
        "                <summary>Image</summary>\n",
        "                <img style=\"width:100%\"\n",
        "                    src=\"https://raw.githubusercontent.com/hoangnhancs/CS112.L11.KHTN/master/resources/images/HoangSon.png\">\n",
        "            </details>\n",
        "        </div>\n",
        "        <br>\n",
        "        <div style=\"width:20%; margin:0px auto\">\n",
        "            <h1>Đào Thị Thu Nga<br> 18521135 <br /> Member </h1>\n",
        "            <details>\n",
        "                <summary>Image</summary>\n",
        "                <img style=\"width:100%\"\n",
        "                    src=\"https://raw.githubusercontent.com/hoangnhancs/CS112.L11.KHTN/master/resources/images/ThuNga.png\">\n",
        "            </details>\n",
        "        </div>\n",
        "    </div>\n",
        "\n",
        "<hr>\n",
        "<p>For Contact</p>\n",
        "<p>Thái Hoàng Nhân: 18521182@gm.uit.edu.vn or <a href=\"https://github.com/hoangnhancs\">github</a> or <a href=\"https://www.facebook.com/profile.php?id=100027617961231\">facebook</a></p>\n",
        "<p>Lưu Hoàng Sơn: 18521348@gm.uit.edu.vn or <a href=\"https://github.com/sonlhcsuit\">github</a> or <a href=\"https://www.facebook.com/sjIv3r\">facebook</a></p>\n",
        "<p>Đào Thị Thu Nga: 18521135@gm.uit.edu.vn or <a href=\"https://github.com/DAOTHITHUNGA\">github</a> or <a href=\"https://www.facebook.com/vonguocmo03092000\">facebook</a></p>"
      ]
    },
    {
      "cell_type": "markdown",
      "metadata": {
        "id": "lmPtGZTVM4PE"
      },
      "source": [
        "# I. Problem A: \n",
        "<center> <h1>A SOURVENIR</h1> </center> \n",
        "<center> <h3>Time Limit: 1 seconds</h3> </center>\n",
        "<center> <h3>Memory Limit: 512 Megabytes</h3> </center>\n",
        "<br> <br>\n",
        "\n",
        "**Problem description**\n",
        "\n",
        "Mr. Bean is selected to be a contestant member of Elon_Musk’s University which is located in\n",
        "Mars to compete in ICPC Can Tho. This will be the first time he visits the city of Can Tho and\n",
        "the Mekong Delta.\n",
        "Next to the hotel he stays in Can Tho is a souvenir shop where you can buy all specialties of\n",
        "this region. The shop has $N$ items, numbered $1$ to $N$. Item $i$ has the price of $i$ dong. Bean has $K$\n",
        "dong and he wants to buy as many distinct items as possible.\n",
        "Given $N$ and $K$, your task is to calculate how many different items Mr. Bean can buy? <br> <br> <br>\n",
        "**Input** <br>\n",
        "The input consists of multiple test cases. It starts with $T$ - the number of test cases. Then each\n",
        "test case is printed in one line, containing two integers $N$ and $K$ $(1 \\le N \\le 100, 0 \\le K \\le\n",
        "10000)$ <br> <br>\n",
        "**Output** <br>\n",
        "For each test case, print the maximal number of souvenirs Mr.Bean can buy.\n",
        "<br><br>\n",
        "**Example** <br> <br>\n",
        "\n",
        "|   INPUT   |   OUTPUT  |\n",
        "|-----------|-----------|\n",
        "|2          |2          |\n",
        "|10 4       |10         |\n",
        "|10 1000    |           |"
      ]
    },
    {
      "cell_type": "markdown",
      "metadata": {
        "id": "fzhz8SpzM4PF"
      },
      "source": [
        "## 1. Abstraction:"
      ]
    },
    {
      "cell_type": "markdown",
      "metadata": {
        "id": "HQIj9rsZM4PG"
      },
      "source": [
        "Đây là một bài toán tính tổng $n$ số tự nhiên liên tiếp từ $1$ đến $n$ sao cho $S = \\sum_{i=1}^n \\le K$ và $n \\le N$ . <br>\n",
        "### Constrain:  $1 \\le N \\le 100, 0 \\le K \\le 10000$ ###\n",
        "\n"
      ]
    },
    {
      "cell_type": "markdown",
      "metadata": {
        "id": "HUMCGSFXM4PH"
      },
      "source": [
        "## 2. Pattern Recognition"
      ]
    },
    {
      "cell_type": "markdown",
      "metadata": {
        "id": "f6SyE4qGM4PI"
      },
      "source": [
        "Ta có công thức tổng quát cho tổng này là $S = \\sum_{i=1}^n = \\frac{n(n+1)}{2}$ <br>\n",
        "Do đó, ý tưởng của bài toán là: <br>\n",
        "- Trước tiên ta sẽ có $S<=K$ <br>\n",
        "$\\rightarrow \\frac{n(n+1)}{2} \\le K$ <br>\n",
        "$\\rightarrow n < \\sqrt{n(n+1)} \\le 2K$ <br>\n",
        "- Sau đó ta lấy $n = \\sqrt{2K}$ <br>\n",
        "- Kiểm tra nếu $n(n+1) > 2K$ thì $n = n-1$ <br>\n",
        "- Nếu $n \\ge N$ thì in ra $N$ ngược lại thì in ra $n$"
      ]
    },
    {
      "cell_type": "markdown",
      "metadata": {
        "id": "0gjYBaZOM4PJ"
      },
      "source": [
        "## 3. Design Algorithms"
      ]
    },
    {
      "cell_type": "markdown",
      "metadata": {
        "id": "ByFz5Z_6M4PK"
      },
      "source": [
        "Vì khá đơn giản nên ta có thể cài đặt thuật toán luôn"
      ]
    },
    {
      "cell_type": "markdown",
      "metadata": {
        "id": "WMzPSVt1M4PL"
      },
      "source": [
        "## 4. Implement"
      ]
    },
    {
      "cell_type": "code",
      "metadata": {
        "id": "lRnplAuJM4PL",
        "outputId": "031538a8-5015-41b9-ed7d-6d37442af6ac"
      },
      "source": [
        "from math import *\n",
        "t = int(input())\n",
        "def cal(n, k):\n",
        "    tmp = int(sqrt(2*k))\n",
        "    if tmp*(tmp+1) > 2*k:\n",
        "        tmp -= 1\n",
        "    if tmp>=n:\n",
        "        return n \n",
        "    else:\n",
        "        return tmp\n",
        "\n",
        "ns = []\n",
        "ks = []\n",
        "for _ in range (t):\n",
        "    n_tmp, k_tmp = map(int, input().split())\n",
        "    ns.append(n_tmp)\n",
        "    ks.append(k_tmp)\n",
        "\n",
        "for i in range (t):\n",
        "    print(cal(ns[i], ks[i]))\n"
      ],
      "execution_count": null,
      "outputs": [
        {
          "output_type": "stream",
          "text": [
            "2\n",
            "10\n"
          ],
          "name": "stdout"
        }
      ]
    },
    {
      "cell_type": "markdown",
      "metadata": {
        "id": "irLi_VAIM4PQ"
      },
      "source": [
        "# II. Problem B:"
      ]
    },
    {
      "cell_type": "markdown",
      "metadata": {
        "id": "y3Eau05JM4PQ"
      },
      "source": [
        "<center> <h1>MILK CAN</h1> </center> \n",
        "<center> <h3>Time Limit: 1 seconds</h3> </center>\n",
        "<center> <h3>Memory Limit: 256 Megabytes</h3> </center>\n",
        "<br> <br>\n",
        "\n",
        "**Problem description** \n",
        "<br><br>\n",
        "A big food company produces canned milk. The can is a round cylinder. They produce various\n",
        "sizes of milk cans. When producing milk cans, the designers of this company always aim to\n",
        "have the lowest cost of raw materials for making cans. That means the total surface area of the\n",
        "can is the smallest. But they expect the volume of the milk can to remain constant, equal to V\n",
        "ml.\n",
        "You are the talented designers here. Calculate the optimal total surface area of the can for your\n",
        "company to spend the least money.\n",
        "Notes: <br>\n",
        "- The volume of cylinder = $\\pi*r^2*h$ cubic units.\n",
        "- Surface area of cylinder = $2*\\pi*r^2 + 2*\\pi*r*h$.\n",
        "\n",
        "\n",
        "<img src=\"https://raw.githubusercontent.com/hoangnhancs/CS112.L11.KHTN/master/resources/images/Figure1A_milk_can_size_specification.png\">\n",
        "\n",
        "**Input**   \n",
        "The input consists of several test cases. The first line of the input contains the number of test\n",
        "cases $T$ $(T ≤ 1000)$. The following lines describe the test cases.\n",
        "Each test case consists of a positive integer $V$ $(V ≤ 1000)$. <br>\n",
        "<br>\n",
        "**Output** <br>\n",
        "For each test case in the input, print in a single line the smallest surface area with absolute or\n",
        "relative error less than 10−6 that you can achieve. <br>\n",
        "<br>\n",
        "**Example** <br>\n",
        "\n",
        "|   INPUT   |   OUTPUT  |\n",
        "|-----------|-----------|\n",
        "|3          |261.679751 |\n",
        "|325        |348.734205 |\n",
        "|500        |553.581045 |\n",
        "|1000       |           |\n"
      ]
    },
    {
      "cell_type": "markdown",
      "metadata": {
        "id": "CnoSElCgM4PR"
      },
      "source": [
        "## 1. Abstraction"
      ]
    },
    {
      "cell_type": "markdown",
      "metadata": {
        "id": "BboBOEJWM4PS"
      },
      "source": [
        "Hình trụ có thể tích $V$ không đổi thì diện tích toàn phần $S$ nhỏ nhất bằng bao nhiêu?  \n",
        "### Constrain : $V \\le 1000$"
      ]
    },
    {
      "cell_type": "markdown",
      "metadata": {
        "id": "QA-jybA0M4PS"
      },
      "source": [
        "## 2. Pattern Recognition"
      ]
    },
    {
      "cell_type": "markdown",
      "metadata": {
        "id": "n2583jZ_M4PT"
      },
      "source": [
        "Với $V = \\pi r^2 h$  \n",
        "$\\rightarrow h = \\frac{V}{\\pi r^2}$   \n",
        "$S = 2\\pi r^2 + 2 \\pi r h$   \n",
        "$\\rightarrow S = 2 \\pi r^2 + 2 \\pi r \\frac{V}{\\pi r^2}$   \n",
        "$\\rightarrow S = 2 \\pi r^2 + \\frac{V}{r} + \\frac{V}{r}$   \n",
        "$\\rightarrow S \\ge 3\\sqrt[3]{\\frac{V}{r} \\frac{V}{r} 2 \\pi r^2}$   \n",
        "$\\rightarrow S \\ge 3\\sqrt[3]{2 \\pi V^2}$    \n",
        "\n",
        "Vậy giá trị nhỏ nhất của $S$ khi $V$ không đổi là $3\\sqrt[3]{2 \\pi V^2}$"
      ]
    },
    {
      "cell_type": "markdown",
      "metadata": {
        "id": "hpujVRfVM4PU"
      },
      "source": [
        "## 3. Design Algorithms"
      ]
    },
    {
      "cell_type": "markdown",
      "metadata": {
        "id": "uQy0Jy1cM4PV"
      },
      "source": [
        "Dựa vào công thức đã được chứng minh ở trên, ta có thể cài đặt lời giải luôn"
      ]
    },
    {
      "cell_type": "markdown",
      "metadata": {
        "id": "qlF4veycM4PV"
      },
      "source": [
        "## 4. Implement"
      ]
    },
    {
      "cell_type": "code",
      "metadata": {
        "id": "uKINlC92M4PW",
        "outputId": "a9728166-f49a-421b-ae48-c3e9f865436f"
      },
      "source": [
        "print('{:.4f}'.format(2.734873984398349))"
      ],
      "execution_count": null,
      "outputs": [
        {
          "output_type": "stream",
          "text": [
            "2.7349\n"
          ],
          "name": "stdout"
        }
      ]
    },
    {
      "cell_type": "code",
      "metadata": {
        "id": "k_81h3jBM4PZ",
        "outputId": "dca2c4eb-57a7-4457-ca94-d525fe78d627"
      },
      "source": [
        "import math\n",
        "def min_s(v):\n",
        "    return ('{:.6f}'.format(3*(2*math.pi*(v**2))**(1/3)))\n",
        "n = int(input())\n",
        "test_case = []\n",
        "for _ in range (n):\n",
        "    tmp = int(input())\n",
        "    test_case.append(tmp)\n",
        "for _ in test_case:\n",
        "    print(min_s(_))"
      ],
      "execution_count": null,
      "outputs": [
        {
          "output_type": "stream",
          "text": [
            "261.679751\n",
            "348.734205\n",
            "553.581045\n"
          ],
          "name": "stdout"
        }
      ]
    },
    {
      "cell_type": "markdown",
      "metadata": {
        "id": "SVu51GxCM4Pc"
      },
      "source": [
        "# III. Problem C:"
      ]
    },
    {
      "cell_type": "markdown",
      "metadata": {
        "id": "BoAiUvHJM4Pd"
      },
      "source": [
        "<center> <h1>Beauty Prime Numbers</h1> </center> \n",
        "<center> <h3>Time Limit: 1 seconds</h3> </center>\n",
        "<center> <h3>Memory Limit: 256 Megabytes</h3> </center>\n",
        "<br> <br>\n",
        "\n",
        "**Problem description** \n",
        "<br><br>\n",
        "The significance of prime numbers, in both everyday\n",
        "applications & as a subtopic pertinent to all branches\n",
        "of math, cannot be overstated. We quietly rely on their\n",
        "special properties to carry the backbone of countless\n",
        "parts of our society — all because they are an\n",
        "irreducible part of the very fabric of nature. Resistant\n",
        "to any further factorization, prime numbers are often\n",
        "referred to as the “atoms” of the applied information\n",
        "technology.\n",
        "You are the talented programmer, and be asked to write a program to count all beauty prime\n",
        "numbers. A beautiful prime number is defined as a number which sum of all digits in it modulo\n",
        "$10$ equals to zero $(0)$. \n",
        "<br><br>\n",
        "**Input**<br>\n",
        "The input consists two integer numbers (m, n). The first number (m) is the start number which\n",
        "we start to find out these beauty prime numbers. The second number (n) is the amount of prime\n",
        "numbers start from first number, in which we want to find out these beauty prime numbers.\n",
        "$0 < m, n \\le 10000$ <br><br>\n",
        "**Output** <br>\n",
        "For each test case in the input, print out the number of beauty prime numbers which program\n",
        "find out. In case of don’t have any beauty prime number, print out zero value (0) <br><br>\n",
        "**Example 1** <br>\n",
        "\n",
        "|   INPUT   |   OUTPUT  |\n",
        "|-----------|-----------|\n",
        "|8 5        |1          |\n",
        "<br>\n",
        "\n",
        "Explanation: start from 8, we find out 5 prime numbers: $11, 13, 17, 19, 23$. And only one\n",
        "number $19$ has $(1+9)$ $mod$ $10 = 0$, so output is $1$. <br><br>\n",
        "\n",
        "**Example 2** <br>\n",
        "\n",
        "|   INPUT   |   OUTPUT  |\n",
        "|-----------|-----------|\n",
        "|101 10     |2          |\n",
        "\n",
        "<br>\n",
        "\n",
        "Explanation: start from $101$, we find out $10$ prime numbers: $101, 103, 107, 109, 113, 127, 131, 137,\n",
        "139, 149$. And there are two numbers $109$ $(1+0+9)$ and $127$ $(1+2+7)$ have $mod$ $10 = 0$, so output\n",
        "is $2$\n",
        "\n"
      ]
    },
    {
      "cell_type": "markdown",
      "metadata": {
        "id": "k35RsxtNM4Pe"
      },
      "source": [
        "## 1. Abstraction"
      ]
    },
    {
      "cell_type": "markdown",
      "metadata": {
        "id": "x9vv_qt9M4Pf"
      },
      "source": [
        "Có bao nhiêu số nguyên tố trong **n** số nguyên tố đầu tiên lớn hơn **m** thỏa điều kiện tổng các chữ số chia hết cho 10.  \n",
        "### Constrain : $0 \\le m , n \\le 1000 $"
      ]
    },
    {
      "cell_type": "markdown",
      "metadata": {
        "id": "eg_ORZ2wM4Pf"
      },
      "source": [
        "# 2.Pattern Recognization \n",
        "Sử dụng bài toán con là kiểm tra số nguyên tố, bắt đầu từ m, tìm đủ n số nguyên tố thì bắt đầu kiểm tra.  \n",
        "Sử dụng định lý fermat nhỏ giúp chúng ta kiểm tra số nguyên tố nhanh hơn  \n",
        "\n",
        "Nếu n là một số nguyên tố thì bất kỳ i là số nhỏ hơn n đều thỏa tính chất:  $$ i^{n-1} \\equiv 1 (\\mod n)$$   \n",
        "Cài đặt của hàm kiểm tra số nguyên tố bằng định lý fermat nhỏ "
      ]
    },
    {
      "cell_type": "code",
      "metadata": {
        "id": "5nrMwiWwM4Pg"
      },
      "source": [
        "from random import randint \n",
        "\n",
        "def is_prime(n):\n",
        "     return not (n < 2 or any(pow(randint(1, n - 1), n - 1, n) != 1 for _ in range(n)))\n"
      ],
      "execution_count": null,
      "outputs": []
    },
    {
      "cell_type": "markdown",
      "metadata": {
        "id": "ClBhtLlmM4Pj"
      },
      "source": [
        "# 3. Design Algorithm\n",
        "Bởi vì thuật toán này đơn giản nên ta có thể cài đặt luôn "
      ]
    },
    {
      "cell_type": "code",
      "metadata": {
        "id": "gisxyChkM4Pj",
        "outputId": "ce942006-f4d0-4546-f56f-42d9318f96a5"
      },
      "source": [
        "from random import randint \n",
        "\n",
        "def is_prime(n):\n",
        "     return not (n < 2 or any(pow(randint(1, n - 1), n - 1, n) != 1 for _ in range(n)))\n",
        "\n",
        "def sum_digits(number):\n",
        "    return sum(map(int, list(str(number))))%10==0\n",
        "\n",
        "n, m = map(int, input().split())\n",
        "count = 0\n",
        "res = 0\n",
        "while count!=m:\n",
        "    if is_prime(n):\n",
        "        count+=1\n",
        "        if sum_digits(n):\n",
        "            res+=1\n",
        "    n+=1\n",
        "print(res)   "
      ],
      "execution_count": null,
      "outputs": [
        {
          "output_type": "stream",
          "text": [
            "2\n"
          ],
          "name": "stdout"
        }
      ]
    },
    {
      "cell_type": "markdown",
      "metadata": {
        "id": "H68Gu-gENBRY"
      },
      "source": [
        "# IV. Problem D:"
      ]
    },
    {
      "cell_type": "markdown",
      "metadata": {
        "id": "Bq1plMA3DYUA"
      },
      "source": [
        "<center> <h1>Divisible by 7</h1> </center> \n",
        "<center> <h3>Time Limit: 2 seconds</h3> </center>\n",
        "<center> <h3>Memory Limit: 512 Megabytes</h3> </center>\n",
        "<br> <br>\n",
        "\n",
        "**Problem description** \n",
        "<br><br>\n",
        "Your task is to write a program that takes an integer as input, reverses its digits, creates the sum\n",
        "of the original integer with its reversed counterpart, and checks if the sum is divisible by 7. If\n",
        "it is, you are done. Otherwise, we repeat the procedure until it does.\n",
        "If it took more than 1,000 iterations, we assume that there is no multiples 7 can be created by\n",
        "using this method with the input number. <br>\n",
        "<br><br>\n",
        "**Input** <br>\n",
        "The first line of the contains the number of datasets, which is not greater than $1000$.\n",
        "Each test case contains a positive number $N (1 \\le N \\le 10^{18})$. <br>\n",
        "<br>\n",
        "**Output** <br>\n",
        "For each test, print the final sum that you have found. If there is no answer, print $-1$. <br>\n",
        "<br>\n",
        "**Example** <br>\n",
        "\n",
        "|   INPUT   |   OUTPUT  |\n",
        "|-----------|-----------|\n",
        "|5          |77         |\n",
        "|1          |77         |\n",
        "|2          |9447438    |\n",
        "|3          |77         |\n",
        "|4          |999999     |\n",
        "|999999     |           |"
      ]
    },
    {
      "cell_type": "markdown",
      "metadata": {
        "id": "WcQ4pwcLE3w_"
      },
      "source": [
        "##1. Abstraction: \n",
        "Bài toán xét tổng  $S$ $=$ $a_1a_2...a_n$ + $a_n...a_2a_1$ . Với số lần lặp 1 đến n, tìm $S$ sao cho $S_i$ mod $7 == 0 $."
      ]
    },
    {
      "cell_type": "markdown",
      "metadata": {
        "id": "sdy-4hQXI9hK"
      },
      "source": [
        "##2.Pattern Recognition \n",
        "  \n",
        "Ý tưởng bài toán :\n",
        "\n",
        "\n",
        "*   Trước tiên ta sẽ xét với count = 0 đây là số lần lặp . \n",
        "* Nếu count > 1000 kết thúc bài toán. \n",
        "*   Nếu count < 1000 . Tính tổng $S$ $=$ $a_1a_2...a_n$ + $a_n...a_2a_1$ . \n",
        "* Nếu $S$ $mod$ $7$ $==$ $0$ in ra S .\n",
        "* Nếu $S$  $mod$  $7$ $!=$ $0$ lặp lại quá trình trên. \n",
        "\n"
      ]
    },
    {
      "cell_type": "markdown",
      "metadata": {
        "id": "y45LuJ2cKqR6"
      },
      "source": [
        "##3. Design Algorithms\n",
        "Vì thuật toán đơn giản nên ta có thể cài đặt luôn thuật toán "
      ]
    },
    {
      "cell_type": "markdown",
      "metadata": {
        "id": "TfNGr-EkNzMF"
      },
      "source": [
        "##4.Implement"
      ]
    },
    {
      "cell_type": "code",
      "metadata": {
        "id": "4PEv_MRwNW8e",
        "outputId": "a19668c9-628c-4e1b-80cb-447b25afa1b8",
        "colab": {
          "base_uri": "https://localhost:8080/"
        }
      },
      "source": [
        "def check(n):\n",
        "    while True:\n",
        "        if n%7==0:\n",
        "            return n\n",
        "        else:\n",
        "            n = n + int(str(n)[::-1])\n",
        "n = int(input())\n",
        "test_cases = []\n",
        "\n",
        "for _ in range (n):\n",
        "    tmp = int(input())\n",
        "    test_cases.append(tmp)\n",
        "\n",
        "for _ in test_cases:\n",
        "\n",
        "    print(check(_))"
      ],
      "execution_count": 6,
      "outputs": [
        {
          "output_type": "stream",
          "text": [
            "5\n",
            "1\n",
            "2\n",
            "3\n",
            "4\n",
            "5\n",
            "77\n",
            "77\n",
            "9447438\n",
            "77\n",
            "847\n"
          ],
          "name": "stdout"
        }
      ]
    },
    {
      "cell_type": "markdown",
      "metadata": {
        "id": "xfWgB7VXM4Pr"
      },
      "source": [
        "# V. Problem F:"
      ]
    },
    {
      "cell_type": "markdown",
      "metadata": {
        "id": "DWHt1XCZM4Ps"
      },
      "source": [
        "<center> <h1>Palindrome Counter</h1> </center> \n",
        "<center> <h3>Time Limit: 1 seconds</h3> </center>\n",
        "<center> <h3>Memory Limit: 512 Megabytes</h3> </center>\n",
        "<br> <br>\n",
        "\n",
        "**Problem description** \n",
        "<br><br>\n",
        "A palindromic number is a number (in some base b) that is the same when written forwards or\n",
        "backwards. The first few palindromic numbers are therefore are $1, 2, 3, 4, 5, 6, 7, 8, 9, 11,\n",
        "22, 33, 44, 55, 66, 77, 88, 99, 101, 111, 121, ...$ (rule 1).<br>\n",
        "<br>\n",
        "In some special cases, 0012100, 00 is a palindromic number. Therefore, $12100, 1210, 00$ is\n",
        "also a palindromic number (rule 2).<br>\n",
        "<br>\n",
        "We can classify positive integers into three categories:\n",
        "- Type 0: numbers that not palindromic number.\n",
        "- Type 1: palindromic numbers according to rule 1.\n",
        "- Type 2: palindromic numbers according to rule 2.\n",
        "All palindrome that less than or equal to $100$ are: $0, 1, 2, 3, 4, 5, 6, 7, 8, 9, 10, 11, 20, 22, 30,\n",
        "33, 40, 44, 50, 55, 60, 66, 70, 77, 80, 88, 90, 99, 100$.\n",
        "Given a number $M$ is a non-negative integer. The function $F(M)$ returns the number of\n",
        "palindromes (including the 2 types: type 1 and type 2) less than or equal to $M (0 ≤ M ≤ 1035)$.<br>\n",
        "\n",
        "|   M   |   15  |   39  |   55  |   60  |   85  |   88  |   90  |   100 |\n",
        "|-------|-------|-------|-------|-------|-------|-------|-------|-------|\n",
        "|F(M)   | 12    | 16    | 20    | 21    | 25    | 26    | 27    | 29    |\n",
        "<br>\n",
        "\n",
        "To simplify the problem, given a number $N$ is a non-negative integer, the function $P(N)$ returns\n",
        "the value of $F(10^N) (0 ≤ N ≤ 35)$.<br>\n",
        "\n",
        "|   N   |   0   |   1   |   2   |   3   |   4   |   ...   |       15      |   ...   |               35            |\n",
        "|-------|-------|-------|-------|-------|-------|---------|---------------|---------|-----------------------------|\n",
        "|P(N)   |2      |11     |29     |137    |335    |...      |144,444,413    |...      |1,444,444,444,444,444,373    |\n",
        "\n",
        "<br>\n",
        "\n",
        "**Task** <br>\n",
        "Given a $N$ positive numbers, your mission is to calculate $P(N)$ <br>\n",
        "<br>\n",
        "\n",
        "**Input** <br>\n",
        "\n",
        "- On the first line is the number of test case, $1 ≤ T ≤ 36$.\n",
        "- In the next $T$ lines, each line contains a non-negative integer $N_i$ $(1 ≤ i ≤ T, 0 ≤ N_i ≤ 35)$.\n",
        "<br>\n",
        "\n",
        "**Output** <br>\n",
        "\n",
        "The result has $T$ lines, the ith line contains the value of $P(N_i) (1 ≤ i ≤ T)$.\n",
        "<br>\n",
        "\n",
        "**Example 1** <br>\n",
        "\n",
        "|   INPUT   |       OUTPUT        |\n",
        "|-----------|---------------------|\n",
        "|5          |335                  |\n",
        "|4          |14429                |\n",
        "|7          |1444444444444444373  |\n",
        "|35         |34444444403          |\n",
        "|20         |144444413            |\n",
        "|15         |                     |\n",
        "<br>\n",
        "\n",
        "**Example 2** <br>\n",
        "\n",
        "|   INPUT   |       OUTPUT      |\n",
        "|-----------|-------------------|\n",
        "|3          |11                 |\n",
        "|1          |34427              |\n",
        "|8          |344423             |\n",
        "|10         |                   |\n",
        "<br>\n",
        "\n",
        "**Example 3** <br>\n",
        "\n",
        "|   INPUT   |       OUTPUT      |\n",
        "|-----------|-------------------|\n",
        "|5          |3444444444444383   |\n",
        "|30         |29                 |\n",
        "|2          |137                |\n",
        "|3          |144444444444444377 |\n",
        "|33         |14444444444393     |\n",
        "|25         |                   |\n",
        "\n"
      ]
    },
    {
      "cell_type": "markdown",
      "metadata": {
        "id": "wZdMGUh6M4Ps"
      },
      "source": [
        "# 1.Abstraction\n",
        "Dựa vào định nghĩa các số palindrome, tính toán tổng số palindrome nhỏ hơn $10^n$\n",
        "### Constrains : $0 \\leq n \\leq 35 $"
      ]
    },
    {
      "cell_type": "markdown",
      "metadata": {
        "id": "ER1X9Y2_M4Ps"
      },
      "source": [
        "# 2.Pattern Recognition\n",
        "Từ những các output, input ở trên thì ta có thể nhận ra một số quy luật chung giống nhau, chẳng hạn như có khá nhiều chữ số '4', Và số ở phía sau cũng có thể được tạo ra từ số phía trước.    \n",
        "Đây là dạng bài toán dãy số, ta cần phải tìm ra công thức dãy số "
      ]
    },
    {
      "cell_type": "markdown",
      "metadata": {
        "id": "bc9D4CIlM4Pt"
      },
      "source": [
        "# 3.Design Algorithms\n",
        "Thực hiện một vài phép thống kê thì ta được bảng \n",
        "\n",
        "\n",
        "|n|kết quả |số lượng các số palindrome trong khoảng $ 10^{n-1} $ và $10^n$| \n",
        "|-|--------|--------------------------------------------------------------| \n",
        "|0|2       |2                                                             |\n",
        "|1|11      |9                                                             |\n",
        "|2|29      |18                                                            |\n",
        "|3|137     |108                                                           |\n",
        "|4|335     |198                                                           |\n",
        "|5|1433    |1098                                                          |\n",
        "|6|3431    |1998                                                          |\n",
        " \n",
        " \n",
        "--------------------------------------------\n",
        "\n",
        "### Giải theo cách dãy số, tìm công thức sinh số ở vị trí i   \n",
        "Có thể nhận thấy ngoại trừ $n=0$ thì số lượng số palindrome nằm trong khoảng $10^{i-1}$ và $10^i$ chia hết cho 9. và các giá trị lần lượt đó là \n",
        "$$1,2,12,22,122,222,...$$\n",
        "\n",
        "Có thể nhận thấy được rằng là các số đều thỏa mãn hệ sau    \n",
        "$$f(n) = \\begin{cases} \\frac{2}{9}10^{i\\div 2}, & \\mbox{if } i\\mbox{ is even} \\\\ 10^{i\\div 2} + \\frac{2}{9}10^{i\\div 2 }, & \\mbox{if } i\\mbox{ is odd} \\end{cases}$$\n",
        "$\\div$ là phép chia lấy phần nguyên  \n",
        "$f(n)$ được lấy phần nguyên chính là công thức của bài toán  \n",
        "\n"
      ]
    },
    {
      "cell_type": "markdown",
      "metadata": {
        "id": "w9zXKVYpM4Pt"
      },
      "source": [
        "# 4.Implement "
      ]
    },
    {
      "cell_type": "code",
      "metadata": {
        "id": "rF1IcFwaM4Pu"
      },
      "source": [
        "from decimal import Decimal,getcontext\n",
        "from fractions import Fraction\n",
        "getcontext().prec = 40\n",
        "def f(n):\n",
        "    base = Fraction(2,9)\n",
        "    if n%2 == 0 : # even\n",
        "        return int(base*(10**(n//2)))\n",
        "    elif n%2 == 1: # odd\n",
        "        return int(10**(n//2) + base*(10**(n//2)))\n",
        "    \n",
        "seq = [f(x) for x in range(1,36)]\n",
        "n = int(input())\n",
        "while n!=0:\n",
        "    i = int(input())\n",
        "    print(sum(seq[:i])*9+2)\n",
        "    n-=1"
      ],
      "execution_count": null,
      "outputs": []
    }
  ]
}