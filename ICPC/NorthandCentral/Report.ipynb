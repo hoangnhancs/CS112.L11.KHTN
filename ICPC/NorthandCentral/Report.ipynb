{
 "metadata": {
  "language_info": {
   "codemirror_mode": {
    "name": "ipython",
    "version": 3
   },
   "file_extension": ".py",
   "mimetype": "text/x-python",
   "name": "python",
   "nbconvert_exporter": "python",
   "pygments_lexer": "ipython3",
   "version": 3
  },
  "orig_nbformat": 2
 },
 "nbformat": 4,
 "nbformat_minor": 2,
 "cells": [
  {
   "source": [
    "<a href=\"https://colab.research.google.com/github/hoangnhancs/CS112.L11.KHTN/blob/master/Section5/Report.ipynb\" target=\"blank\"><img src=\"https://colab.research.google.com/assets/colab-badge.svg\" alt=\"Open In Colab\"/></a>   \n",
    "If it doesn't redirect into new tab, please use `ctrl` + click or `cmd` + click(for mac user)   \n",
    "![](https://i.postimg.cc/k445hYdx/logo-uit.png)"
   ],
   "cell_type": "markdown",
   "metadata": {}
  },
  {
   "source": [
    "<link rel=\"stylesheet\" href=\"https://stackpath.bootstrapcdn.com/font-awesome/4.7.0/css/font-awesome.min.css\" integrity=\"sha384-wvfXpqpZZVQGK6TAh5PVlGOfQNHSoD2xbE+QkPxCAFlNEevoEH3Sl0sibVcOQVnN\" crossorigin=\"anonymous\">\n",
    "<script src='https://cdnjs.cloudflare.com/ajax/libs/mathjax/2.7.5/MathJax.js?config=TeX-MML-AM_CHTML' async></script>\n",
    "\n",
    "<h1>UIT.NSN's MEMBERS</h1>\n",
    "<div style=\"display:flex; width:100%\">\n",
    "        <div style=\"width:20%;margin: 0px auto\">\n",
    "            <h1>Thái Hoàng Nhân<br> 18521182 <br /> Leader </h1>\n",
    "            <details>\n",
    "                <summary>Image</summary>\n",
    "                <img style=\"width:100%\"\n",
    "                    src=\"https://raw.githubusercontent.com/hoangnhancs/CS112.L11.KHTN/master/resources/images/HoangNhan.png\">\n",
    "            </details>\n",
    "        </div>\n",
    "        <br>\n",
    "        <div style=\"width:20% ;margin:0px auto\">\n",
    "            <h1>Lưu Hoàng Sơn<br>18521348 <br /> Member</h1>\n",
    "            <details>\n",
    "                <summary>Image</summary>\n",
    "                <img style=\"width:100%\"\n",
    "                    src=\"https://raw.githubusercontent.com/hoangnhancs/CS112.L11.KHTN/master/resources/images/HoangSon.png\">\n",
    "            </details>\n",
    "        </div>\n",
    "        <br>\n",
    "        <div style=\"width:20%; margin:0px auto\">\n",
    "            <h1>Đào Thị Thu Nga<br> 18521135 <br /> Member </h1>\n",
    "            <details>\n",
    "                <summary>Image</summary>\n",
    "                <img style=\"width:100%\"\n",
    "                    src=\"https://raw.githubusercontent.com/hoangnhancs/CS112.L11.KHTN/master/resources/images/ThuNga.png\">\n",
    "            </details>\n",
    "        </div>\n",
    "    </div>\n",
    "\n",
    "<hr>\n",
    "<p>For Contact</p>\n",
    "<p>Thái Hoàng Nhân: 18521182@gm.uit.edu.vn or <a href=\"https://github.com/hoangnhancs\">github</a> or <a href=\"https://www.facebook.com/profile.php?id=100027617961231\">facebook</a></p>\n",
    "<p>Lưu Hoàng Sơn: 18521348@gm.uit.edu.vn or <a href=\"https://github.com/sonlhcsuit\">github</a> or <a href=\"https://www.facebook.com/sjIv3r\">facebook</a></p>\n",
    "<p>Đào Thị Thu Nga: 18521135@gm.uit.edu.vn or <a href=\"https://github.com/DAOTHITHUNGA\">github</a> or <a href=\"https://www.facebook.com/vonguocmo03092000\">facebook</a></p>"
   ],
   "cell_type": "markdown",
   "metadata": {}
  },
  {
   "source": [
    "# 1. Problem A: \n",
    "<center> <h1>A SOURVENIR</h1> </center> \n",
    "<center> <h3>Time Limit: 1 seconds</h3> </center>\n",
    "<center> <h3>Memory Limit: 512 Megabytes</h3> </center>\n",
    "<br> <br>\n",
    "\n",
    "**Problem description**\n",
    "\n",
    "Mr. Bean is selected to be a contestant member of Elon_Musk’s University which is located in\n",
    "Mars to compete in ICPC Can Tho. This will be the first time he visits the city of Can Tho and\n",
    "the Mekong Delta.\n",
    "Next to the hotel he stays in Can Tho is a souvenir shop where you can buy all specialties of\n",
    "this region. The shop has $N$ items, numbered $1$ to $N$. Item $i$ has the price of $i$ dong. Bean has $K$\n",
    "dong and he wants to buy as many distinct items as possible.\n",
    "Given $N$ and $K$, your task is to calculate how many different items Mr. Bean can buy? <br> <br> <br>\n",
    "Input\n",
    "The input consists of multiple test cases. It starts with $T$ - the number of test cases. Then each\n",
    "test case is printed in one line, containing two integers $N$ and $K$ $(1 \\le N \\le 100, 0 \\le K \\le\n",
    "10000)$ <br> <br>\n",
    "Output\n",
    "For each test case, print the maximal number of souvenirs Mr.Bean can buy.\n",
    "<br><br>\n",
    "Example: <br>\n",
    "|   INPUT   |   OUTPUT  |\n",
    "|-----------|-----------|\n",
    "|2          |2          |\n",
    "|10 4       |10         |\n",
    "|10 1000    |           |"
   ],
   "cell_type": "markdown",
   "metadata": {}
  },
  {
   "source": [
    "**b**"
   ],
   "cell_type": "markdown",
   "metadata": {}
  }
 ]
}