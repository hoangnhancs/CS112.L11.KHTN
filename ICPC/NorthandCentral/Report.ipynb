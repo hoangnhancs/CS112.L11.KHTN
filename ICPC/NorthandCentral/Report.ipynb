{
 "metadata": {
  "language_info": {
   "codemirror_mode": {
    "name": "ipython",
    "version": 3
   },
   "file_extension": ".py",
   "mimetype": "text/x-python",
   "name": "python",
   "nbconvert_exporter": "python",
   "pygments_lexer": "ipython3",
   "version": "3.6.9-final"
  },
  "orig_nbformat": 2,
  "kernelspec": {
   "name": "python3",
   "display_name": "Python 3"
  }
 },
 "nbformat": 4,
 "nbformat_minor": 2,
 "cells": [
  {
   "source": [
    "<a href=\"https://colab.research.google.com/github/hoangnhancs/CS112.L11.KHTN/blob/master/ICPC/NorthandCentral/Report.ipynb\" target=\"blank\"><img src=\"https://colab.research.google.com/assets/colab-badge.svg\" alt=\"Open In Colab\"/></a>   \n",
    "If it doesn't redirect into new tab, please use `ctrl` + click or `cmd` + click(for mac user)   \n",
    "![](https://i.postimg.cc/k445hYdx/logo-uit.png)"
   ],
   "cell_type": "markdown",
   "metadata": {}
  },
  {
   "source": [
    "<link rel=\"stylesheet\" href=\"https://stackpath.bootstrapcdn.com/font-awesome/4.7.0/css/font-awesome.min.css\" integrity=\"sha384-wvfXpqpZZVQGK6TAh5PVlGOfQNHSoD2xbE+QkPxCAFlNEevoEH3Sl0sibVcOQVnN\" crossorigin=\"anonymous\">\n",
    "<script src='https://cdnjs.cloudflare.com/ajax/libs/mathjax/2.7.5/MathJax.js?config=TeX-MML-AM_CHTML' async></script>\n",
    "\n",
    "<h1>UIT.NSN's MEMBERS</h1>\n",
    "<div style=\"display:flex; width:100%\">\n",
    "        <div style=\"width:20%;margin: 0px auto\">\n",
    "            <h1>Thái Hoàng Nhân<br> 18521182 <br /> Leader </h1>\n",
    "            <details>\n",
    "                <summary>Image</summary>\n",
    "                <img style=\"width:100%\"\n",
    "                    src=\"https://raw.githubusercontent.com/hoangnhancs/CS112.L11.KHTN/master/resources/images/HoangNhan.png\">\n",
    "            </details>\n",
    "        </div>\n",
    "        <br>\n",
    "        <div style=\"width:20% ;margin:0px auto\">\n",
    "            <h1>Lưu Hoàng Sơn<br>18521348 <br /> Member</h1>\n",
    "            <details>\n",
    "                <summary>Image</summary>\n",
    "                <img style=\"width:100%\"\n",
    "                    src=\"https://raw.githubusercontent.com/hoangnhancs/CS112.L11.KHTN/master/resources/images/HoangSon.png\">\n",
    "            </details>\n",
    "        </div>\n",
    "        <br>\n",
    "        <div style=\"width:20%; margin:0px auto\">\n",
    "            <h1>Đào Thị Thu Nga<br> 18521135 <br /> Member </h1>\n",
    "            <details>\n",
    "                <summary>Image</summary>\n",
    "                <img style=\"width:100%\"\n",
    "                    src=\"https://raw.githubusercontent.com/hoangnhancs/CS112.L11.KHTN/master/resources/images/ThuNga.png\">\n",
    "            </details>\n",
    "        </div>\n",
    "    </div>\n",
    "\n",
    "<hr>\n",
    "<p>For Contact</p>\n",
    "<p>Thái Hoàng Nhân: 18521182@gm.uit.edu.vn or <a href=\"https://github.com/hoangnhancs\">github</a> or <a href=\"https://www.facebook.com/profile.php?id=100027617961231\">facebook</a></p>\n",
    "<p>Lưu Hoàng Sơn: 18521348@gm.uit.edu.vn or <a href=\"https://github.com/sonlhcsuit\">github</a> or <a href=\"https://www.facebook.com/sjIv3r\">facebook</a></p>\n",
    "<p>Đào Thị Thu Nga: 18521135@gm.uit.edu.vn or <a href=\"https://github.com/DAOTHITHUNGA\">github</a> or <a href=\"https://www.facebook.com/vonguocmo03092000\">facebook</a></p>"
   ],
   "cell_type": "markdown",
   "metadata": {}
  },
  {
   "source": [
    "# I. Problem A: \n",
    "<center> <h1>A SOURVENIR</h1> </center> \n",
    "<center> <h3>Time Limit: 1 seconds</h3> </center>\n",
    "<center> <h3>Memory Limit: 512 Megabytes</h3> </center>\n",
    "<br> <br>\n",
    "\n",
    "**Problem description**\n",
    "\n",
    "Mr. Bean is selected to be a contestant member of Elon_Musk’s University which is located in\n",
    "Mars to compete in ICPC Can Tho. This will be the first time he visits the city of Can Tho and\n",
    "the Mekong Delta.\n",
    "Next to the hotel he stays in Can Tho is a souvenir shop where you can buy all specialties of\n",
    "this region. The shop has $N$ items, numbered $1$ to $N$. Item $i$ has the price of $i$ dong. Bean has $K$\n",
    "dong and he wants to buy as many distinct items as possible.\n",
    "Given $N$ and $K$, your task is to calculate how many different items Mr. Bean can buy? <br> <br> <br>\n",
    "**Input** <br>\n",
    "The input consists of multiple test cases. It starts with $T$ - the number of test cases. Then each\n",
    "test case is printed in one line, containing two integers $N$ and $K$ $(1 \\le N \\le 100, 0 \\le K \\le\n",
    "10000)$ <br> <br>\n",
    "**Output** <br>\n",
    "For each test case, print the maximal number of souvenirs Mr.Bean can buy.\n",
    "<br><br>\n",
    "**Example** <br> <br>\n",
    "\n",
    "|   INPUT   |   OUTPUT  |\n",
    "|-----------|-----------|\n",
    "|2          |2          |\n",
    "|10 4       |10         |\n",
    "|10 1000    |           |"
   ],
   "cell_type": "markdown",
   "metadata": {}
  },
  {
   "source": [
    "## 1. Abstraction:"
   ],
   "cell_type": "markdown",
   "metadata": {}
  },
  {
   "source": [
    "Đây là một bài toán tính tổng $n$ số tự nhiên liên tiếp từ $1$ đến $n$ sao cho $S = \\sum_{i=1}^n \\le K$ và $n \\le N$ . <br>\n",
    "### Constrain:  $1 \\le N \\le 100, 0 \\le K \\le 10000$ ###\n",
    "\n"
   ],
   "cell_type": "markdown",
   "metadata": {}
  },
  {
   "source": [
    "## 2. Pattern Recognition"
   ],
   "cell_type": "markdown",
   "metadata": {}
  },
  {
   "source": [
    "Ta có công thức tổng quát cho tổng này là $S = \\sum_{i=1}^n = \\frac{n(n+1)}{2}$ <br>\n",
    "Do đó, ý tưởng của bài toán là: <br>\n",
    "- Trước tiên ta sẽ có $S<=K$ <br>\n",
    "$\\rightarrow \\frac{n(n+1)}{2} \\le K$ <br>\n",
    "$\\rightarrow n < \\sqrt{n(n+1)} \\le 2K$ <br>\n",
    "- Sau đó ta lấy $n = \\sqrt{2K}$ <br>\n",
    "- Kiểm tra nếu $n(n+1) > 2K$ thì $n = n-1$ <br>\n",
    "- Nếu $n \\ge N$ thì in ra $N$ ngược lại thì in ra $n$"
   ],
   "cell_type": "markdown",
   "metadata": {}
  },
  {
   "source": [
    "## 3. Design Algorithms"
   ],
   "cell_type": "markdown",
   "metadata": {}
  },
  {
   "source": [
    "Vì khá đơn giản nên ta có thể cài đặt thuật toán luôn"
   ],
   "cell_type": "markdown",
   "metadata": {}
  },
  {
   "source": [
    "## 4. Implement"
   ],
   "cell_type": "markdown",
   "metadata": {}
  },
  {
   "cell_type": "code",
   "execution_count": 8,
   "metadata": {},
   "outputs": [
    {
     "output_type": "stream",
     "name": "stdout",
     "text": [
      "2\n10\n"
     ]
    }
   ],
   "source": [
    "from math import *\n",
    "t = int(input())\n",
    "def cal(n, k):\n",
    "    tmp = int(sqrt(2*k))\n",
    "    if tmp*(tmp+1) > 2*k:\n",
    "        tmp -= 1\n",
    "    if tmp>=n:\n",
    "        return n \n",
    "    else:\n",
    "        return tmp\n",
    "\n",
    "ns = []\n",
    "ks = []\n",
    "for _ in range (t):\n",
    "    n_tmp, k_tmp = map(int, input().split())\n",
    "    ns.append(n_tmp)\n",
    "    ks.append(k_tmp)\n",
    "\n",
    "for i in range (t):\n",
    "    print(cal(ns[i], ks[i]))\n"
   ]
  },
  {
   "source": [
    "# II. Problem B:"
   ],
   "cell_type": "markdown",
   "metadata": {}
  },
  {
   "source": [
    "<center> <h1>MILK CAN</h1> </center> \n",
    "<center> <h3>Time Limit: 1 seconds</h3> </center>\n",
    "<center> <h3>Memory Limit: 256 Megabytes</h3> </center>\n",
    "<br> <br>\n",
    "\n",
    "**Problem description** \n",
    "<br><br>\n",
    "A big food company produces canned milk. The can is a round cylinder. They produce various\n",
    "sizes of milk cans. When producing milk cans, the designers of this company always aim to\n",
    "have the lowest cost of raw materials for making cans. That means the total surface area of the\n",
    "can is the smallest. But they expect the volume of the milk can to remain constant, equal to V\n",
    "ml.\n",
    "You are the talented designers here. Calculate the optimal total surface area of the can for your\n",
    "company to spend the least money.\n",
    "Notes: <br>\n",
    "- The volume of cylinder = $π*r^2*h$ cubic units.\n",
    "- Surface area of cylinder = $2*π*r^2 + 2*π*r*h$.\n",
    "\n",
    "<img src=\"https://github.com/hoangnhancs/CS112.L11.KHTN/blob/master/resources/images/Figure1A_milk_can_size_specification.png\"> <br>\n",
    "\n",
    "**Input** <br>\n",
    "The input consists of several test cases. The first line of the input contains the number of test\n",
    "cases T (T ≤ 1000). The following lines describe the test cases.\n",
    "Each test case consists of a positive integer V (V ≤ 1000). <br>\n",
    "<br>\n",
    "**Output** <br>\n",
    "For each test case in the input, print in a single line the smallest surface area with absolute or\n",
    "relative error less than 10−6 that you can achieve. <br>\n",
    "<br>\n",
    "**Example** <br>\n",
    "\n",
    "|   INPUT   |   OUTPUT  |\n",
    "|-----------|-----------|\n",
    "|3          |261.679751 |\n",
    "|325        |348.734205 |\n",
    "|500        |553.581045 |\n",
    "|1000       |           |\n"
   ],
   "cell_type": "markdown",
   "metadata": {}
  },
  {
   "source": [
    "# III. Problem C:"
   ],
   "cell_type": "markdown",
   "metadata": {}
  },
  {
   "source": [
    "<center> <h1>Beauty Prime Numbers</h1> </center> \n",
    "<center> <h3>Time Limit: 1 seconds</h3> </center>\n",
    "<center> <h3>Memory Limit: 256 Megabytes</h3> </center>\n",
    "<br> <br>\n",
    "\n",
    "**Problem description** \n",
    "<br><br>\n",
    "The significance of prime numbers, in both everyday\n",
    "applications & as a subtopic pertinent to all branches\n",
    "of math, cannot be overstated. We quietly rely on their\n",
    "special properties to carry the backbone of countless\n",
    "parts of our society — all because they are an\n",
    "irreducible part of the very fabric of nature. Resistant\n",
    "to any further factorization, prime numbers are often\n",
    "referred to as the “atoms” of the applied information\n",
    "technology.\n",
    "You are the talented programmer, and be asked to write a program to count all beauty prime\n",
    "numbers. A beautiful prime number is defined as a number which sum of all digits in it modulo\n",
    "$10$ equals to zero $(0)$. \n",
    "<br><br>\n",
    "**Input**<br>\n",
    "The input consists two integer numbers (m, n). The first number (m) is the start number which\n",
    "we start to find out these beauty prime numbers. The second number (n) is the amount of prime\n",
    "numbers start from first number, in which we want to find out these beauty prime numbers.\n",
    "$0 < m, n \\le 10000$ <br><br>\n",
    "**Output** <br>\n",
    "For each test case in the input, print out the number of beauty prime numbers which program\n",
    "find out. In case of don’t have any beauty prime number, print out zero value (0) <br><br>\n",
    "**Example 1** <br>\n",
    "\n",
    "|   INPUT   |   OUTPUT  |\n",
    "|-----------|-----------|\n",
    "|8 5        |1          |\n",
    "<br>\n",
    "\n",
    "**Example 2** <br>\n",
    "\n",
    "|   INPUT   |   OUTPUT  |\n",
    "|-----------|-----------|\n",
    "|101 10     |2          |"
   ],
   "cell_type": "markdown",
   "metadata": {}
  },
  {
   "source": [],
   "cell_type": "markdown",
   "metadata": {}
  }
 ]
}