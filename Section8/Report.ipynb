{
  "nbformat": 4,
  "nbformat_minor": 0,
  "metadata": {
    "language_info": {
      "codemirror_mode": {
        "name": "ipython",
        "version": 3
      },
      "file_extension": ".py",
      "mimetype": "text/x-python",
      "name": "python",
      "nbconvert_exporter": "python",
      "pygments_lexer": "ipython3",
      "version": "3.7.9-final"
    },
    "orig_nbformat": 2,
    "kernelspec": {
      "name": "python3",
      "display_name": "Python 3.7.9 64-bit",
      "metadata": {
        "interpreter": {
          "hash": "b0f1e94f7b8dab6dcbaf8668d97b2de1660f8eb0c7f305b4109b0138f5684031"
        }
      }
    },
    "colab": {
      "name": "Report.ipynb",
      "provenance": []
    }
  },
  "cells": [
    {
      "cell_type": "markdown",
      "metadata": {
        "id": "lYhdvD5E-o-W"
      },
      "source": [
        "<a href=\"https://colab.research.google.com/github/hoangnhancs/CS112.L11.KHTN/blob/master/Section8/Report.ipynb\" target=\"blank\"><img src=\"https://colab.research.google.com/assets/colab-badge.svg\" alt=\"Open In Colab\"/></a>   \n",
        "If it doesn't redirect into new tab, please use `ctrl` + click or `cmd` + click(for mac user)   \n",
        "![](https://i.postimg.cc/k445hYdx/logo-uit.png)"
      ]
    },
    {
      "cell_type": "markdown",
      "metadata": {
        "id": "wus8chdT-o-W"
      },
      "source": [
        "<link rel=\"stylesheet\" href=\"https://stackpath.bootstrapcdn.com/font-awesome/4.7.0/css/font-awesome.min.css\" integrity=\"sha384-wvfXpqpZZVQGK6TAh5PVlGOfQNHSoD2xbE+QkPxCAFlNEevoEH3Sl0sibVcOQVnN\" crossorigin=\"anonymous\">\n",
        "<script src='https://cdnjs.cloudflare.com/ajax/libs/mathjax/2.7.5/MathJax.js?config=TeX-MML-AM_CHTML' async></script>\n",
        "\n",
        "<h1>N004's MEMBERS</h1>\n",
        "<div style=\"display:flex; width:100%\">\n",
        "        <div style=\"width:20%;margin: 0px auto\">\n",
        "            <h1>Thái Hoàng Nhân<br> 18521182 <br /> Leader </h1>\n",
        "            <details>\n",
        "                <summary>Image</summary>\n",
        "                <img style=\"width:100%\"\n",
        "                    src=\"https://raw.githubusercontent.com/hoangnhancs/CS112.L11.KHTN/master/resources/images/HoangNhan.png\">\n",
        "            </details>\n",
        "        </div>\n",
        "        <br>\n",
        "        <div style=\"width:20% ;margin:0px auto\">\n",
        "            <h1>Lưu Hoàng Sơn<br>18521348 <br /> Member</h1>\n",
        "            <details>\n",
        "                <summary>Image</summary>\n",
        "                <img style=\"width:100%\"\n",
        "                    src=\"https://raw.githubusercontent.com/hoangnhancs/CS112.L11.KHTN/master/resources/images/HoangSon.png\">\n",
        "            </details>\n",
        "        </div>\n",
        "        <br>\n",
        "        <div style=\"width:20%; margin:0px auto\">\n",
        "            <h1>Đào Thị Thu Nga<br> 18521135 <br /> Member </h1>\n",
        "            <details>\n",
        "                <summary>Image</summary>\n",
        "                <img style=\"width:100%\"\n",
        "                    src=\"https://raw.githubusercontent.com/hoangnhancs/CS112.L11.KHTN/master/resources/images/ThuNga.png\">\n",
        "            </details>\n",
        "        </div>\n",
        "    </div>\n",
        "\n",
        "<hr>\n",
        "<p>For Contact</p>\n",
        "<p>Thái Hoàng Nhân: 18521182@gm.uit.edu.vn or <a href=\"https://github.com/hoangnhancs\">github</a> or <a href=\"https://www.facebook.com/profile.php?id=100027617961231\">facebook</a></p>\n",
        "<p>Lưu Hoàng Sơn: 18521348@gm.uit.edu.vn or <a href=\"https://github.com/sonlhcsuit\">github</a> or <a href=\"https://www.facebook.com/sjIv3r\">facebook</a></p>\n",
        "<p>Đào Thị Thu Nga: 18521135@gm.uit.edu.vn or <a href=\"https://github.com/DAOTHITHUNGA\">github</a> or <a href=\"https://www.facebook.com/vonguocmo03092000\">facebook</a></p>"
      ]
    },
    {
      "cell_type": "markdown",
      "metadata": {
        "id": "HGsw_PTI-o-W"
      },
      "source": [
        "# Số nguyên mới"
      ]
    },
    {
      "cell_type": "markdown",
      "metadata": {
        "id": "yL33QIuh-o-W"
      },
      "source": [
        "## 1. Abstraction\n",
        "Cho số nguyên dương $n$ có không quá 100 chữ số. Hãy xác định số nguyên lớn nhất $m$ chia hết cho 3 và khác $n$ ở đúng một chữ số.\n",
        "\n",
        "Ví dụ, $n = 123$ thì $m$ sẽ là $723$.\n",
        "\n",
        "Dữ liệu: Vào từ thiết bị nhập chuẩn gồm một dòng chứa số nguyên n có không quá 100 chữ số và không chứa các số 0 không có nghĩa.\n",
        "\n",
        "Kết quả: Đưa ra thiết bị xuất chuẩn số nguyên m tìm được. <br>\n",
        "\n",
        "|   INPUT   |   OUTPUT  |\n",
        "|-----------|-----------|\n",
        "|123        |723        |\n",
        "\n",
        "Abstract: Tìm số nguyên dương $m$ chia hết cho 3 và khác $n$ đúng một chữ số"
      ]
    },
    {
      "cell_type": "markdown",
      "metadata": {
        "id": "F0MzvYtc-o-W"
      },
      "source": [
        "## 2. Pattern Recognition\n",
        "Xử lý bài toán duyệt qua các chữ số của số nguyên $n$"
      ]
    },
    {
      "cell_type": "markdown",
      "metadata": {
        "id": "8yeuGlbV-o-W"
      },
      "source": [
        "## 3. Design Algorithms\n",
        "Bài toán khá đơn giản nên ta có thể thực hiện luôn"
      ]
    },
    {
      "cell_type": "markdown",
      "metadata": {
        "id": "0bcPTxAl-o-W"
      },
      "source": [
        "## 4. Implement"
      ]
    },
    {
      "cell_type": "code",
      "metadata": {
        "id": "TCeNwNbH-o-W",
        "outputId": "6a896f80-e3ef-4b23-c04a-048a986b4fdd",
        "colab": {
          "base_uri": "https://localhost:8080/"
        }
      },
      "source": [
        "#import time\n",
        "a = input()\n",
        "\n",
        "def solve(a):\n",
        "    int_a = int(a)\n",
        "    list_a = list(a)\n",
        "    mod = int_a%3\n",
        "\n",
        "    magic = {\n",
        "        2:[8,5,2],\n",
        "        1:[7,4,1],\n",
        "        3:[9,6,3]\n",
        "    }\n",
        "    check=1\n",
        "    change = 0\n",
        "    while check!=0:\n",
        "        #print('mod', mod)\n",
        "        for i in range (len(list_a)):\n",
        "            list_a[i] = int(list_a[i])\n",
        "            #print('with',list_a[i])\n",
        "            # if list_a[i]!=9 :\n",
        "            for j in magic[3-mod]:\n",
        "                #print('check',j)\n",
        "                if list_a[i]+j<10:\n",
        "                    #print('has changed')\n",
        "                    list_a[i]=list_a[i]+j\n",
        "                    change=1\n",
        "                    check=0\n",
        "                    break\n",
        "            if check ==0:\n",
        "                break\n",
        "        check=0\n",
        "\n",
        "    if change==0:\n",
        "        #print(\"change...\")\n",
        "        if mod!=0:\n",
        "            list_a[-1] = int(list_a[-1])-mod\n",
        "        else:\n",
        "            list_a[-1] = int(list_a[-1])-3\n",
        "\n",
        "    return ''.join([str(x) for x in list_a])\n",
        "print(solve(a))\n"
      ],
      "execution_count": 1,
      "outputs": [
        {
          "output_type": "stream",
          "text": [
            "123\n",
            "723\n"
          ],
          "name": "stdout"
        }
      ]
    },
    {
      "cell_type": "markdown",
      "metadata": {
        "id": "5v6VszTe_B7H"
      },
      "source": [
        "##KẾT QUẢ WECODE\n"
      ]
    },
    {
      "cell_type": "markdown",
      "metadata": {
        "id": "otAghfWmAFUt"
      },
      "source": [
        ""
      ]
    },
    {
      "cell_type": "markdown",
      "metadata": {
        "id": "L-dNDGthAQqR"
      },
      "source": [
        "#CON ĐƯỜNG GỐM SỨ\n",
        "\n",
        "Sau khi bê tông hóa đê chống lụt, thành phố quyết định cho khảm lên tường bê tông của đê tranh ghép tạo bởi các mảnh gốm sứ lấy từ các lò gốm nổi tiếng trong nước. Toàn bộ con đê được chia thành n phần có độ rộng giống nhau, mỗi phần gọi là một lô. Mỗi bức tranh khảm trên đó đều phải có độ rộng giống nhau, tức là bao gồm một số như nhau các lô liên tiếp và toàn bộ tường phải được phủ kín tranh từ đầu đến cuối, mỗi lô phải được tạo màu chủ đạo (gọi là màu của lô) từ một loại gốm đặc trưng lấy từ một lò gốm nào đó trong nước, ví dụ gốm màu xanh Cô ban từ lò gốm Ánh Hồng Quảng Ninh, gốm da lươn – từ Bát Tràng Hà Nội, gốm mộc hồng nhạt – từ Biên Hòa Đồng Nai, . . . Các loại gốm này được đánh số từ $1$ đến $50 000$.\n",
        "\n",
        "Hướng dẫn viên du lịch giới thiệu với khách tham quan là có 2 nhóm nghệ nhân được giao việc tạo hình và khảm tranh. Với mỗi nhóm các bức tranh của đều được đặc trưng bởi dãy số ($c1, c2, . . ., ck$), trong đó $k$ là độ rộng của tranh, $ci$ – màu của lô, $i$ $ = 1 ÷ k$, các bức tranh khác nhau có thể khác nhau ở trình tự xuất hiện màu của các lô, ví dụ với dãy số đặc trưng $(2, 6, 2, 9)$, trình tự màu trong tranh có thể là $(9, 2, 2, 6)$ hoặc $(6, 9, 2, 2)$ nhưng không thể là $(6, 9, 2, 3)$. Dãy đặc trưng của $2$ nhóm là khác nhau, tức là không thể bằng phép hoán vị trình tự màu của lô để đưa một dãy về dãy kia. Các bức tranh được ghép với nhau rất hài hòa và khách tham quan không nhận biết được sự chuyển tiếp từ tranh này sang tranh khác. Tuy vậy nhiều khách tham quan vẫn muốn biết có bao nhiêu bức tranh đã tạo ra và trong đó số bức tranh của mỗi nhóm là bao nhiêu.\n",
        "\n",
        "Hãy xác định số lượng tranh có thể có và số lượng tranh mỗi nhóm đã làm. biết rằng nhóm nào cũng có tranh của mình.\n",
        "\n",
        "## ***Dữ liệu:***\n",
        "Dòng đầu tiên chứa một số nguyên $n$ – số lượng lô của con đê (2 ≤ **n** ≤ 105),\n",
        "Dòng thứ 2 chứa **n** số nguyên $a1, a2, . . ., $an$ $  – màu của các lô $(1 ≤ ai ≤ 50 000, i = 1 ÷ n)$.\n",
        "## ***Kết quả:*** \n",
        "Dòng đầu tiên chứa số nguyên **m** – số lượng phương án khác nhau chia con đường thành các bức tranh, nếu không có cách phân chia để đảm bảo phân biệt tranh của đúng 2 nhóm thì đưa ra số -1. Nếu có cách phân biệt thì ở mỗi dòng tiếp theo đưa ra 3 số nguyên **k**, **p** và **q** – độ rộng bức tranh, số tranh do nhóm 1 thực hiện và số tranh do nhóm 2 thực hiện, thông tin đưa ra theo thứ tự tăng dần của k và ở mỗi dòng có **p** ≥ **q** > 0.\n",
        "\n",
        "## ***Ví dụ:***\n",
        "\n"
      ]
    },
    {
      "cell_type": "markdown",
      "metadata": {
        "id": "FdGoiO-RARqr"
      },
      "source": [
        "## 1. Abstraction\n"
      ]
    },
    {
      "cell_type": "code",
      "metadata": {
        "id": "zNQlibl9_BU0",
        "outputId": "e04c2712-2e32-40ac-8e4b-d0425a242022",
        "colab": {
          "base_uri": "https://localhost:8080/"
        }
      },
      "source": [
        "n = int(input())\n",
        "list_ = list(input().split(' '))\n",
        "b = []\n",
        "res = ''\n",
        "m = 0\n",
        "mod = 10 ** 9 + 7\n",
        "\n",
        "for i in range(2, int(n / 2) + 1):\n",
        "    if n % i == 0:\n",
        "        c = []\n",
        "        s = []\n",
        "        j = i\n",
        "        while j <= n:\n",
        "            x = sorted(list_[j - i:j])\n",
        "            if x not in c:\n",
        "                if len(c) == 2:\n",
        "                    c = []\n",
        "                    break\n",
        "                c.append(x)\n",
        "            s.append1(x)\n",
        "            j += i\n",
        "\n",
        "        if len(c) == 2:\n",
        "            m += 1\n",
        "            q = s.count(c[0])\n",
        "            p = s.count(c[1])\n",
        "            kq += '\\n' + str(i) + ' '\n",
        "            if q > p:\n",
        "                res+= str(q) + ' ' + str(p)\n",
        "            else:\n",
        "                res += str(p) + ' ' + str(q)\n",
        "\n",
        "if m == 0:\n",
        "    print(-1)\n",
        "    exit()\n",
        "\n",
        "print(m, res)"
      ],
      "execution_count": 4,
      "outputs": [
        {
          "output_type": "stream",
          "text": [
            "3\n",
            "2 3 1\n",
            "-1\n",
            "0 \n"
          ],
          "name": "stdout"
        }
      ]
    }
  ]
}