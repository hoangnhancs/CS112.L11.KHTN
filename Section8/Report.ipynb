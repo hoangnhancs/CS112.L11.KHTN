{
 "metadata": {
  "language_info": {
   "codemirror_mode": {
    "name": "ipython",
    "version": 3
   },
   "file_extension": ".py",
   "mimetype": "text/x-python",
   "name": "python",
   "nbconvert_exporter": "python",
   "pygments_lexer": "ipython3",
   "version": "3.7.9-final"
  },
  "orig_nbformat": 2,
  "kernelspec": {
   "name": "python3",
   "display_name": "Python 3.7.9 64-bit",
   "metadata": {
    "interpreter": {
     "hash": "b0f1e94f7b8dab6dcbaf8668d97b2de1660f8eb0c7f305b4109b0138f5684031"
    }
   }
  }
 },
 "nbformat": 4,
 "nbformat_minor": 2,
 "cells": [
  {
   "source": [
    "<a href=\"https://colab.research.google.com/github/hoangnhancs/CS112.L11.KHTN/blob/master/Section8/Report.ipynb\" target=\"blank\"><img src=\"https://colab.research.google.com/assets/colab-badge.svg\" alt=\"Open In Colab\"/></a>   \n",
    "If it doesn't redirect into new tab, please use `ctrl` + click or `cmd` + click(for mac user)   \n",
    "![](https://i.postimg.cc/k445hYdx/logo-uit.png)"
   ],
   "cell_type": "markdown",
   "metadata": {}
  },
  {
   "source": [
    "<link rel=\"stylesheet\" href=\"https://stackpath.bootstrapcdn.com/font-awesome/4.7.0/css/font-awesome.min.css\" integrity=\"sha384-wvfXpqpZZVQGK6TAh5PVlGOfQNHSoD2xbE+QkPxCAFlNEevoEH3Sl0sibVcOQVnN\" crossorigin=\"anonymous\">\n",
    "<script src='https://cdnjs.cloudflare.com/ajax/libs/mathjax/2.7.5/MathJax.js?config=TeX-MML-AM_CHTML' async></script>\n",
    "\n",
    "<h1>N004's MEMBERS</h1>\n",
    "<div style=\"display:flex; width:100%\">\n",
    "        <div style=\"width:20%;margin: 0px auto\">\n",
    "            <h1>Thái Hoàng Nhân<br> 18521182 <br /> Leader </h1>\n",
    "            <details>\n",
    "                <summary>Image</summary>\n",
    "                <img style=\"width:100%\"\n",
    "                    src=\"https://raw.githubusercontent.com/hoangnhancs/CS112.L11.KHTN/master/resources/images/HoangNhan.png\">\n",
    "            </details>\n",
    "        </div>\n",
    "        <br>\n",
    "        <div style=\"width:20% ;margin:0px auto\">\n",
    "            <h1>Lưu Hoàng Sơn<br>18521348 <br /> Member</h1>\n",
    "            <details>\n",
    "                <summary>Image</summary>\n",
    "                <img style=\"width:100%\"\n",
    "                    src=\"https://raw.githubusercontent.com/hoangnhancs/CS112.L11.KHTN/master/resources/images/HoangSon.png\">\n",
    "            </details>\n",
    "        </div>\n",
    "        <br>\n",
    "        <div style=\"width:20%; margin:0px auto\">\n",
    "            <h1>Đào Thị Thu Nga<br> 18521135 <br /> Member </h1>\n",
    "            <details>\n",
    "                <summary>Image</summary>\n",
    "                <img style=\"width:100%\"\n",
    "                    src=\"https://raw.githubusercontent.com/hoangnhancs/CS112.L11.KHTN/master/resources/images/ThuNga.png\">\n",
    "            </details>\n",
    "        </div>\n",
    "    </div>\n",
    "\n",
    "<hr>\n",
    "<p>For Contact</p>\n",
    "<p>Thái Hoàng Nhân: 18521182@gm.uit.edu.vn or <a href=\"https://github.com/hoangnhancs\">github</a> or <a href=\"https://www.facebook.com/profile.php?id=100027617961231\">facebook</a></p>\n",
    "<p>Lưu Hoàng Sơn: 18521348@gm.uit.edu.vn or <a href=\"https://github.com/sonlhcsuit\">github</a> or <a href=\"https://www.facebook.com/sjIv3r\">facebook</a></p>\n",
    "<p>Đào Thị Thu Nga: 18521135@gm.uit.edu.vn or <a href=\"https://github.com/DAOTHITHUNGA\">github</a> or <a href=\"https://www.facebook.com/vonguocmo03092000\">facebook</a></p>"
   ],
   "cell_type": "markdown",
   "metadata": {}
  },
  {
   "source": [
    "# Số nguyên mới"
   ],
   "cell_type": "markdown",
   "metadata": {}
  },
  {
   "source": [
    "## 1. Abstraction\n",
    "Cho số nguyên dương $n$ có không quá 100 chữ số. Hãy xác định số nguyên lớn nhất $m$ chia hết cho 3 và khác $n$ ở đúng một chữ số.\n",
    "\n",
    "Ví dụ, $n = 123$ thì $m$ sẽ là $723$.\n",
    "\n",
    "Dữ liệu: Vào từ thiết bị nhập chuẩn gồm một dòng chứa số nguyên n có không quá 100 chữ số và không chứa các số 0 không có nghĩa.\n",
    "\n",
    "Kết quả: Đưa ra thiết bị xuất chuẩn số nguyên m tìm được. <br>\n",
    "\n",
    "|   INPUT   |   OUTPUT  |\n",
    "|-----------|-----------|\n",
    "|123        |723        |\n",
    "\n",
    "Abstract: Tìm số nguyên dương $m$ chia hết cho 3 và khác $n$ đúng một chữ số"
   ],
   "cell_type": "markdown",
   "metadata": {}
  },
  {
   "source": [
    "## 2. Pattern Recognition\n",
    "Xử lý bài toán duyệt qua các chữ số của số nguyên $n$"
   ],
   "cell_type": "markdown",
   "metadata": {}
  },
  {
   "source": [
    "## 3. Design Algorithms\n",
    "Bài toán khá đơn giản nên ta có thể thực hiện luôn"
   ],
   "cell_type": "markdown",
   "metadata": {}
  },
  {
   "source": [
    "## 4. Implement"
   ],
   "cell_type": "markdown",
   "metadata": {}
  },
  {
   "cell_type": "code",
   "execution_count": null,
   "metadata": {},
   "outputs": [
    {
     "output_type": "error",
     "ename": "Error",
     "evalue": "Timed out waiting to get a heartbeat from kernel process.",
     "traceback": [
      "Error: Timed out waiting to get a heartbeat from kernel process.",
      "at m.waitForHeartbeat (c:\\Users\\DELL\\.vscode\\extensions\\ms-toolsai.jupyter-2020.11.372831992\\out\\client\\extension.js:49:646441)"
     ]
    }
   ],
   "source": [
    "#import time\n",
    "a = input()\n",
    "\n",
    "def solve(a):\n",
    "    int_a = int(a)\n",
    "    list_a = list(a)\n",
    "    mod = int_a%3\n",
    "\n",
    "    magic = {\n",
    "        2:[8,5,2],\n",
    "        1:[7,4,1],\n",
    "        3:[9,6,3]\n",
    "    }\n",
    "    check=1\n",
    "    change = 0\n",
    "    while check!=0:\n",
    "        #print('mod', mod)\n",
    "        for i in range (len(list_a)):\n",
    "            list_a[i] = int(list_a[i])\n",
    "            #print('with',list_a[i])\n",
    "            # if list_a[i]!=9 :\n",
    "            for j in magic[3-mod]:\n",
    "                #print('check',j)\n",
    "                if list_a[i]+j<10:\n",
    "                    #print('has changed')\n",
    "                    list_a[i]=list_a[i]+j\n",
    "                    change=1\n",
    "                    check=0\n",
    "                    break\n",
    "            if check ==0:\n",
    "                break\n",
    "        check=0\n",
    "\n",
    "    if change==0:\n",
    "        #print(\"change...\")\n",
    "        if mod!=0:\n",
    "            list_a[-1] = int(list_a[-1])-mod\n",
    "        else:\n",
    "            list_a[-1] = int(list_a[-1])-3\n",
    "\n",
    "    return ''.join([str(x) for x in list_a])\n",
    "print(solve(a))\n"
   ]
  }
 ]
}