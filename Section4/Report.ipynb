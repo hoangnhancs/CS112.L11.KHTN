{
 "metadata": {
  "language_info": {
   "codemirror_mode": {
    "name": "ipython",
    "version": 3
   },
   "file_extension": ".py",
   "mimetype": "text/x-python",
   "name": "python",
   "nbconvert_exporter": "python",
   "pygments_lexer": "ipython3",
   "version": "3.6.9-final"
  },
  "orig_nbformat": 2,
  "kernelspec": {
   "name": "Python 3.6.9 64-bit",
   "display_name": "Python 3.6.9 64-bit",
   "metadata": {
    "interpreter": {
     "hash": "31f2aee4e71d21fbe5cf8b01ff0e069b9275f58929596ceb00d14d90e3e16cd6"
    }
   }
  }
 },
 "nbformat": 4,
 "nbformat_minor": 2,
 "cells": [
  {
   "source": [
    "[![Open In Colab](https://colab.research.google.com/assets/colab-badge.svg)](https://colab.research.google.com/github/hoangnhancs/CS112.L11.KHTN/blob/master/Section3/Report.ipynb)   \n",
    "If it doesn't redirect into new tab, please use `ctrl` + click or `cmd` + click(for mac user)   \n",
    "![](https://i.postimg.cc/k445hYdx/logo-uit.png)"
   ],
   "cell_type": "markdown",
   "metadata": {}
  },
  {
   "source": [
    "<link rel=\"stylesheet\" href=\"https://stackpath.bootstrapcdn.com/font-awesome/4.7.0/css/font-awesome.min.css\" integrity=\"sha384-wvfXpqpZZVQGK6TAh5PVlGOfQNHSoD2xbE+QkPxCAFlNEevoEH3Sl0sibVcOQVnN\" crossorigin=\"anonymous\">\n",
    "<script src='https://cdnjs.cloudflare.com/ajax/libs/mathjax/2.7.5/MathJax.js?config=TeX-MML-AM_CHTML' async></script>\n",
    "\n",
    "<h1>N004's MEMBERS</h1>\n",
    "<div style=\"display:flex; width:100%\">\n",
    "        <div style=\"width:20%;margin: 0px auto\">\n",
    "            <h1>Thái Hoàng Nhân<br> 18521182 <br /> Leader </h1>\n",
    "            <details>\n",
    "                <summary>Image</summary>\n",
    "                <img style=\"width:100%\"\n",
    "                    src=\"https://raw.githubusercontent.com/hoangnhancs/CS112.L11.KHTN/master/resources/images/HoangNhan.png\">\n",
    "            </details>\n",
    "        </div>\n",
    "        <br>\n",
    "        <div style=\"width:20% ;margin:0px auto\">\n",
    "            <h1>Lưu Hoàng Sơn<br>18521348 <br /> Member</h1>\n",
    "            <details>\n",
    "                <summary>Image</summary>\n",
    "                <img style=\"width:100%\"\n",
    "                    src=\"https://raw.githubusercontent.com/hoangnhancs/CS112.L11.KHTN/master/resources/images/HoangSon.png\">\n",
    "            </details>\n",
    "        </div>\n",
    "        <br>\n",
    "        <div style=\"width:20%; margin:0px auto\">\n",
    "            <h1>Đào Thị Thu Nga<br> 18521135 <br /> Member </h1>\n",
    "            <details>\n",
    "                <summary>Image</summary>\n",
    "                <img style=\"width:100%\"\n",
    "                    src=\"https://raw.githubusercontent.com/hoangnhancs/CS112.L11.KHTN/master/resources/images/ThuNga.png\">\n",
    "            </details>\n",
    "        </div>\n",
    "    </div>\n",
    "\n",
    "<hr>\n",
    "<p>For Contact</p>\n",
    "<p>Thái Hoàng Nhân: 18521182@gm.uit.edu.vn or <a href=\"https://github.com/hoangnhancs\">github</a> or <a href=\"https://www.facebook.com/profile.php?id=100027617961231\">facebook</a></p>\n",
    "<p>Lưu Hoàng Sơn: 18521348@gm.uit.edu.vn or <a href=\"https://github.com/sonlhcsuit\">github</a> or <a href=\"https://www.facebook.com/sjIv3r\">facebook</a></p>\n",
    "<p>Đào Thị Thu Nga: 18521135@gm.uit.edu.vn or <a href=\"https://github.com/DAOTHITHUNGA\">github</a> or <a href=\"https://www.facebook.com/vonguocmo03092000\">facebook</a></p>"
   ],
   "cell_type": "markdown",
   "metadata": {}
  },
  {
   "source": [
    "# ĐỔI MỚI"
   ],
   "cell_type": "markdown",
   "metadata": {}
  },
  {
   "source": [
    "Thành phố quyết định chặt hạ hết $n$ cây xanh hiện có trong thành phố để trồng chỉ một loại cây mới. Nhiệm vụ được giao cho Công ty Cây xanh thành phố. Do hạn chế về thiết bị Công ty chỉ tổ chức được $2$ đội đốn hạ cây. Đội $I$ hạ được $a$ cây mỗi ngày, nhưng cứ mối ngày thứ $k$ thì phải nghỉ để bảo dưỡng kỹ thuật, tức là đội $I$ sẽ nghỉ vào các ngày $k, 2k, 3k, . . .$ Đội $II$ hạ được $b$ cây mỗi ngày, nhưng cứ mỗi ngày thứ $m$ thì phải nghỉ để bảo dưỡng kỹ thuật, tức là đội $II$ sẽ nghỉ vào các ngày $m, 2m, 3m, . . .$ Ở ngày nghỉ, số cây chặt hạ của đội sẽ là $0$. Cả hai đội bắt đầu công việc vào cùng một ngày và làm việc song song với nhau.\n",
    "\n",
    "Công việc trồng cây mới sẽ bắt đầu sau khi toàn bộ cây cũ đã bị đốn hạ.\n",
    "\n",
    "Hãy xác định sau bao nhiêu ngày thì có thể bắt đầu việc trồng mới cây.\n",
    "\n",
    "Dữ liệu: \n",
    "- Vào từ thiết bị nhập chuẩn gồm một dòng chứa 5 số nguyên $a, k, b, m$ và $n$ $(1 \\le a, b \\le 10^9, 2 \\le k, m \\le 10^{18}, 1 \\le n \\le 10^{18})$.\n",
    "\n",
    "Kết quả: \n",
    "- Đưa ra thiết bị xuất chuẩn một số nguyên – số ngày tính được.\n",
    "\n",
    "|    INPUT    |  OUTPUT  |\n",
    "--------------|-----------\n",
    "|2 4 3 3 25   |7         |\n"
   ],
   "cell_type": "markdown",
   "metadata": {}
  },
  {
   "source": [
    "## 1. Abstraction"
   ],
   "cell_type": "markdown",
   "metadata": {}
  },
  {
   "source": [
    "Trước tiên, ta phân tích bài toán một chút. Gọi $x$ là số ngày cần thiết để hoàn thành. Khi đó, số ngày nghỉ của đội $I$ là \n",
    "$int(\\frac{x}{k})$ \n",
    "\n",
    "$\\rightarrow$ số ngày làm là $x-int(\\frac{x}{k})$\n",
    "\n",
    "$\\rightarrow$ sô cây đốn hạ được là $(x-int(\\frac{x}{k}))*a$.\n",
    "\n",
    "Tương tự với đội $II$, ta có số cây đốn hạ được là $(x-int(\\frac{x}{m}))*b$ \n",
    "\n",
    "$\\rightarrow$ tổng số cây đốn hạ là: $x[(1-\\frac{1}{k})a+(1-\\frac{1}{m})*b]\\geq n$\n",
    "\n",
    "$\\rightarrow$ $x\\geq \\frac{n}{(1-\\frac{1}{k})a+(1-\\frac{1}{m})*b}$\n",
    "\n",
    "Vậy, abstraction bài toàn này sẽ là: *Tìm x nhỏ nhất sao cho* $x\\geq \\frac{n}{(1-\\frac{1}{k})a+(1-\\frac{1}{m})*b}$\n",
    "\n",
    "### Constrains:\n",
    "$\\begin{align}\n",
    "\\begin{cases}\n",
    "        1 \\le a, b \\le 10^9 \\\\\n",
    "        2 \\le k, m \\le 10^{18}   \\\\\n",
    "        1 \\le n \\le 10^{18} \\\\\n",
    "        a, k, b, m, n \\in \\mathbb{N}\n",
    "    \\end{cases}\n",
    "\\end{align}$\n",
    "\n",
    "\n",
    "*Vì đề yêu cầu số ngày tối thiểu nên ta sẽ lấy giá trị $x$ gần nhất. Nhưng khi ta lập trình, thì khi ta thực hiện phép chia có dư thì sẽ có sai số, nên ta sẽ lùi giá trị $x$ xuống 1 hoặc 2 đơn vị để kiểm tra thêm.*"
   ],
   "cell_type": "markdown",
   "metadata": {}
  },
  {
   "source": [
    "## 2. Pattern Recognition"
   ],
   "cell_type": "markdown",
   "metadata": {}
  },
  {
   "source": [
    "### a) Giải thuật 1: \n",
    "Áp dụng cách giải như đã phân tích. Duyệt từ $x-1$ đến $x+1$ để xem trường hợp nào thỏa. Độ phức tạp thuật toán tối đa $O(3)$, tối thiểu $O(2)$ *(với trường hợp lùi $x$ 1 đơn vị)*"
   ],
   "cell_type": "markdown",
   "metadata": {}
  },
  {
   "source": [
    "## 3. Design Algorithms"
   ],
   "cell_type": "markdown",
   "metadata": {}
  },
  {
   "source": [
    "Vì quá đơn giản nên ta có thể cài đặt thuật toán luôn"
   ],
   "cell_type": "markdown",
   "metadata": {}
  },
  {
   "source": [
    "## 4. Implement"
   ],
   "cell_type": "markdown",
   "metadata": {}
  },
  {
   "source": [
    "\n",
    "a, k, b, m, n = map(int, input().split())\n",
    "sum=0\n",
    "\n",
    "result = int(n//((1-1/k)*a+(1-1/m)*b)) - 1\n",
    "while(sum<n):\n",
    "    sum = (result - int(result//k))*a + (result - int(result//m))*b\n",
    "    result+=1\n",
    "\n",
    "print(result-1)"
   ],
   "cell_type": "code",
   "metadata": {
    "tags": []
   },
   "execution_count": 1,
   "outputs": [
    {
     "output_type": "stream",
     "name": "stdout",
     "text": "7\n"
    }
   ]
  },
  {
   "source": [
    "# TÁI CẤU TRÚC\n",
    "Sau thời gian làm việc tại nhà (work from home) do tình hình dịch bệnh, công ty $X$ nhận thấy đây là cơ hội để thay đổi mô hình làm việc của công ty để hướng tới tính đơn giản, hiệu quả cao hơn trong công việc. Cụ thể, công ty hiện tại gồm $n$ nhân viên. Có $m$ quan hệ dạng $(a_i, b_i)$ trong đó người $b_i$ nhận công việc từ người $a_i$ và $a_i$ chỉ đạo cho $b_i$. Mỗi nhân viên khi nhận việc có thể phân công cho những nhân viên do mình chỉ đạo. Nếu công viêc từ $a$ có thể tới được $b$, ta gọi $a$ là cấp trên của $b$ và $b$ là cấp dưới của $a$.\n",
    "\n",
    "Sau khi họp đại hội cổ ccông trực tuyến, công ty $X$ quyết định thực hiện tái cấu trúc như sau:\n",
    "\n",
    "Thứ nhất, chọn ra một giám đốc, người này phải là người không có cấp trên và công việc mà người này phân công có thể tới được mọi người trong công ty;\n",
    "Những người còn lại, mỗi người sẽ chỉ còn nhận việc trực tiếp từ đúng $1$ người. Để tránh xáo trộn trong hoạt động sau khi thực hiện thay đổi, với mỗi người, tập những người là cấp trên của người đó phải không thay đổi (so với trước khi thực hiện tái cấu trúc).\n",
    "Yêu cầu: Xác định công ty $X$ có thể tái cấu trúc hay không, nếu không được - đưa ra thông báo *“No”*. Trong trường hợp có thể – đưa ra thông báo *“Yes”* và chỉ ra dãy số $p_i$ xác định người có quyền phân công công việc cho người $i (1 \\le i \\le n)$. Với Giám đốc $p_i$ tương ứng có giá trị là $-1$.\n",
    "\n",
    "Dữ liệu: Vào từ file thiết bị nhập chuẩn:\n",
    "\n",
    "- Dòng đầu tiên chứa 2 số nguyên $n$ và $m$ $(1 \\le n, m \\le 5×10^5)$\n",
    "- Dòng thứ i trong m dòng sau chứa 2 số nguyên $a_i$ và $b_i$ $(1 \\le ai, bi \\le n, ai \\neq bi)$\n",
    "\n",
    "Kết quả: \n",
    "- Đưa ra thiết bị xuất chuẩn thông báo *“No”* hoặc *“Yes”*. Nếu kết quả là *“Yes”* – trên dòng thứ *2* đưa ra *n* số nguyên $p_1, p_2, . . ., p_n$ tương ứng.\n",
    "\n",
    "###Ví dụ:\n",
    "\n",
    "|  INPUT  |  OUTPUT  |\n",
    "----------------------\n",
    "|3 3      |Yes       |\n",
    "|1 2      |-1 1 2    |\n",
    "|2 3      |          |\n",
    "|1 3      |          |\n",
    "----------------------\n",
    "|4 4      |No        |\n",
    "|1 2      |          |\n",
    "|1 3      |          |\n",
    "|2 4      |          |\n",
    "|3 4      |          |"
   ],
   "cell_type": "markdown",
   "metadata": {}
  },
  {
   "source": [
    "## 1. Abstraction"
   ],
   "cell_type": "markdown",
   "metadata": {}
  },
  {
   "source": [
    "## 2. Pattern Recognition"
   ],
   "cell_type": "markdown",
   "metadata": {}
  },
  {
   "source": [
    "## 3. Design Algorithms"
   ],
   "cell_type": "markdown",
   "metadata": {}
  },
  {
   "source": [
    "## 4. Implement"
   ],
   "cell_type": "markdown",
   "metadata": {}
  }
 ]
}