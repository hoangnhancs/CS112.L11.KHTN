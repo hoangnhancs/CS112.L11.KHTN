{
 "cells": [
  {
   "cell_type": "markdown",
   "metadata": {},
   "source": [
    "[![Open In Colab](https://colab.research.google.com/assets/colab-badge.svg)](https://colab.research.google.com/github/hoangnhancs/CS112.L11.KHTN/blob/master/Section1/Report.ipynb)"
   ]
  },
  {
   "cell_type": "markdown",
   "metadata": {},
   "source": [
    "<link rel=\"stylesheet\" href=\"https://stackpath.bootstrapcdn.com/font-awesome/4.7.0/css/font-awesome.min.css\" integrity=\"sha384-wvfXpqpZZVQGK6TAh5PVlGOfQNHSoD2xbE+QkPxCAFlNEevoEH3Sl0sibVcOQVnN\" crossorigin=\"anonymous\">\n",
    "<script src='https://cdnjs.cloudflare.com/ajax/libs/mathjax/2.7.5/MathJax.js?config=TeX-MML-AM_CHTML' async></script>\n",
    "\n",
    "# N004's MEMBERS\n",
    "<div style=\"display:flex; width:100%\">\n",
    "        <div style=\"width:20%;margin: 0px auto\">\n",
    "            <h1>Thái Hoàng Nhân<br> 18521182 <br /> Leader </h1>\n",
    "            <details>\n",
    "                <summary>Image</summary>\n",
    "                <img style=\"width:100%\"\n",
    "                    src=\"https://raw.githubusercontent.com/hoangnhancs/CS112.L11.KHTN/master/resources/images/HoangNhan.png\">\n",
    "            </details>\n",
    "        </div>\n",
    "        <br>\n",
    "        <div style=\"width:20% ;margin:0px auto\">\n",
    "            <h1>Lưu Hoàng Sơn<br>18521182 <br /> Member</h1>\n",
    "            <details>\n",
    "                <summary>Image</summary>\n",
    "                <img style=\"width:100%\"\n",
    "                    src=\"https://raw.githubusercontent.com/hoangnhancs/CS112.L11.KHTN/master/resources/images/HoangSon.png\">\n",
    "            </details>\n",
    "        </div>\n",
    "        <br>\n",
    "        <div style=\"width:20%; margin:0px auto\">\n",
    "            <h1>Đào Thị Thu Nga<br> 18521182 <br /> Member </h1>\n",
    "            <details>\n",
    "                <summary>Image</summary>\n",
    "                <img style=\"width:100%\"\n",
    "                    src=\"https://raw.githubusercontent.com/hoangnhancs/CS112.L11.KHTN/master/resources/images/ThuNga.png\">\n",
    "            </details>\n",
    "        </div>\n",
    "    </div>\n",
    "\n",
    "<details>\n",
    "    <summary>For contact</summary>\n",
    "    <p>Thái Hoàng Nhân: 18521182@gm.uit.edu.vn or <a href=\"https://github.com/hoangnhancs\">github</a> or <a href=\"https://www.facebook.com/profile.php?id=100027617961231\">facebook</a></p>\n",
    "    <p>Lưu Hoàng Sơn: 18521182@gm.uit.edu.vn or <a href=\"https://github.com/sonlhcsuit\">github</a> or <a href=\"https://www.facebook.com/sjIv3r\">facebook</a></p>\n",
    "    <p>Đào Thị Thu Nga: 18521182@gm.uit.edu.vn or <a href=\"https://github.com/DAOTHITHUNGA\">github</a> or <a href=\"https://www.facebook.com/vonguocmo03092000\">facebook</a></p>\n",
    "</details>"
   ]
  },
  {
   "cell_type": "markdown",
   "metadata": {},
   "source": [
    "# BOT   \n",
    "BOT (Built-Operation-Transfer, có nghĩa: Xây dựng-Vận hành-Chuyển giao) là hình thức Chính phủ kêu gọi các công ty bỏ vốn xây dựng trước (Built) thông qua đấu thầu, sau đó khai thác vận hành một thời gian (Operation) và sau cùng là chuyển giao ( Transfer) lại cho nhà nước sở tại. Đường cao tốc xuyên quốc gia được xây dựng theo hình thức BOT. Công ty Đa quốc gia Modern Highway trúng thầu, chia toàn bộ con đường thành n đoạn. Theo tính toán của Công ty sau khi chuyển giao con đường cho chính phủ sở tại quản lý thì lãi thu được ở đoạn đường thứ i là ai, ai có thể dương, âm hoặc bằng 0, tức là với từng đoạn con có thể lãi, lỗ hoặc hòa vốn. Từng nhóm các đoạn đường liên tiếp nhau (gọi tắt là khoảng) được chia cho các công ty con thực hiện. Công ty con ASEAM Highway hiện đang có trụ sở ở nước sở tại được quyền chọn trước khoảng tùy ý (có thể là cả con đường). Dĩ nhiên Ban Giám đốc ASEAM Highway muốn chọn khoảng bắt đầu từ đoạn p đến hết đoạn q mang lại\n",
    "lợi nhuận cao nhất hoặc lỗ ít nhất nếu không có khoảng nào cho lãi. Hãy chỉ ra khoảng cần chọn và lãi thu được. Nếu có nhiều cách chọn thì chỉ ra cách chọn có p nhỏ nhất.\n",
    "\n",
    "\n",
    "Dữ liệu: Vào từ thiết bị nhập chuẩn:  \n",
    "- Dòng đầu tiên chứa số nguyên n (1 ≤ n ≤ 106)\n",
    "- Dòng thứ 2 chứa n số nguyên a1, a2, . . ., an (0 ≤ |ai| ≤ 109 , i = 1 ÷ n)\n",
    "\n",
    "Kết quả: Đưa ra thiết bị xuất chuẩn trên một dòng 2 số nguyên p, q và lãi thu được.  \n",
    "\n",
    "Ví dụ:  \n",
    "\n",
    "\n",
    "|INPUT                                   |OUTPUT       |\n",
    "|----------------------------------------|-------------|\n",
    "|16                                      |5 15 12      |\n",
    "|2 -4 5 -8 4 -1 -1 1 1 1 -2 2 4 -6 9 -4  |             |"
   ]
  },
  {
   "cell_type": "markdown",
   "metadata": {},
   "source": [
    "# 1. Abstraction\n",
    "Tìm vị trí p, q và tổng các phần tử từ vị trí p đến q của dãy a sao cho tổng đó là lớn nhất.   \n",
    "Toán học: Tìm $p,q \\text{ }(1 \\le p \\le q \\le n)$ và $\\sum_{i=p}^{q}a_{i}$ sao cho $\\sum_{i=p}^{q}a_{i}$ lớn nhất. Nếu có nhiều cách chọn thì chọn $p$ nhỏ nhất.\n",
    "\n",
    "## Constraint \n",
    "- Máy tính để kiểm tra thuật toán là core i3 ($10^7$ operation per second)\n",
    "- Độ dài dãy $a$ ($n$) không được nhiều hơn $10^6$ ( $0 \\le n\\le 10^6$ )\n",
    "- Mỗi phần tử thứ $i$ của dãy $a$ không được vượt quá $10^9$ ( $0 \\le a_i \\le 10^9$ )\n"
   ]
  },
  {
   "cell_type": "markdown",
   "metadata": {
    "tags": []
   },
   "source": [
    "# 2. Pattern Recognition: \n",
    "1. Thuật toán 1 (Brute Force) : $O(n^3)$\n",
    "> Sử dụng một hàm gọi là S(x,y) để tìm được giá trị tổng từ vị trí thứ x tới vị trí thứ y. Độ phức tạp khi tính toán giá trị S(x,y) là $O(n)$  \n",
    "> $SFrag(x,y) = \\Sigma_{i=x}^y a_i$ $( 1 \\le x \\le y \\le n )$ \n",
    "> Sau đó dò hết tất cả tổ hợp có thể của p và q để tìm ra tất cả giá trị của đoạn p q. $O(n^2)$\n",
    "\n",
    "Theo quy tắc nhân thì độ phức tạp thuật toán là $O(n^3)$"
   ]
  },
  {
   "cell_type": "code",
   "execution_count": 37,
   "metadata": {},
   "outputs": [
    {
     "name": "stdout",
     "output_type": "stream",
     "text": [
      "5 15 12\n"
     ]
    }
   ],
   "source": [
    "def sum_frag(seq,a,b):\n",
    "    sum_value = 0\n",
    "    for x in range(a,b+1):\n",
    "        sum_value += seq[x]\n",
    "    return sum_value\n",
    "\n",
    "def brute_force(seq,n):\n",
    "    all_value = []\n",
    "    for p in range(0,n):\n",
    "        for q in range(p,n):\n",
    "            all_value.append({\n",
    "                'p':p,\n",
    "                'q':q,\n",
    "                'value':sum_frag(seq,p,q)\n",
    "            })\n",
    "    \n",
    "    return max(all_value,key= lambda x:x['value'])\n",
    "    \n",
    "n = 16\n",
    "sequence = [ 2, -4, 5, -8, 4, -1, -1, 1, 1, 1, -2, 2, 4, -6, 9, -4]\n",
    "answer = brute_force(sequence,n)\n",
    "print(answer['p']+1,answer['q']+1,answer['value'])"
   ]
  },
  {
   "cell_type": "markdown",
   "metadata": {},
   "source": [
    "2. Thuật toán 2 (Brute Force) sử dụng kỹ thuật PrefixSum: $O(n^2)$  \n",
    "> Thay vì sử dụng hàm gọi là S(x,y) để tìm giá trị tổng từ x tới y thì ta sử dụng một hàm gọi là Prefix_Sum(y) để tính tổng từ vị trí thứ nhất tới vị trí thứ y \n",
    "> $Prefix(y) = \\Sigma_{i=1}^y a_i$ $( 1 \\le y \\le n )$  \n",
    "> Đối với kỹ thuật này ta có thể tính riêng từng giá trị và dùng một mảng khác để lưu trữ. Như vậy thì sẽ tiết kiệm được chi phí không cần phải tính toán lại. \n",
    "Độ phức tạp khi cần tính toán giá trị Prefix(y) là $O(1)$  \n",
    "> Như vậy thì chúng ta có thể tính toán tổng từ vị trí thứ x tới vị trí thứ y bằng cách $SFrag(x,y) = Prefix(y) - Prefix(x-1)$ \n",
    "\n",
    "Theo quy tắc cộng thì thuật toán này có độ phức tạp là $O(n^2)$"
   ]
  },
  {
   "cell_type": "code",
   "execution_count": 63,
   "metadata": {},
   "outputs": [
    {
     "name": "stdout",
     "output_type": "stream",
     "text": [
      "5 15 12\n"
     ]
    }
   ],
   "source": [
    "def brute_force(seq,n):\n",
    "    all_value = []\n",
    "    prefix = [0]*n\n",
    "    prefix[0]=seq[0]\n",
    "    for i in range(1,n):\n",
    "        prefix[i]=prefix[i-1]+seq[i]\n",
    "#     print(prefix)\n",
    "#     print(seq)\n",
    "    for p in range(0,n):\n",
    "        for q in range(p,n):\n",
    "            all_value.append({\n",
    "                'p':p,\n",
    "                'q':q,\n",
    "                'value':prefix[q]-prefix[p-1] #the sum include p \n",
    "            })\n",
    "    \n",
    "    return max(all_value,key= lambda x:x['value'])\n",
    "    \n",
    "    \n",
    "n = 16\n",
    "sequence = [ 2, -4, 5, -8, 4, -1, -1, 1, 1, 1, -2, 2, 4, -6, 9, -4]\n",
    "answer = brute_force(sequence,n)\n",
    "print(answer['p']+1,answer['q']+1,answer['value'])"
   ]
  },
  {
   "cell_type": "markdown",
   "metadata": {},
   "source": [
    "3. Thuật toán 3(Dynamic Programing):\n",
    "> Sử dụng thuật toán kadane để tìm dãy con lớn nhất. Ý tưởng cơ bản của thuật là tìm cụm số nguyên dương tổng lớn nhất (có thể có một vài số âm nhưng nhỏ không ảnh hưởng)  \n",
    "> Mỗi khi đi qua một phần tử, sẽ luôn cập nhật 2 giá trị cơ bản là: \n",
    "> - max_sum_present: Dùng để thể hiện tổng mảng con lớn nhất tại thời điểm hiện tại (bao gồm chính nó)  \n",
    "> - max_sum_ending_at: Dùng để thể hiện tổng mảng con kết thúc tại vị trí phần tử đó (bao gồm chính nó)  \n",
    ">   \n",
    "> Đồng thời so sánh xem: max_sum_ending_at > max_sum_present  \n",
    "> Nếu có thì cập lại 2 giá trị p,q, sau đó tiếp tục tăng giá trị max_sum_ending_at bằng đúng phần tử tại vị trí đó \n",
    "> Nếu không thì tiếp tục"
   ]
  },
  {
   "cell_type": "markdown",
   "metadata": {},
   "source": [
    "Mảng con này có thể rỗng khi tổng của các phần tử bằng 0 hoặc có thể chứa nhiều hơn một phần tử so với mảng con lớn nhất tại vị trí trước đó. Đồng thời mảng con lớn nhất kết thúc tại vị trí i được tính dựa trên mảng con lớn nhất kết thúc tại vị trí i-1"
   ]
  },
  {
   "cell_type": "markdown",
   "metadata": {},
   "source": [
    "# 3. Algorithm design"
   ]
  },
  {
   "cell_type": "markdown",
   "metadata": {},
   "source": [
    "Lựa chọn thuật toán thứ 3 để cải tiến thêm, vì pattern của kadane không có lưu trữ vị trí của mảng con. Và độ phức tạp của thuật toán thứ 3 là $O(n)$ đáp ứng được ràng buộc đề bài, còn 2 thuật toán ở trên không hoạt động tốt khi lượng dữ liệu lớn "
   ]
  },
  {
   "cell_type": "markdown",
   "metadata": {},
   "source": [
    "## Pseudo-Code"
   ]
  },
  {
   "cell_type": "markdown",
   "metadata": {},
   "source": [
    "max_sum_present = 0 (dùng để lưu trữ tổng của dãy con lớn nhất cho đến hiện tại (lớn nhất cần tìm))\n",
    "\n",
    "max_sum_ending_at = 0 (dùng để gán giá trị kết thúc của mảng con cần tìm)\n",
    "\n",
    "start_index = 0 (dùng để gán giá trị bắt đầu của mảng con cần tìm)\n",
    "\n",
    "start_temp = -1 (biến này có 2 mục đích dùng. Mục đích thứ nhất, là dùng để kiểm tra tổng dãy con kết thúc tại vị trí i-1 có âm hay không. Vì nếu tổng dãy con con kết thúc tại i-1 âm thì tổng dãy con kết lớn nhất kết thúc tại vị trí i sẽ là chính phần tử tại i. Mục đích thứ 2 là lưu tạm thời vị trí bắt đầu của mảng con cần tìm)\n",
    "\n",
    "ending_index = 0 (dùng để gán giá tị kết thúc của mảng con cần tìm))\n",
    "\n",
    "Loop for each index i of the array:\n",
    "\n",
    "    max_sum_ending_at <- max_sum_ending_at + a[i]  (tính mảng con lớn nhất kết thúc tại vị trí đang xét)\n",
    "    if (max_sum_ending_at<0): (kiểm tra tổng mảng con kết thúc tại i này có âm hay không)\n",
    "        max_sum_ending_at <- 0 (nếu là âm thì max_sum_ending_at trở về 0)\n",
    "        start_temp <- -1 (đồng thời start_temp trở về -1)\n",
    "    else:\n",
    "        if start_temp==-1: (tức là nếu tổng dãy con lớn nhất tại i-1 nhỏ hơn 0)\n",
    "            start_temp <- i (thì mảng con lớn nhất kết thúc tại i sẽ là a[i])\n",
    "        if max_sum_present < max_sum_ending_at: (kiếm tra tổng mảng con lớn nhất đang xét có lớn hơn giá trị cũ hay không)\n",
    "            max_sum_present <- max_sum_ending_at (nếu lớn hơn thì update giá trị mảng con lớn nhất)\n",
    "            start_index <- start_temp (GÁN giá trị bắt đầu)\n",
    "            ending_index <- i (UPDATE giá trị kết thúc))\n",
    "    return start_index, ending_index, max_sum_present (trả về kết quả)\n"
   ]
  },
  {
   "cell_type": "markdown",
   "metadata": {},
   "source": [
    "# 4. Implement "
   ]
  },
  {
   "cell_type": "code",
   "execution_count": 1,
   "metadata": {
    "tags": []
   },
   "outputs": [
    {
     "name": "stdin",
     "output_type": "stream",
     "text": [
      " 16\n",
      " 2 -4 5 -8 4 -1 -1 1 1 1 -2 2 4 -6 9 -4\n"
     ]
    },
    {
     "name": "stdout",
     "output_type": "stream",
     "text": [
      "5 15 12\n"
     ]
    }
   ],
   "source": [
    "def kadane(seqs):\n",
    "\n",
    "  max_sum_present = 0\n",
    "\n",
    "  max_sum_ending_at = 0\n",
    "\n",
    "  start_index = 0\n",
    "\n",
    "  start_temp = -1\n",
    "\n",
    "  ending_index = 0\n",
    "\n",
    "  for i in range(len(seqs)):\n",
    "  \n",
    "    max_sum_ending_at += seqs[i]\n",
    "    if (max_sum_ending_at < 0):\n",
    "      max_sum_ending_at = 0\n",
    "      start_temp = -1\n",
    "    else:\n",
    "      if start_temp == -1:\n",
    "        start_temp = i\n",
    "      if max_sum_present < max_sum_ending_at:\n",
    "        max_sum_present = max_sum_ending_at\n",
    "        start_index = start_temp\n",
    "        ending_index = i\n",
    "  return start_index+1, ending_index+1, max_sum_present \n",
    "\n",
    "n = input()\n",
    "\n",
    "n = int(n)\n",
    "\n",
    "a = list(map(int, input().split())) \n",
    "\n",
    "start,stop,profit = kadane(a)\n",
    "print(start,stop,profit)"
   ]
  },
  {
   "cell_type": "code",
   "execution_count": null,
   "metadata": {},
   "outputs": [],
   "source": []
  }
 ],
 "metadata": {
  "kernelspec": {
   "display_name": "Python 3",
   "language": "python",
   "name": "python3"
  },
  "language_info": {
   "codemirror_mode": {
    "name": "ipython",
    "version": 3
   },
   "file_extension": ".py",
   "mimetype": "text/x-python",
   "name": "python",
   "nbconvert_exporter": "python",
   "pygments_lexer": "ipython3",
   "version": "3.8.5"
  }
 },
 "nbformat": 4,
 "nbformat_minor": 4
}
