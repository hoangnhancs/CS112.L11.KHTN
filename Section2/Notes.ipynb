{
  "nbformat": 4,
  "nbformat_minor": 0,
  "metadata": {
    "colab": {
      "name": "Notes.ipynb",
      "provenance": [],
      "authorship_tag": "ABX9TyPHOS+5hC6DmdKdrRyhkode",
      "include_colab_link": true
    },
    "kernelspec": {
      "name": "python3",
      "display_name": "Python 3"
    }
  },
  "cells": [
    {
      "cell_type": "markdown",
      "metadata": {
        "id": "view-in-github",
        "colab_type": "text"
      },
      "source": [
        "<a href=\"https://colab.research.google.com/github/hoangnhancs/CS112.L11.KHTN/blob/master/Section2/Notes.ipynb\" target=\"_parent\"><img src=\"https://colab.research.google.com/assets/colab-badge.svg\" alt=\"Open In Colab\"/></a>"
      ]
    },
    {
      "cell_type": "code",
      "metadata": {
        "id": "gkc41Hi4q2Ig",
        "colab_type": "code",
        "colab": {}
      },
      "source": [
        "###BUỔI HỌC 2\n",
        "1. Tóm tắt buổi học 2 \n",
        "- Giải hai bài tập Tảo biển và Đếm sao , đưa ra Abstraction của hai bài toán ,giải pháp của bài toán.\n",
        "- Thầy đưa ra ưu nhược điểm của bài tập tuần 1.\n",
        "- Phân chia nhóm làm đề tài báo cáo.\n",
        "2. Nhóm thảo luận \n",
        "- Thảo luận 2 bài tập , code để submit lên wecode.\n",
        "- Thảo luận về đề tài đã chọn là COMPLETED SEARCH và BACKTRACKING ALGORITHM.\n",
        "- Chia task ra để hoàn thành 2 vấn đề trên."
      ],
      "execution_count": null,
      "outputs": []
    }
  ]
}