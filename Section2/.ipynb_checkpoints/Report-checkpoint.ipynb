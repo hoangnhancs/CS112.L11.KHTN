{
 "cells": [
  {
   "cell_type": "markdown",
   "metadata": {},
   "source": [
    "[![Open In Colab](https://colab.research.google.com/assets/colab-badge.svg)](https://colab.research.google.com/github/hoangnhancs/CS112.L11.KHTN/blob/master/Section2/Report.ipynb)   \n",
    "If it doesn't redirect into new tab, please use `ctrl` + click or `cmd` + click(for mac user)"
   ]
  },
  {
   "cell_type": "markdown",
   "metadata": {},
   "source": [
    "<link rel=\"stylesheet\" href=\"https://stackpath.bootstrapcdn.com/font-awesome/4.7.0/css/font-awesome.min.css\" integrity=\"sha384-wvfXpqpZZVQGK6TAh5PVlGOfQNHSoD2xbE+QkPxCAFlNEevoEH3Sl0sibVcOQVnN\" crossorigin=\"anonymous\">\n",
    "<script src='https://cdnjs.cloudflare.com/ajax/libs/mathjax/2.7.5/MathJax.js?config=TeX-MML-AM_CHTML' async></script>\n",
    "\n",
    "<h1>N004's MEMBERS</h1>\n",
    "<div style=\"display:flex; width:100%\">\n",
    "        <div style=\"width:20%;margin: 0px auto\">\n",
    "            <h1>Thái Hoàng Nhân<br> 18521182 <br /> Leader </h1>\n",
    "            <details>\n",
    "                <summary>Image</summary>\n",
    "                <img style=\"width:100%\"\n",
    "                    src=\"https://raw.githubusercontent.com/hoangnhancs/CS112.L11.KHTN/master/resources/images/HoangNhan.png\">\n",
    "            </details>\n",
    "        </div>\n",
    "        <br>\n",
    "        <div style=\"width:20% ;margin:0px auto\">\n",
    "            <h1>Lưu Hoàng Sơn<br>18521182 <br /> Member</h1>\n",
    "            <details>\n",
    "                <summary>Image</summary>\n",
    "                <img style=\"width:100%\"\n",
    "                    src=\"https://raw.githubusercontent.com/hoangnhancs/CS112.L11.KHTN/master/resources/images/HoangSon.png\">\n",
    "            </details>\n",
    "        </div>\n",
    "        <br>\n",
    "        <div style=\"width:20%; margin:0px auto\">\n",
    "            <h1>Đào Thị Thu Nga<br> 18521182 <br /> Member </h1>\n",
    "            <details>\n",
    "                <summary>Image</summary>\n",
    "                <img style=\"width:100%\"\n",
    "                    src=\"https://raw.githubusercontent.com/hoangnhancs/CS112.L11.KHTN/master/resources/images/ThuNga.png\">\n",
    "            </details>\n",
    "        </div>\n",
    "    </div>\n",
    "\n",
    "<hr>\n",
    "<p>For Contact</p>\n",
    "<p>Thái Hoàng Nhân: 18521182@gm.uit.edu.vn or <a href=\"https://github.com/hoangnhancs\">github</a> or <a href=\"https://www.facebook.com/profile.php?id=100027617961231\">facebook</a></p>\n",
    "<p>Lưu Hoàng Sơn: 18521182@gm.uit.edu.vn or <a href=\"https://github.com/sonlhcsuit\">github</a> or <a href=\"https://www.facebook.com/sjIv3r\">facebook</a></p>\n",
    "<p>Đào Thị Thu Nga: 18521182@gm.uit.edu.vn or <a href=\"https://github.com/DAOTHITHUNGA\">github</a> or <a href=\"https://www.facebook.com/vonguocmo03092000\">facebook</a></p>"
   ]
  },
  {
   "cell_type": "markdown",
   "metadata": {},
   "source": [
    "# Sea Weed (Tảo biển)\n",
    "Tảo biển sinh sản rất nhanh khi có môi trường thuận lợi với chúng và có những loài còn tiết ra môi trường những chất độc hại.\n",
    "\n",
    "Một loại tảo nâu trong môi trường nước bị ô nhiễm nặng sinh sản theo quy luật sau:\n",
    "\n",
    "Ngày đầu tiên (ngày $0$) có $n$ cá thể ở mức $1$,\n",
    "Ở mỗi ngày tiếp theo, mỗi cá thể mức $i$ sinh ra $i$ cá thể mức $1$, các cá thể mới sinh sẽ sinh sôi, phát triển từ ngày hôm sau.\n",
    "Bản thân các cá thể mức $i$ phát triển thành mức $i+1$ và chu kỳ phát triển trong ngày chấm dứt.\n",
    "Hãy xác định sau $k$ ngày trong nước biển có bao nhiêu cá thể.\n",
    "\n",
    "Dữ liệu: Vào từ thiết bị nhập chuẩn gồm một dòng chứa 2 số nguyên $n$ và $k$ ($1 \\le n \\le 1000$, $1 \\le k \\le 10^{18}$).\n",
    "\n",
    "Kết quả: Đưa ra thiết bị xuất chuẩn một số nguyên – số lượng cá thể  tảo theo mô đun $10^9$+7.\n",
    "\n",
    "|INPUT      | OUTPUT|\n",
    "|-----------|-------|\n",
    "|3  2       | 15    |\n"
   ]
  },
  {
   "cell_type": "markdown",
   "metadata": {},
   "source": [
    "## 1. Abstraction:\n",
    "Ta có thể nhìn bảng thống kê như sau: \n",
    "> $a_i$ : Lượng cá thể mức i   \n",
    "> $\\Sigma_{1}^k a_i$: Tổng các cá thể ở ngày k   \n",
    "> k: số ngày đã trải qua \n",
    "\n",
    "Giả sử ở ngày 0 có 1 cá thể mức 1: $a_1$ = 1  \n",
    "\n",
    "|Ngày |$\\Sigma_{1}^k a_i$   | $a_1$| $a_2$| $a_3$| $a_4$| $a_5$| $a_6$| $a_7$|\n",
    "|-----|---------------------|------|------|------|------|------|------|------|\n",
    "|    0|                **1**|     1|     0|     0|     0|     0|     0|     0|\n",
    "|    1|                **2**|     1|     1|     0|     0|     0|     0|     0|\n",
    "|    2|                **5**|     3|     1|     1|     0|     0|     0|     0|\n",
    "|    3|               **13**|     8|     3|     1|     1|     0|     0|     0|\n",
    "|    4|               **34**|    21|     8|     3|     1|     1|     0|     0|\n",
    "|    5|               **89**|    55|    21|     8|     3|     1|     1|     0|\n",
    "\n",
    "Ta có thể nhận thấy đây là dãy fibonacci quen thuộc nhưng có một chút thiếu sót, hãy xem xét quy luật của dãy \n",
    "\n",
    "|i    |0|1|2|3|4|5|6|7 |8 | 9|10|11|12 |13 |14 |\n",
    "|-----|-|-|-|-|-|-|-|--|--|--|--|--|---|---|---|\n",
    "|f_i  |0|1|1|2|3|5|8|13|21|34|55|89|144|233|377|\n",
    "\n",
    "Từ 2 bảng trên ta có thể nhận ra đây là được số cá thể ngày k chính là số fibonacci ở vị trí thứ $2k+1$  \n",
    "**Tóm lại** Tìm tích của $n$ với phần tử thứ $2k + 1$ của dãy fibonacci. Hay tìm tích $n * fib(2k + 1)$.\n",
    "\n",
    "### Constrain:\n",
    "- Máy tính sử dụng để kiểm tra có chip core i3 ($10^7$ operation per second)\n",
    "- Số cá thể ban đầu nằm trong đoạn $[1, 1000]$ ($1 \\le n \\le 1000$)\n",
    "- Số ngày nằm trong đoạn $[1, 10^{18}]$ ($1 \\le k \\le 10^{18}$) "
   ]
  },
  {
   "cell_type": "markdown",
   "metadata": {},
   "source": [
    "## 2. Pattern Recognition:\n",
    "Có rất nhiều cách để tính 1 số fibonacci ở vị trí thứ n, 3 cách chính sẽ được sử dụng để xem xét cách tốt nhất  \n",
    "\n",
    "### 1. Sử dụng đệ quy:\n",
    "Đệ quy là một phương pháp tính dãy fibonacci cổ điển mà hầu hết các học sinh, sinh viên đều biết. Nó là phương pháp dùng trong các chương trình máy tính trong đó có một hàm tự gọi chính nó.\n",
    "Tuy nhiên cách này lại có yếu điểm chính là phải phụ thuộc vào call-stack. Nếu tính số fibonacci ở vị trí thứ i lớn thì dễ gây ra hiện tượng tràn callstack (stack over flow). Hơn nữa cách này có độ phức tạp cao.    \n",
    "Time complexity:  O($2^n$)  \n",
    "Lí do tại sao lại là $2^n$ là bởi vì chúng ta gọi đệ quy 2 lần (ứng với fib(n-1) và fib(n-2) và tiếp tục xuống tiếp cho đến khi bằng số fibonacci thứ 1 là 1. Như vậy callstack tree sẽ càng ngày càng to ra theo số mũ."
   ]
  },
  {
   "cell_type": "code",
   "execution_count": 2,
   "metadata": {
    "tags": []
   },
   "outputs": [
    {
     "name": "stdout",
     "output_type": "stream",
     "text": [
      "55\n",
      "0.0003800392150878906\n"
     ]
    }
   ],
   "source": [
    "import time\n",
    "def fib(k):\n",
    "    if k==1:\n",
    "        return 1\n",
    "    if k==2:\n",
    "        return 1\n",
    "    if k!=0 and k!=1:\n",
    "        return fib(k-1)+fib(k-2)\n",
    "start = time.time()\n",
    "print(fib(10))\n",
    "end = time.time()\n",
    "print(end - start)"
   ]
  },
  {
   "cell_type": "markdown",
   "metadata": {},
   "source": [
    "### 2. Sử dụng quy hoạch động:\n",
    "Chúng ta có thể cải tiến bằng cách sử dụng vòng lặp để tính các số fibonacci rồi sau đó lưu lại vào một cái mảng để lấy ra sử dụng. Cách này sẽ tiết kiệm độ phức tạp thời gian nhưng phải đánh đổi độ phức tạp bộ nhớ (quy hoạch động).  \n",
    "\n",
    "Time complexity: O($n$)   \n",
    "Space comfexity: O($n$)   "
   ]
  },
  {
   "cell_type": "code",
   "execution_count": 3,
   "metadata": {
    "tags": []
   },
   "outputs": [
    {
     "name": "stdout",
     "output_type": "stream",
     "text": [
      "55\n",
      "0.0003440380096435547\n"
     ]
    }
   ],
   "source": [
    "import time\n",
    "def fib(k):\n",
    "    _fib = [1] * k\n",
    "    if (k==0 or k==1):\n",
    "        return _fib[k]\n",
    "    else:\n",
    "        for i in range (2, k):\n",
    "            _fib[i] = _fib[i-1] + _fib[i-2]\n",
    "        \n",
    "    return _fib[k-1]\n",
    "start = time.time()\n",
    "print(fib(10))\n",
    "end = time.time()\n",
    "print(end - start)"
   ]
  },
  {
   "cell_type": "markdown",
   "metadata": {},
   "source": [
    "Chúng ta cũng có thể cải tiến không lưu trữ n phần tử fibonacci nữa mà chỉ lưu 3 phần tử cần thiết.  \n",
    "Time complexity: O($n$)  \n",
    "Space comfexity: O($1$)  "
   ]
  },
  {
   "cell_type": "code",
   "execution_count": 5,
   "metadata": {},
   "outputs": [
    {
     "name": "stdout",
     "output_type": "stream",
     "text": [
      "55\n",
      "0.00027108192443847656\n"
     ]
    }
   ],
   "source": [
    "import time\n",
    "def fib(n):\n",
    "    a = 0\n",
    "    b = 1\n",
    "    if n == 0: \n",
    "        return a \n",
    "    elif n == 1: \n",
    "        return b \n",
    "    else: \n",
    "        for i in range(2,n+1): \n",
    "            c = a + b \n",
    "            a = b \n",
    "            b = c \n",
    "        return b \n",
    "start = time.time()\n",
    "print(fib(10))\n",
    "end = time.time()\n",
    "print(end - start)"
   ]
  },
  {
   "cell_type": "markdown",
   "metadata": {
    "tags": []
   },
   "source": [
    "Ngoài cách sử dụng vòng lặp, ta cũng có một cách khác nhanh hơn là sử dụng phép nhân ma trận. Công thức sau đã được chứng minh:   \n",
    "$Fibonacci(n) = F^n  = {\\begin{pmatrix}1 & 1\\\\1 & 0\\end{pmatrix}}^n = \\begin{pmatrix}F_{n+1} & F_n\\\\F_n & F_{n-1}\\end{pmatrix}$   \n",
    "Time complexity: O($n$)  \n",
    "Space complexity: O($1$)  "
   ]
  },
  {
   "cell_type": "code",
   "execution_count": 6,
   "metadata": {},
   "outputs": [
    {
     "name": "stdout",
     "output_type": "stream",
     "text": [
      "55\n",
      "0.00017786026000976562\n"
     ]
    }
   ],
   "source": [
    "import time\n",
    "def fib(n): \n",
    "    F = [[1, 1], \n",
    "         [1, 0]] \n",
    "    result = None\n",
    "    if (n == 0): \n",
    "        return 0\n",
    "    result = power(F, n - 1) \n",
    "    return result[0][0] \n",
    "  \n",
    "def multiply(F, M): \n",
    "    base =[]\n",
    "    result = [[None,None],[None,None]]\n",
    "    x = (F[0][0] * M[0][0] + \n",
    "         F[0][1] * M[1][0]) \n",
    "    y = (F[0][0] * M[0][1] +\n",
    "         F[0][1] * M[1][1]) \n",
    "    z = (F[1][0] * M[0][0] + \n",
    "         F[1][1] * M[1][0]) \n",
    "    w = (F[1][0] * M[0][1] + \n",
    "         F[1][1] * M[1][1]) \n",
    "      \n",
    "    result[0][0] = x \n",
    "    result[0][1] = y \n",
    "    result[1][0] = z \n",
    "    result[1][1] = w \n",
    "    return result \n",
    "  \n",
    "def power(F, n): \n",
    "    M = [[1, 1], \n",
    "         [1, 0]] \n",
    "    # n - 1 times multiply the \n",
    "    # matrix to {{1,0},{0,1}} \n",
    "    for i in range(2, n +  1): \n",
    "        F = multiply(F, M) \n",
    "    return F\n",
    "start = time.time()\n",
    "print(fib(10))\n",
    "end = time.time()\n",
    "print(end - start)"
   ]
  },
  {
   "cell_type": "markdown",
   "metadata": {},
   "source": [
    "Tất cả các cách trên đều có thể sử dụng một kỹ thuật khác để cải tiến, nghĩa là thay thế công thức fibonaci bằng công thức sau:\n",
    "$$\n",
    "\\left\\{ \n",
    "\\begin{array}{c} \n",
    "{F_{2n-1} = {F_n}^2 + {F_{n-1}}^2(*)}\\\\ \n",
    "{F_{2n} = (2F_{n-1}+F_n)F_n(**)}\n",
    "\\end{array}\n",
    "\\right. \n",
    "$$  \n",
    "Trước tiên, ta sẽ chứng minh: $F_{m+n} = F_{m-1}F_{n} + F_{m}F_{n+1}(1)$\n",
    "\n",
    "Thật vậy, với $n=1 \\rightarrow F_n=F_1=1, F_{n+1}=F_2=1$\n",
    "\n",
    "$(1) \\leftrightarrow F_{m+1} = F_{m-1} + F_m$ (đúng với mọi $m$)\n",
    "\n",
    "Ta sẽ quy nạp bài toán này, giả sử đúng đến $n = k$ và $n = k-1$.\n",
    "\n",
    "Ta sẽ chứng minh $(1)$ đúng với $n = k+1$.\n",
    "\n",
    "Với $n = k+1$,\n",
    "$(1) \\leftrightarrow F_{m+k+1} = F_{m-1}F_{k+1} + F_{m}F_{k+2}$\n",
    "$ \\leftrightarrow F_{m+k} + F_{m+k-1} = F_{m-1}F_{k+1} + F_{m}F_{k+2}$\n",
    "$ \\leftrightarrow (F_{m-1}F_{k} + F_{m}F_{k+1}) + (F_{m-1}F_{k-1} + F_{m}F_{k}) = F_{m-1}F_{k+1} + F_{m}F_{k+2}$\n",
    "$ \\leftrightarrow F_{m-1}(F_{k}+F_{k-1}) + F_{m}(F_{k+1}+F_{k}) = F_{m-1}F_{k+2} + F_{m}F_{k+1}$\n",
    "$ \\leftrightarrow F_{m-1}F_{k+1} + F_{m}F_{k+2} = F_{m-1}F_{k+1} + F_{m}F_{k+2}$ (đúng)\n",
    "\n",
    "Vậy, với $m = n$, ta sẽ có:\n",
    "$F_{2n} = F_{n-1}F_n + F_nF_{n+1}$\n",
    "\n",
    "$= F_n(F_{n-1}+F_{n+1})$\n",
    "$= F_n(2F_{n-1}+F_n)$ $(**)$ được chứng minh\n",
    "\n",
    "Với $m=n-1$, ta sẽ có \n",
    "\n",
    "$F_{2n-1} = F_{n-2}F_n + F_{n-1}F_{n+1}$\n",
    "\n",
    "$= (F_n - F_{n-1})F_n + (F_n+F_{n-1})F_{n-1}$\n",
    "$= {F_n}^2 + {F_{n-1}}^2$ $(*)$ được chứng minh    \n",
    "\n",
    "<hr>\n",
    "\n",
    "Với công thức này thì chúng ta sẽ chỉ tính những số fibonacci cần thiết mà thôi ( với mỗi trường hợp chẵn hoặc lẻ)    \n",
    "Time complexity: O($\\log{n}$)    \n",
    "Space complexity: O($1$)  "
   ]
  },
  {
   "cell_type": "code",
   "execution_count": 13,
   "metadata": {},
   "outputs": [
    {
     "name": "stdout",
     "output_type": "stream",
     "text": [
      "43466557686937456435688527675040625802564660517371780402481729089536555417949051890403879840079255169295922593080322634775209689623239873322471161642996440906533187938298969649928516003704476137795166849228875\n",
      "0.0003268718719482422\n"
     ]
    }
   ],
   "source": [
    "import time\n",
    "MAX = 10000000\n",
    "  \n",
    "# Create an array for memoization \n",
    "f = [0] * MAX\n",
    "  \n",
    "# Returns n'th fuibonacci number using table f[] \n",
    "def fib(n) : \n",
    "    # Base cases \n",
    "    if (n == 0) : \n",
    "        return 0\n",
    "    if (n == 1 or n == 2) : \n",
    "        f[n] = 1\n",
    "        return (f[n]) \n",
    "  \n",
    "    # If fib(n) is already computed \n",
    "    if (f[n]) : \n",
    "        return f[n] \n",
    "  \n",
    "    if( n & 1) : \n",
    "        k = (n + 1) // 2\n",
    "    else :  \n",
    "        k = n // 2\n",
    "  \n",
    "    # Applying above formula [Note value n&1 is 1 \n",
    "    # if n is odd, else 0. \n",
    "    if((n & 1) ) : \n",
    "        f[n] = (fib(k) * fib(k) + fib(k-1) * fib(k-1)) \n",
    "    else : \n",
    "        f[n] = (2*fib(k-1) + fib(k))*fib(k) \n",
    "  \n",
    "    return f[n] \n",
    "  \n",
    "\n",
    "n = 1000\n",
    "start = time.time()\n",
    "print(fib(n))\n",
    "end = time.time()\n",
    "print(end - start)"
   ]
  },
  {
   "cell_type": "markdown",
   "metadata": {},
   "source": [
    "### 3. Sử dụng phương trình dãy số:\n",
    "Dãy fibonaci được tổng quát với công thức GẦN ĐÚNG như sau:\n",
    "$F_n = \\frac{({\\frac{1+\\sqrt{5}}{2}})^n + ({\\frac{1-\\sqrt{5}}{2}})^n}{\\sqrt{5}}$"
   ]
  },
  {
   "cell_type": "code",
   "execution_count": 10,
   "metadata": {
    "tags": []
   },
   "outputs": [
    {
     "name": "stdout",
     "output_type": "stream",
     "text": [
      "4.3466557686938915e+208\n"
     ]
    }
   ],
   "source": [
    "from math import *\n",
    "import time\n",
    "def fib(n):\n",
    "    a = (1+sqrt(5))/2\n",
    "    b = (1-sqrt(5))/2\n",
    "    return (pow(a, n)+ pow(b, n))/sqrt(5)\n",
    "start = time.time()\n",
    "print(fib(1000))"
   ]
  },
  {
   "cell_type": "markdown",
   "metadata": {},
   "source": [
    "Phương pháp này có độ phức tạp thuật toán là O(1) nhưng lại không lý tưởng bởi vì khả năng tính toán trên số thực của python có sai số khiến cho kết quả sẽ không chính xác như tính toán trên số nguyên."
   ]
  },
  {
   "cell_type": "markdown",
   "metadata": {},
   "source": [
    "## 3. Design Algorithms\n",
    "Chúng ta có thể cài đặt ngay dựa trên các dạng đã nhận ra ở trên "
   ]
  },
  {
   "cell_type": "markdown",
   "metadata": {},
   "source": [
    "## 4. Implement "
   ]
  },
  {
   "cell_type": "code",
   "execution_count": 1,
   "metadata": {
    "tags": []
   },
   "outputs": [
    {
     "name": "stdin",
     "output_type": "stream",
     "text": [
      " 100 10000\n"
     ]
    },
    {
     "name": "stdout",
     "output_type": "stream",
     "text": [
      "724145199\n"
     ]
    }
   ],
   "source": [
    "def fib(n): \n",
    "    F = [[1, 1], \n",
    "         [1, 0]] \n",
    "    if (n == 0): \n",
    "        return 0\n",
    "    power(F, n - 1) \n",
    "      \n",
    "    return F[0][0] \n",
    "  \n",
    "def multiply(F, M): \n",
    "  \n",
    "    x = (F[0][0] * M[0][0] + \n",
    "         F[0][1] * M[1][0]) \n",
    "    y = (F[0][0] * M[0][1] +\n",
    "         F[0][1] * M[1][1]) \n",
    "    z = (F[1][0] * M[0][0] + \n",
    "         F[1][1] * M[1][0]) \n",
    "    w = (F[1][0] * M[0][1] + \n",
    "         F[1][1] * M[1][1]) \n",
    "      \n",
    "    F[0][0] = x  %1000000007\n",
    "    F[0][1] = y  %1000000007\n",
    "    F[1][0] = z  %1000000007\n",
    "    F[1][1] = w  %1000000007\n",
    "  \n",
    "def power(F, n): \n",
    "  \n",
    "    M = [[1, 1], \n",
    "         [1, 0]] \n",
    "  \n",
    "    # n - 1 times multiply the \n",
    "    # matrix to {{1,0},{0,1}} \n",
    "    for i in range(2, n + 1): \n",
    "        multiply(F, M) \n",
    "  \n",
    "\n",
    "x, y = map(int, input().split(' '))\n",
    "\n",
    "def fibs_seq_holt(n,k):\n",
    "    return fib(2*k+1)*n %1000000007\n",
    "\n",
    "print(fibs_seq_holt(x,y))"
   ]
  },
  {
   "cell_type": "markdown",
   "metadata": {},
   "source": [
    "# Counting Stars\n",
    "Buổi tối, Anh và Tân thích cùng nhau ngắm bầu trời đêm đầy sao.Họ sẽ ngồi dưới đất, nhâm nhi một chút trà và nhìn chằm chằm vào những ngôi sao sáng trên bầu trời. Trong tầm mắt của họ, có một cái cây hình nón rất cao ngăn tầm nhìn ra làm hai phần, vì vậy họ coi cái cây như một dấu mốc: Các ngôi sao của Anh ở bên phải của cây và các ngôi sao của Tân ở bên trái. Mỗi đêm, Anh rất thích đếm các vì sao của mình, vì vậy cậu ấy biết chính xác rằng có n ngôi sao ở phía của mình (giả sử rằng số ngôi sao không đổi). Gần đây, cậu ấy muốn thử một cái gì đó mới. Cậu ta tưởng tượng ra một hệ tọa độ: cậu đặt gốc của hệ tọa độ tại giao điểm của mặt đất và cây, trục Ox dọc theo mặt đất ở bên trái cây và trục Oy hướng lên trên cây (xem hình minh họa)   \n",
    "\n",
    "<img src=\"\">   \n",
    "\n",
    "Để làm cho mọi thứ trở nên thú vị hơn, Anh tưởng tượng ra hai tia phát ra từ gốc tọa độ với các góc $\\alpha_1$  và  $\\alpha_2$ với trục Ox\n",
    "\n",
    "Bây giờ cậu chọn bất kỳ ngôi sao nào nằm giữa các tia sáng này. Lưu ý rằng cậu không thể chọn những ngôi sao nằm trên tia sáng. Sau đó, cậu tưởng tượng ra hai tia nữa phát ra từ ngôi sao này ở cùng góc  $\\alpha_1$  và  $\\alpha_2$  với trục Ox và chọn một ngôi sao khác nằm hoàn toàn ở giữa các tia mới. Cậu ta lặp lại hành động này cho đến khi nào vẫn còn có thể chọn một ngôi sao nằm giữa các tia phát ra từ ngôi sao đã chọn trước đó.\n",
    "\n",
    "<img src=\"\">   \n",
    "Kết quả là Anh được một chuỗi sao. Tìm số sao m tối đa mà chuỗi của Anh có thể chứa. Lưu ý rằng chuỗi phải bắt đầu từ điểm gốc của hệ tọa độ; điểm này không được tính khi đếm số m ngôi sao trong chuỗi\n",
    "\n",
    "## Input:\n",
    "- Dòng đầu tiên: Một số  integer n ($1\\le n \\le10^5$) - Số ngôi sao\n",
    "- Dòng thứ hai: 2 phân số đơn giản thể hiện mối quan hệ \"a/b c/d\", sao cho $\\frac{a}{b} = \\frac{sin({\\alpha}_{1})}{cos({\\alpha}_{1})}$, $\\frac{c}{d} = \\frac{sin({\\alpha}_{2})}{cos({\\alpha}_{2})}$, ($0 \\le a,b,c,d \\le 10^5, 0^{\\circ} \\le {\\alpha}_{1} < {\\alpha}_{2} \\le 90^{\\circ}, \\frac{a}{b} \\neq \\frac{c}{d}$)\n",
    "- n dòng tiếp theo: cặp số integer $x_i, y_i(1 \\le x_i , y_i \\le 10^5)$ - Tọa độ các ngôi sao, biết rằng mọi ngôi sao có tọa độ khác nhau.\n",
    "\n",
    "## Output \n",
    "In ra một số m - Số sao lớn nhất mà chuỗi của Jerry có thể chứa\n",
    "\n",
    "\n",
    "INPUT   | OUTPUT  |\n",
    "--------|---------|       \n",
    "15      | 5       |\n",
    "1/4 2/1 |         |\n",
    "3 1     |         |\n",
    "6 2     |         |\n",
    "9 3     |         |\n",
    "12 4    |         |\n",
    "15 5    |         |\n",
    "2 1     |         |\n",
    "4 2     |         |\n",
    "5 3     |         |\n",
    "7 4     |         |\n",
    "1 3     |         |\n",
    "3 4     |         |\n",
    "2 5     |         |\n",
    "4 5     |         |\n",
    "1 6     |         |\n",
    "6 6     |         |"
   ]
  },
  {
   "cell_type": "markdown",
   "metadata": {},
   "source": [
    "## 1.Abstraction:\n",
    "\n",
    "Như vậy điều chúng ta có thể làm là cố gắng tìm ra một chuỗi sao, sao cho độ dài chuỗi sao dài nhất có thể. Chẳng hạn như ví dụ này. \n",
    "\n",
    "<img src=\"\">\n",
    "\n",
    "\n",
    "Sau khi chọn 1 ngôi sao thì chúng ta tiếp tục cố gắng chọn ngôi sao nào có thể \"nhìn\" được nhiều sao nhất có thể dựa trên góc nhìn đã cho (tất nhiên là sẽ giảm đi vài sao đã đi quá lố)\n",
    "\n",
    "Vậy nên bài toán này được trừu tượng hóa như sau: Cho một dãy các điểm có tọa độ $x_i,y_i$, tìm chuỗi điểm dài nhất $(x_1,y_1),(x_2,y_2),...,(x_m,y_m)$ sao cho đường thẳng đi qua 2 điểm có hệ số góc $\\alpha_3$ $(x_i,y_i)$ và $(x_{i-1},y_{i-1})$ nằm trong góc \"nhìn\" được tạo bởi 2 đường thẳng có hệ số góc $\\alpha_1$ và $\\alpha_2$ sao cho $\\alpha_1 < \\alpha_3 < \\alpha_2$"
   ]
  },
  {
   "cell_type": "markdown",
   "metadata": {},
   "source": [
    "## 2. Pattern Recognition:"
   ]
  },
  {
   "cell_type": "markdown",
   "metadata": {},
   "source": [
    "Để có thể thỏa mãn được thì góc $\\alpha_3$ phải thỏa mãn \n",
    "\n",
    "$\\alpha_1 < \\alpha_3 < \\alpha_2$\n",
    "\n",
    "$\\leftrightarrow tan(\\alpha_1) < tan(\\alpha_3) < tan(\\alpha_2)$\n",
    "\n",
    "$\\leftrightarrow \\frac{a}{b} < \\frac{y_i - y_{i-1}}{x_i - x_{i-1}} < \\frac{c}{d}$\n",
    "\n",
    "$\\leftrightarrow by_i - ax_i > by_{i-1} - ax_{i-1}$ và $cx_i - dy_i > cx_{i-1} - dy_{i-1}$\n",
    "\n",
    "\n",
    "Ta thấy cặp tọa độ điêm $X_{i-1}(x_{i-1},y_{i-1})$ và $X_i(x_i, y_i)$ có thể được biểu diễn dưới dạng một con số $by_{i} - ax_{i}$ (với $\\alpha_1$) hoặc $cx_{i} - dy_{i} $(với $\\alpha_2$ ).\n",
    "\n",
    "Theo như vậy thì chúng ta có thể dùng số hóa các tọa độ thành 1 con số bằng cách giảm chiều ( từ Oxy thành Ox). Bởi vì góc $\\alpha_2$ nằm ở \"trên\" (lớn hơn) nên chúng ta sẽ dùng công thức thứ 2 để quy đổi thành số sau đó sắp xếp giảm dần. Như vậy thì những phần tử đầu tiên là những phần tử nằm \"trên\" nhất.\n",
    "\n",
    "<img src=\"\">\n",
    "\n"
   ]
  },
  {
   "cell_type": "markdown",
   "metadata": {},
   "source": [
    "## 3. Design Algorithms:"
   ]
  },
  {
   "cell_type": "markdown",
   "metadata": {},
   "source": [
    "## 4. Implement"
   ]
  }
 ],
 "metadata": {
  "kernelspec": {
   "display_name": "Python 3",
   "language": "python",
   "name": "python3"
  },
  "language_info": {
   "codemirror_mode": {
    "name": "ipython",
    "version": 3
   },
   "file_extension": ".py",
   "mimetype": "text/x-python",
   "name": "python",
   "nbconvert_exporter": "python",
   "pygments_lexer": "ipython3",
   "version": "3.8.5"
  }
 },
 "nbformat": 4,
 "nbformat_minor": 4
}
