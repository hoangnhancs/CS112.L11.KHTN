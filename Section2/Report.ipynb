{
 "cells": [
  {
   "cell_type": "markdown",
   "metadata": {},
   "source": [
    "<link rel=\"stylesheet\" href=\"https://stackpath.bootstrapcdn.com/font-awesome/4.7.0/css/font-awesome.min.css\" integrity=\"sha384-wvfXpqpZZVQGK6TAh5PVlGOfQNHSoD2xbE+QkPxCAFlNEevoEH3Sl0sibVcOQVnN\" crossorigin=\"anonymous\">\n",
    "<script src='https://cdnjs.cloudflare.com/ajax/libs/mathjax/2.7.5/MathJax.js?config=TeX-MML-AM_CHTML' async></script>\n",
    "\n",
    "<h1>N004's MEMBERS</h1>\n",
    "<div style=\"display:flex; width:100%\">\n",
    "        <div style=\"width:20%;margin: 0px auto\">\n",
    "            <h1>Thái Hoàng Nhân<br> 18521182 <br /> Leader </h1>\n",
    "            <details>\n",
    "                <summary>Image</summary>\n",
    "                <img style=\"width:100%\"\n",
    "                    src=\"https://raw.githubusercontent.com/hoangnhancs/CS112.L11.KHTN/master/resources/images/HoangNhan.png\">\n",
    "            </details>\n",
    "        </div>\n",
    "        <br>\n",
    "        <div style=\"width:20% ;margin:0px auto\">\n",
    "            <h1>Lưu Hoàng Sơn<br>18521182 <br /> Member</h1>\n",
    "            <details>\n",
    "                <summary>Image</summary>\n",
    "                <img style=\"width:100%\"\n",
    "                    src=\"https://raw.githubusercontent.com/hoangnhancs/CS112.L11.KHTN/master/resources/images/HoangSon.png\">\n",
    "            </details>\n",
    "        </div>\n",
    "        <br>\n",
    "        <div style=\"width:20%; margin:0px auto\">\n",
    "            <h1>Đào Thị Thu Nga<br> 18521182 <br /> Member </h1>\n",
    "            <details>\n",
    "                <summary>Image</summary>\n",
    "                <img style=\"width:100%\"\n",
    "                    src=\"https://raw.githubusercontent.com/hoangnhancs/CS112.L11.KHTN/master/resources/images/ThuNga.png\">\n",
    "            </details>\n",
    "        </div>\n",
    "    </div>\n",
    "\n",
    "<details>\n",
    "    <summary>For contact</summary>\n",
    "    <p>Thái Hoàng Nhân: 18521182@gm.uit.edu.vn or <a href=\"https://github.com/hoangnhancs\">github</a> or <a href=\"https://www.facebook.com/profile.php?id=100027617961231\">facebook</a></p>\n",
    "    <p>Lưu Hoàng Sơn: 18521182@gm.uit.edu.vn or <a href=\"https://github.com/sonlhcsuit\">github</a> or <a href=\"https://www.facebook.com/sjIv3r\">facebook</a></p>\n",
    "    <p>Đào Thị Thu Nga: 18521182@gm.uit.edu.vn or <a href=\"https://github.com/DAOTHITHUNGA\">github</a> or <a href=\"https://www.facebook.com/vonguocmo03092000\">facebook</a></p>\n",
    "</details>"
   ]
  },
  {
   "cell_type": "markdown",
   "metadata": {},
   "source": [
    "# TẢO BIỂN\n",
    "Tảo biển sinh sản rất nhanh khi có môi trường thuận lợi với chúng và có những loài còn tiết ra môi trường những chất độc hại.\n",
    "\n",
    "Một loại tảo nâu trong môi trường nước bị ô nhiễm nặng sinh sản theo quy luật sau:\n",
    "\n",
    "Ngày đầu tiên (ngày $0$) có $n$ cá thể ở mức $1$,\n",
    "Ở mỗi ngày tiếp theo, mỗi cá thể mức $i$ sinh ra $i$ cá thể mức $1$, các cá thể mới sinh sẽ sinh sôi, phát triển từ ngày hôm sau.\n",
    "Bản thân các cá thể mức $i$ phát triển thành mức $i+1$ và chu kỳ phát triển trong ngày chấm dứt.\n",
    "Hãy xác định sau $k$ ngày trong nước biển có bao nhiêu cá thể.\n",
    "\n",
    "Dữ liệu: Vào từ thiết bị nhập chuẩn gồm một dòng chứa 2 số nguyên $n$ và $k$ ($1 \\le n \\le 1000$, $1 \\le k \\le 10^{18}$).\n",
    "\n",
    "Kết quả: Đưa ra thiết bị xuất chuẩn một số nguyên – số lượng cá thể  tảo theo mô đun $10^9$+7.\n",
    "\n",
    "|INPUT      | OUTPUT|\n",
    "|-------------------|\n",
    "|3  2       | 15    |\n"
   ]
  },
  {
   "cell_type": "markdown",
   "metadata": {},
   "source": [
    "# 1. Abstraction:\n",
    "Tìm tích của $n$ với phần tử thứ $2k + 1$ của dãy Fibonaci. Hay tìm tích $n * fib(2k + 1)$.\n",
    "\n",
    "## Constrain:\n",
    "- Máy tính sử dụng để kiểm tra có chip core i3 ($10^7$ operation pẻ second)\n",
    "- Số cá thể ban đầu nằm trong đoạn $[1, 1000]$ ($1 \\le n \\le 1000$)\n",
    "- Số ngày nằm trong đoạn $[1, 10^{18}]$ ($1 \\le k \\le 10^{18}$) "
   ]
  },
  {
   "cell_type": "markdown",
   "metadata": {},
   "source": [
    "# 2. Pattern Recognition:"
   ]
  },
  {
   "cell_type": "markdown",
   "metadata": {},
   "source": [
    "1. Sử dụng đệ quy:\n",
    "> Đệ quy là một phương pháp tính dãy fibonaci cổ điển mà hầu hết các học sinh, sinh viên đều biết. Nó là phương pháp dùng trong các chương trình máy tính trong đó có một hàm tự gọi chính nó."
   ]
  },
  {
   "cell_type": "code",
   "execution_count": 18,
   "metadata": {
    "tags": []
   },
   "outputs": [
    {
     "name": "stdout",
     "output_type": "stream",
     "text": [
      "55\n",
      "0.0008823871612548828\n"
     ]
    }
   ],
   "source": [
    "import time\n",
    "def fib(k):\n",
    "    if k==1:\n",
    "        return 1\n",
    "    if k==2:\n",
    "        return 1\n",
    "    if k!=0 and k!=1:\n",
    "        return fib(k-1)+fib(k-2)\n",
    "start = time.time()\n",
    "print(fib(10))\n",
    "end = time.time()\n",
    "print(end - start)"
   ]
  },
  {
   "cell_type": "markdown",
   "metadata": {},
   "source": [
    "Ta có thể thấy rằng, thuật toán duyệt qua #viết gì nữa đây Sơn, Nga :viếtChỗ này tính độ phức tạp thuật toán" , độ phức tạp O(n)
   ]
  },
  {
   "cell_type": "markdown",
   "metadata": {},
   "source": [
    "## 2. Sử dụng quy hoạch động:\n",
    "> Ý tưởng của quy hoạch động là ta sẽ dùng bộ nhớ, để lưu trữ các phần tử đã duyệt qua để tính toán phần tử tiếp theo. Ta sẽ tiết kiệm thời gian hơn dùng đệ quy vì đệ quy phải tính toán nhiều lần các giá trị đã có rồi mà fib(0) là một minh chứng rõ ràng nhất."
   ]
  },
  {
   "cell_type": "code",
   "execution_count": 16,
   "metadata": {
    "tags": []
   },
   "outputs": [
    {
     "name": "stdout",
     "output_type": "stream",
     "text": [
      "10\n",
      "55\n"
     ]
    }
   ],
   "source": [
    "import time\n",
    "def fib(k):\n",
    "    _fib = [1] * k\n",
    "    if (k==0 or k==1):\n",
    "        return _fib[k]\n",
    "    else:\n",
    "        for i in range (2, k):\n",
    "            _fib[i] = _fib[i-1] + _fib[i-2]\n",
    "        \n",
    "    return _fib[k-1]\n",
    "start = time.time()\n",
    "print(fib(10))\n",
    "start = time.time()\n",
    "print(start - end)"
   ]
  },
  {
   "cell_type": "code",
   "execution_count": null,
   "metadata": {},
   "outputs": [],
   "source": []
  }
 ],
 "metadata": {
  "kernelspec": {
   "display_name": "Python 3",
   "language": "python",
   "name": "python3"
  },
  "language_info": {
   "codemirror_mode": {
    "name": "ipython",
    "version": 3
   },
   "file_extension": ".py",
   "mimetype": "text/x-python",
   "name": "python",
   "nbconvert_exporter": "python",
   "pygments_lexer": "ipython3",
   "version": "3.8.5"
  }
 },
 "nbformat": 4,
 "nbformat_minor": 4
}
