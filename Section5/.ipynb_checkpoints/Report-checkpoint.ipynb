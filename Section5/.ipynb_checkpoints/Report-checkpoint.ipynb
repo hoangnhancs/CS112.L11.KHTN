{
 "cells": [
  {
   "cell_type": "markdown",
   "metadata": {
    "id": "cbiEDN4GK4g9"
   },
   "source": [
    "<a href=\"https://colab.research.google.com/github/hoangnhancs/CS112.L11.KHTN/blob/master/Section5/Report.ipynb\" target=\"blank\"><img src=\"https://colab.research.google.com/assets/colab-badge.svg\" alt=\"Open In Colab\"/></a>   \n",
    "If it doesn't redirect into new tab, please use `ctrl` + click or `cmd` + click(for mac user)   \n",
    "![](https://i.postimg.cc/k445hYdx/logo-uit.png)"
   ]
  },
  {
   "cell_type": "markdown",
   "metadata": {
    "id": "BV9qA0SEK4g-"
   },
   "source": [
    "<link rel=\"stylesheet\" href=\"https://stackpath.bootstrapcdn.com/font-awesome/4.7.0/css/font-awesome.min.css\" integrity=\"sha384-wvfXpqpZZVQGK6TAh5PVlGOfQNHSoD2xbE+QkPxCAFlNEevoEH3Sl0sibVcOQVnN\" crossorigin=\"anonymous\">\n",
    "<script src='https://cdnjs.cloudflare.com/ajax/libs/mathjax/2.7.5/MathJax.js?config=TeX-MML-AM_CHTML' async></script>\n",
    "\n",
    "<h1>N004's MEMBERS</h1>\n",
    "<div style=\"display:flex; width:100%\">\n",
    "        <div style=\"width:20%;margin: 0px auto\">\n",
    "            <h1>Thái Hoàng Nhân<br> 18521182 <br /> Leader </h1>\n",
    "            <details>\n",
    "                <summary>Image</summary>\n",
    "                <img style=\"width:100%\"\n",
    "                    src=\"https://raw.githubusercontent.com/hoangnhancs/CS112.L11.KHTN/master/resources/images/HoangNhan.png\">\n",
    "            </details>\n",
    "        </div>\n",
    "        <br>\n",
    "        <div style=\"width:20% ;margin:0px auto\">\n",
    "            <h1>Lưu Hoàng Sơn<br>18521348 <br /> Member</h1>\n",
    "            <details>\n",
    "                <summary>Image</summary>\n",
    "                <img style=\"width:100%\"\n",
    "                    src=\"https://raw.githubusercontent.com/hoangnhancs/CS112.L11.KHTN/master/resources/images/HoangSon.png\">\n",
    "            </details>\n",
    "        </div>\n",
    "        <br>\n",
    "        <div style=\"width:20%; margin:0px auto\">\n",
    "            <h1>Đào Thị Thu Nga<br> 18521135 <br /> Member </h1>\n",
    "            <details>\n",
    "                <summary>Image</summary>\n",
    "                <img style=\"width:100%\"\n",
    "                    src=\"https://raw.githubusercontent.com/hoangnhancs/CS112.L11.KHTN/master/resources/images/ThuNga.png\">\n",
    "            </details>\n",
    "        </div>\n",
    "    </div>\n",
    "\n",
    "<hr>\n",
    "<p>For Contact</p>\n",
    "<p>Thái Hoàng Nhân: 18521182@gm.uit.edu.vn or <a href=\"https://github.com/hoangnhancs\">github</a> or <a href=\"https://www.facebook.com/profile.php?id=100027617961231\">facebook</a></p>\n",
    "<p>Lưu Hoàng Sơn: 18521348@gm.uit.edu.vn or <a href=\"https://github.com/sonlhcsuit\">github</a> or <a href=\"https://www.facebook.com/sjIv3r\">facebook</a></p>\n",
    "<p>Đào Thị Thu Nga: 18521135@gm.uit.edu.vn or <a href=\"https://github.com/DAOTHITHUNGA\">github</a> or <a href=\"https://www.facebook.com/vonguocmo03092000\">facebook</a></p>"
   ]
  },
  {
   "cell_type": "markdown",
   "metadata": {
    "id": "7KvvjY9XK4hB"
   },
   "source": [
    "# KHÓA SỐ"
   ]
  },
  {
   "cell_type": "markdown",
   "metadata": {
    "id": "WgK2teHXK4hC"
   },
   "source": [
    "Để tăng độ an toàn chống hiện tượng cướp ngân hàng ngày càng phổ biến người ta dùng khóa số với mã mở khóa đơn giản nhưng rất hiệu quả. Trên cửa ra vào hiển thị một xâu khá dài các ký tự số. Các chữ số có thể di chuyển đổi chổ cho nhau hoặc bị xóa. Muốn mở khóa người ta phải di chuyển các chữ số và trong trường hợp cần thiết – xóa vài chữ số để nhận được xâu lớn nhất thỏa mãn điều kiện đã cài đặt. Điều kiện này được thay đổi thường xuyên. Hôm nay điều kiện đó là “Số nhận được phải chia hết cho $3$”. Số nhận được có thể bắt đầu bằng các chữ số $0$. Xâu “$000$” sẽ lớn hơn xâu “$00$”.\n",
    "\n",
    "Hãy xác định khóa mở cửa.\n",
    "\n",
    "*Dữ liệu*: Vào từ thiết bị nhập chuẩn gồm một xâu ký tự số có độ dài lớn hơn $2$ và không vượt quá $105$.\n",
    "\n",
    "*Kết quả*: Đưa ra thiết bị xuất chuẩn xâu khóa mở cửa.\n",
    "\n",
    "*Ví dụ*:\n",
    "\n",
    "|    INPUT    |    OUTPUT    |\n",
    "--------------|--------------|\n",
    "|105          |510           |"
   ]
  },
  {
   "cell_type": "markdown",
   "metadata": {
    "id": "VlebutkHK4hD"
   },
   "source": [
    "## 1. Abstraction:\n"
   ]
  },
  {
   "cell_type": "markdown",
   "metadata": {
    "id": "E3lBTkrdK4hD"
   },
   "source": [
    "Tìm chuỗi số lớn nhất chia hết cho $3$ từ chuỗi đã cho bằng cách đảo chuỗi, xóa chữ số của chuỗi\n",
    "## Constrain:\n",
    "- Độ dài của chuỗi là l thì $2 \\le l \\le 10^5$"
   ]
  },
  {
   "cell_type": "markdown",
   "metadata": {
    "id": "eQZ7eSQ0K4hE"
   },
   "source": [
    "## 2. Pattern Recognition"
   ]
  },
  {
   "cell_type": "markdown",
   "metadata": {
    "id": "68pxtsYlK4hF"
   },
   "source": [
    "Ta có $\\overline{a_1a_2...a_{n-1}a_n}$ $mod$ $3$ $=$ $(a_1 + a_2 + ... + a_{n-1} + a_n)$  $mod$  $3$\n",
    "\n",
    "$\\Rightarrow$ Hướng giải quyết vấn đề:\n",
    "- Tính số dư $n$ của chuỗi số khi chia cho $3$\n",
    "- Tách các chữ số của chuỗi số dưới dạng 1 dictionary\n",
    "\n",
    "#### Nếu số dư khác $0$: \n",
    "- Nếu tồn tại chữ số có cùng số dư với chuỗi số khi chia cho $3$ thì ta sẽ bỏ 1 chữ số nhỏ nhất\n",
    "- Nếu không tồn tại, thì bỏ 2 chữ số có số dư $3-n$ khi chia cho 3 nhỏ nhất\n",
    "- Sắp xếp chuỗi theo thứ tự giảm dần.\n",
    "\n",
    "##### Ví dụ : \n",
    "1. input : 752413 \n",
    ">   B1    : (752413 mod 3) = 1 (n)  \n",
    ">   B2    : Xét các chữ số trong dãy có giá trị nào bằng 1.  \n",
    ">   B3    : Loại bỏ phần tử cùng giá trị với n và sắp xếp chuỗi theo thứ tự giảm dần   \n",
    ">   Output: 75432   \n",
    "2. input : 641633\n",
    ">   B1    : (641633 mod 3) = 2 (n)  \n",
    ">   B2    : Xét các chữ số trong dãy không có chữ số nào có giá trị nào bằng 1.   \n",
    ">   B3    : Xét 2 chữ số nhỏ nhất có số dư chia cho 3 là 1 .Là số 4 và 1.   \n",
    ">   B4    : Loại bỏ 2 chữ số 4 và 1 .Sau đó sắp xếp chuỗi theo thứ tự giảm dần    \n",
    ">   Output: 6633   \n",
    "\n",
    "#### Nếu số dư bằng $0$:\n",
    "Sắp xếp chuỗi theo thứ tự giảm dần.\n",
    "##### Ví dụ :       \n",
    "1. input : 76593   \n",
    ">    B1    :  76593 chia hết 3    \n",
    ">    B2    : Sắp xếp giảm dần dãy trên.    \n",
    ">    Output: 97653   "
   ]
  },
  {
   "cell_type": "markdown",
   "metadata": {
    "id": "P36MUGpeK4hG"
   },
   "source": [
    "## 3. Design Algorithms"
   ]
  },
  {
   "cell_type": "markdown",
   "metadata": {
    "id": "x_xU99sWK4hG"
   },
   "source": [
    "Vì khá đơn giản nên ta có thể cài đặt thuật toán luôn"
   ]
  },
  {
   "cell_type": "markdown",
   "metadata": {
    "id": "0r9TUFdvK4hH"
   },
   "source": [
    "## 4. Implement"
   ]
  },
  {
   "cell_type": "code",
   "execution_count": null,
   "metadata": {
    "id": "Tm1Vrd30K4hI",
    "outputId": "6dcfb912-8ad6-413a-86c3-634d15637093"
   },
   "outputs": [
    {
     "name": "stdout",
     "output_type": "stream",
     "text": [
      "510"
     ]
    }
   ],
   "source": [
    "from collections import Counter\n",
    "n = input().strip()\n",
    "count_number = Counter(n)\n",
    "#print(\"Count number is: \",count_number)\n",
    "# mod_number = {0:set(), 1:set(), 2:set()}\n",
    "# for number in count_number:\n",
    "#     number = int(number)\n",
    "#     if number%3:\n",
    "#         mod_number[number%3].add(str(number))\n",
    "mod_number = []\n",
    "#print(mod_number)\n",
    "mod_number.append([])\n",
    "mod_number.append(['1','4','7'])\n",
    "mod_number.append(['2','5','8'])\n",
    "mod_number = [[x for x in d if x in count_number] for d in mod_number]\n",
    "#print(\"Mod number is: \",mod_number)\n",
    "sum_digit = sum(int(digit)*count_number[digit] for digit in count_number)\n",
    "#print(\"Sum digits is: \",sum_digit)\n",
    "mod = sum_digit%3\n",
    "#print(\"Mod is: \",mod)\n",
    "\n",
    "if mod:\n",
    "    # for number in mod_number[mod]:\n",
    "    #     print(count_number[str(number)])\n",
    "    count_digit_same_mode = sum(int(count_number[number]) for number in mod_number[mod])\n",
    "    #print(\"Count number of digit has same mod is: \",count_digit_same_mode)\n",
    "    number_digit_delete = 1\n",
    "    if not count_digit_same_mode:\n",
    "        mod = 3 - mod   \n",
    "        number_digit_delete = 2\n",
    "    # print(\"Mod become: \",mod)\n",
    "    # print(\"Number digit delete is: \",number_digit_delete)\n",
    "    # print(\"Numbers have mod {} in mod_number is: \".format(mod),mod_number[mod])\n",
    "    for _ in mod_number[mod]:\n",
    "        # print(\"Count number {} is: \".format(_),count_number[str(_)])\n",
    "        __ = min(number_digit_delete, count_number[_])\n",
    "        number_digit_delete -= __\n",
    "        count_number[_] -= __\n",
    "#print(count_number)\n",
    "for _ in sorted(count_number.keys(), reverse=True):\n",
    "    print(_*count_number[_], end=\"\")\n"
   ]
  },
  {
   "cell_type": "markdown",
   "metadata": {
    "id": "MgILpDx5Sajd"
   },
   "source": [
    "# CYCLIC ISOMORPHISM¶\n"
   ]
  },
  {
   "cell_type": "markdown",
   "metadata": {
    "id": "_-mJM7qHShPk"
   },
   "source": [
    "Apparently, the query \"How many times does a string x appear in a string s?\" is one of the most basic problems of string manipulation. Tèo has learned about this problem, and he can solve it in a blink of an eye. Therefore, he wants to challenge himself by\n",
    "complicating the problem. So, he tries solving another problem: given a string $s$ and n strings $x_i$, for each string $x_i$, find the number of successive substrings of $s$ that are cyclically isomorphic to $x_i$.\n",
    "\n",
    "Two strings are called `cyclically isomorphic` strings if one string is a `rotation` of the other. In this case, rotation is defined as an operation of `rearranging` the characters in a string by moving some `consecutive` characters (maybe none) from the beginning to the end of the string in the same order, while shifting all other characters to the preceding position. For example, the string \"bcda\" is a rotation of \"abcd\", but the string \"bdca\" is not a rotation of \"abcd\". This problem is kind of tricky to Tèo. Let’s help him to solve it\n",
    "\n",
    "\n",
    "**DỊCH**\n",
    "\n",
    "Input chuỗi s và n chuỗi $x_{i}$, với mỗi chuỗi $x_{i}$, tìm số chuỗi con của s là cyclically isomorphism với $x_{i}$. Hai chuỗi gọi là isomorphism nếu 1 chuỗi này là rotation của chuỗi kia. **Rotation** : là sắp xếp lại các kí tự của chuỗi đó bằng cách di chuyển 1 số kí tự liên tục (hoặc k liên tục) từ đầu đến cuối chuỗi theo cùng 1 thứ tự và dịch chuyển các kí tự còn lại về vị trí trước kí tự đó\n",
    "Ví dụ: \"bcda\" là a rotation của \"abcd\", nhưng chuỗi \"bdca\" không là rotation của chuỗi \"abcd\".\n",
    "\n",
    "Input:\n"
   ]
  }
 ],
 "metadata": {
  "colab": {
   "include_colab_link": true,
   "name": "Report.ipynb",
   "provenance": []
  },
  "kernelspec": {
   "display_name": "Python 3",
   "language": "python",
   "name": "python3"
  },
  "language_info": {
   "codemirror_mode": {
    "name": "ipython",
    "version": 3
   },
   "file_extension": ".py",
   "mimetype": "text/x-python",
   "name": "python",
   "nbconvert_exporter": "python",
   "pygments_lexer": "ipython3",
   "version": "3.8.5"
  }
 },
 "nbformat": 4,
 "nbformat_minor": 4
}
