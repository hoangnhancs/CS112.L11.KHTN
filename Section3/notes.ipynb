{
  "nbformat": 4,
  "nbformat_minor": 0,
  "metadata": {
    "colab": {
      "name": "notes.ipynb",
      "provenance": [],
      "authorship_tag": "ABX9TyP0w8+iPAMjLhTTwPEmPxgt",
      "include_colab_link": true
    },
    "kernelspec": {
      "name": "python3",
      "display_name": "Python 3"
    }
  },
  "cells": [
    {
      "cell_type": "markdown",
      "metadata": {
        "id": "view-in-github",
        "colab_type": "text"
      },
      "source": [
        "<a href=\"https://colab.research.google.com/github/hoangnhancs/CS112.L11.KHTN/blob/master/Section3/notes.ipynb\" target=\"_parent\"><img src=\"https://colab.research.google.com/assets/colab-badge.svg\" alt=\"Open In Colab\"/></a>"
      ]
    },
    {
      "cell_type": "markdown",
      "metadata": {
        "id": "8kI4EsZdLixl",
        "colab_type": "text"
      },
      "source": [
        "###TÓM TẮT BUỔI 3 "
      ]
    },
    {
      "cell_type": "markdown",
      "metadata": {
        "id": "kxF8uPzmODGq",
        "colab_type": "text"
      },
      "source": [
        "### NHÓM 4 \n",
        "Thái Hoàng Nhân 18521182\n",
        "\n",
        "Đào Thị Thu Nga 18521135\n",
        "\n",
        "Lưu Hoàng Sơn 18521308\n"
      ]
    },
    {
      "cell_type": "markdown",
      "metadata": {
        "id": "7vD_zRGLLleZ",
        "colab_type": "text"
      },
      "source": [
        "1. Hoạt động với lớp\n",
        "\n",
        "- Thầy đưa ra 1 số bài tập tiêu biểu đã nộp ở week2.\n",
        "- Đưa ra lịch seminar cho các nhóm để chuẩn bị theo thứ tự từ trên xuống , bắt đầu từ 7h45p, mỗi nhóm phải đọc bài trước chuẩn bị câu hỏi ,nếu chuẩn bị không kip phải báo cáo với thầy.\n",
        "- Đưa ra phương án làm  2 bài tập tuần này là  H-index và water_supply, submit hai bài lên wecode , cùng thảo luận fix bug code.\n",
        "-  Thầy Duy cho các nhóm sub bài ***Đếm Sao*** full điểm lên thuyết trình ,giảng bài lại cho các nhóm dưới code.\n",
        "\n",
        "2. Hoạt động với nhóm \n",
        "- Thảo luận 2 bài tập tuần này , đưa ra các giải pháp khác nhau để hoàn thành bài thật tốt.\n",
        "- Thảo luận bài tập week2 ***Đếm Sao***  chưa hoàn thành xong , đưa ra các phương án tối ưu code để full điểm , tham khảo ý tưởng của các bạn Dương, Q.Cường .\n",
        "- Hỏi ý tưởng ,thực hiện code,submit và viết lại report.\n",
        "- Nhóm phân chia công việc của tuần tiếp theo.\n"
      ]
    }
  ]
}