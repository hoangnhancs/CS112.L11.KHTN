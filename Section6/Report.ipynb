{
 "cells": [
  {
   "cell_type": "markdown",
   "metadata": {},
   "source": [
    "<a href=\"https://colab.research.google.com/github/hoangnhancs/CS112.L11.KHTN/blob/master/Section6/Report.ipynb\" target=\"blank\"><img src=\"https://colab.research.google.com/assets/colab-badge.svg\" alt=\"Open In Colab\"/></a>   \n",
    "If it doesn't redirect into new tab, please use `ctrl` + click or `cmd` + click(for mac user)   \n",
    "![](https://i.postimg.cc/k445hYdx/logo-uit.png)"
   ]
  },
  {
   "cell_type": "markdown",
   "metadata": {},
   "source": [
    "<link rel=\"stylesheet\" href=\"https://stackpath.bootstrapcdn.com/font-awesome/4.7.0/css/font-awesome.min.css\" integrity=\"sha384-wvfXpqpZZVQGK6TAh5PVlGOfQNHSoD2xbE+QkPxCAFlNEevoEH3Sl0sibVcOQVnN\" crossorigin=\"anonymous\">\n",
    "<script src='https://cdnjs.cloudflare.com/ajax/libs/mathjax/2.7.5/MathJax.js?config=TeX-MML-AM_CHTML' async></script>\n",
    "\n",
    "<h1>N004's MEMBERS</h1>\n",
    "<div style=\"display:flex; width:100%\">\n",
    "        <div style=\"width:20%;margin: 0px auto\">\n",
    "            <h1>Thái Hoàng Nhân<br> 18521182 <br /> Leader </h1>\n",
    "            <details>\n",
    "                <summary>Image</summary>\n",
    "                <img style=\"width:100%\"\n",
    "                    src=\"https://raw.githubusercontent.com/hoangnhancs/CS112.L11.KHTN/master/resources/images/HoangNhan.png\">\n",
    "            </details>\n",
    "        </div>\n",
    "        <br>\n",
    "        <div style=\"width:20% ;margin:0px auto\">\n",
    "            <h1>Lưu Hoàng Sơn<br>18521348 <br /> Member</h1>\n",
    "            <details>\n",
    "                <summary>Image</summary>\n",
    "                <img style=\"width:100%\"\n",
    "                    src=\"https://raw.githubusercontent.com/hoangnhancs/CS112.L11.KHTN/master/resources/images/HoangSon.png\">\n",
    "            </details>\n",
    "        </div>\n",
    "        <br>\n",
    "        <div style=\"width:20%; margin:0px auto\">\n",
    "            <h1>Đào Thị Thu Nga<br> 18521135 <br /> Member </h1>\n",
    "            <details>\n",
    "                <summary>Image</summary>\n",
    "                <img style=\"width:100%\"\n",
    "                    src=\"https://raw.githubusercontent.com/hoangnhancs/CS112.L11.KHTN/master/resources/images/ThuNga.png\">\n",
    "            </details>\n",
    "        </div>\n",
    "    </div>\n",
    "\n",
    "<hr>\n",
    "<p>For Contact</p>\n",
    "<p>Thái Hoàng Nhân: 18521182@gm.uit.edu.vn or <a href=\"https://github.com/hoangnhancs\">github</a> or <a href=\"https://www.facebook.com/profile.php?id=100027617961231\">facebook</a></p>\n",
    "<p>Lưu Hoàng Sơn: 18521348@gm.uit.edu.vn or <a href=\"https://github.com/sonlhcsuit\">github</a> or <a href=\"https://www.facebook.com/sjIv3r\">facebook</a></p>\n",
    "<p>Đào Thị Thu Nga: 18521135@gm.uit.edu.vn or <a href=\"https://github.com/DAOTHITHUNGA\">github</a> or <a href=\"https://www.facebook.com/vonguocmo03092000\">facebook</a></p>"
   ]
  },
  {
   "cell_type": "markdown",
   "metadata": {},
   "source": [
    "# Mức độ giống nhau\n",
    "Một quần thể sinh vật ngoài hành tinh có gene tạo thành từ 26 cơ sở ký hiệu từ A tới Z. Mỗi gene là một xâu ký tự các chữ cái la tinh hoa. Hai cá thể khác nhau có gene khác nhau. Mức độ giống nhau của 2 gene sẽ xác định độ huyết thống của chúng.\n",
    "\n",
    "Độ giống nhau của gene thứ nhất đối với gene thứ 2 là số lượng cặp 2 cơ sở liên tiếp nhau trong gene thứ nhất đồng thời là cặp 2 cơ sở liên tiếp nhau trong gene thứ hai.\n",
    "\n",
    "<img src=\"https://raw.githubusercontent.com/hoangnhancs/CS112.L11.KHTN/master/resources/images/Section6_MucDoGiongNhau.png\"/>\n",
    "Ví dụ, gene thứ nhất là ABBACAB, gene thứ 2 là BCABB thì mức độ giống nhau là 4.\n",
    "\n",
    "\n",
    "Cho hai gene. Hãy xác định mức độ giống nhau của gene thứ nhất với gene thứ 2.\n",
    "\n",
    "*Dữ liệu*: Vào từ thiết bị nhập chuẩn bao gồm 2 dòng chứa 2 xâu khác rỗng xác định gene thứ nhất và gene thứ 2, mỗi xâu chỉ chứa các ký tự chữ cái in hoa và có độ dài không quá 105.\n",
    "\n",
    "*Kết quả*: Đưa ra thiết bị xuất chuẩn một số nguyên – mức độ giống nhau của 2 genes.\n",
    "\n",
    "*Ví dụ*:\n",
    "\n",
    " \n",
    "\n",
    "|INPUT   |OUTPUT|\n",
    "|--------|------|\n",
    "|ABBACAB |4     |\n",
    "|BCABB   |      |\n",
    "\n",
    "\n",
    "\n"
   ]
  },
  {
   "cell_type": "markdown",
   "metadata": {},
   "source": [
    "## 1. Abstraction\n",
    "Tìm số cặp 2 kí tự liên tiếp giống nhau của chuỗi A và B\n",
    "### Constrain: Độ dài của chuỗi không vượt quá $10^5$\n",
    "### Ví dụ: \n",
    "|INPUT      |OUTPUT      |\n",
    "|-----------|------------|\n",
    "|ABBACAB    |4           |\n",
    "|BCABB      |            |"
   ]
  },
  {
   "cell_type": "markdown",
   "metadata": {},
   "source": [
    "## 2. Pattern Recognition"
   ]
  },
  {
   "cell_type": "markdown",
   "metadata": {},
   "source": [
    "## 3. Design Algorithms\n",
    "- Ý tưởng: Tìm tập 2 kí tự liên tiếp của chuỗi B. Sau đó duyệt chuỗi A và xem các \"2 kí tự liên tiếp\" của A có trong tập hợp vừa tìm hay không?\n",
    "- Vì khá đơn giản nên ta có thể tiến hành cài đặt luôn."
   ]
  },
  {
   "cell_type": "markdown",
   "metadata": {},
   "source": [
    "## 4. Implement\n"
   ]
  },
  {
   "cell_type": "code",
   "execution_count": 1,
   "metadata": {},
   "outputs": [
    {
     "name": "stdout",
     "output_type": "stream",
     "text": [
      "{'AB', 'BB', 'CA', 'BC'}\n",
      "4\n"
     ]
    }
   ],
   "source": [
    "genA = input().strip().upper()\n",
    "genB = input().strip().upper()\n",
    "# genA = 'ABBACAB'\n",
    "# genB = 'BCABB'\n",
    "temp = set()\n",
    "# gen =None\n",
    "# gen = genA if len(genA) > len(genB) else genB\n",
    "count = 0\n",
    "for i in range(len(genB)-1):\n",
    "    pair = genB[i:i+2]\n",
    "    temp.add(pair)\n",
    "print(temp)\n",
    "for i in range(len(genA)-1):\n",
    "    pair = genA[i:i + 2]\n",
    "    # print(pair)\n",
    "    if pair in temp:\n",
    "        count+=1\n",
    "print(count)"
   ]
  },
  {
   "cell_type": "markdown",
   "metadata": {},
   "source": [
    "# Địa lan \n",
    "Giáo sư Braun đã lai giống tạo ra n loại địa lan mới độc đáo. Mỗi loại địa lan được trồng trong một chậu riêng và được ghi một số thể hiện đặc điểm gene của loại hoa đó, chậu thứ i có số là ai, i = 1 ÷ n.\n",
    "\n",
    "Hội chợ hoa địa lan thế giới mời giáo sư tham gia và giới thiệu các thành quả nghiên cứu của ông. Các chậu hoa do ông mang tới sẽ được đặt trên k đôn dọc theo đường đi dẫn tới gian hàng chính của hội chợ. \n",
    "\n",
    "Muốn gây ấn tượng mạnh cho những người tham dự, đặc biệt là các nhà khoa học Giáo sư yêu cầu trợ lý của mình chọn k chậu sao cho khi thực hiện phép AND số trên các chậu hoa tới (nếu xét chúng ở dạng biểu diễn nhị phân) sẽ có kết quả bằng 0.\n",
    "\n",
    "Hãy xác định xem người trợ lý có thể chọn được k chậu như vậy hay không và đưa ra thông báo “YES” hoặc “NO”.\n",
    "\n",
    "*Dữ liệu*: Vào từ thiết bị nhập chuẩn:\n",
    "\n",
    "Dòng đầu tiên chứa 2 số nguyên n và k $(1 \\le n \\le 2.10^4, 1 \\le k \\le n)$,    \n",
    "Dòng thứ 2 chứa n số nguyên $a_1, a_2, . . ., a_n (0 \\le a_i \\ge 2_{12}, i = 1 \\div n)$.   \n",
    "\n",
    "*Kết quả*: Đưa ra thiết bị xuất chuẩn thông báo tìm được.\n",
    "\n",
    "*Ví dụ*:\n",
    "\n",
    "|INPUT |OUTPUT|\n",
    "|------|------|\n",
    "|3 2   |YES   |\n",
    "|5 4 3 |      |"
   ]
  },
  {
   "cell_type": "markdown",
   "metadata": {},
   "source": [
    "## 1. Abstraction"
   ]
  },
  {
   "source": [
    "Cho dãy gồm $n$ số nguyên dương và số $k$. Có tồn tại hay không $k$ phần tử trong $n$ thực hiện phép $and$ thu được kết quả 0. Nếu tồn tại xuất $YES$ ngược lại xuất $NO$"
   ],
   "cell_type": "markdown",
   "metadata": {}
  },
  {
   "cell_type": "markdown",
   "metadata": {},
   "source": [
    "## 2. Pattern Recognition"
   ]
  },
  {
   "cell_type": "markdown",
   "metadata": {},
   "source": [
    "## 3. Design Algorithms"
   ]
  },
  {
   "cell_type": "markdown",
   "metadata": {},
   "source": [
    "## 4. Implement\n"
   ]
  },
  {
   "cell_type": "code",
   "execution_count": 1,
   "metadata": {},
   "outputs": [
    {
     "name": "stdin",
     "output_type": "stream",
     "text": [
      " 3 2\n",
      " 5 4 3\n"
     ]
    },
    {
     "name": "stdout",
     "output_type": "stream",
     "text": [
      "{2}\n",
      "{2}\n",
      "{1, 2}\n",
      "{1, 2}\n",
      "{1, 2}\n",
      "{1, 2}\n",
      "{0, 1, 2}\n",
      "{0, 1, 2}\n",
      "{0, 1, 2}\n",
      "{0, 1, 2}\n",
      "{0, 1, 2}\n",
      "{0, 1, 2}\n"
     ]
    }
   ],
   "source": [
    "# n, k = map(int, input().strip().split())\n",
    "# a = list(map(int, input().strip().split()))\n",
    "\n",
    "# result = a[0]\n",
    "\n",
    "# for i in range (1, len(a)):\n",
    "#     result = result & a[i]\n",
    "\n",
    "# if result == 0:\n",
    "#     print('YES')\n",
    "# else:\n",
    "#     print('NO')\n",
    "\n",
    "# print(4 & 5 & 3)\n",
    "# result = 3\n",
    "# for i in [4,5]:\n",
    "#     result = result & i\n",
    "\n",
    "# print(64 & 15)\n",
    "\n",
    "# n, k = map(int, input().strip().split())\n",
    "# a = list(map(int, input().strip().split()))\n",
    "\n",
    "# if (k >= 12):\n",
    "#     t = a[0]\n",
    "#     for i in a:\n",
    "#         t = (t & i)\n",
    "#     if (t==0):\n",
    "#         print(\"YES\")\n",
    "#     else:\n",
    "#         print(\"NO\")\n",
    "    \n",
    "# else:\n",
    "#     flag = True\n",
    "#     for i in range(n - k + 1):\n",
    "#         if (flag == False):\n",
    "#             break\n",
    "#         t = a[i]\n",
    "#         for j in range(k):\n",
    "#             t = (t & a[i + j])\n",
    "#         if (t == 0):\n",
    "#             flag = False\n",
    "#             break\n",
    "#     if (flag == False):\n",
    "#           print(\"YES\")\n",
    "#     else:\n",
    "#           print(\"NO\")\n",
    "def search_bit_zeros(a):\n",
    "\n",
    "    bit_zeros = []\n",
    "    bin_a = bin(a)[2:]\n",
    "    bin_a_reseved = bin_a[::-1]\n",
    "    for i in range (len(bin_a_reseved)):\n",
    "        if bin_a_reseved[i]=='0':\n",
    "            bit_zeros.append(i)\n",
    "\n",
    "    return bit_zeros\n",
    "\n",
    "n, k = map(int, input().strip().split())\n",
    "a = list(map(int, input().strip().split()))\n",
    "\n",
    "\n",
    "max_a = max(a)\n",
    "#print(max_a)\n",
    "min_a = min(a)\n",
    "#print(min_a)\n",
    "max_length = len(bin(max_a)[2:])\n",
    "#print(max_length)\n",
    "min_length = len(bin(min_a)[2:])\n",
    "#print(min_length)\n",
    "\n",
    "\n",
    "check = [i for i in range(max_length)]\n",
    "\n",
    "difference_bit = [i for i in range(min_length, max_length)]\n",
    "\n",
    "res = set(difference_bit)\n",
    "count = 0\n",
    "\n",
    "for _ in a:\n",
    "    tmp=res.copy()\n",
    "    print(tmp)\n",
    "    print(res)\n",
    "    if tmp.update(search_bit_zeros(_))!=res:\n",
    "        res = tmp\n",
    "        count += 1\n",
    "    print(tmp)\n",
    "    print(res)\n",
    "    # if count<=k:\n",
    "    #     if res==check:\n",
    "    #         print('YES')\n",
    "    #         break\n",
    "    # else:\n",
    "    #     print('NO')\n",
    "    #     break"
   ]
  },
  {
   "cell_type": "code",
   "execution_count": 2,
   "metadata": {},
   "outputs": [
    {
     "name": "stdin",
     "output_type": "stream",
     "text": [
      " 3 2 \n",
      " 5 4 3\n"
     ]
    },
    {
     "name": "stdout",
     "output_type": "stream",
     "text": [
      "YES\n"
     ]
    }
   ],
   "source": [
    "n, k = map(int, input().strip().split())\n",
    "a = list(map(int, input().strip().split()))\n",
    "\n",
    "result = a[0]\n",
    "\n",
    "for i in range (1, len(a)):\n",
    "    result = result & a[i]\n",
    "\n",
    "if result == 0:\n",
    "    print('YES')\n",
    "else:\n",
    "    print('NO')"
   ]
  }
 ],
 "metadata": {
  "kernelspec": {
   "display_name": "Python 3",
   "language": "python",
   "name": "python3"
  },
  "language_info": {
   "codemirror_mode": {
    "name": "ipython",
    "version": 3
   },
   "file_extension": ".py",
   "mimetype": "text/x-python",
   "name": "python",
   "nbconvert_exporter": "python",
   "pygments_lexer": "ipython3",
   "version": "3.8.5"
  }
 },
 "nbformat": 4,
 "nbformat_minor": 4
}