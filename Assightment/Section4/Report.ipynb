{
 "cells": [
  {
   "cell_type": "markdown",
   "metadata": {},
   "source": [
    "[![Open In Colab](https://colab.research.google.com/assets/colab-badge.svg)](https://colab.research.google.com/github/hoangnhancs/CS112.L11.KHTN/blob/master/Section4/Report.ipynb)   \n",
    "If it doesn't redirect into new tab, please use `ctrl` + click or `cmd` + click(for mac user)   \n",
    "![](https://i.postimg.cc/k445hYdx/logo-uit.png)"
   ]
  },
  {
   "cell_type": "markdown",
   "metadata": {},
   "source": [
    "<link rel=\"stylesheet\" href=\"https://stackpath.bootstrapcdn.com/font-awesome/4.7.0/css/font-awesome.min.css\" integrity=\"sha384-wvfXpqpZZVQGK6TAh5PVlGOfQNHSoD2xbE+QkPxCAFlNEevoEH3Sl0sibVcOQVnN\" crossorigin=\"anonymous\">\n",
    "<script src='https://cdnjs.cloudflare.com/ajax/libs/mathjax/2.7.5/MathJax.js?config=TeX-MML-AM_CHTML' async></script>\n",
    "\n",
    "<h1>N004's MEMBERS</h1>\n",
    "<div style=\"display:flex; width:100%\">\n",
    "        <div style=\"width:20%;margin: 0px auto\">\n",
    "            <h1>Thái Hoàng Nhân<br> 18521182 <br /> Leader </h1>\n",
    "            <details>\n",
    "                <summary>Image</summary>\n",
    "                <img style=\"width:100%\"\n",
    "                    src=\"https://raw.githubusercontent.com/hoangnhancs/CS112.L11.KHTN/master/resources/images/HoangNhan.png\">\n",
    "            </details>\n",
    "        </div>\n",
    "        <br>\n",
    "        <div style=\"width:20% ;margin:0px auto\">\n",
    "            <h1>Lưu Hoàng Sơn<br>18521348 <br /> Member</h1>\n",
    "            <details>\n",
    "                <summary>Image</summary>\n",
    "                <img style=\"width:100%\"\n",
    "                    src=\"https://raw.githubusercontent.com/hoangnhancs/CS112.L11.KHTN/master/resources/images/HoangSon.png\">\n",
    "            </details>\n",
    "        </div>\n",
    "        <br>\n",
    "        <div style=\"width:20%; margin:0px auto\">\n",
    "            <h1>Đào Thị Thu Nga<br> 18521135 <br /> Member </h1>\n",
    "            <details>\n",
    "                <summary>Image</summary>\n",
    "                <img style=\"width:100%\"\n",
    "                    src=\"https://raw.githubusercontent.com/hoangnhancs/CS112.L11.KHTN/master/resources/images/ThuNga.png\">\n",
    "            </details>\n",
    "        </div>\n",
    "    </div>\n",
    "\n",
    "<hr>\n",
    "<p>For Contact</p>\n",
    "<p>Thái Hoàng Nhân: 18521182@gm.uit.edu.vn or <a href=\"https://github.com/hoangnhancs\">github</a> or <a href=\"https://www.facebook.com/profile.php?id=100027617961231\">facebook</a></p>\n",
    "<p>Lưu Hoàng Sơn: 18521348@gm.uit.edu.vn or <a href=\"https://github.com/sonlhcsuit\">github</a> or <a href=\"https://www.facebook.com/sjIv3r\">facebook</a></p>\n",
    "<p>Đào Thị Thu Nga: 18521135@gm.uit.edu.vn or <a href=\"https://github.com/DAOTHITHUNGA\">github</a> or <a href=\"https://www.facebook.com/vonguocmo03092000\">facebook</a></p>"
   ]
  },
  {
   "cell_type": "markdown",
   "metadata": {},
   "source": [
    "# ĐỔI MỚI"
   ]
  },
  {
   "cell_type": "markdown",
   "metadata": {},
   "source": [
    "Thành phố quyết định chặt hạ hết $n$ cây xanh hiện có trong thành phố để trồng chỉ một loại cây mới. Nhiệm vụ được giao cho Công ty Cây xanh thành phố. Do hạn chế về thiết bị Công ty chỉ tổ chức được $2$ đội đốn hạ cây. Đội $I$ hạ được $a$ cây mỗi ngày, nhưng cứ mối ngày thứ $k$ thì phải nghỉ để bảo dưỡng kỹ thuật, tức là đội $I$ sẽ nghỉ vào các ngày $k, 2k, 3k, . . .$ Đội $II$ hạ được $b$ cây mỗi ngày, nhưng cứ mỗi ngày thứ $m$ thì phải nghỉ để bảo dưỡng kỹ thuật, tức là đội $II$ sẽ nghỉ vào các ngày $m, 2m, 3m, . . .$ Ở ngày nghỉ, số cây chặt hạ của đội sẽ là $0$. Cả hai đội bắt đầu công việc vào cùng một ngày và làm việc song song với nhau.\n",
    "\n",
    "Công việc trồng cây mới sẽ bắt đầu sau khi toàn bộ cây cũ đã bị đốn hạ.\n",
    "\n",
    "Hãy xác định sau bao nhiêu ngày thì có thể bắt đầu việc trồng mới cây.\n",
    "\n",
    "Dữ liệu: \n",
    "- Vào từ thiết bị nhập chuẩn gồm một dòng chứa 5 số nguyên $a, k, b, m$ và $n$ $(1 \\le a, b \\le 10^9, 2 \\le k, m \\le 10^{18}, 1 \\le n \\le 10^{18})$.\n",
    "\n",
    "Kết quả: \n",
    "- Đưa ra thiết bị xuất chuẩn một số nguyên – số ngày tính được.\n",
    "\n",
    "|    INPUT    |  OUTPUT  |\n",
    "--------------|-----------\n",
    "|2 4 3 3 25   |7         |\n"
   ]
  },
  {
   "cell_type": "markdown",
   "metadata": {},
   "source": [
    "## 1. Abstraction"
   ]
  },
  {
   "cell_type": "markdown",
   "metadata": {},
   "source": [
    "Trước tiên, ta phân tích bài toán một chút. Gọi $x$ là số ngày cần thiết để hoàn thành. Khi đó, số ngày nghỉ của đội $I$ là \n",
    "$int(\\frac{x}{k})$ \n",
    "\n",
    "$\\rightarrow$ số ngày làm là $x-int(\\frac{x}{k})$\n",
    "\n",
    "$\\rightarrow$ sô cây đốn hạ được là $(x-int(\\frac{x}{k}))*a$.\n",
    "\n",
    "Tương tự với đội $II$, ta có số cây đốn hạ được là $(x-int(\\frac{x}{m}))*b$ \n",
    "\n",
    "$\\rightarrow$ tổng số cây đốn hạ là: $x[(1-\\frac{1}{k})a+(1-\\frac{1}{m})*b]\\geq n$\n",
    "\n",
    "$\\rightarrow$ $x\\geq \\frac{n}{(1-\\frac{1}{k})a+(1-\\frac{1}{m})*b}$\n",
    "\n",
    "Vậy, abstraction bài toàn này sẽ là: *Tìm x nhỏ nhất sao cho* $$x\\geq \\frac{n}{(1-\\frac{1}{k})a+(1-\\frac{1}{m})*b}$$\n",
    "\n",
    "### Constrains:\n",
    "$\\begin{align}\n",
    "\\begin{cases}\n",
    "        1 \\le a, b \\le 10^9 \\\\\n",
    "        2 \\le k, m \\le 10^{18}   \\\\\n",
    "        1 \\le n \\le 10^{18} \\\\\n",
    "        a, k, b, m, n \\in \\mathbb{N}\n",
    "    \\end{cases}\n",
    "\\end{align}$\n",
    "\n",
    "\n",
    "*Vì đề yêu cầu số ngày tối thiểu nên ta sẽ lấy giá trị $x$ gần nhất. Nhưng khi ta lập trình, thì khi ta thực hiện phép chia có dư thì sẽ có sai số, nên ta sẽ lùi giá trị $x$ xuống 1 hoặc 2 đơn vị để kiểm tra thêm.*"
   ]
  },
  {
   "cell_type": "markdown",
   "metadata": {},
   "source": [
    "## 2. Pattern Recognition"
   ]
  },
  {
   "cell_type": "markdown",
   "metadata": {},
   "source": [
    "### a) Giải thuật 1: \n",
    "Áp dụng cách giải như đã phân tích. Duyệt từ $x-1$ đến $x+1$ để xem trường hợp nào thỏa. Độ phức tạp thuật toán tối đa $O(3)$, tối thiểu $O(2)$ *(với trường hợp lùi $x$ 1 đơn vị)*"
   ]
  },
  {
   "cell_type": "markdown",
   "metadata": {},
   "source": [
    "## 3. Design Algorithms"
   ]
  },
  {
   "cell_type": "markdown",
   "metadata": {},
   "source": [
    "Vì quá đơn giản nên ta có thể cài đặt thuật toán luôn"
   ]
  },
  {
   "cell_type": "markdown",
   "metadata": {},
   "source": [
    "## 4. Implement"
   ]
  },
  {
   "cell_type": "code",
   "execution_count": 1,
   "metadata": {
    "tags": []
   },
   "outputs": [
    {
     "name": "stdin",
     "output_type": "stream",
     "text": [
      " 2 4 3 3 25\n"
     ]
    },
    {
     "name": "stdout",
     "output_type": "stream",
     "text": [
      "7\n"
     ]
    }
   ],
   "source": [
    "a, k, b, m, n = map(int, input().split())\n",
    "sum = 0\n",
    "\n",
    "def f(x):\n",
    "    \"\"\"\n",
    "    :param x: số ngày 2 đội đã chặt cây\n",
    "    :return: số cây 2 đội đã chặt trong x ngày\n",
    "    \"\"\"\n",
    "    return (x - int(x // k)) * a + (x - int(x // m)) * b\n",
    "\n",
    "result = int(n // ((1 - 1 / k) * a + (1 - 1 / m) * b)) - 1  # giải nghiệm\n",
    "\n",
    "while (sum < n):\n",
    "    sum = f(result)\n",
    "\n",
    "    result += 1\n",
    "\n",
    "print(result - 1)"
   ]
  },
  {
   "source": [
    "## 5. Result:"
   ],
   "cell_type": "markdown",
   "metadata": {}
  },
  {
   "source": [
    "![image.png](data:image/png;base64,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)"
   ],
   "cell_type": "markdown",
   "metadata": {}
  },
  {
   "cell_type": "markdown",
   "metadata": {},
   "source": [
    "# TÁI CẤU TRÚC\n",
    "Sau thời gian làm việc tại nhà (work from home) do tình hình dịch bệnh, công ty $X$ nhận thấy đây là cơ hội để thay đổi mô hình làm việc của công ty để hướng tới tính đơn giản, hiệu quả cao hơn trong công việc. Cụ thể, công ty hiện tại gồm $n$ nhân viên. Có $m$ quan hệ dạng $(a_i, b_i)$ trong đó người $b_i$ nhận công việc từ người $a_i$ và $a_i$ chỉ đạo cho $b_i$. Mỗi nhân viên khi nhận việc có thể phân công cho những nhân viên do mình chỉ đạo. Nếu công viêc từ $a$ có thể tới được $b$, ta gọi $a$ là cấp trên của $b$ và $b$ là cấp dưới của $a$.\n",
    "\n",
    "Sau khi họp đại hội cổ đông trực tuyến, công ty $X$ quyết định thực hiện tái cấu trúc như sau:\n",
    "\n",
    "Thứ nhất, chọn ra một giám đốc, người này phải là người không có cấp trên và công việc mà người này phân công có thể tới được mọi người trong công ty;\n",
    "Những người còn lại, mỗi người sẽ chỉ còn nhận việc trực tiếp từ đúng $1$ người. Để tránh xáo trộn trong hoạt động sau khi thực hiện thay đổi, với mỗi người, tập những người là cấp trên của người đó phải không thay đổi (so với trước khi thực hiện tái cấu trúc).\n",
    "Yêu cầu: Xác định công ty $X$ có thể tái cấu trúc hay không, nếu không được - đưa ra thông báo *“No”*. Trong trường hợp có thể – đưa ra thông báo *“Yes”* và chỉ ra dãy số $p_i$ xác định người có quyền phân công công việc cho người $i (1 \\le i \\le n)$. Với Giám đốc $p_i$ tương ứng có giá trị là $-1$.\n",
    "\n",
    "Dữ liệu: Vào từ file thiết bị nhập chuẩn:\n",
    "\n",
    "- Dòng đầu tiên chứa 2 số nguyên $n$ và $m$ $(1 \\le n, m \\le 5*10^5)$\n",
    "- Dòng thứ i trong m dòng sau chứa 2 số nguyên $a_i$ và $b_i$ $(1 \\le ai, bi \\le n, ai \\neq bi)$\n",
    "\n",
    "Kết quả: \n",
    "- Đưa ra thiết bị xuất chuẩn thông báo *“No”* hoặc *“Yes”*. Nếu kết quả là *“Yes”* – trên dòng thứ *2* đưa ra *n* số nguyên $p_1, p_2, . . ., p_n$ tương ứng.\n",
    "\n",
    "### Ví dụ:\n",
    "\n",
    "|  INPUT  |  OUTPUT  |\n",
    "|---------|----------|\n",
    "|3 3      |Yes       |\n",
    "|1 2      |-1 1 2    |\n",
    "|2 3      |          |\n",
    "|1 3      |          |\n",
    "|<hr>     |<hr>      |\n",
    "|4 4      |No        |\n",
    "|1 2      |          |\n",
    "|1 3      |          |\n",
    "|2 4      |          |\n",
    "|3 4      |          |"
   ]
  },
  {
   "cell_type": "markdown",
   "metadata": {},
   "source": [
    "## 1. Abstraction\n",
    "\n",
    "Cho một đồ thị có hướng $G = (V,A)$ với N đỉnh và M cạnh, tìm cách bỏ một số \n",
    "cạnh của đồ thị đã cho để được đúng 1 cây $T$ sao cho với mọi $i,j \\in G$ nếu $i$ là tổ tiên của $j$ thì trong $T$, $i$ cũng là tổ tiên của $j$."
   ]
  },
  {
   "cell_type": "markdown",
   "metadata": {},
   "source": [
    "## 2. Pattern Recognition\n",
    "Tìm một cây bất kỳ trong đồ thị thoả mãn đề bài "
   ]
  },
  {
   "cell_type": "markdown",
   "metadata": {},
   "source": [
    "## 3. Design Algorithms\n",
    "- **DFS(Duyệt theo chiều sâu)**:\n",
    "  - Với một đỉnh $i (1 \\leq i \\leq N)$ trên đồ thị, xét Visited$[i]$ = 0 nghĩa là $i$ chưa được duyệt và ta sẽ tiến hành duyệt điểm $i$ theo chiều rộng.\n",
    "  - Khi một đỉnh $i$ được duyệt ta sẽ tìm được thành phần liên thông thứ **num_tplt** mà $i$ thuộc về và đếm số lượng đỉnh trong thành phần liên thông đó và lưu lại trong **S[num_tplt]**. \n",
    "- **Xét cây**:\n",
    "   - Xét tất cả những cạnh ($i,j$) không thuộc cây đã có được từ DFS, $LCA(i,j) \\neq i$ (Lowest Common Ancestor) thì xuất **No**, ngược lại xuất **Yes** và in ra cây đó."
   ]
  },
  {
   "cell_type": "markdown",
   "metadata": {},
   "source": [
    "## 4. Implement"
   ]
  },
  {
   "cell_type": "code",
   "execution_count": null,
   "metadata": {},
   "outputs": [],
   "source": [
    "from sys import stdin, stdout\n",
    "import sys\n",
    "sys.setrecursionlimit(10**6)\n",
    "t = stdin.readline().split()\n",
    "n,m = [int(x) for x in t]\n",
    "a = [[] for _ in range(n)]\n",
    "c = [[] for _ in range(n)]\n",
    "d = [0 for _ in range(n)]\n",
    "f = [[] for _ in range(n)]\n",
    "cha = [0 for _ in range(n)]\n",
    "def dfs(i):\n",
    "    for j in range(len(a[i])):\n",
    "        v = a[i][j]\n",
    "        if (cha[v]==-1):\n",
    "            #print(v,i)\n",
    "            cha[v]=i\n",
    "            d[v] = d[i] + 1\n",
    "            c[i][j] = 1\n",
    "            dfs(v)\n",
    "def dfs2(i):\n",
    "    for j in range(len(a[i])):\n",
    "        v = a[i][j]\n",
    "        if (cha[v]==i):\n",
    "            d[v] = d[i] + 1\n",
    "            #print(v,i)\n",
    "            c[i][j] = 1\n",
    "            dfs2(v)\n",
    "def lca(x,y):\n",
    "    if x==y:\n",
    "        return x\n",
    "    if d[x]>d[y]:\n",
    "        t=x\n",
    "        x=y\n",
    "        y=t\n",
    "    t=d[y]-d[x]\n",
    "    for i in range(21,-1,-1):\n",
    "        if 2**i<=t :\n",
    "            t-=2**i\n",
    "            y=f[y][i]\n",
    "    if x==y :\n",
    "        return x\n",
    "    for i in range(21,-1,-1):\n",
    "        if f[x][i]!=f[y][i]:\n",
    "            x=f[x][i]\n",
    "            y=f[y][i]\n",
    "    return f[x][0]\n",
    "for i in range (m):\n",
    "    t = stdin.readline().split()\n",
    "    x,y = [int(x) for x in t]\n",
    "    a[x-1].append(y-1)\n",
    "    c[x-1].append(0)\n",
    "    cha[y-1] = cha[y-1] + 1\n",
    "s = -1\n",
    "for i in range(n):\n",
    "    if (cha[i] == 0):\n",
    "        if (s != -1):\n",
    "            print(\"No\")\n",
    "            exit()\n",
    "        s = i\n",
    "#print(s)\n",
    "if (s == -1):\n",
    "    print(\"No\")\n",
    "    exit()\n",
    "for i in range(n):\n",
    "    cha[i] = -1\n",
    "cha[s] = -2\n",
    "dfs(s)\n",
    "for i in range(n):\n",
    "    if (cha[i] == -1):\n",
    "        print(\"No\")\n",
    "        exit()\n",
    "for i in range(n):\n",
    "    f[i].append(cha[i])\n",
    "for j in range(1,22):\n",
    "    for i in range(n):\n",
    "        f[i].append(f[f[i][j-1]][j-1])\n",
    "for i in range(n):\n",
    "    for j in range(len(a[i])):\n",
    "        if c[i][j] == 0:\n",
    "            #print(i,a[i][j])\n",
    "            if  lca(a[i][j],i) != i:\n",
    "                cha[a[i][j]] = i\n",
    "for i in range(n):\n",
    "    for j in range(len(c[i])):\n",
    "        c[i][j] = 0\n",
    "dfs2(s)\n",
    "for i in range(n):\n",
    "    f[i][0] = cha[i]\n",
    "for j in range(1,22):\n",
    "    for i in range(n):\n",
    "        f[i][j] = f[f[i][j-1]][j-1]\n",
    "for i in range(n):\n",
    "    for j in range(len(a[i])):\n",
    "        #print(i,a[i][j],c[i][j])\n",
    "        if c[i][j] == 0:\n",
    "            if  lca(a[i][j],i) != i:\n",
    "                print(\"No\")\n",
    "                exit()\n",
    "print(\"Yes\")\n",
    "for i in cha:\n",
    "    print(i+1,end = ' ')"
   ]
  },
  {
   "source": [
    "## 5. Result:"
   ],
   "cell_type": "markdown",
   "metadata": {}
  },
  {
   "source": [],
   "cell_type": "markdown",
   "metadata": {}
  },
  {
   "source": [
    "# Kết quả Wecode"
   ],
   "cell_type": "markdown",
   "metadata": {}
  },
  {
   "source": [
    "![image.png](data:image/png;base64,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)"
   ],
   "cell_type": "markdown",
   "metadata": {}
  }
 ],
 "metadata": {
  "kernelspec": {
   "display_name": "Python 3",
   "language": "python",
   "name": "python3"
  },
  "language_info": {
   "codemirror_mode": {
    "name": "ipython",
    "version": 3
   },
   "file_extension": ".py",
   "mimetype": "text/x-python",
   "name": "python",
   "nbconvert_exporter": "python",
   "pygments_lexer": "ipython3",
   "version": "3.8.5"
  }
 },
 "nbformat": 4,
 "nbformat_minor": 4
}