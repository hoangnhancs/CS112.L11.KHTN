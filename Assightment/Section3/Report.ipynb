{
 "cells": [
  {
   "cell_type": "markdown",
   "metadata": {
    "id": "k-7xiluQOR2B"
   },
   "source": [
    "[![Open In Colab](https://colab.research.google.com/assets/colab-badge.svg)](https://colab.research.google.com/github/hoangnhancs/CS112.L11.KHTN/blob/master/Section3/Report.ipynb)   \n",
    "If it doesn't redirect into new tab, please use `ctrl` + click or `cmd` + click(for mac user)   \n",
    "![](https://i.postimg.cc/k445hYdx/logo-uit.png)"
   ]
  },
  {
   "cell_type": "markdown",
   "metadata": {
    "id": "36g5bKXdOR2D"
   },
   "source": [
    "<link rel=\"stylesheet\" href=\"https://stackpath.bootstrapcdn.com/font-awesome/4.7.0/css/font-awesome.min.css\" integrity=\"sha384-wvfXpqpZZVQGK6TAh5PVlGOfQNHSoD2xbE+QkPxCAFlNEevoEH3Sl0sibVcOQVnN\" crossorigin=\"anonymous\">\n",
    "<script src='https://cdnjs.cloudflare.com/ajax/libs/mathjax/2.7.5/MathJax.js?config=TeX-MML-AM_CHTML' async></script>\n",
    "\n",
    "<h1>N004's MEMBERS</h1>\n",
    "<div style=\"display:flex; width:100%\">\n",
    "        <div style=\"width:20%;margin: 0px auto\">\n",
    "            <h1>Thái Hoàng Nhân<br> 18521182 <br /> Leader </h1>\n",
    "            <details>\n",
    "                <summary>Image</summary>\n",
    "                <img style=\"width:100%\"\n",
    "                    src=\"https://raw.githubusercontent.com/hoangnhancs/CS112.L11.KHTN/master/resources/images/HoangNhan.png\">\n",
    "            </details>\n",
    "        </div>\n",
    "        <br>\n",
    "        <div style=\"width:20% ;margin:0px auto\">\n",
    "            <h1>Lưu Hoàng Sơn<br>18521348 <br /> Member</h1>\n",
    "            <details>\n",
    "                <summary>Image</summary>\n",
    "                <img style=\"width:100%\"\n",
    "                    src=\"https://raw.githubusercontent.com/hoangnhancs/CS112.L11.KHTN/master/resources/images/HoangSon.png\">\n",
    "            </details>\n",
    "        </div>\n",
    "        <br>\n",
    "        <div style=\"width:20%; margin:0px auto\">\n",
    "            <h1>Đào Thị Thu Nga<br> 18521135 <br /> Member </h1>\n",
    "            <details>\n",
    "                <summary>Image</summary>\n",
    "                <img style=\"width:100%\"\n",
    "                    src=\"https://raw.githubusercontent.com/hoangnhancs/CS112.L11.KHTN/master/resources/images/ThuNga.png\">\n",
    "            </details>\n",
    "        </div>\n",
    "    </div>\n",
    "\n",
    "<hr>\n",
    "<p>For Contact</p>\n",
    "<p>Thái Hoàng Nhân: 18521182@gm.uit.edu.vn or <a href=\"https://github.com/hoangnhancs\">github</a> or <a href=\"https://www.facebook.com/profile.php?id=100027617961231\">facebook</a></p>\n",
    "<p>Lưu Hoàng Sơn: 18521348@gm.uit.edu.vn or <a href=\"https://github.com/sonlhcsuit\">github</a> or <a href=\"https://www.facebook.com/sjIv3r\">facebook</a></p>\n",
    "<p>Đào Thị Thu Nga: 18521135@gm.uit.edu.vn or <a href=\"https://github.com/DAOTHITHUNGA\">github</a> or <a href=\"https://www.facebook.com/vonguocmo03092000\">facebook</a></p>"
   ]
  },
  {
   "cell_type": "markdown",
   "metadata": {
    "id": "dWDMZCZQOR2F"
   },
   "source": [
    "# H-index\n",
    "Làm thế nào để đánh giá sự thành công của một nhà khoa học?  Dựa vào số bài báo được công bố hay dựa vào số lần một bài báo được trích dẫn tới ở công trình của những người khác? Cả hai tham số đó đều quan trọng.\n",
    "\n",
    "Một bài báo có điểm số trích dẫn là c nếu nó được trích dẫn tới c lần trong các công trình của những nhà khoa học khác. Một trong số các cách đánh giá sự thành công của một nhà khoa học là tính chỉ số ảnh hưởng H_Index dựa trên sự kết hợp giữa số lượng bài báo và chỉ số trích dẫn của các bài báo đó.\n",
    "\n",
    "Chỉ số H_Indexcủa một nhà khoa học bằng k lớn nhất nếu người đó có k bài báo, mỗi bài có điểm số trích dẫn không nhỏ hơn k. Ví dụ, một người có 10 bài báo, mỗi bài báo được trích dẫn không dưới 10 lần thì H_Index của người đó ít nhất là bằng 10.\n",
    "\n",
    "Một người có n bài báo, bài báo thứ i có điểm trích dẫn là $c_i$, $i = 1 ÷ n$. Hãy xác định H_Index của người đó.\n",
    "\n",
    "Dữ liệu: Vào từ thiết bị nhập chuẩn:\n",
    "\n",
    "- Dòng đầu tiên chứa một số nguyên $n$ ($1 \\le n \\le 5*10^5$),\n",
    "- Dòng thứ 2 chứa n số nguyên $c_1, c_2, . . ., c_n (0 \\le c_i \\le 10^6, i = 1 ÷ n)$.\n",
    "\n",
    "Kết quả: \n",
    "- Đưa ra thiết bị xuất chuẩn một số nguyên – H_Index tìm được.\n",
    "\n",
    "\n",
    "|INPUT       |OUTPUT  |\n",
    "|------------|--------|\n",
    "|5           |4       |\n",
    "|8 5 3 4 10  |        |\n"
   ]
  },
  {
   "cell_type": "markdown",
   "metadata": {
    "id": "U1rXgmRSOR2G"
   },
   "source": [
    "## 1. Abstraction\n",
    "Tìm số k sao cho có k phần tử trong dãy lớn hơn hoặc bằng k   \n",
    "Ràng buộc: \n",
    "- $n$ ($1 \\le n \\le 5*10^5$),\n",
    "- $c_1, c_2, . . ., c_n (0 \\le c_i \\le 10^6, i = 1 ÷ n)$."
   ]
  },
  {
   "cell_type": "markdown",
   "metadata": {
    "id": "Y4rhWfJbOR2H"
   },
   "source": [
    "## 2. Pattern Recognition"
   ]
  },
  {
   "cell_type": "markdown",
   "metadata": {
    "id": "UYUKhXd5OR2I"
   },
   "source": [
    "### 1. Giải thuật 1 \n",
    "Gọi dãy $A$ là dãy gồm các phần tử chỉ số lượng trích dẫn của bài báo. Thực hiện sắp xếp sau đó bắt đầu duyệt từ phần tử $A_0$.    \n",
    "Tại mỗi vị trí thứ $i$ ta so sánh xem số lượng phần tử còn lại nhỏ hơn vị trí có giá trị phần tử tại vị trí thứ $i$ hay không.   \n",
    "Nếu có thì đó chính là $k$. Độ phức tạp của giải thuật này là:   \n",
    "- **Time complexity**: $O(n \\log n)$"
   ]
  },
  {
   "cell_type": "markdown",
   "metadata": {
    "id": "DKodqyouOR2K"
   },
   "source": [
    "## 3. Design Algorithms\n",
    "Bài này thuật toán khá đơn giản, nên ta có thể cài đặt ngay "
   ]
  },
  {
   "cell_type": "markdown",
   "metadata": {
    "id": "eG2HVpSVOR2L"
   },
   "source": [
    "## 4. Implement"
   ]
  },
  {
   "cell_type": "code",
   "execution_count": 4,
   "metadata": {
    "id": "arQS0PLZOR2M",
    "outputId": "0b6cec3c-6bb0-4506-83ba-d77e4e01b85b"
   },
   "outputs": [
    {
     "name": "stdin",
     "output_type": "stream",
     "text": [
      " 5\n",
      " 8 5 3 4 10\n"
     ]
    },
    {
     "name": "stdout",
     "output_type": "stream",
     "text": [
      "4\n"
     ]
    }
   ],
   "source": [
    "n = int(input())\n",
    "arr = list(map(int,input().split(' ')))\n",
    "def H_index(citations): \n",
    "    citations.sort() \n",
    "    for i in range(0,len(citations)) : \n",
    "        result = len(citations) - i \n",
    "        if result <= citations[i]: \n",
    "            return result \n",
    "           \n",
    "    return 0\n",
    "# citation = [50, 40, 33, 23, 12, 11, 8, 5, 1, 0] \n",
    "\n",
    "print(H_index(arr)) "
   ]
  },
  {
   "cell_type": "markdown",
   "metadata": {
    "id": "zIxnDPXxOR2W"
   },
   "source": [
    "# Water Supply (Hệ thống cấp nước)\n",
    "Vùng đất diệu kỳ Wonderland có N hộ gia đình đã được trang bị một hệ thống cung cấp nước sạch đến từng ngôi nhà. Mỗi đường ống nối trực tiếp 2 nhà, nước chảy trong đường ống theo 2 chiều, có thể truyền qua nhiều trung gian trước khi đến một nhà nào đó. Trong hồ sơ lưu trữ, các ngôi nhà được ghi số từ $1$ đến $N$.\n",
    "\n",
    "Một trận động đất đã gây nên sự cố nghiêm trọng làm cho cả vùng bị chia cắt thành nhiều khu vực rời nhau, không còn tiếp cận được với nguồn nước. Để khắc phục, những người có trách nhiệm đã khảo sát hiện trạng và ghi nhận được toàn vùng đất đang thảm họa vẫn còn $M$ đường ống đang hoạt động tốt.\n",
    "\n",
    "Nhiệm vụ đặt ra là phải khôi phục hệ thống cấp nước bằng cách lắp thêm một số đường ống. Tuy nhiên, do hạn chế về thời gian và kinh phí nên đòi hỏi phương án khôi phục phải được thực hiện với ít đường ống được lắp thêm nhất. Câu hỏi đặt ra: cần lắp thêm ít nhất bao nhiêu đường ống để hệ thống cấp nước có thể đưa nước đến từng ngôi nhà. Câu hỏi phụ: có bao nhiêu phương án khác nhau đáp ứng yêu cầu; số phương án có thể khá lớn nên chỉ cần đưa ra số dư khi chia cho $10^9+7$.\n",
    "\n",
    "Dữ liệu: Vào từ thiết bị nhập chuẩn:\n",
    "\n",
    "- Dòng đầu tiên chứa 2 số nguyên $N, M (1 \\le N, M  \\le 10^5)$\n",
    "\n",
    "- Mỗi dòng trong M dòng tiếp theo chứa 2 số nguyên $a, b (1 \\le a,  b \\le N)$. cho biết vẫn còn đường ống nối nhà $a$ với nhà $b$\n",
    "\n",
    "Kết quả: \n",
    "\n",
    "- Đưa ra thiết bị xuất chuẩn số đường ống cần được lắp thêm và số phương án đáp ứng yêu cầu (theo mô đun $10^9+7$) mỗi số trên một dòng.\n",
    "\n",
    "Dữ liệu mẫu:\n",
    "\n",
    "|INPUT     | OUTPUT |\n",
    "|----------|--------|\n",
    "|3 1       |       1|\n",
    "|1 2       |       2|\n",
    "\n",
    " \n",
    "\n",
    "\n",
    "\n"
   ]
  },
  {
   "cell_type": "markdown",
   "metadata": {
    "id": "DRMqYfjGOR2Y"
   },
   "source": [
    "### 1. Abstraction\n",
    "\n",
    "Từ bài toán trên, ta có thể nhận thấy rằng ta sử dụng đồ thị để giải quyết bài toán này là một cách hợp lý.   \n",
    "\n",
    "Xét mỗi nhà là một đỉnh, mỗi đường nối là một cạnh. Như vậy thì ta có thể xây dựng một đồ thị. Tuy nhiên sau khi có động đất xảy ra thì đồ thị \n",
    "của chúng ta chỉ còn một vài cạnh (có thể làm cho đồ thị đang là đồ thị liên thông trở thành đồ thị không liên thông). \n",
    "\n",
    "Như vậy bài toán có thể được phát biểu gọn lại thành: Tìm số cách nối các cụm không liên thông trở thành đồ thị liên thông \n",
    "\n",
    "<!-- Đưa bài toán về : Tìm cây khung nhỏ nhất trong lí thuyết đồ thị. -->\n",
    "<img src=\"https://raw.githubusercontent.com/hoangnhancs/CS112.L11.KHTN/master/resources/images/section3_Water_supply_pic1.png\">\n"
   ]
  },
  {
   "cell_type": "markdown",
   "metadata": {
    "id": "PG4AiGiUOR2Z"
   },
   "source": [
    "## 2. Decomposition & Pattern Recognition\n",
    "Đối với bài toán này thì các thành viên chưa từng gặp bao giờ nên sẽ bắt đầu với phân tích, chia nhỏ vấn đề và thiết kế thuật toán để giải quyết. Mục tiêu chính là sử dụng đồ thị \n",
    "\n",
    "Từ input đầu vào thì chúng ta có thể xây dựng đồ thị cơ bản ( 1 đồ thị không liên thông). Tiếp đó có thể sử dụng một vài kỹ thuật duyệt như là DFS, BFS,.. để tìm các cụm không liên thông. Sau đó tìm tất cả các cách nối các cụm này lại với nhau. Chẳng hạn như hình    \n",
    "\n",
    "<img src=\"https://raw.githubusercontent.com/hoangnhancs/CS112.L11.KHTN/master/resources/images/section3_Water_supply_pic1.png\">\n",
    "\n",
    "#### 1. Lưu đồ thị \n",
    "\n",
    "Có khá nhiều cách để lưu đồ thị, nhưng cách hợp lý nhất mà nhóm mình nghĩ tới là lưu danh sách đỉnh kề sẽ hiệu quả.\n",
    "\n",
    "#### 2. Duyệt đồ thị\n",
    "\n",
    "Mục tiêu của việc duyệt đồ thị là tìm ra các cụm không liên thông( tất nhiên là cụm sẽ luôn luôn liên thông ) và số lượng đỉnh của cụm. Sau đó chúng ta tìm cách nối các cụm không liên thông lại với nhau để trở thành đồ thị liên thông (đáp ứng yêu cầu đề bài) .\n"
   ]
  },
  {
   "cell_type": "markdown",
   "metadata": {
    "id": "uKXKbUDrOR2a"
   },
   "source": [
    "## 3. Design algorithms \n",
    "\n",
    "### Lưu đồ thị\n",
    "Lấy ví dụ là đồ thị có sẵn thì ta sẽ sử dụng input mẫu như sau\n",
    "hoặc để tiện theo dạng input là số thì có convert sang dạng số ở đây. Tuy nhiên để dễ minh họa thì mình vẫn sẽ dùng kí tự \n",
    "a b  \n",
    "a c  \n",
    "b c  \n",
    "d e  \n",
    "e f  \n",
    "g h  \n",
    "g l  \n",
    "h j  \n",
    "h i   \n",
    "i j   "
   ]
  },
  {
   "cell_type": "code",
   "execution_count": 3,
   "metadata": {},
   "outputs": [
    {
     "name": "stdout",
     "output_type": "stream",
     "text": [
      "{'a': ['b', 'c'], 'b': ['a', 'c'], 'c': ['a', 'b'], 'd': ['e'], 'e': ['d', 'f'], 'f': ['e'], 'g': ['h', 'l'], 'h': ['g', 'j', 'i'], 'i': ['h', 'j'], 'j': ['h', 'i'], 'k': [], 'l': ['g']}\n"
     ]
    }
   ],
   "source": [
    "# chúng ta biết rằng sẽ có chắc chắn từ 1 - N đỉnh hoặc đơn giản hơn là 12 đỉnh từ a tới k \n",
    "# mở file để thử cho dễ \n",
    "f = open('sample.txt')\n",
    "lines = f.readlines()\n",
    "# đọc từ stdin\n",
    "\n",
    "# n = int(input())\n",
    "# lines = []\n",
    "# for i in range(0,n):\n",
    "#     lines.append(input())\n",
    "    \n",
    "    \n",
    "# setup\n",
    "vertexes = 'abcdefghijkl'\n",
    "edges = {vertexes[x]:[] for x in range(0,len(vertexes))}\n",
    "for line in lines:\n",
    "    line = line.replace('\\n','')\n",
    "    vertex_original,vertex_destination = line.split(' ')\n",
    "    edges[vertex_destination].append(vertex_original)\n",
    "    edges[vertex_original].append(vertex_destination)\n",
    "print(edges)"
   ]
  },
  {
   "cell_type": "markdown",
   "metadata": {},
   "source": [
    "### Duyệt đồ thị\n",
    "Chúng ta sẽ duyệt đồ thị để tìm, phân cụm đồ thị. Chúng ta sẽ sử dụng thuật toán Breadth First Search(BFS). Lí do chọn thuật toán này là bởi vì thuật toán này phù hợp hơn là Deep First Search (DFS)\n"
   ]
  },
  {
   "cell_type": "code",
   "execution_count": 15,
   "metadata": {},
   "outputs": [
    {
     "name": "stdout",
     "output_type": "stream",
     "text": [
      "[['a', 'c', 'b'], ['d', 'e', 'f'], ['g', 'l', 'h', 'i', 'j'], ['k']]\n"
     ]
    }
   ],
   "source": [
    "discover = []\n",
    "def BFS(root):\n",
    "    # return a cluster\n",
    "    queue = []\n",
    "    cluster = []\n",
    "    if root in discover:\n",
    "        return None\n",
    "    queue.append(root)\n",
    "    i = 0\n",
    "    while queue:\n",
    "        node = queue.pop()\n",
    "        if node not in discover:\n",
    "            if node not in cluster:\n",
    "                cluster.append(node)\n",
    "                discover.append(node)\n",
    "            adjacents = edges[node]\n",
    "            queue = queue+adjacents\n",
    "        if i == 20:\n",
    "            break\n",
    "        i+=1\n",
    "    return cluster\n",
    "\n",
    "def find_cluster(edges,vertexes):\n",
    "    clusters = []\n",
    "    for vertex in vertexes:\n",
    "        cluster = BFS(vertex)\n",
    "        if cluster is None:\n",
    "            continue\n",
    "        else:\n",
    "            clusters.append(cluster)\n",
    "    return clusters\n",
    "cl = find_cluster(edges,vertexes)\n",
    "print(cl)"
   ]
  },
  {
   "cell_type": "markdown",
   "metadata": {},
   "source": [
    "### Tính toán tất cả các cách lắp đặt \n",
    "Công thức này tham khảo từ nguồn : <a href=\"https://cp-algorithms.com/graph/pruefer_code.html#toc-tgt-8\" target=\"blank\">link</a>"
   ]
  },
  {
   "cell_type": "code",
   "execution_count": 13,
   "metadata": {},
   "outputs": [
    {
     "name": "stdout",
     "output_type": "stream",
     "text": [
      "6480\n"
     ]
    }
   ],
   "source": [
    "cluster_lengths = list(map(len,cl))\n",
    "\n",
    "def calculate(clusters,size):\n",
    "    anw = 0\n",
    "    if len(clusters) > 1:\n",
    "        base = int(1e9 + 7)\n",
    "        anw = 1\n",
    "        anw2 = 1\n",
    "        for _ in range(len(clusters) - 2):\n",
    "            anw2 = (anw2*size) % base\n",
    "        for x in clusters:\n",
    "            anw = (anw * x) % base\n",
    "        anw = anw * anw2 % base\n",
    "    return anw\n",
    "print(calculate(cluster_lengths,12))"
   ]
  },
  {
   "cell_type": "markdown",
   "metadata": {
    "id": "VmPmi3hWOR2b"
   },
   "source": [
    "## 4. Implement"
   ]
  },
  {
   "cell_type": "code",
   "execution_count": 36,
   "metadata": {},
   "outputs": [
    {
     "name": "stdout",
     "output_type": "stream",
     "text": [
      "3\n",
      "6480\n"
     ]
    }
   ],
   "source": [
    "# chúng ta biết rằng sẽ có chắc chắn từ 1 - N đỉnh hoặc đơn giản hơn là 12 đỉnh từ a tới k\n",
    "# mở file để thử cho dễ\n",
    "\n",
    "# f = open('sample_input.txt')\n",
    "# lines = f.readlines()\n",
    "# n,m = map(int,lines[0].split(' '))\n",
    "# lines =lines[1:]\n",
    "\n",
    "\n",
    "# đọc từ stdin\n",
    "\n",
    "n, m = map(int, input().split())\n",
    "lines = []\n",
    "for i in range(0, m):\n",
    "    lines.append(input())\n",
    "\n",
    "# setup\n",
    "\n",
    "edges = {x: [] for x in range(1, n + 1)}\n",
    "\n",
    "for line in lines:\n",
    "    line = line.replace('\\n', '')\n",
    "    vertex_original, vertex_destination = map(int, line.split(' '))\n",
    "    #     print([vertex_original,vertex_destination])\n",
    "    edges[vertex_destination].append(vertex_original)\n",
    "    edges[vertex_original].append(vertex_destination)\n",
    "\n",
    "# print(edges)\n",
    "\n",
    "\n",
    "discover = []\n",
    "\n",
    "\n",
    "def BFS(root):\n",
    "    # return a cluster\n",
    "    queue = []\n",
    "    cluster = []\n",
    "    if root in discover:\n",
    "        return None\n",
    "    queue.append(root)\n",
    "    while queue:\n",
    "        node = queue.pop()\n",
    "        if node not in discover:\n",
    "            if node not in cluster:\n",
    "                cluster.append(node)\n",
    "                discover.append(node)\n",
    "            adjacents = edges[node]\n",
    "            queue = queue + adjacents\n",
    "    return cluster\n",
    "\n",
    "\n",
    "def find_clusters(edges, vertexes):\n",
    "    clusters = []\n",
    "    for vertex in vertexes:\n",
    "        cluster = BFS(vertex)\n",
    "        if cluster is None:\n",
    "            continue\n",
    "        else:\n",
    "            clusters.append(cluster)\n",
    "    return clusters\n",
    "\n",
    "\n",
    "clusters = find_clusters(edges, range(1, n + 1))\n",
    "# print(clusters)\n",
    "cluster_lengths = list(map(len, clusters))\n",
    "\n",
    "\n",
    "def calculate(clusters, size):\n",
    "    anw = 0\n",
    "    if len(clusters) > 1:\n",
    "        base = int(1e9 + 7)\n",
    "        anw = 1\n",
    "        anw2 = 1\n",
    "        for _ in range(len(clusters) - 2):\n",
    "            anw2 = (anw2 * size) % base\n",
    "        for x in clusters:\n",
    "            anw = (anw * x) % base\n",
    "        anw = anw * anw2 % base\n",
    "    return anw\n",
    "\n",
    "\n",
    "print(len(clusters) - 1)\n",
    "print(calculate(cluster_lengths, n))"
   ]
  }
 ],
 "metadata": {
  "colab": {
   "name": "Report.ipynb",
   "provenance": []
  },
  "kernelspec": {
   "display_name": "Python 3",
   "language": "python",
   "name": "python3"
  },
  "language_info": {
   "codemirror_mode": {
    "name": "ipython",
    "version": 3
   },
   "file_extension": ".py",
   "mimetype": "text/x-python",
   "name": "python",
   "nbconvert_exporter": "python",
   "pygments_lexer": "ipython3",
   "version": "3.8.5"
  }
 },
 "nbformat": 4,
 "nbformat_minor": 4
}
