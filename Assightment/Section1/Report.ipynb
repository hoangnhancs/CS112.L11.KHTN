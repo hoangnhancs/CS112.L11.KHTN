{
 "cells": [
  {
   "cell_type": "markdown",
   "metadata": {},
   "source": [
    "[![Open In Colab](https://colab.research.google.com/assets/colab-badge.svg)](https://colab.research.google.com/github/hoangnhancs/CS112.L11.KHTN/blob/master/Section1/Report.ipynb)   \n",
    "If it doesn't redirect into new tab, please use `ctrl` + click or `cmd` + click(for mac user)   \n",
    "![](https://i.postimg.cc/k445hYdx/logo-uit.png)"
   ]
  },
  {
   "cell_type": "markdown",
   "metadata": {},
   "source": [
    "<link rel=\"stylesheet\" href=\"https://stackpath.bootstrapcdn.com/font-awesome/4.7.0/css/font-awesome.min.css\" integrity=\"sha384-wvfXpqpZZVQGK6TAh5PVlGOfQNHSoD2xbE+QkPxCAFlNEevoEH3Sl0sibVcOQVnN\" crossorigin=\"anonymous\">\n",
    "<script src='https://cdnjs.cloudflare.com/ajax/libs/mathjax/2.7.5/MathJax.js?config=TeX-MML-AM_CHTML' async></script>\n",
    "\n",
    "<h1>N004's MEMBERS</h1>\n",
    "<div style=\"display:flex; width:100%\">\n",
    "        <div style=\"width:20%;margin: 0px auto\">\n",
    "            <h1>Thái Hoàng Nhân<br> 18521182 <br /> Leader </h1>\n",
    "            <details>\n",
    "                <summary>Image</summary>\n",
    "                <img style=\"width:100%\"\n",
    "                    src=\"https://raw.githubusercontent.com/hoangnhancs/CS112.L11.KHTN/master/resources/images/HoangNhan.png\">\n",
    "            </details>\n",
    "        </div>\n",
    "        <br>\n",
    "        <div style=\"width:20% ;margin:0px auto\">\n",
    "            <h1>Lưu Hoàng Sơn<br>18521348 <br /> Member</h1>\n",
    "            <details>\n",
    "                <summary>Image</summary>\n",
    "                <img style=\"width:100%\"\n",
    "                    src=\"https://raw.githubusercontent.com/hoangnhancs/CS112.L11.KHTN/master/resources/images/HoangSon.png\">\n",
    "            </details>\n",
    "        </div>\n",
    "        <br>\n",
    "        <div style=\"width:20%; margin:0px auto\">\n",
    "            <h1>Đào Thị Thu Nga<br> 18521135 <br /> Member </h1>\n",
    "            <details>\n",
    "                <summary>Image</summary>\n",
    "                <img style=\"width:100%\"\n",
    "                    src=\"https://raw.githubusercontent.com/hoangnhancs/CS112.L11.KHTN/master/resources/images/ThuNga.png\">\n",
    "            </details>\n",
    "        </div>\n",
    "    </div>\n",
    "\n",
    "<hr>\n",
    "<p>For Contact</p>\n",
    "<p>Thái Hoàng Nhân: 18521182@gm.uit.edu.vn or <a href=\"https://github.com/hoangnhancs\">github</a> or <a href=\"https://www.facebook.com/profile.php?id=100027617961231\">facebook</a></p>\n",
    "<p>Lưu Hoàng Sơn: 18521348@gm.uit.edu.vn or <a href=\"https://github.com/sonlhcsuit\">github</a> or <a href=\"https://www.facebook.com/sjIv3r\">facebook</a></p>\n",
    "<p>Đào Thị Thu Nga: 18521135@gm.uit.edu.vn or <a href=\"https://github.com/DAOTHITHUNGA\">github</a> or <a href=\"https://www.facebook.com/vonguocmo03092000\">facebook</a></p>"
   ]
  },
  {
   "cell_type": "markdown",
   "metadata": {},
   "source": [
    "# BOT   \n",
    "BOT (Built-Operation-Transfer, có nghĩa: Xây dựng-Vận hành-Chuyển giao) là hình thức Chính phủ kêu gọi các công ty bỏ vốn xây dựng trước (Built) thông qua đấu thầu, sau đó khai thác vận hành một thời gian (Operation) và sau cùng là chuyển giao ( Transfer) lại cho nhà nước sở tại. Đường cao tốc xuyên quốc gia được xây dựng theo hình thức BOT. Công ty Đa quốc gia Modern Highway trúng thầu, chia toàn bộ con đường thành n đoạn. Theo tính toán của Công ty sau khi chuyển giao con đường cho chính phủ sở tại quản lý thì lãi thu được ở đoạn đường thứ i là ai, ai có thể dương, âm hoặc bằng 0, tức là với từng đoạn con có thể lãi, lỗ hoặc hòa vốn. Từng nhóm các đoạn đường liên tiếp nhau (gọi tắt là khoảng) được chia cho các công ty con thực hiện. Công ty con ASEAM Highway hiện đang có trụ sở ở nước sở tại được quyền chọn trước khoảng tùy ý (có thể là cả con đường). Dĩ nhiên Ban Giám đốc ASEAM Highway muốn chọn khoảng bắt đầu từ đoạn p đến hết đoạn q mang lại\n",
    "lợi nhuận cao nhất hoặc lỗ ít nhất nếu không có khoảng nào cho lãi. Hãy chỉ ra khoảng cần chọn và lãi thu được. Nếu có nhiều cách chọn thì chỉ ra cách chọn có p nhỏ nhất.\n",
    "\n",
    "\n",
    "Dữ liệu: Vào từ thiết bị nhập chuẩn:  \n",
    "- Dòng đầu tiên chứa số nguyên n (1 ≤ n ≤ 106)\n",
    "- Dòng thứ 2 chứa n số nguyên a1, a2, . . ., an (0 ≤ |ai| ≤ 109 , i = 1 ÷ n)\n",
    "\n",
    "Kết quả: Đưa ra thiết bị xuất chuẩn trên một dòng 2 số nguyên p, q và lãi thu được.  \n",
    "\n",
    "Ví dụ:  \n",
    "\n",
    "\n",
    "|INPUT                                   |OUTPUT       |\n",
    "|----------------------------------------|-------------|\n",
    "|16                                      |5 15 12      |\n",
    "|2 -4 5 -8 4 -1 -1 1 1 1 -2 2 4 -6 9 -4  |             |"
   ]
  },
  {
   "cell_type": "markdown",
   "metadata": {},
   "source": [
    "# 1. Abstraction\n",
    "Tìm vị trí p, q và tổng các phần tử từ vị trí p đến q của dãy a sao cho tổng đó là lớn nhất.   \n",
    "Toán học: Tìm $p,q \\text{ }(1 \\le p \\le q \\le n)$ và $\\sum_{i=p}^{q}a_{i}$ sao cho $\\sum_{i=p}^{q}a_{i}$ lớn nhất. Nếu có nhiều cách chọn thì chọn $p$ nhỏ nhất.\n",
    "\n",
    "## Constraint \n",
    "- Máy tính để kiểm tra thuật toán là core i3 ($10^7$ operation per second)\n",
    "- Độ dài dãy $a$ ($n$) không được nhiều hơn $10^6$ ( $0 \\le n\\le 10^6$ )\n",
    "- Mỗi phần tử thứ $i$ của dãy $a$ không được vượt quá $10^9$ ( $0 \\le a_i \\le 10^9$ )\n"
   ]
  },
  {
   "cell_type": "markdown",
   "metadata": {
    "tags": []
   },
   "source": [
    "# 2. Pattern Recognition   \n",
    "1. Thuật toán 1 (Brute Force) : $O(n^3)$\n",
    "> Sử dụng một hàm gọi là S(x,y) để tìm được giá trị tổng từ vị trí thứ x tới vị trí thứ y. Độ phức tạp khi tính toán giá trị S(x,y) là $O(n)$  \n",
    "> $SFrag(x,y) = \\Sigma_{i=x}^y a_i$ $( 1 \\le x \\le y \\le n )$ \n",
    "> Sau đó dò hết tất cả tổ hợp có thể của p và q để tìm ra tất cả giá trị của đoạn p q. $O(n^2)$\n",
    "\n",
    "Theo quy tắc nhân thì độ phức tạp thuật toán là $O(n^3)$"
   ]
  },
  {
   "cell_type": "code",
   "execution_count": 37,
   "metadata": {},
   "outputs": [
    {
     "name": "stdout",
     "output_type": "stream",
     "text": [
      "5 15 12\n"
     ]
    }
   ],
   "source": [
    "def sum_frag(seq,a,b):\n",
    "    sum_value = 0\n",
    "    for x in range(a,b+1):\n",
    "        sum_value += seq[x]\n",
    "    return sum_value\n",
    "\n",
    "def brute_force(seq,n):\n",
    "    all_value = []\n",
    "    for p in range(0,n):\n",
    "        for q in range(p,n):\n",
    "            all_value.append({\n",
    "                'p':p,\n",
    "                'q':q,\n",
    "                'value':sum_frag(seq,p,q)\n",
    "            })\n",
    "    \n",
    "    return max(all_value,key= lambda x:x['value'])\n",
    "    \n",
    "n = 16\n",
    "sequence = [ 2, -4, 5, -8, 4, -1, -1, 1, 1, 1, -2, 2, 4, -6, 9, -4]\n",
    "answer = brute_force(sequence,n)\n",
    "print(answer['p']+1,answer['q']+1,answer['value'])"
   ]
  },
  {
   "cell_type": "markdown",
   "metadata": {},
   "source": [
    "2. Thuật toán 2 (Brute Force) sử dụng kỹ thuật PrefixSum: $O(n^2)$  \n",
    "> Thay vì sử dụng hàm gọi là S(x,y) để tìm giá trị tổng từ x tới y thì ta sử dụng một hàm gọi là Prefix_Sum(y) để tính tổng từ vị trí thứ nhất tới vị trí thứ y \n",
    "> $Prefix(y) = \\Sigma_{i=1}^y a_i$ $( 1 \\le y \\le n )$  \n",
    "> Đối với kỹ thuật này ta có thể tính riêng từng giá trị và dùng một mảng khác để lưu trữ. Như vậy thì sẽ tiết kiệm được chi phí không cần phải tính toán lại. \n",
    "Độ phức tạp khi cần tính toán giá trị Prefix(y) là $O(1)$  \n",
    "> Như vậy thì chúng ta có thể tính toán tổng từ vị trí thứ x tới vị trí thứ y bằng cách $SFrag(x,y) = Prefix(y) - Prefix(x-1)$ \n",
    "\n",
    "Theo quy tắc cộng thì thuật toán này có độ phức tạp là $O(n^2)$"
   ]
  },
  {
   "cell_type": "code",
   "execution_count": 63,
   "metadata": {},
   "outputs": [
    {
     "name": "stdout",
     "output_type": "stream",
     "text": [
      "5 15 12\n"
     ]
    }
   ],
   "source": [
    "def brute_force(seq,n):\n",
    "    all_value = []\n",
    "    prefix = [0]*n\n",
    "    prefix[0]=seq[0]\n",
    "    for i in range(1,n):\n",
    "        prefix[i]=prefix[i-1]+seq[i]\n",
    "#     print(prefix)\n",
    "#     print(seq)\n",
    "    for p in range(0,n):\n",
    "        for q in range(p,n):\n",
    "            all_value.append({\n",
    "                'p':p,\n",
    "                'q':q,\n",
    "                'value':prefix[q]-prefix[p-1] #the sum include p \n",
    "            })\n",
    "    \n",
    "    return max(all_value,key= lambda x:x['value'])\n",
    "    \n",
    "    \n",
    "n = 16\n",
    "sequence = [ 2, -4, 5, -8, 4, -1, -1, 1, 1, 1, -2, 2, 4, -6, 9, -4]\n",
    "answer = brute_force(sequence,n)\n",
    "print(answer['p']+1,answer['q']+1,answer['value'])"
   ]
  },
  {
   "cell_type": "markdown",
   "metadata": {},
   "source": [
    "3. Thuật toán 3 (Dynamic Programing):\n",
    "> Sử dụng thuật toán kadane để tìm dãy con lớn nhất. Ý tưởng cơ bản của thuật là tìm cụm số nguyên dương tổng lớn nhất (có thể có một vài số âm nhưng nhỏ không ảnh hưởng)  \n",
    "> Mỗi khi đi qua một phần tử, sẽ luôn cập nhật 2 giá trị cơ bản là: \n",
    "> - max_sum_present: Dùng để thể hiện tổng mảng con lớn nhất tại thời điểm hiện tại (bao gồm chính nó)  \n",
    "> - max_sum_ending_at: Dùng để thể hiện tổng mảng con kết thúc tại vị trí phần tử đó (bao gồm chính nó)  \n",
    ">   \n",
    "> Đồng thời so sánh xem: max_sum_ending_at > max_sum_present  \n",
    "> Nếu có thì cập lại 2 giá trị p,q, sau đó tiếp tục tăng giá trị max_sum_ending_at bằng đúng phần tử tại vị trí đó \n",
    "> Nếu không thì tiếp tục"
   ]
  },
  {
   "cell_type": "markdown",
   "metadata": {},
   "source": [
    "Mảng con này có thể rỗng khi tổng của các phần tử bằng 0 hoặc có thể chứa nhiều hơn một phần tử so với mảng con lớn nhất tại vị trí trước đó. Đồng thời mảng con lớn nhất kết thúc tại vị trí i được tính dựa trên mảng con lớn nhất kết thúc tại vị trí i-1"
   ]
  },
  {
   "cell_type": "markdown",
   "metadata": {},
   "source": [
    "# 3. Algorithm design"
   ]
  },
  {
   "cell_type": "markdown",
   "metadata": {},
   "source": [
    "Lựa chọn thuật toán thứ 3 để cải tiến thêm, vì pattern của kadane không có lưu trữ vị trí của mảng con. Và độ phức tạp của thuật toán thứ 3 là $O(n)$ đáp ứng được ràng buộc đề bài, còn 2 thuật toán ở trên không hoạt động tốt khi lượng dữ liệu lớn "
   ]
  },
  {
   "cell_type": "markdown",
   "metadata": {},
   "source": [
    "## Pseudo-Code"
   ]
  },
  {
   "cell_type": "markdown",
   "metadata": {},
   "source": [
    "max_sum_present = 0 (dùng để lưu trữ tổng của dãy con lớn nhất cho đến hiện tại (lớn nhất cần tìm))\n",
    "\n",
    "max_sum_ending_at = 0 (dùng để gán giá trị kết thúc của mảng con cần tìm)\n",
    "\n",
    "start_index = 0 (dùng để gán giá trị bắt đầu của mảng con cần tìm)\n",
    "\n",
    "start_temp = -1 (biến này có 2 mục đích dùng. Mục đích thứ nhất, là dùng để kiểm tra tổng dãy con kết thúc tại vị trí i-1 có âm hay không. Vì nếu tổng dãy con con kết thúc tại i-1 âm thì tổng dãy con kết lớn nhất kết thúc tại vị trí i sẽ là chính phần tử tại i. Mục đích thứ 2 là lưu tạm thời vị trí bắt đầu của mảng con cần tìm)\n",
    "\n",
    "ending_index = 0 (dùng để gán giá tị kết thúc của mảng con cần tìm))\n",
    "\n",
    "Loop for each index i of the array:\n",
    "\n",
    "    max_sum_ending_at <- max_sum_ending_at + a[i]  (tính mảng con lớn nhất kết thúc tại vị trí đang xét)\n",
    "    if (max_sum_ending_at<0): (kiểm tra tổng mảng con kết thúc tại i này có âm hay không)\n",
    "        max_sum_ending_at <- 0 (nếu là âm thì max_sum_ending_at trở về 0)\n",
    "        start_temp <- -1 (đồng thời start_temp trở về -1)\n",
    "    else:\n",
    "        if start_temp==-1: (tức là nếu tổng dãy con lớn nhất tại i-1 nhỏ hơn 0)\n",
    "            start_temp <- i (thì mảng con lớn nhất kết thúc tại i sẽ là a[i])\n",
    "        if max_sum_present < max_sum_ending_at: (kiếm tra tổng mảng con lớn nhất đang xét có lớn hơn giá trị cũ hay không)\n",
    "            max_sum_present <- max_sum_ending_at (nếu lớn hơn thì update giá trị mảng con lớn nhất)\n",
    "            start_index <- start_temp (GÁN giá trị bắt đầu)\n",
    "            ending_index <- i (UPDATE giá trị kết thúc))\n",
    "    return start_index, ending_index, max_sum_present (trả về kết quả)\n"
   ]
  },
  {
   "cell_type": "markdown",
   "metadata": {},
   "source": [
    "# 4. Implement "
   ]
  },
  {
   "cell_type": "code",
   "execution_count": 1,
   "metadata": {
    "tags": []
   },
   "outputs": [
    {
     "name": "stdin",
     "output_type": "stream",
     "text": [
      " 16\n",
      " 2 -4 5 -8 4 -1 -1 1 1 1 -2 2 4 -6 9 -4\n"
     ]
    },
    {
     "name": "stdout",
     "output_type": "stream",
     "text": [
      "5 15 12\n"
     ]
    }
   ],
   "source": [
    "def kadane(seqs):\n",
    "\n",
    "  max_sum_present = 0\n",
    "\n",
    "  max_sum_ending_at = 0\n",
    "\n",
    "  start_index = 0\n",
    "\n",
    "  start_temp = -1\n",
    "\n",
    "  ending_index = 0\n",
    "\n",
    "  for i in range(len(seqs)):\n",
    "  \n",
    "    max_sum_ending_at += seqs[i]\n",
    "    if (max_sum_ending_at < 0):\n",
    "      max_sum_ending_at = 0\n",
    "      start_temp = -1\n",
    "    else:\n",
    "      if start_temp == -1:\n",
    "        start_temp = i\n",
    "      if max_sum_present < max_sum_ending_at:\n",
    "        max_sum_present = max_sum_ending_at\n",
    "        start_index = start_temp\n",
    "        ending_index = i\n",
    "  return start_index+1, ending_index+1, max_sum_present \n",
    "\n",
    "n = input()\n",
    "\n",
    "n = int(n)\n",
    "\n",
    "a = list(map(int, input().split())) \n",
    "\n",
    "start,stop,profit = kadane(a)\n",
    "print(start,stop,profit)"
   ]
  },
  {
   "source": [
    "# 5. Result:"
   ],
   "cell_type": "markdown",
   "metadata": {}
  },
  {
   "source": [
    "![image.png](data:image/png;base64,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)"
   ],
   "cell_type": "markdown",
   "metadata": {}
  }
 ],
 "metadata": {
  "kernelspec": {
   "display_name": "Python 3",
   "language": "python",
   "name": "python3"
  },
  "language_info": {
   "codemirror_mode": {
    "name": "ipython",
    "version": 3
   },
   "file_extension": ".py",
   "mimetype": "text/x-python",
   "name": "python",
   "nbconvert_exporter": "python",
   "pygments_lexer": "ipython3",
   "version": "3.8.5"
  }
 },
 "nbformat": 4,
 "nbformat_minor": 4
}