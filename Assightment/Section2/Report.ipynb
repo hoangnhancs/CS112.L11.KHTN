{
 "cells": [
  {
   "cell_type": "markdown",
   "metadata": {},
   "source": [
    "[![Open In Colab](https://colab.research.google.com/assets/colab-badge.svg)](https://colab.research.google.com/github/hoangnhancs/CS112.L11.KHTN/blob/master/Section2/Report.ipynb)   \n",
    "If it doesn't redirect into new tab, please use `ctrl` + click or `cmd` + click(for mac user)   \n",
    "![](https://i.postimg.cc/k445hYdx/logo-uit.png)"
   ]
  },
  {
   "cell_type": "markdown",
   "metadata": {},
   "source": [
    "<link rel=\"stylesheet\" href=\"https://stackpath.bootstrapcdn.com/font-awesome/4.7.0/css/font-awesome.min.css\" integrity=\"sha384-wvfXpqpZZVQGK6TAh5PVlGOfQNHSoD2xbE+QkPxCAFlNEevoEH3Sl0sibVcOQVnN\" crossorigin=\"anonymous\">\n",
    "<script src='https://cdnjs.cloudflare.com/ajax/libs/mathjax/2.7.5/MathJax.js?config=TeX-MML-AM_CHTML' async></script>\n",
    "\n",
    "<h1>N004's MEMBERS</h1>\n",
    "<div style=\"display:flex; width:100%\">\n",
    "        <div style=\"width:20%;margin: 0px auto\">\n",
    "            <h1>Thái Hoàng Nhân<br> 18521182 <br /> Leader </h1>\n",
    "            <details>\n",
    "                <summary>Image</summary>\n",
    "                <img style=\"width:100%\"\n",
    "                    src=\"https://raw.githubusercontent.com/hoangnhancs/CS112.L11.KHTN/master/resources/images/HoangNhan.png\">\n",
    "            </details>\n",
    "        </div>\n",
    "        <br>\n",
    "        <div style=\"width:20% ;margin:0px auto\">\n",
    "            <h1>Lưu Hoàng Sơn<br>18521348 <br /> Member</h1>\n",
    "            <details>\n",
    "                <summary>Image</summary>\n",
    "                <img style=\"width:100%\"\n",
    "                    src=\"https://raw.githubusercontent.com/hoangnhancs/CS112.L11.KHTN/master/resources/images/HoangSon.png\">\n",
    "            </details>\n",
    "        </div>\n",
    "        <br>\n",
    "        <div style=\"width:20%; margin:0px auto\">\n",
    "            <h1>Đào Thị Thu Nga<br> 18521135 <br /> Member </h1>\n",
    "            <details>\n",
    "                <summary>Image</summary>\n",
    "                <img style=\"width:100%\"\n",
    "                    src=\"https://raw.githubusercontent.com/hoangnhancs/CS112.L11.KHTN/master/resources/images/ThuNga.png\">\n",
    "            </details>\n",
    "        </div>\n",
    "    </div>\n",
    "\n",
    "<hr>\n",
    "<p>For Contact</p>\n",
    "<p>Thái Hoàng Nhân: 18521182@gm.uit.edu.vn or <a href=\"https://github.com/hoangnhancs\">github</a> or <a href=\"https://www.facebook.com/profile.php?id=100027617961231\">facebook</a></p>\n",
    "<p>Lưu Hoàng Sơn: 18521348@gm.uit.edu.vn or <a href=\"https://github.com/sonlhcsuit\">github</a> or <a href=\"https://www.facebook.com/sjIv3r\">facebook</a></p>\n",
    "<p>Đào Thị Thu Nga: 18521135@gm.uit.edu.vn or <a href=\"https://github.com/DAOTHITHUNGA\">github</a> or <a href=\"https://www.facebook.com/vonguocmo03092000\">facebook</a></p>"
   ]
  },
  {
   "cell_type": "markdown",
   "metadata": {},
   "source": [
    "# Sea Weed (Tảo biển)\n",
    "Tảo biển sinh sản rất nhanh khi có môi trường thuận lợi với chúng và có những loài còn tiết ra môi trường những chất độc hại.\n",
    "\n",
    "Một loại tảo nâu trong môi trường nước bị ô nhiễm nặng sinh sản theo quy luật sau:\n",
    "\n",
    "Ngày đầu tiên (ngày $0$) có $n$ cá thể ở mức $1$,\n",
    "Ở mỗi ngày tiếp theo, mỗi cá thể mức $i$ sinh ra $i$ cá thể mức $1$, các cá thể mới sinh sẽ sinh sôi, phát triển từ ngày hôm sau.\n",
    "Bản thân các cá thể mức $i$ phát triển thành mức $i+1$ và chu kỳ phát triển trong ngày chấm dứt.\n",
    "Hãy xác định sau $k$ ngày trong nước biển có bao nhiêu cá thể.\n",
    "\n",
    "Dữ liệu: Vào từ thiết bị nhập chuẩn gồm một dòng chứa 2 số nguyên $n$ và $k$ ($1 \\le n \\le 1000$, $1 \\le k \\le 10^{18}$).\n",
    "\n",
    "Kết quả: Đưa ra thiết bị xuất chuẩn một số nguyên – số lượng cá thể  tảo theo mô đun $10^9$+7.\n",
    "\n",
    "|INPUT      | OUTPUT|\n",
    "|-----------|-------|\n",
    "|3  2       | 15    |\n"
   ]
  },
  {
   "cell_type": "markdown",
   "metadata": {},
   "source": [
    "## 1. Abstraction:\n",
    "Ta có thể nhìn bảng thống kê như sau: \n",
    "> $a_i$ : Lượng cá thể mức i   \n",
    "> $\\Sigma_{1}^k a_i$: Tổng các cá thể ở ngày k   \n",
    "> k: số ngày đã trải qua \n",
    "\n",
    "Giả sử ở ngày 0 có 1 cá thể mức 1: $a_1$ = 1  \n",
    "\n",
    "|Ngày |$\\Sigma_{1}^k a_i$   | $a_1$| $a_2$| $a_3$| $a_4$| $a_5$| $a_6$| $a_7$|\n",
    "|-----|---------------------|------|------|------|------|------|------|------|\n",
    "|    0|                **1**|     1|     0|     0|     0|     0|     0|     0|\n",
    "|    1|                **2**|     1|     1|     0|     0|     0|     0|     0|\n",
    "|    2|                **5**|     3|     1|     1|     0|     0|     0|     0|\n",
    "|    3|               **13**|     8|     3|     1|     1|     0|     0|     0|\n",
    "|    4|               **34**|    21|     8|     3|     1|     1|     0|     0|\n",
    "|    5|               **89**|    55|    21|     8|     3|     1|     1|     0|\n",
    "\n",
    "Ta có thể nhận thấy đây là dãy fibonacci quen thuộc nhưng có một chút thiếu sót, hãy xem xét quy luật của dãy \n",
    "\n",
    "|i    |0|1|2|3|4|5|6|7 |8 | 9|10|11|12 |13 |14 |\n",
    "|-----|-|-|-|-|-|-|-|--|--|--|--|--|---|---|---|\n",
    "|f_i  |0|1|1|2|3|5|8|13|21|34|55|89|144|233|377|\n",
    "\n",
    "Từ 2 bảng trên ta có thể nhận ra đây là được số cá thể ngày k chính là số fibonacci ở vị trí thứ $2k+1$  \n",
    "**Tóm lại** Tìm tích của $n$ với phần tử thứ $2k + 1$ của dãy fibonacci. Hay tìm tích $n * fib(2k + 1)$.\n",
    "\n",
    "### Constrain:\n",
    "- Máy tính sử dụng để kiểm tra có chip core i3 ($10^7$ operation per second)\n",
    "- Số cá thể ban đầu nằm trong đoạn $[1, 1000]$ ($1 \\le n \\le 1000$)\n",
    "- Số ngày nằm trong đoạn $[1, 10^{18}]$ ($1 \\le k \\le 10^{18}$) "
   ]
  },
  {
   "cell_type": "markdown",
   "metadata": {},
   "source": [
    "## 2. Pattern Recognition:\n",
    "Có rất nhiều cách để tính 1 số fibonacci ở vị trí thứ n, 3 cách chính sẽ được sử dụng để xem xét cách tốt nhất  \n",
    "\n",
    "### 1. Sử dụng đệ quy:\n",
    "Đệ quy là một phương pháp tính dãy fibonacci cổ điển mà hầu hết các học sinh, sinh viên đều biết. Nó là phương pháp dùng trong các chương trình máy tính trong đó có một hàm tự gọi chính nó.\n",
    "Tuy nhiên cách này lại có yếu điểm chính là phải phụ thuộc vào call-stack. Nếu tính số fibonacci ở vị trí thứ i lớn thì dễ gây ra hiện tượng tràn callstack (stack over flow). Hơn nữa cách này có độ phức tạp cao.    \n",
    "Time complexity:  O($2^n$)  \n",
    "Lí do tại sao lại là $2^n$ là bởi vì chúng ta gọi đệ quy 2 lần (ứng với fib(n-1) và fib(n-2) và tiếp tục xuống tiếp cho đến khi bằng số fibonacci thứ 1 là 1. Như vậy callstack tree sẽ càng ngày càng to ra theo số mũ."
   ]
  },
  {
   "cell_type": "code",
   "execution_count": 2,
   "metadata": {
    "tags": []
   },
   "outputs": [
    {
     "name": "stdout",
     "output_type": "stream",
     "text": [
      "55\n",
      "0.0003800392150878906\n"
     ]
    }
   ],
   "source": [
    "import time\n",
    "def fib(k):\n",
    "    if k==1:\n",
    "        return 1\n",
    "    if k==2:\n",
    "        return 1\n",
    "    if k!=0 and k!=1:\n",
    "        return fib(k-1)+fib(k-2)\n",
    "start = time.time()\n",
    "print(fib(10))\n",
    "end = time.time()\n",
    "print(end - start)"
   ]
  },
  {
   "cell_type": "markdown",
   "metadata": {},
   "source": [
    "### 2. Sử dụng quy hoạch động:\n",
    "Chúng ta có thể cải tiến bằng cách sử dụng vòng lặp để tính các số fibonacci rồi sau đó lưu lại vào một cái mảng để lấy ra sử dụng. Cách này sẽ tiết kiệm độ phức tạp thời gian nhưng phải đánh đổi độ phức tạp bộ nhớ (quy hoạch động).  \n",
    "\n",
    "Time complexity: O($n$)   \n",
    "Space comfexity: O($n$)   "
   ]
  },
  {
   "cell_type": "code",
   "execution_count": 3,
   "metadata": {
    "tags": []
   },
   "outputs": [
    {
     "name": "stdout",
     "output_type": "stream",
     "text": [
      "55\n",
      "0.0003440380096435547\n"
     ]
    }
   ],
   "source": [
    "import time\n",
    "def fib(k):\n",
    "    _fib = [1] * k\n",
    "    if (k==0 or k==1):\n",
    "        return _fib[k]\n",
    "    else:\n",
    "        for i in range (2, k):\n",
    "            _fib[i] = _fib[i-1] + _fib[i-2]\n",
    "        \n",
    "    return _fib[k-1]\n",
    "start = time.time()\n",
    "print(fib(10))\n",
    "end = time.time()\n",
    "print(end - start)"
   ]
  },
  {
   "cell_type": "markdown",
   "metadata": {},
   "source": [
    "Chúng ta cũng có thể cải tiến không lưu trữ n phần tử fibonacci nữa mà chỉ lưu 3 phần tử cần thiết.  \n",
    "Time complexity: O($n$)  \n",
    "Space comfexity: O($1$)  "
   ]
  },
  {
   "cell_type": "code",
   "execution_count": 5,
   "metadata": {},
   "outputs": [
    {
     "name": "stdout",
     "output_type": "stream",
     "text": [
      "55\n",
      "0.00027108192443847656\n"
     ]
    }
   ],
   "source": [
    "import time\n",
    "def fib(n):\n",
    "    a = 0\n",
    "    b = 1\n",
    "    if n == 0: \n",
    "        return a \n",
    "    elif n == 1: \n",
    "        return b \n",
    "    else: \n",
    "        for i in range(2,n+1): \n",
    "            c = a + b \n",
    "            a = b \n",
    "            b = c \n",
    "        return b \n",
    "start = time.time()\n",
    "print(fib(10))\n",
    "end = time.time()\n",
    "print(end - start)"
   ]
  },
  {
   "cell_type": "markdown",
   "metadata": {
    "tags": []
   },
   "source": [
    "Ngoài cách sử dụng vòng lặp, ta cũng có một cách khác nhanh hơn là sử dụng phép nhân ma trận. Công thức sau đã được chứng minh:   \n",
    "$$Fibonacci(n) = F^n  = {\\begin{pmatrix}1 & 1\\\\1 & 0\\end{pmatrix}}^n = \\begin{pmatrix}F_{n+1} & F_n\\\\F_n & F_{n-1}\\end{pmatrix}$$   \n",
    "Time complexity: O($n$)  \n",
    "Space complexity: O($1$)  "
   ]
  },
  {
   "cell_type": "code",
   "execution_count": 6,
   "metadata": {},
   "outputs": [
    {
     "name": "stdout",
     "output_type": "stream",
     "text": [
      "55\n",
      "0.00017786026000976562\n"
     ]
    }
   ],
   "source": [
    "import time\n",
    "def fib(n): \n",
    "    F = [[1, 1], \n",
    "         [1, 0]] \n",
    "    result = None\n",
    "    if (n == 0): \n",
    "        return 0\n",
    "    result = power(F, n - 1) \n",
    "    return result[0][0] \n",
    "  \n",
    "def multiply(F, M): \n",
    "    base =[]\n",
    "    result = [[None,None],[None,None]]\n",
    "    x = (F[0][0] * M[0][0] + \n",
    "         F[0][1] * M[1][0]) \n",
    "    y = (F[0][0] * M[0][1] +\n",
    "         F[0][1] * M[1][1]) \n",
    "    z = (F[1][0] * M[0][0] + \n",
    "         F[1][1] * M[1][0]) \n",
    "    w = (F[1][0] * M[0][1] + \n",
    "         F[1][1] * M[1][1]) \n",
    "      \n",
    "    result[0][0] = x \n",
    "    result[0][1] = y \n",
    "    result[1][0] = z \n",
    "    result[1][1] = w \n",
    "    return result \n",
    "  \n",
    "def power(F, n): \n",
    "    M = [[1, 1], \n",
    "         [1, 0]] \n",
    "    # n - 1 times multiply the \n",
    "    # matrix to {{1,0},{0,1}} \n",
    "    for i in range(2, n +  1): \n",
    "        F = multiply(F, M) \n",
    "    return F\n",
    "start = time.time()\n",
    "print(fib(10))\n",
    "end = time.time()\n",
    "print(end - start)"
   ]
  },
  {
   "cell_type": "markdown",
   "metadata": {},
   "source": [
    "Tất cả các cách trên đều có thể sử dụng một kỹ thuật khác để cải tiến, nghĩa là thay thế công thức fibonaci bằng công thức sau:\n",
    "$$\n",
    "\\left\\{ \n",
    "\\begin{array}{c} \n",
    "{F_{2n-1} = {F_n}^2 + {F_{n-1}}^2(*)}\\\\ \n",
    "{F_{2n} = (2F_{n-1}+F_n)F_n(**)}\n",
    "\\end{array}\n",
    "\\right. \n",
    "$$  \n",
    "Trước tiên, ta sẽ chứng minh: $F_{m+n} = F_{m-1}F_{n} + F_{m}F_{n+1}(1)$\n",
    "\n",
    "Thật vậy, với $n=1 \\rightarrow F_n=F_1=1, F_{n+1}=F_2=1$\n",
    "\n",
    "$(1) \\leftrightarrow F_{m+1} = F_{m-1} + F_m$ (đúng với mọi $m$)\n",
    "\n",
    "Ta sẽ quy nạp bài toán này, giả sử đúng đến $n = k$ và $n = k-1$.\n",
    "\n",
    "Ta sẽ chứng minh $(1)$ đúng với $n = k+1$.\n",
    "\n",
    "Với $n = k+1$,\n",
    "$(1) \\leftrightarrow F_{m+k+1} = F_{m-1}F_{k+1} + F_{m}F_{k+2}$\n",
    "$ \\leftrightarrow F_{m+k} + F_{m+k-1} = F_{m-1}F_{k+1} + F_{m}F_{k+2}$\n",
    "$ \\leftrightarrow (F_{m-1}F_{k} + F_{m}F_{k+1}) + (F_{m-1}F_{k-1} + F_{m}F_{k}) = F_{m-1}F_{k+1} + F_{m}F_{k+2}$\n",
    "$ \\leftrightarrow F_{m-1}(F_{k}+F_{k-1}) + F_{m}(F_{k+1}+F_{k}) = F_{m-1}F_{k+2} + F_{m}F_{k+1}$\n",
    "$ \\leftrightarrow F_{m-1}F_{k+1} + F_{m}F_{k+2} = F_{m-1}F_{k+1} + F_{m}F_{k+2}$ (đúng)\n",
    "\n",
    "Vậy, với $m = n$, ta sẽ có:\n",
    "$F_{2n} = F_{n-1}F_n + F_nF_{n+1}$\n",
    "\n",
    "$= F_n(F_{n-1}+F_{n+1})$\n",
    "$= F_n(2F_{n-1}+F_n)$ $(**)$ được chứng minh\n",
    "\n",
    "Với $m=n-1$, ta sẽ có \n",
    "\n",
    "$F_{2n-1} = F_{n-2}F_n + F_{n-1}F_{n+1}$\n",
    "\n",
    "$= (F_n - F_{n-1})F_n + (F_n+F_{n-1})F_{n-1}$\n",
    "$= {F_n}^2 + {F_{n-1}}^2$ $(*)$ được chứng minh    \n",
    "\n",
    "<hr>\n",
    "\n",
    "Với công thức này thì chúng ta sẽ chỉ tính những số fibonacci cần thiết mà thôi ( với mỗi trường hợp chẵn hoặc lẻ)    \n",
    "Time complexity: O($\\log{n}$)    \n",
    "Space complexity: O($1$)  "
   ]
  },
  {
   "cell_type": "code",
   "execution_count": 13,
   "metadata": {},
   "outputs": [
    {
     "name": "stdout",
     "output_type": "stream",
     "text": [
      "43466557686937456435688527675040625802564660517371780402481729089536555417949051890403879840079255169295922593080322634775209689623239873322471161642996440906533187938298969649928516003704476137795166849228875\n",
      "0.0003268718719482422\n"
     ]
    }
   ],
   "source": [
    "import time\n",
    "MAX = 10000000\n",
    "  \n",
    "# Create an array for memoization \n",
    "f = [0] * MAX\n",
    "  \n",
    "# Returns n'th fuibonacci number using table f[] \n",
    "def fib(n) : \n",
    "    # Base cases \n",
    "    if (n == 0) : \n",
    "        return 0\n",
    "    if (n == 1 or n == 2) : \n",
    "        f[n] = 1\n",
    "        return (f[n]) \n",
    "  \n",
    "    # If fib(n) is already computed \n",
    "    if (f[n]) : \n",
    "        return f[n] \n",
    "  \n",
    "    if( n & 1) : \n",
    "        k = (n + 1) // 2\n",
    "    else :  \n",
    "        k = n // 2\n",
    "  \n",
    "    # Applying above formula [Note value n&1 is 1 \n",
    "    # if n is odd, else 0. \n",
    "    if((n & 1) ) : \n",
    "        f[n] = (fib(k) * fib(k) + fib(k-1) * fib(k-1)) \n",
    "    else : \n",
    "        f[n] = (2*fib(k-1) + fib(k))*fib(k) \n",
    "  \n",
    "    return f[n] \n",
    "  \n",
    "\n",
    "n = 1000\n",
    "start = time.time()\n",
    "print(fib(n))\n",
    "end = time.time()\n",
    "print(end - start)"
   ]
  },
  {
   "cell_type": "markdown",
   "metadata": {},
   "source": [
    "### 3. Sử dụng phương trình dãy số:\n",
    "Dãy fibonaci được tổng quát với công thức GẦN ĐÚNG như sau:\n",
    "$F_n = \\frac{({\\frac{1+\\sqrt{5}}{2}})^n + ({\\frac{1-\\sqrt{5}}{2}})^n}{\\sqrt{5}}$"
   ]
  },
  {
   "cell_type": "code",
   "execution_count": 10,
   "metadata": {
    "tags": []
   },
   "outputs": [
    {
     "name": "stdout",
     "output_type": "stream",
     "text": [
      "4.3466557686938915e+208\n"
     ]
    }
   ],
   "source": [
    "from math import *\n",
    "import time\n",
    "def fib(n):\n",
    "    a = (1+sqrt(5))/2\n",
    "    b = (1-sqrt(5))/2\n",
    "    return (pow(a, n)+ pow(b, n))/sqrt(5)\n",
    "start = time.time()\n",
    "print(fib(1000))"
   ]
  },
  {
   "cell_type": "markdown",
   "metadata": {},
   "source": [
    "Phương pháp này có độ phức tạp thuật toán là O(1) nhưng lại không lý tưởng bởi vì khả năng tính toán trên số thực của python có sai số khiến cho kết quả sẽ không chính xác như tính toán trên số nguyên."
   ]
  },
  {
   "cell_type": "markdown",
   "metadata": {},
   "source": [
    "## 3. Design Algorithms\n",
    "Chúng ta có thể cài đặt ngay dựa trên các dạng đã nhận ra ở trên "
   ]
  },
  {
   "cell_type": "markdown",
   "metadata": {},
   "source": [
    "## 4. Implement "
   ]
  },
  {
   "cell_type": "code",
   "execution_count": 1,
   "metadata": {
    "tags": []
   },
   "outputs": [
    {
     "name": "stdin",
     "output_type": "stream",
     "text": [
      " 100 100000\n"
     ]
    },
    {
     "name": "stdout",
     "output_type": "stream",
     "text": [
      "579989419\n"
     ]
    }
   ],
   "source": [
    "def fib(n): \n",
    "    F = [[1, 1], \n",
    "         [1, 0]] \n",
    "    if (n == 0): \n",
    "        return 0\n",
    "    power(F, n - 1) \n",
    "      \n",
    "    return F[0][0] \n",
    "  \n",
    "def multiply(F, M): \n",
    "  \n",
    "    x = (F[0][0] * M[0][0] + \n",
    "         F[0][1] * M[1][0]) \n",
    "    y = (F[0][0] * M[0][1] +\n",
    "         F[0][1] * M[1][1]) \n",
    "    z = (F[1][0] * M[0][0] + \n",
    "         F[1][1] * M[1][0]) \n",
    "    w = (F[1][0] * M[0][1] + \n",
    "         F[1][1] * M[1][1]) \n",
    "      \n",
    "    F[0][0] = x  %1000000007\n",
    "    F[0][1] = y  %1000000007\n",
    "    F[1][0] = z  %1000000007\n",
    "    F[1][1] = w  %1000000007\n",
    "  \n",
    "def power(F, n): \n",
    "  \n",
    "    M = [[1, 1], \n",
    "         [1, 0]] \n",
    "  \n",
    "    # n - 1 times multiply the \n",
    "    # matrix to {{1,0},{0,1}} \n",
    "    for i in range(2, n + 1): \n",
    "        multiply(F, M) \n",
    "  \n",
    "\n",
    "x, y = map(int, input().split(' '))\n",
    "\n",
    "def fibs_seq_holt(n,k):\n",
    "    return fib(2*k+1)*n %1000000007\n",
    "\n",
    "print(fibs_seq_holt(x,y))"
   ]
  },
  {
   "cell_type": "markdown",
   "metadata": {},
   "source": [
    "#### Kết quả wecode \n",
    "<img src=\"https://raw.githubusercontent.com/hoangnhancs/CS112.L11.KHTN/master/resources/images/section2_Counting_stars_pic5.png\">"
   ]
  },
  {
   "cell_type": "markdown",
   "metadata": {},
   "source": [
    "# Counting Stars\n",
    "Buổi tối, Anh và Tân thích cùng nhau ngắm bầu trời đêm đầy sao.Họ sẽ ngồi dưới đất, nhâm nhi một chút trà và nhìn chằm chằm vào những ngôi sao sáng trên bầu trời. Trong tầm mắt của họ, có một cái cây hình nón rất cao ngăn tầm nhìn ra làm hai phần, vì vậy họ coi cái cây như một dấu mốc: Các ngôi sao của Anh ở bên phải của cây và các ngôi sao của Tân ở bên trái. Mỗi đêm, Anh rất thích đếm các vì sao của mình, vì vậy cậu ấy biết chính xác rằng có n ngôi sao ở phía của mình (giả sử rằng số ngôi sao không đổi). Gần đây, cậu ấy muốn thử một cái gì đó mới. Cậu ta tưởng tượng ra một hệ tọa độ: cậu đặt gốc của hệ tọa độ tại giao điểm của mặt đất và cây, trục Ox dọc theo mặt đất ở bên trái cây và trục Oy hướng lên trên cây (xem hình minh họa)   \n",
    "\n",
    "<img src=\"https://raw.githubusercontent.com/hoangnhancs/CS112.L11.KHTN/master/resources/images/section2_Counting_stars_pic1.png\">   \n",
    "\n",
    "Để làm cho mọi thứ trở nên thú vị hơn, Anh tưởng tượng ra hai tia phát ra từ gốc tọa độ với các góc $\\alpha_1$  và  $\\alpha_2$ với trục Ox\n",
    "\n",
    "Bây giờ cậu chọn bất kỳ ngôi sao nào nằm giữa các tia sáng này. Lưu ý rằng cậu không thể chọn những ngôi sao nằm trên tia sáng. Sau đó, cậu tưởng tượng ra hai tia nữa phát ra từ ngôi sao này ở cùng góc  $\\alpha_1$  và  $\\alpha_2$  với trục Ox và chọn một ngôi sao khác nằm hoàn toàn ở giữa các tia mới. Cậu ta lặp lại hành động này cho đến khi nào vẫn còn có thể chọn một ngôi sao nằm giữa các tia phát ra từ ngôi sao đã chọn trước đó.\n",
    "\n",
    "<img src=\"https://raw.githubusercontent.com/hoangnhancs/CS112.L11.KHTN/master/resources/images/section2_Counting_stars_pic2.png\">   \n",
    "Kết quả là Anh được một chuỗi sao. Tìm số sao m tối đa mà chuỗi của Anh có thể chứa. Lưu ý rằng chuỗi phải bắt đầu từ điểm gốc của hệ tọa độ; điểm này không được tính khi đếm số m ngôi sao trong chuỗi\n",
    "\n",
    "## Input:\n",
    "- Dòng đầu tiên: Một số  integer n ($1\\le n \\le10^5$) - Số ngôi sao\n",
    "- Dòng thứ hai: 2 phân số đơn giản thể hiện mối quan hệ \"a/b c/d\", sao cho $\\frac{a}{b} = \\frac{sin({\\alpha}_{1})}{cos({\\alpha}_{1})}$, $\\frac{c}{d} = \\frac{sin({\\alpha}_{2})}{cos({\\alpha}_{2})}$, ($0 \\le a,b,c,d \\le 10^5, 0^{\\circ} \\le {\\alpha}_{1} < {\\alpha}_{2} \\le 90^{\\circ}, \\frac{a}{b} \\neq \\frac{c}{d}$)\n",
    "- n dòng tiếp theo: cặp số integer $x_i, y_i(1 \\le x_i , y_i \\le 10^5)$ - Tọa độ các ngôi sao, biết rằng mọi ngôi sao có tọa độ khác nhau.\n",
    "\n",
    "## Output \n",
    "In ra một số m - Số sao lớn nhất mà chuỗi của Jerry có thể chứa\n",
    "\n",
    "\n",
    "INPUT   | OUTPUT  |\n",
    "--------|---------|       \n",
    "15      | 5       |\n",
    "1/4 2/1 |         |\n",
    "3 1     |         |\n",
    "6 2     |         |\n",
    "9 3     |         |\n",
    "12 4    |         |\n",
    "15 5    |         |\n",
    "2 1     |         |\n",
    "4 2     |         |\n",
    "5 3     |         |\n",
    "7 4     |         |\n",
    "1 3     |         |\n",
    "3 4     |         |\n",
    "2 5     |         |\n",
    "4 5     |         |\n",
    "1 6     |         |\n",
    "6 6     |         |"
   ]
  },
  {
   "cell_type": "markdown",
   "metadata": {},
   "source": [
    "## 1.Abstraction:\n",
    "\n",
    "Như vậy điều chúng ta có thể làm là cố gắng tìm ra một chuỗi sao, sao cho độ dài chuỗi sao dài nhất có thể. Chẳng hạn như ví dụ này. \n",
    "\n",
    "<img src=\"https://raw.githubusercontent.com/hoangnhancs/CS112.L11.KHTN/master/resources/images/section2_Counting_stars_pic3.png\">\n",
    "\n",
    "\n",
    "Sau khi chọn 1 ngôi sao thì chúng ta tiếp tục cố gắng chọn ngôi sao nào có thể \"nhìn\" được nhiều sao nhất có thể dựa trên góc nhìn đã cho (tất nhiên là sẽ giảm đi vài sao đã đi quá lố)\n",
    "\n",
    "Vậy nên bài toán này được trừu tượng hóa như sau: Cho một dãy các điểm có tọa độ $x_i,y_i$, tìm chuỗi điểm dài nhất $(x_1,y_1),(x_2,y_2),...,(x_m,y_m)$ sao cho đường thẳng đi qua 2 điểm $(x_i,y_i)$ và $(x_{i-1},y_{i-1})$có hệ số góc  $\\alpha_3$  nằm trong góc \"nhìn\" được tạo bởi 2 đường thẳng có hệ số góc $\\alpha_1$ và $\\alpha_2$ sao cho $\\alpha_1 < \\alpha_3 < \\alpha_2$"
   ]
  },
  {
   "cell_type": "markdown",
   "metadata": {},
   "source": [
    "## 2. Pattern Recognition:"
   ]
  },
  {
   "cell_type": "markdown",
   "metadata": {},
   "source": [
    "Để có thể thỏa mãn được yêu cầu đề bài thì góc $\\alpha_3$ phải thỏa mãn \n",
    "\n",
    "$\\alpha_1 < \\alpha_3 < \\alpha_2 (*)$\n",
    "\n",
    "$\\leftrightarrow tan(\\alpha_1) < tan(\\alpha_3) < tan(\\alpha_2)(**)$\n",
    "\n",
    "$\\leftrightarrow \\frac{a}{b} < \\frac{y_i - y_{i-1}}{x_i - x_{i-1}} < \\frac{c}{d}$\n",
    "\n",
    "$\\leftrightarrow by_i - ax_i > by_{i-1} - ax_{i-1}$ và $cx_i - dy_i > cx_{i-1} - dy_{i-1}(***)$\n",
    "\n",
    "\n",
    "<img src=\"https://raw.githubusercontent.com/hoangnhancs/CS112.L11.KHTN/master/resources/images/section2_Counting_stars_pic4.png\">\n",
    "\n",
    "\n",
    "Ta thấy mỗi điểm $(X_i,X_{i-1})$đều có thể biểu diễn dưới dạng con số $by_{i} - ax_{i}$ (với $\\alpha_1$) hoặc $cx_{i} - dy_{i} $(với $\\alpha_2$ ). Bằng cách sử dụng hàm \n",
    "\n",
    "- $F(X_i) = f(x_i,y_i) = -ax_i + by_i $\n",
    "- $G(X_i) = g(x_i,y_i) = -cx_i + dy_i $\n",
    "\n",
    "Như vậy để kiểm tra điều kiện $(**)$ với cặp điểm $X_i,X_j$ thì ta có thể chứng minh cách sau:\n",
    "\n",
    "- $F(X_i) \\gt F(X_j)$   \n",
    "và    \n",
    "- $G(X_i) \\gt G(X_j)$   \n",
    "\n",
    "thì đường thẳng tạo bởi $X_i$ và $X_j$ sẽ thỏa điều kiện (điểm $X_i$ có thể \"nhìn\" $X_j$ - Chẳng hạn như trong ví dụ C có thể nhìn thấy D,D có thể thấy E,...)\n",
    "\n",
    "Vậy nếu chúng ta đưa tất cả các điểm đã nhận được $$X_i (x_i,y_i)$$ thành $$\\Delta X_i(F(X_i),G(X_i))$$\n",
    "\n",
    "Vậy thì chúng ta chỉ cần tìm dãy nào thỏa mãn điều kiện $(***)$ là được. Để tiết kiệm thời gian thì ta có thể sắp xếp tăng dần $\\Delta X_i$ dựa theo $F(X_i)$. Sau đó áp dụng kỹ thuật tìm dãy con tăng lớn nhất đối với $G(X_i)$ hoặc ngược lại!     \n",
    "\n",
    "Đưa về dạng bài toán tìm dãy con tăng(hoặc giảm) lớn nhất!"
   ]
  },
  {
   "cell_type": "markdown",
   "metadata": {},
   "source": [
    "### 1. Đệ quy\n",
    "Giải thuật đầu tiên và đơn giản nhất có thể giải quyết bài toán này chính là sử dụng đệ quy như sau:  \n",
    "- $L(i) = 1 + max( L(j) )$ khi $ 0 < j < i$ và $arr[j] < arr[i]$ hoặc    \n",
    "- $L(i) = 1$, nếu không có j thỏa mãn 2 điều kiện trên \n",
    "\n",
    "Tuy nhiên giải thuật này lại có độ phức tạp:   \n",
    "- Time Complexity : $O(2^n)$  \n",
    "- Space Complexity : $O(1)$"
   ]
  },
  {
   "cell_type": "code",
   "execution_count": 2,
   "metadata": {},
   "outputs": [
    {
     "name": "stdout",
     "output_type": "stream",
     "text": [
      "5\n",
      "0.00013899803161621094\n"
     ]
    }
   ],
   "source": [
    "import time \n",
    "global maximum \n",
    "  \n",
    "def lis(arr , n ): \n",
    "\n",
    "    global maximum \n",
    "\n",
    "    # quit case \n",
    "    if n == 1 : \n",
    "        return 1\n",
    "  \n",
    "    # maxEndingHere is the length of LIS ending at arr[n-1] \n",
    "    maxEndingHere = 1\n",
    "\n",
    "    for i in range(1, n): \n",
    "        res = lis(arr , i) \n",
    "        if arr[i-1] < arr[n-1] and res+1 > maxEndingHere: \n",
    "            maxEndingHere = res +1\n",
    "\n",
    "    maximum = max(maximum , maxEndingHere) \n",
    "  \n",
    "    return maxEndingHere \n",
    "  \n",
    "def LIS(arr): \n",
    "    global maximum \n",
    "  \n",
    "    n = len(arr) \n",
    "    maximum = 1\n",
    "    lis(arr , n) \n",
    "  \n",
    "    return maximum \n",
    "\n",
    "array = [10 , 22 , 9 , 33 , 21 , 50 , 41 , 60] \n",
    "start = time.time()\n",
    "ans = LIS(array)\n",
    "end = time.time()\n",
    "print(ans)\n",
    "print(end - start)"
   ]
  },
  {
   "cell_type": "markdown",
   "metadata": {},
   "source": [
    "### 2. Quy hoạch động \n",
    "Sử dụng kỹ thuật quy hoạch động với bằng cách sử dụng một mảng phụ để lưu số phần tử dãy con tăng kết thúc tại phần tử đó. Lúc ban đầu thì tất cả phần tử của mảng phụ đều sẽ là 1 bởi vì mỗi phần tử đều là dãy tăng (chính nó). Mỗi lần lặp qua một phần tử thứ i. Ta đều kiểm tra xem phần tử thứ i có lớn hơn các( lặp lại từ đầu mảng phụ tới i-1 ) phần tử ở trước hay không, nếu có thì có thể thêm phần tử i vào dãy tăng (update mảng phụ)   \n",
    "**Lưu ý**: Mỗi lần muốn update mảng phụ ta phải luôn chọn xem dãy con nào có độ dài lớn nhất. \n",
    "Độ phức tạp của giải thuật này là:   \n",
    "- Time Complexity : $O(n^2)$  \n",
    "- Space Complexity : $O(n)$"
   ]
  },
  {
   "cell_type": "code",
   "execution_count": 30,
   "metadata": {},
   "outputs": [
    {
     "name": "stdout",
     "output_type": "stream",
     "text": [
      "5\n",
      "6.604194641113281e-05\n"
     ]
    }
   ],
   "source": [
    "import time \n",
    "def LIS(arr): \n",
    "    n = len(arr) \n",
    "    \n",
    "    lis = [1]*n # 1 là bởi vì mỗi phần tử đều là dãy tăng ( chính nó )\n",
    "  \n",
    "    for i in range (1 , n): \n",
    "        for j in range(0 , i): \n",
    "            if arr[i] > arr[j] and lis[i]< lis[j] + 1 : # lis[i]< lis[j] + 1 để luôn chắc chắn lần nào update thì dãy con kết thúc tại vị trí thứ i luôn là lớn nhất \n",
    "                lis[i] = lis[j]+1\n",
    "\n",
    "    maximum = 0\n",
    "#     print(lis)\n",
    "    for i in range(n): \n",
    "        maximum = max(maximum , lis[i]) \n",
    "  \n",
    "    return maximum \n",
    "\n",
    "array = [10 , 22 , 9 , 33 , 21 , 50 , 41 , 60] \n",
    "start = time.time()\n",
    "ans = LIS(array)\n",
    "end = time.time()\n",
    "print(ans)\n",
    "print(end - start)"
   ]
  },
  {
   "cell_type": "markdown",
   "metadata": {},
   "source": [
    "### 3. Quy hoạch động kết hợp tìm kiếm nhị phân \n",
    "Ý tưởng chính của sự kết hợp này là sử dụng các phần tử \"tiềm năng\". Phần tử tiềm năng ở đây là phần tử lớn vừa đủ để tạo thành dãy con tăng, mà không bỏ qua các phần tử khác. (Độ chênh lệch so với phần tử cuối của dãy ít nhất - và phải lớn hơn).   \n",
    "Ví dụ:    \n",
    "- **2**, 5, **3**, **7**, 11, **8**, **10**, **13**, 6 (3 được xem là tiềm năng hơn )   \n",
    "- **2**, **5**, 3, **7**, 11, **8**, **10**, **13**, 6   \n",
    "Ở 2 dãy con trên thì dãy đầu tiên sẽ được chọn bởi vì độ lệch 2 phần tử đầu tiên là ít nhất có thể   \n",
    "Hoặc đơn giản hơn, tiềm năng nghĩa là những phần tử có thể bắt đầu một dãy con tăng mới (có thể) có độ dài dài hơn dãy con tăng trước  \n",
    "- 2, 5, 3, **1, 2, 3, 4, 5, 6** \n",
    "\n",
    "Vậy tóm lại ta sẽ có 2 trường hợp để một phần tử $A_i$ có tiềm năng hay không:\n",
    "- Nếu $A_i$ lớn hơn tất cả phần tử của dãy con đã có thì mở rộng dãy con đã có với phần tử $A_i$ đồng thời lưu trữ lại dãy con cũ \n",
    "- Nếu $A_i$ lớn hơn 1 \"phần\" của dãy con thì tạo ra một bản sao, thêm $A_i$ vào đúng vị trí của nó, sau đó cắt bỏ đi phần thừa. Đồng thời cũng loại bỏ đi các dãy con có cùng độ dài  "
   ]
  },
  {
   "cell_type": "code",
   "execution_count": 31,
   "metadata": {},
   "outputs": [
    {
     "name": "stdout",
     "output_type": "stream",
     "text": [
      "5\n",
      "6.580352783203125e-05\n"
     ]
    }
   ],
   "source": [
    "def BinSearch(A, l, r, key): \n",
    "    while (r - l > 1): \n",
    "      \n",
    "        m = l + (r - l)//2\n",
    "        if (A[m] >= key): \n",
    "            r = m \n",
    "        else: \n",
    "            l = m \n",
    "    return r \n",
    "   \n",
    "def LIS(A, size): \n",
    "  \n",
    "    # Add boundary case, \n",
    "    # when array size is one \n",
    "   \n",
    "    tailTable = [0 for i in range(size + 1)] \n",
    "    len = 0 # always points empty slot \n",
    "   \n",
    "    tailTable[0] = A[0] \n",
    "    len = 1\n",
    "    for i in range(1, size): \n",
    "      \n",
    "        if (A[i] < tailTable[0]): \n",
    "  \n",
    "            # new smallest value \n",
    "            tailTable[0] = A[i] \n",
    "   \n",
    "        elif (A[i] > tailTable[len-1]): \n",
    "  \n",
    "            # A[i] wants to extend \n",
    "            # largest subsequence \n",
    "            tailTable[len] = A[i] \n",
    "            len+= 1\n",
    "   \n",
    "        else: \n",
    "            # A[i] wants to be current \n",
    "            # end candidate of an existing \n",
    "            # subsequence. It will replace \n",
    "            # ceil value in tailTable \n",
    "            tailTable[BinSearch(tailTable, -1, len-1, A[i])] = A[i] \n",
    "          \n",
    "   \n",
    "    return len\n",
    "  \n",
    "\n",
    "array = [10 , 22 , 9 , 33 , 21 , 50 , 41 , 60] \n",
    "start = time.time()\n",
    "ans = LIS(array,len(array))\n",
    "end = time.time()\n",
    "print(ans)\n",
    "print(end - start)"
   ]
  },
  {
   "cell_type": "markdown",
   "metadata": {},
   "source": [
    "## 3. Design Algorithms:"
   ]
  },
  {
   "cell_type": "markdown",
   "metadata": {},
   "source": [
    "Chúng ta có thể chia bài toán này thành các giai đoạn    \n",
    "- Nhập\n",
    "- Chuyển đổi 1 điểm từ dạng (x,y) thành dạng  $\\Delta X_i(F(X_i),G(X_i))$\n",
    "- Sắp xếp tăng dần đối với x mới (tất cả các điểm ở phía sau đều nằm ở \"dưới\" điểm phía trước) và (nếu cùng x mới thì giảm dần đối với y mới)\n",
    "- Áp dụng giải thuật tìm dãy con tăng dài nhất đã phát biểu ở trên (cái số 3 - Bởi vì cách tìm dãy con tăng dài nhất này đủ đạt yêu cầu của bài toán đã cho)   \n",
    "Với \n",
    "- $F(X_i) = f(x_i,y_i) = -ax_i + by_i $\n",
    "- $G(X_i) = g(x_i,y_i) = -cx_i + dy_i $\n",
    "\n",
    "\n",
    "> input -> n    \n",
    "> input -> a,b,c,d        \n",
    "> input -> point[1],point[2],...,point[n]      \n",
    "> Sắp xếp mảng point theo thứ tự tăng dần c*point[0] - d*point[1]    \n",
    "> Loop i <- 1 to n    \n",
    ">  Chặt nhị phân j lớn nhất thỏa lis[j] < b*point[1] - a*point[0]    \n",
    ">  dp[i] = j + 1   \n",
    ">  lis[dp[i]] = min(lis[dp[i]], b*point[1] - a*point[0])   \n",
    "> output <- len(lis)"
   ]
  },
  {
   "cell_type": "markdown",
   "metadata": {},
   "source": [
    "## 4. Implement"
   ]
  },
  {
   "cell_type": "code",
   "execution_count": null,
   "metadata": {},
   "outputs": [],
   "source": [
    "from bisect import *\n",
    "n = int(input())\n",
    "a, b, c, d = map(int,input().replace('/',' ').split())\n",
    "\n",
    "points = []\n",
    "for i in range(0,n):\n",
    "    x,y = map(int,input().split(' '))\n",
    "    points.append((x,y))\n",
    "\n",
    "points = [(c * x - d * y, b * y - a * x) for x, y in points]\n",
    "points = sorted((x,-y) for x,y in points if x > 0 and y > 0)\n",
    "\n",
    "# dãy con tăng \n",
    "\n",
    "def LIS(A): \n",
    "    l = []\n",
    "    for x,y in A:\n",
    "        v = bisect_left(l, -y)\n",
    "\n",
    "        if v == len(l):\n",
    "            l.append(-y)\n",
    "        else:\n",
    "            l[v] = -y\n",
    "\n",
    "    return len(l)\n",
    "\n",
    "ans = LIS(points)\n",
    "print(ans)"
   ]
  },
  {
   "cell_type": "markdown",
   "metadata": {},
   "source": [
    "#### Kết quả wecode \n",
    "<img src=\"https://raw.githubusercontent.com/hoangnhancs/CS112.L11.KHTN/master/resources/images/section2_Counting_stars_pic5.png\">"
   ]
  }
 ],
 "metadata": {
  "kernelspec": {
   "display_name": "Python 3",
   "language": "python",
   "name": "python3"
  },
  "language_info": {
   "codemirror_mode": {
    "name": "ipython",
    "version": 3
   },
   "file_extension": ".py",
   "mimetype": "text/x-python",
   "name": "python",
   "nbconvert_exporter": "python",
   "pygments_lexer": "ipython3",
   "version": "3.8.5"
  }
 },
 "nbformat": 4,
 "nbformat_minor": 4
}
