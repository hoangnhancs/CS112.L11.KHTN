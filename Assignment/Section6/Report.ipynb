{
 "cells": [
  {
   "cell_type": "markdown",
   "metadata": {},
   "source": [
    "<a href=\"https://colab.research.google.com/github/hoangnhancs/CS112.L11.KHTN/blob/master/Section6/Report.ipynb\" target=\"blank\"><img src=\"https://colab.research.google.com/assets/colab-badge.svg\" alt=\"Open In Colab\"/></a>   \n",
    "If it doesn't redirect into new tab, please use `ctrl` + click or `cmd` + click(for mac user)   \n",
    "![](https://i.postimg.cc/k445hYdx/logo-uit.png)"
   ]
  },
  {
   "cell_type": "markdown",
   "metadata": {},
   "source": [
    "<link rel=\"stylesheet\" href=\"https://stackpath.bootstrapcdn.com/font-awesome/4.7.0/css/font-awesome.min.css\" integrity=\"sha384-wvfXpqpZZVQGK6TAh5PVlGOfQNHSoD2xbE+QkPxCAFlNEevoEH3Sl0sibVcOQVnN\" crossorigin=\"anonymous\">\n",
    "<script src='https://cdnjs.cloudflare.com/ajax/libs/mathjax/2.7.5/MathJax.js?config=TeX-MML-AM_CHTML' async></script>\n",
    "\n",
    "<h1>N004's MEMBERS</h1>\n",
    "<div style=\"display:flex; width:100%\">\n",
    "        <div style=\"width:20%;margin: 0px auto\">\n",
    "            <h1>Thái Hoàng Nhân<br> 18521182 <br /> Leader </h1>\n",
    "            <details>\n",
    "                <summary>Image</summary>\n",
    "                <img style=\"width:100%\"\n",
    "                    src=\"https://raw.githubusercontent.com/hoangnhancs/CS112.L11.KHTN/master/resources/images/HoangNhan.png\">\n",
    "            </details>\n",
    "        </div>\n",
    "        <br>\n",
    "        <div style=\"width:20% ;margin:0px auto\">\n",
    "            <h1>Lưu Hoàng Sơn<br>18521348 <br /> Member</h1>\n",
    "            <details>\n",
    "                <summary>Image</summary>\n",
    "                <img style=\"width:100%\"\n",
    "                    src=\"https://raw.githubusercontent.com/hoangnhancs/CS112.L11.KHTN/master/resources/images/HoangSon.png\">\n",
    "            </details>\n",
    "        </div>\n",
    "        <br>\n",
    "        <div style=\"width:20%; margin:0px auto\">\n",
    "            <h1>Đào Thị Thu Nga<br> 18521135 <br /> Member </h1>\n",
    "            <details>\n",
    "                <summary>Image</summary>\n",
    "                <img style=\"width:100%\"\n",
    "                    src=\"https://raw.githubusercontent.com/hoangnhancs/CS112.L11.KHTN/master/resources/images/ThuNga.png\">\n",
    "            </details>\n",
    "        </div>\n",
    "    </div>\n",
    "\n",
    "<hr>\n",
    "<p>For Contact</p>\n",
    "<p>Thái Hoàng Nhân: 18521182@gm.uit.edu.vn or <a href=\"https://github.com/hoangnhancs\">github</a> or <a href=\"https://www.facebook.com/profile.php?id=100027617961231\">facebook</a></p>\n",
    "<p>Lưu Hoàng Sơn: 18521348@gm.uit.edu.vn or <a href=\"https://github.com/sonlhcsuit\">github</a> or <a href=\"https://www.facebook.com/sjIv3r\">facebook</a></p>\n",
    "<p>Đào Thị Thu Nga: 18521135@gm.uit.edu.vn or <a href=\"https://github.com/DAOTHITHUNGA\">github</a> or <a href=\"https://www.facebook.com/vonguocmo03092000\">facebook</a></p>"
   ]
  },
  {
   "cell_type": "markdown",
   "metadata": {},
   "source": [
    "# Mức độ giống nhau\n",
    "Một quần thể sinh vật ngoài hành tinh có gene tạo thành từ 26 cơ sở ký hiệu từ A tới Z. Mỗi gene là một xâu ký tự các chữ cái la tinh hoa. Hai cá thể khác nhau có gene khác nhau. Mức độ giống nhau của 2 gene sẽ xác định độ huyết thống của chúng.\n",
    "\n",
    "Độ giống nhau của gene thứ nhất đối với gene thứ 2 là số lượng cặp 2 cơ sở liên tiếp nhau trong gene thứ nhất đồng thời là cặp 2 cơ sở liên tiếp nhau trong gene thứ hai.\n",
    "\n",
    "<img src=\"https://raw.githubusercontent.com/hoangnhancs/CS112.L11.KHTN/master/resources/images/Section6_MucDoGiongNhau.png\"/>\n",
    "Ví dụ, gene thứ nhất là ABBACAB, gene thứ 2 là BCABB thì mức độ giống nhau là 4.\n",
    "\n",
    "\n",
    "Cho hai gene. Hãy xác định mức độ giống nhau của gene thứ nhất với gene thứ 2.\n",
    "\n",
    "*Dữ liệu*: Vào từ thiết bị nhập chuẩn bao gồm 2 dòng chứa 2 xâu khác rỗng xác định gene thứ nhất và gene thứ 2, mỗi xâu chỉ chứa các ký tự chữ cái in hoa và có độ dài không quá 105.\n",
    "\n",
    "*Kết quả*: Đưa ra thiết bị xuất chuẩn một số nguyên – mức độ giống nhau của 2 genes.\n",
    "\n",
    "*Ví dụ*:\n",
    "\n",
    " \n",
    "\n",
    "|INPUT   |OUTPUT|\n",
    "|--------|------|\n",
    "|ABBACAB |4     |\n",
    "|BCABB   |      |\n",
    "\n",
    "\n",
    "\n"
   ]
  },
  {
   "cell_type": "markdown",
   "metadata": {},
   "source": [
    "## 1. Abstraction\n",
    "Tìm số cặp 2 kí tự liên tiếp giống nhau của chuỗi A và B\n",
    "### Constrain: Độ dài của chuỗi không vượt quá $10^5$\n",
    "### Ví dụ: \n",
    "|INPUT      |OUTPUT      |\n",
    "|-----------|------------|\n",
    "|ABBACAB    |4           |\n",
    "|BCABB      |            |"
   ]
  },
  {
   "cell_type": "markdown",
   "metadata": {},
   "source": [
    "## 2. Pattern Recognition"
   ]
  },
  {
   "cell_type": "markdown",
   "metadata": {},
   "source": [
    "## 3. Design Algorithms\n",
    "- Ý tưởng: Tìm tập 2 kí tự liên tiếp của chuỗi B. Sau đó duyệt chuỗi A và xem các \"2 kí tự liên tiếp\" của A có trong tập hợp vừa tìm hay không?\n",
    "- Vì khá đơn giản nên ta có thể tiến hành cài đặt luôn."
   ]
  },
  {
   "cell_type": "markdown",
   "metadata": {},
   "source": [
    "## 4. Implement\n"
   ]
  },
  {
   "cell_type": "code",
   "execution_count": 1,
   "metadata": {},
   "outputs": [
    {
     "name": "stdout",
     "output_type": "stream",
     "text": [
      "{'AB', 'BB', 'CA', 'BC'}\n",
      "4\n"
     ]
    }
   ],
   "source": [
    "genA = input().strip().upper()\n",
    "genB = input().strip().upper()\n",
    "# genA = 'ABBACAB'\n",
    "# genB = 'BCABB'\n",
    "temp = set()\n",
    "# gen =None\n",
    "# gen = genA if len(genA) > len(genB) else genB\n",
    "count = 0\n",
    "for i in range(len(genB)-1):\n",
    "    pair = genB[i:i+2]\n",
    "    temp.add(pair)\n",
    "print(temp)\n",
    "for i in range(len(genA)-1):\n",
    "    pair = genA[i:i + 2]\n",
    "    # print(pair)\n",
    "    if pair in temp:\n",
    "        count+=1\n",
    "print(count)"
   ]
  },
  {
   "source": [
    "## 5. Result:"
   ],
   "cell_type": "markdown",
   "metadata": {}
  },
  {
   "source": [
    "![image.png](data:image/png;base64,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)"
   ],
   "cell_type": "markdown",
   "metadata": {}
  },
  {
   "cell_type": "markdown",
   "metadata": {},
   "source": [
    "# Địa lan \n",
    "Giáo sư Braun đã lai giống tạo ra n loại địa lan mới độc đáo. Mỗi loại địa lan được trồng trong một chậu riêng và được ghi một số thể hiện đặc điểm gene của loại hoa đó, chậu thứ i có số là ai, i = 1 ÷ n.\n",
    "\n",
    "Hội chợ hoa địa lan thế giới mời giáo sư tham gia và giới thiệu các thành quả nghiên cứu của ông. Các chậu hoa do ông mang tới sẽ được đặt trên k đôn dọc theo đường đi dẫn tới gian hàng chính của hội chợ. \n",
    "\n",
    "Muốn gây ấn tượng mạnh cho những người tham dự, đặc biệt là các nhà khoa học Giáo sư yêu cầu trợ lý của mình chọn k chậu sao cho khi thực hiện phép AND số trên các chậu hoa tới (nếu xét chúng ở dạng biểu diễn nhị phân) sẽ có kết quả bằng 0.\n",
    "\n",
    "Hãy xác định xem người trợ lý có thể chọn được k chậu như vậy hay không và đưa ra thông báo “YES” hoặc “NO”.\n",
    "\n",
    "*Dữ liệu*: Vào từ thiết bị nhập chuẩn:\n",
    "\n",
    "Dòng đầu tiên chứa 2 số nguyên n và k $(1 \\le n \\le 2.10^4, 1 \\le k \\le n)$,    \n",
    "Dòng thứ 2 chứa n số nguyên $a_1, a_2, . . ., a_n (0 \\le a_i \\ge 2_{12}, i = 1 \\div n)$.   \n",
    "\n",
    "*Kết quả*: Đưa ra thiết bị xuất chuẩn thông báo tìm được.\n",
    "\n",
    "*Ví dụ*:\n",
    "\n",
    "|INPUT |OUTPUT|\n",
    "|------|------|\n",
    "|3 2   |YES   |\n",
    "|5 4 3 |      |"
   ]
  },
  {
   "cell_type": "markdown",
   "metadata": {},
   "source": [
    "## 1. Abstraction"
   ]
  },
  {
   "source": [
    "Cho dãy gồm $n$ số nguyên dương và số $k$. Có tồn tại hay không $k$ phần tử trong $n$ thực hiện phép $and$ thu được kết quả 0. Nếu tồn tại xuất $YES$ ngược lại xuất $NO$"
   ],
   "cell_type": "markdown",
   "metadata": {}
  },
  {
   "cell_type": "markdown",
   "metadata": {},
   "source": [
    "## 2. Pattern Recognition"
   ]
  },
  {
   "source": [
    "Tìm ra những số có bit 0 khác nhau rồi tiến hành thực hiện phép AND với chúng"
   ],
   "cell_type": "markdown",
   "metadata": {}
  },
  {
   "cell_type": "markdown",
   "metadata": {},
   "source": [
    "## 3. Design Algorithms"
   ]
  },
  {
   "cell_type": "markdown",
   "metadata": {},
   "source": [
    "## 4. Implement\n"
   ]
  },
  {
   "cell_type": "code",
   "execution_count": 1,
   "metadata": {},
   "outputs": [
    {
     "name": "stdin",
     "output_type": "stream",
     "text": [
      " 3 2\n",
      " 5 4 3\n"
     ]
    },
    {
     "name": "stdout",
     "output_type": "stream",
     "text": [
      "{2}\n",
      "{2}\n",
      "{1, 2}\n",
      "{1, 2}\n",
      "{1, 2}\n",
      "{1, 2}\n",
      "{0, 1, 2}\n",
      "{0, 1, 2}\n",
      "{0, 1, 2}\n",
      "{0, 1, 2}\n",
      "{0, 1, 2}\n",
      "{0, 1, 2}\n"
     ]
    }
   ],
   "source": [
    "# n, k = map(int, input().strip().split())\n",
    "# a = list(map(int, input().strip().split()))\n",
    "\n",
    "# result = a[0]\n",
    "\n",
    "# for i in range (1, len(a)):\n",
    "#     result = result & a[i]\n",
    "\n",
    "# if result == 0:\n",
    "#     print('YES')\n",
    "# else:\n",
    "#     print('NO')\n",
    "\n",
    "# print(4 & 5 & 3)\n",
    "# result = 3\n",
    "# for i in [4,5]:\n",
    "#     result = result & i\n",
    "\n",
    "# print(64 & 15)\n",
    "\n",
    "# n, k = map(int, input().strip().split())\n",
    "# a = list(map(int, input().strip().split()))\n",
    "\n",
    "# if (k >= 12):\n",
    "#     t = a[0]\n",
    "#     for i in a:\n",
    "#         t = (t & i)\n",
    "#     if (t==0):\n",
    "#         print(\"YES\")\n",
    "#     else:\n",
    "#         print(\"NO\")\n",
    "    \n",
    "# else:\n",
    "#     flag = True\n",
    "#     for i in range(n - k + 1):\n",
    "#         if (flag == False):\n",
    "#             break\n",
    "#         t = a[i]\n",
    "#         for j in range(k):\n",
    "#             t = (t & a[i + j])\n",
    "#         if (t == 0):\n",
    "#             flag = False\n",
    "#             break\n",
    "#     if (flag == False):\n",
    "#           print(\"YES\")\n",
    "#     else:\n",
    "#           print(\"NO\")\n",
    "def search_bit_zeros(a):\n",
    "\n",
    "    bit_zeros = []\n",
    "    bin_a = bin(a)[2:]\n",
    "    bin_a_reseved = bin_a[::-1]\n",
    "    for i in range (len(bin_a_reseved)):\n",
    "        if bin_a_reseved[i]=='0':\n",
    "            bit_zeros.append(i)\n",
    "\n",
    "    return bit_zeros\n",
    "\n",
    "n, k = map(int, input().strip().split())\n",
    "a = list(map(int, input().strip().split()))\n",
    "\n",
    "\n",
    "max_a = max(a)\n",
    "#print(max_a)\n",
    "min_a = min(a)\n",
    "#print(min_a)\n",
    "max_length = len(bin(max_a)[2:])\n",
    "#print(max_length)\n",
    "min_length = len(bin(min_a)[2:])\n",
    "#print(min_length)\n",
    "\n",
    "\n",
    "check = [i for i in range(max_length)]\n",
    "\n",
    "difference_bit = [i for i in range(min_length, max_length)]\n",
    "\n",
    "res = set(difference_bit)\n",
    "count = 0\n",
    "\n",
    "for _ in a:\n",
    "    tmp=res.copy()\n",
    "    print(tmp)\n",
    "    print(res)\n",
    "    if tmp.update(search_bit_zeros(_))!=res:\n",
    "        res = tmp\n",
    "        count += 1\n",
    "    print(tmp)\n",
    "    print(res)\n",
    "    # if count<=k:\n",
    "    #     if res==check:\n",
    "    #         print('YES')\n",
    "    #         break\n",
    "    # else:\n",
    "    #     print('NO')\n",
    "    #     breakk"
   ]
  },
  {
   "cell_type": "code",
   "execution_count": 2,
   "metadata": {},
   "outputs": [
    {
     "name": "stdin",
     "output_type": "stream",
     "text": [
      " 3 2 \n",
      " 5 4 3\n"
     ]
    },
    {
     "name": "stdout",
     "output_type": "stream",
     "text": [
      "YES\n"
     ]
    }
   ],
   "source": [
    "n, k = map(int, input().strip().split())\n",
    "a = list(map(int, input().strip().split()))\n",
    "\n",
    "result = a[0]\n",
    "\n",
    "for i in range (1, len(a)):\n",
    "    result = result & a[i]\n",
    "\n",
    "if result == 0:\n",
    "    print('YES')\n",
    "else:\n",
    "    print('NO')"
   ]
  },
  {
   "source": [
    "## 5. Result:"
   ],
   "cell_type": "markdown",
   "metadata": {}
  },
  {
   "source": [
    "![image.png](data:image/png;base64,iVBORw0KGgoAAAANSUhEUgAABlkAAABjCAYAAAAYX2YnAAAgAElEQVR4Ae2de4wd1Z3n+Y/n8AqExECYRnTcLVlE/BEkNCJ/gDwZs8ygQBAKaMfxWgGU4EWIjZiAgM0m7eDgXSNkmTD28IoJGNsaO1mCx8I2mImNBmwPE5xkZUJig2jGHiYxFqEdgn6rU3Xr3nqee6pu1b3n1Pm01Lr31nnU73y+59H3fLuqjnnzwDvCTz4B2ORzMT0KP1NS5IMABEZNgPlq1Ar4dX76m5t6oxu6uUnAn6gZo/5oTUshAAEI+E6ANc/3HkD7bSOgxuQxDMxiWWBTzMYkBX4mlMgDAQjYQID5ygYV/ImB/uam1uiGbm4S8Cdqxqg/WtNSCEAAAr4TYM3zvQfQftsIqDGJyaJRhUlLA8cgCX4GkMgCAQhYQYD5ygoZvAmC/uam1OiGbm4S8Cdqxqg/WtNSCEAAAr4TYM3zvQfQftsIqDGJyaJRhUlLA8cgCX4GkMgCAQhYQYD5ygoZvAmC/uam1OiGbm4S8Cdqxqg/WtNSCEAAAr4TYM3zvQfQftsIqDGJyaJRhUlLA8cgCX4GkMgCAQhYQYD5ygoZvAmC/uam1OiGbm4S8Cdqxqg/WtNSCEAAAr4TYM3zvQfQftsIqDGJyaJRhUlLA8cgCX4GkMgCAQhYQYD5ygoZvAmC/uam1OiGbm4S8Cdqxqg/WtNSCEAAAr4TYM3zvQfQftsIqDGJyaJRhUlLA8cgCX4GkMgCAQhYQYD5ygoZvAmC/uam1OiGbm4S8Cdqxqg/WtNSCEAAAr4TYM3zvQfQftsIqDGJyaJRhUlLA8cgCX4GkMgCAQhYQYD5ygoZvAmC/uam1OiGbm4S8Cdqxqg/WtNSCEAAAr4TYM3zvQfQftsIqDGJyaJRhUlLA8cgCX4GkMgCAQhYQYD5ygoZvAmC/uam1OiGbm4S8Cdqxqg/WtNSCEAAAr4TYM3zvQfQftsIqDGJyaJRhUlLA8cgCX4GkMgCAQhYQYD5ygoZvAmC/uam1OiGbm4S8Cdqxqg/WtNSCEAAAr4TYM3zvQfQftsIqDGJyaJRhUlLA8cgCX4GkMgCAQhYQYD5ygoZvAmC/uam1OiGbm4S8Cdqxqg/WtNSCEAAAr4TYM3zvQfQftsIqDGJyaJRhUlLA8cgCX4GkMgCAQhYQYD5ygoZvAmC/uam1OiGbm4S8Cdqxqg/WtNSCEAAAr4TYM3zvQfQftsIqDGJyaJRhUlLA8cgCX4GkMgCAQhYQYD5ygoZvAmC/uam1OiGbm4S8Cdqxqg/WtNSCEAAAr4TYM3zvQfQftsIqDGJyaJRhUlLA8cgCX4GkMgCAQhYQYD5ygoZvAmC/uam1OiGbm4S8Cdqxqg/WtNSCEAAAr4TYM3zvQfQftsIqDGJyaJRhUlLA8cgCX4GkMgCAQhYQYD5ygoZvAmC/uam1OiGbm4S8Cdqxqg/WtNSCEAAAr4TYM3zvQfQftsIqDFphcly9P3DcuSdvfLyazs7v3tlvzr2wWiRMWkNxh9+g/GjNAQgMDwCzFfDY82ZROhvbvYCdEM3Nwn4EzVj1B+taengBI5s2iJvffUW+fUlfyVvfH7uyH9VHCoeFRc/EIBAfwKsef0Z5eb496dFdv+FyPYTRV48lt80A8VF8VGc+ClFQI3J0ZgsH7wlu7cvkzsfu0LmLZ8tl+t+V1whNz29TDb84i05+sdS7Rs4M5PWYAjhNxg/SkMAAsMjwHw1PNacCZPF1T7APOGmcujmpm5VokbrKtQo4yOB/3jgYfnNX147cmMlz9xRcan4+IEABPQEWPP0fHJTf32HyI5zMFbSxkreZ8VJ8eLHmIAak8M1WQ7tlEeevq6/sVJkuqy4Tu78p50yPSSzhUnLuC/lZoRfLhYOQgACFhJgvrJQlBaHRH9zU1x0Qzc3CfgTNWPUH61paXUC6koRWw2WyHRR8XFFS3WNKekHAda8kjqrKzMwWMoZTIoXV7QYdzQ1Jodjsnzwhmx45kvVzZW06bLiS3Lv9jfkiHFTq2Vk0qrGLSoFv4gErxCAgO0EmK9sV6hd8dHf3NQT3dDNTQL+RM0Y9UdrWlqdgLolV2Rm2Pyq4uQHAhAoJsCaV8wmN0XdAivvig2O6bkobvwYEVBjsnGT5civHpGbVhTfEmzew/Plzo3LZPXO6Hks4etPty6TpU/Pl2t1ZR9/RHa/b9TWSpmYtCph6xaCXxcFbyAAAcsJMF9ZLlDLwqO/uSkouqGbmwT8iZox6o/WtLQ6AVuewdLP4FFx8gMBCBQTYM0rZpObwjNY9GZKkdmkuPFjRECNyUZNlv3bb8m/emXFfFm6fY/sN3yw/dF39siGjfML6rpFNrxt1N7SmZi0SiNLFIBfAgcfIAABiwkwX1ksTgtDo7+5KSq6oZubBPyJmjHqj9a0tDqBfuaGTenVW0lJCLSfAGteSY2LTASO9zdfSqL2Nbsak42ZLNPbb8yaIsFtvvbKkY8rIn9/b/5tx1bcKBumK9apKcakpYFjkAQ/A0hkgQAErCDAfGWFDN4EQX9zU2p0Qzc3CfgTNWPUH61paXUCNpko/WKp3kpKQqD9BFjzSmqMmdLfTCliVBK1r9nVmGzEZMkzWOY9tkxefq8e1O/9fFn2FmQNGC1MWoPpBb/B+FEaAhAYHgHmq+Gx5kwi9Dc3ewG6oZubBPyJmjHqj9a0tDqBfsaGTenVW0lJCLSfAGteSY2LDASO9zdfSqL2Nbsak/WbLNNrZVHqQfXXPrNZpqtevVKkzvRmuXdl6lkvj6+t9TxMWkXwzY7Dz4yTl7kOi3zjXpHL1ot8WBOA6a0ix9wlsqOm+qjGLwLMV37pPerW0t9GrUC186NbNW6jLoVuo1ZgeOdH6+Gx5kzuErDJROkXi7uUiRwCzRNgzSvJGDOlv5lSxKgkal+zqzFZr8ny8V75Qcr4mPfDeo2PhFjK0FmRNFqu3bQ3kWWQD0xag9DjP3UHo+dO6ScfCM0NZXB0f5WB8oDI0q0i0x/ltOWgyEJMlhwwHBoVAeb7UZH387yt7m9/eks2/t1/kQXrDrVO3Fbr1jq1eg1Ctx6Ltr9D67YrTPvqINDP2LApvY72UgcE2kqANa+kskUGAsf7my8lUfuaXY3JWk2W/Vuuk8vjV7GsvE92Gz7cvqoIR/beJ9fGz7n8Oll9oGptyXJMWkkeZT/BrywxN/MHJssSkfWviWx5TeTZrSJL14os/J7Ip5TxcrfI0l823zauZGmecZvPwHzVZnXta1sr+9ufZuTAP/9Arr94UsbGJzFZ7Ot23kbUyvHmrZr6hqO1ng+pEFAEbDJR+sWCYhCAQDEB1rxiNrkpmCn9zZQiRrlAOZgmoMZkfSbLBy/IVOKqkvrMjnTg6c9pc2fe2hfkSDpThc9MWhWgxYrALwajxW8Dk+UBkemcNn74rshdU+EVLqtqMj9zThMcwmQpIsNxEwLMVyaUyFMXgbb1t8P//IBcE5grF8v1d31TrsRkqaur2F/P9DpZMH6TrMn7I8CS6Ns23iKsu5ZMytiSPdFHXoWr6OkEEDAh0M/YsCndpD3kgYCvBNr6901jehYZCBzvb740Jkq7KlZjsjaTZf/W5FUsV23cI0cb4DW9b6fsfmcmWfPMHnnw4fhtw66TZ95OZqnyaeSTVvDFtei/QffI1Hj436LqP0bHFq6Tg6qRr34/+A/S4Fg8PZ6nCowKZUbOr0LMFClPQGeyBLWp56/cLXLMCpHfla/euAQmizEqMuYQsHq+yszr35ddmTYckjULc9aEKF9nPemtDfmbogfX3RRbQ/LzRFUWvaqNv/xbRaXWrRKbg8FmYnxN05QN2qBJL4p7mMet7m8VQBxc99/lmm8+IjvURrv2b5cKlVtUpHHdonEa/U2XanvQtwvSUlm1H5PjPDZvVBk3QczV5gptkDUmNq5bn1hzedeg48hNlvTaVEOb+qDsmzxqrfsGSAYIWEDAJhOlXywW4CIECFhLgDWvpDSYKf3NlCJGJVH7ml2NyZpMlr3yg4TJcYv89D/rx7r/hRtlnro12IobZfVvkkbLeztvSdyq7Koans0y6kkr2lTKbFZ1voRPvWrKONzYMs9vWq8+36j56aMjtS4CfU0WEdm9Prya5dnYJWbfvUvk6q2pKI6IrH9K5LJvd57vcq/IwvUiv/s4lS/nY5HJMr1H5BsPiIx1nhkzuVTkyd8mK+iW/VjkF1tFruicf2xKZPkQbnWWjIZPoyBg73x1SNYs6ZjoHTDB2pDYzOoYLN0N0vRnkV1LksZMuOmnP5aXp1ibpMmTWbckXId6x9Ofi2tWm/ZTied75JeN1szASOqy0NQ7wiR7+1sNUDBZqkOMTJaCK4GCMZkY+9VOlV9PNIZLGiaYLH1FyPLusC6hZbYONa+P9kqWg+vWxQz/8m3qC65ChlbPrRV4UAQCeQT6GRs2pefFzzEIQCAkwJpXsicUGQgc72++lETta3Y1JusxWfY9JFfFnosyb/3Omq9imZF9WzoGS3SeFTfKhvitCWZ2Jm9X9vBDsndAZUc6aan/Dlv4fZlamP6P4PBLTBnDJO+L2YBojIqPlJ9RhGSqg4CJyaIG4zF3iXw3NijzTBZV16e+J7L8Z+HzXdavDZ/rcslakQ/7BNs1SuL5Oue9+imRZ9UzY14R+Ya6fdndIuuDS7/CzFHZ7yqD59FU3rtEVr0Tr5T3bSTg1HyV3tQM/ps4aZiEVxPoNkvT5nv6s1I5XG96xkix8r11Jr9MLz1WR17csWTd20x9sbpGvfGoiztKc6q/RUGbvmKymJLK5ovG9jp1VXJ2/Gb6fbYGoyO6erImbp8qo5jjf5P3KTLs5FGPt1zeJbnl1WHdXBebh4etcXS+UWsdxcErBGwmYJOJ0i8WmzkSGwRGTYA1r6QCmCn9zZQiRiVR+5pdjclaTJbpF+bHriK5UKb+NXmVyWCAcwyWwGi5UP7HzkOxqmfkpfUXxuKYL88M+IVvdJOW2uxSX65zNqtKf4HJ2ziLYWvw7ej4Ndgoqu4R6BgYyjxJ/z4ZMzCCAu+KXG1gsjy7KXvVyrP/ENa/o8/VLJFRsqMXocgvRValrlqR34pcpq6ieb6XMSp7yVMpM+eAyBV3iVz0j728vGsnAafmq9TmXP5GW7+5P5VesLbk163rAznrVpFZk2qHrtZ0Wt6GY5SnfMxRyeG9OtXfymIJdE3/g0jZSuzM37husTER9OPUlQ75/T4cy/1uBRgnml9PJ0cshm6Zjqbdc8SvFMvJH9Qfu71f16jNyRuco2D+6Z5/wDeN69YnvnzevTk4f86K5tL/l7wVZOz2v1G5JO+U4a5iC/jGbguX6lc9Uz7Zl7q69WlfN7lhHbvn0bwZtdaa0EiCgDUE+hkbNqVbA41AIGAhAda8kqIUGQgc72++lETta3Y1JmswWWbkpbXx56HcLlverwtpscFyw//dk3m4/ZGXb4+ZLLNlavdgZs9oJq3oS5UykOLvQ6bBF6kleyT5hSr7346RAvlf7KLUZl9Hw6/ZNlF7jMDbIkvXilz/HZFjviNy19rwszq2I3ZbsKDEPpGLDEyWWO3dt5EBkjFuujnCN1G+hMmSyhN9VFfRHPNU9EkkKvvku71j0bulqn1PRp94bSsBl+ar5LyeXSdCjYqOdxRMbYYl6+ypXHS8lyP9Lu+8vc3EZO6i48lc2U955+jlijYee0fse+dSfytNr7MhX3qDtvSJhl+gcd0SJkQ4PuIcM+Mxj3VnQ113xXOmngTK1LhMxKQyhuOv+8D1TPoemcqYMJMSxpM/dpses43rluCX/ZDLO84tNR8HNcTTRcK/+1PmSMAtcWu5lDZRudRVUWG5mBkTnEuZMLFjQUzF3y+yrcz212ye5o+MWuvmW8gZIDA4AZtMlH6xDN5aaoBAewmw5pXU1nUzZcMZskD93bf4hP6mSN1tLYna1+xqTNZgsrwlzzwWM1lWrZb9tRAtZ7AEpzywWm6Ibie2fLbc9MJbA0Uyikkr+UUz+2U0+4Wq88Ur/sWo2+qwvO6LdjdrA29Gwa+BZlBlHwImtwv7cFd4NcqqA73K8m4XJh+J/OI1keVrw+eoXPa98HZh6kqZqibLh++KrN8ksvRxkcuWiFxyb+fKmxyTJc+gMWlfr1W8c5WAM/NVZgM1u06EGhQdz38wee4mYLRBl9rY02ucd97Upm23gqLj3Qy5bzIbhKlcyXU0lWjJR2f6WxVenQ3buDlQpRobyzSuW2pjPbwCobfRnR6nRX296HjENF1PdDx8Tf7tqOrKaBk3BdIxJyvrmjLdOlTZxJyi5oFeGzPFazjQuG59YszyDue+rlHVMa7if68HZWJmVbaOzjNZEiyjq1Yis6Rojk0d74zZ+PkjM62rW24bw74SXuHUrIa5p885OGqtc0LiEASsI9DP2Cif/l/l3XX75GPZL4c/P1fKly8uYx08AoKARQRY80qKUbfx8OzJsvG2c+X6S2dL92rv8Un53KXny8pHj63fCMFkKSn48LOrMVmDybJHHowZG5f/8CfyXlFbPjgsR/9YlBg/Xmyw3LRpb+YKlm7J934ii+KxbNzTTaryZtiTVvYLVHazKvjinP5ClXmgcKe18S/BVQAMWGbY/AYMl+IVCZiYEFt+GF7tsjt2y6+MyfKuyEJlgKiH3T8usnRT+FyWZ9eGpkgVk2VH55ku6mH36kqbJ18R2fJLkW8UXMmCyVKxE7SgmAvzVTD/ZzYjs+tEKEf+8WCdGY/+q7wnXHb9CdPix6Oy3T8iYxuAvZryzpva0Otmjh8Py3XrzolROmtdcoO2W1n3Tb8N5m7GEb5xob9VxoPJUhld77ZNvSrif/fFx2O0CZ7cGO+UyxgZvfrUu2Q9ybRonIX1Zsdlb4x2NvJzTZZwbPfyxo0alRbbkO8Tazq6Kp9HPd4yc2fi6pOwRUGe7pwaco9rm6dZ7lwX/9s/0CYyXJLkVNmugZKrYd5cnqwj+SnqK/nnS+Zt7tOotW6uZdQMgfoI1GmCvPW/Nsof3jnaCQ6TpT6VqAkC/Qmw5vVnlMhRo8ly4P5zZK66hetFF8jNX/u0rFx8muy4/0xZetun5Z7rLpDlqzBZEuw9+aDGZP0mS4GxcWTvfXKtMkBW3ie7P9ARnpG9m66TeXGzJHh/oWgNlqDKlOFTEIvu7PG04U5a2S+k8S+n0SX8eV+yoi/a3S9LnUbkfvmKN7Dh98Pl13BjqL6QQD+T5cO9IpeoZ6BsTVaRNll2PBUaMTtST7h/8/mKJsvB8Dkw8WevBBF8LHIXJktSDD6J3fNVZ/MqY7CHwuXP9XEDI5Yv96rH9H8/9zpEft299Oy7vI25vGPRFTWxzdZsZb0jJTbuy8fcO82w3tnd3wakUEKrAc809OKN65a72R2OZfU3XvJvwHBcxTfiu0D6GBfJerqlwjdBDNFGueYcUbFUzEHdCZM0O/7VGI3+ZlXvc9sQ1V/Da+O69YlRyzsqG+eu3qfm+7w6cue6kZksqiHZdSdq3rBeR631sNrJeSAwCIF6TJZH5Q+/60RxdFr+FNwuHpNlEF0oC4GyBFjzShKryWQ5sPg8mRifkCu/fpoc3NaAmVIUJ1eylBR8+NnVmByKydI1WCLjpNBoGcRgUQBdNlnyOkD2i2l464joy29UJu9LTd6xKP9wXpn0h8N51GfRmSzTe0SuuFvkU8tF3oxdxaJiTpss65eLHPN/RN6MN+hjkVVLK5osvwxvNXbXa/EKRdStyz6FyZKEwieLTZZwHejdViYrVt7mW/gf8b21ItiMS23aJWpKbZSGaQYbrIlK1IecdUs6t7Xp/pd2p1CfjeBu1UFs5huxuRuP3crseNPq9bGjV7SJbgfxeqJoXLfccRiZoDfJmnXJW20V9fWi4xGF3DkjSMyO3351Ja++yZbPnRNUO4P5SP2t2punovjqfm1ctz4BF/NOFlSsleGk8qfHT14dudrETZZC0yP1HSG33+VpmYw3+ylVbzZD40dGrXXjDeQEEKiBQD0my3Ny9E9H5OjP1sq7V8+Vw79RgWGy1CAPVUDAmABrnjGqMGOReVHmeMfomLvoFJkpU66OvJgsJQUffnY1Jus3WTK3CzskGx6PPbOlY7TMW7UsdUXLoAaLiDh+u7BsF8j7ghMei2+4BV+y0ptniS9Z2ZqHcYRJfxiUR3+OwGRZIrL+tc7tvbaKLH1S5Ipvh+bIZY+KvPlRNs60yfLmpjD/FU+KPKvqekXk9u+JfOPvK5osR0XuulvkmCmR5T8LY1u/XmTy70UWYrJkBfH8iLXzVbD51W8TMtzY6m3KpdcOld7/ipH0WpK3qde/m6TP3SkRtCNulJhvxgVxpA0aTSC5G4+a/KNIsra/1QGjo3WvP9ZRqR11NK5b7mZ32PagX6vbEsT/3stjHfz9px/vuWO7U1f878vgzEF98bEbXoU2te5QGFgq5vT4C86VuT2Wmic6plGJsV21FzSuW5/AcnnnlVGsl6wL2UynMuT8XZ9mHZRI5Qv5J/tDUC7Tj5J5cs2xREh7ZCqlXdhH+61XiUpq/zBqrWtvEBVCoAEC9ZgsyeeoYLI0IBRVQqAPAda8PoDSyTUYHa9/c1zG5pwt2zaXvIJlw6my8m//XOZeNCnBHYsuukCu/9tPyo4f59dz8KFPyq1XfFYm1N/+cz4rCxadJgfWFjz4ftsJsuNb58o1F08EdU9cPCa3fuvUeq+ySbPkcy4BNSZrMFkMHnz/9lpZtCLHaHnsIdkb3DqsBoNFNbEFD75PKlWwWdX5T+Hu7cTiX5Q6FRh/oUuesNZPTPq14rS2ssBkUaZF7HdsKnyuyrNvF4edNlnkY5Ed63sPph9bIrLqlyJvbq1osojIh78VuX1p58qVu0Wufyo0fNS5j+HB98XieJhi7XzV2eDszvfqD63oN7HBFZoWUVpigzvaPI3KxV9T60e4SdY5RyrNrFsUrVvR7cF68ZveIigRUzz2xC2JetEF+RNsemm2vLO2v9UBKG/jv456Laijcd1ShkWyyZ0xnh6XmfHdf5M7Mj6i+SJ8TW+yx86emYdi58jEnJ6L9siahb3bg0W15m3+R2l1vzauW5+Azf8m77DLnb/CuTXQqtMHcue6lMmiQsvona4/o6EqpZnLg/bG4onm5XTf7MOlieRRa91Em6gTAnUTwGSpmyj1QWA0BFjzSnIf2GQ5SZ6YOyljXzut1FUsM6s+LVfOmZSJy86VlfefKjseOlW2LZ4l1yvDZc55smZ90mjp3o7shk/KxodU/k/IyhvOl89deoF8Qf3j0uITRKK2bDtR1nx5QsbmjMmUei6Mqvvb54Tnu+F0ORzlG/S1JGpfs6sxWYPJMiMvrY0bKLfLluCenCmsRUbLD1fLTys/gyV5jiMv3y6XR7ckWz5bpnbPJDOU/MSkVRJYKjv8UkD4CAEIWEuA+cpaaVoZGP3NTVnRrT7dzI2Hwc/pjm6hyWJqQA9Opn01uKN1+9jTIncIYLK4oxWRQkBHgDVPRycnbVCj4cVTZGp8Uq6856SeydGvzudPkalLJmXiy2fIgfTzWzafIlOXTsrYVz7RM0M0tyN7/ZsXBP9sGTdZDi4+T8bGs0bNzMOz5Avj47J8ddLA6Zoz/eJOp+fg5FCWgBqTNZgsItMvzI+ZGxfK1L8WmBsFRkvcGAnfXyiLtrwhR7Ixa47MyEvrL4zFMV+eSV9qrymdl8SklUfF/Bj8zFn5mFM9g2XsH0SiZyb6yIA220OA+coeLXyIhP7mpsroVpdu/a6SqOs8YT3O6JZzFUq9JNpfmzNat18KWmgxAUwWi8UhNAiUIMCaVwKWypo2Dkp/Dk2WuMnRr86Z5WfLmDI7Hs83OyKTZGPntmEHvvPnMjb+Gdn4bE7+9WfI9YkrWTRX1mw7NTCEysSqbUtJ1L5mV2OyFpNF9j0kV8WuIJm3fqccLaLa12ipYrCIyMxOmYrfkuzhh2RvUQyGx5m0DEEVZINfARgOBwQwWegINhFgvrJJjfbHQn9zU2N0q0m3IZsJbug2XOOpJiWtq8YNra3DRkCeEcBk8UxwmttaAqx5JaUtbaqkjY5TZOmcSRn7+qnGhk1oopwt255P19X5vGqWjI1PyNJHw8+7Fk3K2NwzZV9erJkH34emT/L2v71bcwfHF51iHCsmS8n+lJNdjcl6TBbZKz94OH7LsFvkp/+Zc8boUKHRUtFgUc+833lL7CqW2XLVpkEtFhEmrUiwaq/wq8aNUhCAwPAJMF8Nn7nPZ6S/uak+ug2qW/S8Fs3zXwY9RU5523XrPjMl/ayUnLZwSE/Adq310ZMKgeEQwGQZDmfOAoGmCbDmlSScZ1yUOna8bLphUsYuOUteT9/6q6CeSibLX58hB/LqKzBZ5t78ieBZLOp5LJnfHx2PyVKymwySXY3JmkwWkf1br0uaHBv3FF/NoqLOGC3VDRaZ2SMPJkye6+QZzQO3TaExaZmSys8Hv3wuHIUABOwjwHxlnyZtjoj+5qa66IZubhLwJ2rGqD9a09LqBDBZqrOjJARsIsCaV1KNPOOi5LGZh86WifEJWbD4RCPzwux2YefKpufCK1lev2NcxsYLrnxZc6Zcmbhd2Mmy/JJJGfvaaTJTsh3aq1by6iqJ2tfsakzWZrLIBy8kb9e1/DpZfaAP2q7RMoDBIiL7tyQNnnlrXyj5PJf8OJm08rmYHoWfKSnyQQACoybAfDVqBfw6P/3NTb3RDd3cJOBP1IxRf7SmpdUJYLJUZ0dJCNhEgDWvpBp55kHpYyfIxi9PyNj4BXLH/QZGy/Onyj1z9A++n7jh9N6D71fNkgllpHwnVfe242Xb19R5JyX+nJXXv6lMmeyD70ubKP04lETta3Y1JuszWXLMjstX3ie7P9DjPfKbn8iG1w7pM2lSj+y9T66NPQ/mchNzR1NfPIlJK06j/Hv4lWdGCQhAYDQEmK9Gw93Xs9Lf3FQe3dDNTQL+RM0Y9UdrWlqdACZLdaGXhusAABpPSURBVHaUhIBNBFjzSqrRz0gwTd98kjzxldmB4TFx8Xlyz21nykZ1q677z5Slt82SW6+6QJav6j2DZWbVLJk7PikTl50rK+8Pb+m1bfEsuf6iSRm7dJbs2tzLKy9GJs6EXPP1M2SbqvfBM2Tqqs/KgkWzUg++P1Zk8ykydemkjM05X279Vu+2YRu/PUtu/eJZssu0Tf3ylUTta3Y1Jms1WeTjvfKDlfFns8yWeT9cK9MfN4R4eq0sij/sfvlsubaGZ7FE0TJpRSSqvcKvGreRlDqyW+TnfyOy/c+MLnus3RnXTeoqJhWbirHPz2vvHZbrt7wq56zeLGc9sWmkvyoGFYuKiR/7CTBf2a9RmyKkv7mpJrqhm5sE/ImaMeqP1rS0OgFMlursKAkBmwiw5pVUQ7fnVCHt4ENnyj3XnS8Xz4k9bP6iC+TKq86VjWvjxsmxMrP2NFkeyztx8Zjc+q3T5EDCYOmU2XaC7PjWuXLNxeGVK5+79DMydf9JMpN5Jksn/3Mny8ZFn5G5yrQZV4bLZ4MYVj54Yn23ESuJ2tfsakzWa7Ioksr4SFxZMluufWZz/UbL9Ga5N2XoXP54vYYOk9ZgQwN+g/EbWmllXigj4yULDZZosVOxqRg1RosyM5SxYYPBEhk8UTwYLUPrzZVPxHxVGR0FKxCgv1WAZkERdLNAhAohoFsFaI4WQWtHhSPsoRJowmRpqs6hguFkEHCMAGteScGivSVey/9jdUnUvmZXY7J+k0X5LNtvlHkpo2XeY8vk5ffqQf3ez5fJTakrWC5fcaNsmK6n/qgWJq2IRLVX+FXjNvRS6ioRmw2WaBFUMapYC35suYIlMlii1+iKloKwOWwJAeYrS4TwJAz6m5tCoxu6uUnAn6gZo/5oTUurE2jKEGmi3uqtpCQE2k+ANa+kxtG+Eq+YLCW7jml2NSYbMVlUAHlGy+UrviT3bt8rR6rePuz9vbLhmS9lDJwmDBbVBiYt066Unw9++VysO2rjLcKKFj4Va8GPTVewRAZL9Kpi48duAsxXduvTtujob24qim7o5iYBf6JmjPqjNS2tTqAJM6SpOqu3kpIQaD8B1rySGhftMXG8v+lSErWv2dWYbMxkUVD3b78la4ioK1xWzJel2/fI/g/M0B99Z49s2Di/oK5bZMPbZvWUzcWkVZZYMj/8kjys/eTaolIAMjI0bH0tCJvDlhBgvrJECE/CoL+5KTS6oZubBPyJmjHqj9a0tDqBpgyRJuqt3kpKQqD9BFjzSmrs2r6XTfGWRO1rdjUmGzVZFNgjv3oke2uv2K3E5j08X+7cuExW79wpL7/W+/3p1mWy9On5cm36tmDxso8/Irvfb04+Jq3B2MJvMH5DK23T5G0SSwEYW82VKK6CsDlsCQHmK0uE8CQM+pubQqMburlJwJ+oGaP+aE1LqxNowgxpqs7qraQkBNpPgDWvpMYme03kyb+qpSRqX7OrMdm4yRLA/eCN/Nt8xQyTy8u8D2479oYcaVg5Jq3BAMNvMH5DK+3aQlIAJjIzbH0tCJvDlhBgvrJECE/CoL+5KTS6oZubBPyJmjHqj9a0tDqBpgyRJuqt3kpKQqD9BFjzSmrs2r6XTfGWRO1rdjUmh2OyRIQP7ZRHfpTzTBVTg2XFl+TOf9op03+MKmz2lUlrML7wG4zf0ErbNHmbxFIAxlZzJYqrIGwOW0KA+coSITwJg/7mptDohm5uEvAnasaoP1rT0uoEmjBDmqqzeispCYH2E2DNK6mxyV4TebiSpWS3imdXY3K4Jkt09g/ekt3bl8mdj12R/5yVuOmy4gq56ellsuEXb8nRIZkrUZhMWhGJaq/wq8Zt6KVcW0gKAEVmhq2vBWFz2BICzFeWCOFJGPQ3N4VGN3Rzk4A/UTNG/dGallYn0JQh0kS91VtJSQi0nwBrXkmNXdv3sinekqh9za7G5GhMlhTxo+8fliPv7I09k2Wv7FfHPkhlHPJHJq3BgMNvMH5DK23T5G0SSwEYW82VKK6CsDlsCQHmK0uE8CQM+pubQqMburlJwJ+oGaP+aE1LqxNowgxpqs7qraQkBNpPgDWvpMYme03k4UqWkt0qnl2NSStMlnhQNr1n0hpMDfgNxm9opRtbSI6XTYvOlaWLT5V9Pz4uf7Kucu4CMJGZ0f/1dVn/+49k5qOPB/r9/e/fkdue2CT9zxfmKQibw5YQYL6yRAhPwqC/uSk0uqGbmwT8iZox6o/WtLQ6gaYMkSbqrd5KSkKg/QRY80pqXGXviTLhPl5J1L5mV2MSk0WjPpOWBo5BEvwMINmQpamF47nT5dbxSRkLfs+VTc8dW4/RUsDM1Ow464lfyUszBZWUOTzznvxPTJYyxKzOy3xltTytC47+5qak6IZubhLwJ2rGqD9a09LqBJowQ5qqs3orKQmB9hNgzSupcVP7Xj7UWxK1r9nVmMRk0ajPpKWBY5AEPwNINmRpaFGYWX52x2CZlLGrz5CDdZ2ngJm5ybJJztq6X/7taEFFJoePHpZHtppfxaJi48duAm2ar3YticzNzuuSPUn40+tkQdcAVXlukjXTySzJT3tkyiB/8rzfl13JSpKfXv1+b34I6i7Knzr3wnVyMFmTk5/a1N+cFKBi0NbrFoztgrGUGnNTr6YhHJI1C2NzR2asJcdiuvzBdTfJWKZM+hyj+Wy9bqPB0sqzonUrZaVRNRP49SV/JU2ZInXWq+LkBwIQKCbAmlfMJjdl+4n1/NNvXftartSjuPFjRECNSUwWDSomLQ0cgyT4GUCyIUtDk/uuRRPdTdQFi0+ob0ErYFbKZFFXoFQ1WioYLJgsBaJZdLg189X0OpladyhGNtwYXRA7tmtJchM22BwdTx6LVSAyvU7WxDZkw/xJYyYwWGIbrOnPifrkkKxZkjRLcvN3zKD0Zm6yLjc/taa/uYm/ctTW6pYwUHLGcpAeG7Ppz2pMKoOla8imP4uoMdqdR4LysfPozJ3KtOsraK1u9TWRmjoE0JquAIH+BN766i1OmCwqTn4gAIFiAqx5xWxyU3b/RX17Ug3toYmN9Spu/BgRUGMSk0WDiklLA8cgCX4GkGzIMshEvv4TcvMXZ8mOzK3ATpbll0T/EXu+PLEmvFXYge98Rq657RSZGeScBcxKmyxVjJaKBgsmS4FoFh1u83zV/z/MQyPG3MxI509/lsCYWdD3CplYBwg2aWObwJ1NX/OYYnU58LbN/c0B/JVDtFO32PhLmx9BS0PDpGuQdFofGJuRqZJXLjEm1TlipkowPnvjVdVl81i1U7fK3ZCCGgJorYFDEgQ6BI5s2iK/+ctrrTZaVHwqTn4gAIFiAqx5xWxyU/79aZEd52C0lNmLU7wUN36MCKgxicmiQcWkpYFjkAQ/A0g2ZCkzycbzrj1DFszpGCmXzpJdm2PPXFl9lnwhur3QJWfJ6y8eKwcWnycTnWNzF50qh7fF8sfr7fe+gFklk6WM0TKAwYLJUiCaRYfbPF+VNln6XkES29QNNEx/zposJlfLJEyZvE1fi/rLoKG0ub8Nysbm8tbrljduEmZJj258XkgYLt0s8XGtMVnUOSOzplvWrjfW62YXLqejQWun5SP4IRL4jwcettZoUQaLio8fCEBAT4A1T88nN/XXd2C09Ntvi9KVwaJ48WNMQI1JTBYNLiYtDRyDJPgZQLIhSzSJlnidefwsuSYyWJRxMuc8WbO+Z5rsu+f87q3CJhadIvLicbJr0QXdY2PjkzL3q6fLgSpGSwGzyiaLidEyoMGCyVIgmkWH2ztf5f8XewJ9emO2j8kSbMjGbg2m6kqbKOk86fTE+aPysTqD/Ev2dOqNrorr/ed8urxrn9vb31xToly81uuWHsuqeXnHEseL5oj48fj7Tp3BeE2bL+V4Diu39boNC4QH50FrD0SmibURUFeKqFty2fKMFhWHiocrWGqTmIpaToA1r6LA6soMdQssntGSf1WP4qL4cAVL6Q6mxiQmiwYbk5YGjkES/Awg2ZClhLmi7hF5+OFPy5Vxg+XSc2RTzGCRF0+QNVdHm6ITcs9Dx3Um7+Pk9TvGulezKKPlc185o7zRUsBsIJNFZ7TUYLBgshSIZtHhts5XgdmRuM1PCnrHUEnfSiiVK2F2FOUNjZTO2I8ZJum6Mp+DTeDk7YbCuGPPgIiMGF1bMhXbe6Ct/c1e4vVEZr1ueYZK3jGFo3s8ZaB0UaWPh1e2qLV7rHMrQDVOg/mgM4+EafHbinUrG+kb63UbKZ12nRyt26UnrYEABCAAgWICrHnFbEiBwCgIqDGJyaIhz6SlgWOQBD8DSDZkKWGyHFx+tsyNbgM2PikTV5wlu9LPY3nudLm1m+ds2fZ87woXZdIcuP+cZB1fPlP2xW811i+eAmYDmyzKaNn1nvw+Uf9H8tKuTVJH3Ylq+WAdgfbNV50NUY3ZEZkiZZ+lkC2X3oyNNnD7X3kSminZfMHxTOxhm4pMHus6lSag9vU3TWNblGS9bl3jJAY975hK7h7PGb9B8aLjnbpV+e7VLL0xHF2FFotg5G+t123khNoTAFq3R0taAgEIQAACegKseXo+pEJg2ATUmMRk0VBn0tLAMUiCnwEkG7L0MzW66SfIxi9PxG759Vm5Y9kJmUsMZ5af3ctzw+lyuFu+Y7ZsPllW/nV0pYt6vUCWPhpd7ZI0ZJQpk/ktYFaHEXLWKzkmyyuYLAXIW3W4VfOVwdUpoblR/T/Og/LRcxi6m63JLpHIk0wS6TzYPtykzSSGV85kTJY+m77Zaqw90qr+Zi3l+gOzXreucRJrezAf9EyQKCUwQzpjLH+shqZmvgmr0jp1qnNGc4GqXJ0vM3ajs47m1XrdRoOllWdF61bKSqMgAAEIQCCHAGteDhQOQWCEBNSYxGTRCMCkpYFjkAQ/A0g2ZMkzMoqObTtR1iSMltly87dPkplu/uNk29d6BsqCxSkT5senydRlcaPmApl6+PiskdKtD5PFhi7iQwytma86Bkv+xmioZLChOuAmaHxTNr5ZG+8r8Tzx412DJb4xm8wQ+y/7eIJu0zeez/73relv9qOuNULrdcszWSR/3KjxGV0VljuGg7kk34iNlw2uiImPZUyWWvsclZUjYP0YLdccckMAAhCAAAQKCbDmFaIhAQIjIaDGJCaLBj2TlgaOQRL8DCDZkEVnaOSlbTtRNn01/hD7CbnytlPlsHqI/bZTZKr7vJbz5Yk1MZNk7Rly80U9A2Zszpgsf7zEFSxRLAXMuJKlAAyHjQi0Zb7qf6ue2H+gF5FJGTW7lqQ2WoON3PgzVMJN3GjDNqg2lSeIK3qeimbzthdSeNVK/D/kA9NmQHOoV/9o37Wlv42W4vDPbr1uuSaLdJ6pFBvHmXzpMay5akyVjY/DYDz3rpQpNleHr1d0Rut1iwLldWACaD0wQiqAAAQgAAFHCLDmOSIUYXpDQI1JTBaN3ExaGjgGSfAzgGRDlsi8KPO67QTZdnPSaLnjweNFVp8lX4iexzL3TNnXrfMkWXlZ3GA5T574UQWDRdVX8IPJUgCGw0YE2jJfBRuc0RhMvQZXt3QMlPAB1bExqfJGG6cpkyU0SOJ5exuqPbjhJm283vjVNAmTpWPAxPN238f/Iz66pVjUjii+3kmdfdeW/uasABUDt163jHnSa2hyHMcMl26W5BhOmKZRnpShEh0On+/SmSMsHKfW69YFyZtBCaD1oAQpDwEIQAACrhBgzXNFKeL0hYAak5gsGrWZtDRwDJLgZwDJhixdIyR21YnJsW3Hy47bzpeJ8QlZsPjE4JZf++45v/s8li/ccXLyNmCbT5GpSydl7KLPyJq1Jc8Vj6eAGSZLARgOGxFgvjLCRKaaCNDfagI55GrQbcjAazodutUE0oFq0NoBkQgRAhCAAARqIcCaVwtGKoFAbQTUmMRk0eBk0tLAMUiCnwEkG7LEDYzS74+TA4+f2Hkmy4nyxBej/3afkKlVOUbKj0+W13+cc7zMeQuYYbIUgOGwEQHmKyNMZKqJAP2tJpBDrgbdhgy8ptOhW00gHagGrR0QiRAhAAEIQKAWAqx5tWCkEgjURkCNSUwWDU4mLQ0cgyT4GUCyIUsZg0OXd8MZsiC6rc/42bLt+QHNlKJzFTDDZCkAw2EjAsxXRpjIVBMB+ltNIIdcDboNGXhNp0O3mkA6UA1aOyASIUIAAhCAQC0EWPNqwUglEKiNgBqTmCwanExaGjgGSfAzgGRDliIzo+Txw//73O6twsZuOF0OlywvpvkLmNVisjyxQ/5u/x9kpnuOj+SlVzZJHXV3q+SNlQSYr6yUpbVB0d/clBbd0M1NAv5EzRj1R2taCgEIQMB3Aqx5vvcA2m8bATUmMVk0qjBpaeAYJMHPAJINWUzNjT75Di6fJTdfOjswWm6+//jk81j6lDU2WFQ9BT91GCFRHZ/fvl/+7ag6ESZLAe7WHWa+ap2kVjeI/ma1PIXBoVshGqsT0M1qeWoNDq1rxUllEIAABCBgMQHWPIvFITQvCagxicmikZ5JSwPHIAl+BpBsyFKnAaLq2ny8zGxr6FZhQzJZArPlH/9F/tuL/yKff4IrWWzopk3HwHzVNGHqjxOgv8VpuPMe3dzRKh4pusVptPs9WrdbX1oHAQhAAAI9Aqx5PRa8g4ANBNSYxGTRKMGkpYFjkAQ/A0g2ZKnbZGm6vgJm0VUotr4WhM1hSwgwX1kihCdh0N/cFBrd0M1NAv5EzRj1R2taCgEIQMB3Aqx5vvcA2m8bATUmMVk0qjBpaeAYJMHPAJINWZo2Requv4CZreZKFFdB2By2hADzlSVCeBIG/c1NodEN3dwk4E/UjFF/tKalEIAABHwnwJrnew+g/bYRUGMSk0WjCpOWBo5BEvwMINmQpW4TpOn6CphFZoatrwVhc9gSAsxXlgjhSRj0NzeFRjd0c5OAP1EzRv3RmpZCAAIQ8J0Aa57vPYD220ZAjUlMFo0qTFoaOAZJ8DOAZEOWpk2RuusvYGaruRLFVRA2hy0hwHxliRCehEF/c1NodEM3Nwn4EzVj1B+taSkEIAAB3wmw5vneA2i/bQTUmMRk0ajCpKWBY5AEPwNINmSp2wRpur4CZpGZYetrQdgctoQA85UlQngSBv3NTaHRDd3cJOBP1IxRf7SmpRCAAAR8J8Ca53sPoP22EVBjEpNFowqTlgaOQRL8DCDZkGX7n4k0bYzUVb+KteDnnNWbxVaDRcXGj90EmK/s1qdt0dHf3FQU3dDNTQL+RM0Y9UdrWgoBCEDAdwKseb73ANpvGwE1JjFZNKowaWngGCTBzwCSDVl+/jciLzlgtKgYVawFP9dveVVsNFpUTCo2fuwmwHxltz5ti47+5qai6IZubhLwJ2rGqD9a01IIQAACvhNgzfO9B9B+2wioMYnJolGFSUsDxyAJfgaQbMhyZLeIukLEZqNFxaZiVLEW/Lz23uHAZLHJaFGxqF8VGz92E2C+sluftkVHf3NTUXRDNzcJ+BM1Y9QfrWkpBCAAAd8JsOb53gNov20E1JjEZNGowqSlgWOQBD8DSLZkUeaFukrExluHqZhUbBqDJcKozAxbrmiJrmDBYInUsfuV+cpufdoWHf3NTUXRDd3cJOBP1IxRf7SmpRCAAAR8J8Ca53sPoP22EVBjEpNFowqTlgaOQRL8DCCRBQIQsIIA85UVMngTBP3NTanRDd3cJOBP1IxRf7SmpRCAAAR8J8Ca53sPoP22EVBjEpNFowqTlgaOQRL8DCCRBQIQsIIA85UVMngTBP3NTanRDd3cJOBP1IxRf7SmpRCAAAR8J8Ca53sPoP22EVBjEpNFowqTlgaOQRL8DCCRBQIQsIIA85UVMngTBP3NTanRDd3cJOBP1IxRf7SmpRCAAAR8J8Ca53sPoP22EVBjEpNFowqTlgaOQRL8DCCRBQIQsIIA85UVMngTBP3NTanRDd3cJOBP1IxRf7SmpRCAAAR8J8Ca53sPoP22EVBjEpNFowqTlgaOQRL8DCCRBQIQsIIA85UVMngTBP3NTanRDd3cJOBP1IxRf7SmpRCAAAR8J8Ca53sPoP22EVBjEpNFowqTlgaOQRL8DCCRBQIQsIIA85UVMngTBP3NTanRDd3cJOBP1IxRf7SmpRCAAAR8J8Ca53sPoP22EVBjEpNFowqTlgaOQRL8DCCRBQIQsIIA85UVMngTBP3NTanRDd3cJOBP1IxRf7SmpRCAAAR8J8Ca53sPoP22EVBjEpNFowqTlgaOQRL8DCCRBQIQsIIA85UVMngTBP3NTanRDd3cJOBP1IxRf7SmpRCAAAR8J8Ca53sPoP22EVBjEpNFowqTlgaOQRL8DCCRBQIQsIIA85UVMngTBP3NTanRDd3cJOBP1IxRf7SmpRCAAAR8J8Ca53sPoP22EVBjEpNFowqTlgaOQRL8DCCRBQIQsIIA85UVMngTBP3NTanRDd3cJOBP1IxRf7SmpRCAAAR8J8Ca53sPoP22EVBjEpNFowqTlgaOQRL8DCCRBQIQsIIA85UVMngTBP3NTanRDd3cJOBP1IxRf7SmpRCAAAR8J8Ca53sPoP22EVBjEpNFowqTlgaOQRL8DCCRBQIQsIIA85UVMngTBP3NTanRDd3cJOBP1IxRf7SmpRCAAAR8J8Ca53sPoP22EVBjEpNFowqTlgaOQRL8DCCRBQIQsIIA85UVMngTBP3NTanRDd3cJOBP1IxRf7SmpRCAAAR8J8Ca53sPoP22EVBjEpNFowqTlgaOQRL8DCCRBQIQsIIA85UVMngTBP3NTanRDd3cJOBP1IxRf7SmpRCAAAR8J8Ca53sPoP22EVBjEpNFowqTlgaOQRL8DCCRBQIQsIIA85UVMngTBP3NTanRDd3cJOBP1IxRf7SmpRCAAAR8J8Ca53sPoP22EVBjEpNFowqTlgaOQRL8DCCRBQIQsIIA85UVMngTBP3NTanRDd3cJOBP1IxRf7SmpRCAAAR8J8Ca53sPoP22EVBj8v8DYgwv1Vx3H10AAAAASUVORK5CYII=)"
   ],
   "cell_type": "markdown",
   "metadata": {}
  },
  {
   "source": [
    "# Kết quả Wecode:"
   ],
   "cell_type": "markdown",
   "metadata": {}
  },
  {
   "source": [
    "![image.png](data:image/png;base64,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)"
   ],
   "cell_type": "markdown",
   "metadata": {}
  }
 ],
 "metadata": {
  "kernelspec": {
   "display_name": "Python 3",
   "language": "python",
   "name": "python3"
  },
  "language_info": {
   "codemirror_mode": {
    "name": "ipython",
    "version": 3
   },
   "file_extension": ".py",
   "mimetype": "text/x-python",
   "name": "python",
   "nbconvert_exporter": "python",
   "pygments_lexer": "ipython3",
   "version": "3.8.5"
  }
 },
 "nbformat": 4,
 "nbformat_minor": 4
}