{
 "cells": [
  {
   "cell_type": "markdown",
   "metadata": {
    "id": "cbiEDN4GK4g9"
   },
   "source": [
    "<a href=\"https://colab.research.google.com/github/hoangnhancs/CS112.L11.KHTN/blob/master/Section5/Report.ipynb\" target=\"blank\"><img src=\"https://colab.research.google.com/assets/colab-badge.svg\" alt=\"Open In Colab\"/></a>   \n",
    "If it doesn't redirect into new tab, please use `ctrl` + click or `cmd` + click(for mac user)   \n",
    "![](https://i.postimg.cc/k445hYdx/logo-uit.png)"
   ]
  },
  {
   "cell_type": "markdown",
   "metadata": {
    "id": "BV9qA0SEK4g-"
   },
   "source": [
    "<link rel=\"stylesheet\" href=\"https://stackpath.bootstrapcdn.com/font-awesome/4.7.0/css/font-awesome.min.css\" integrity=\"sha384-wvfXpqpZZVQGK6TAh5PVlGOfQNHSoD2xbE+QkPxCAFlNEevoEH3Sl0sibVcOQVnN\" crossorigin=\"anonymous\">\n",
    "<script src='https://cdnjs.cloudflare.com/ajax/libs/mathjax/2.7.5/MathJax.js?config=TeX-MML-AM_CHTML' async></script>\n",
    "\n",
    "<h1>N004's MEMBERS</h1>\n",
    "<div style=\"display:flex; width:100%\">\n",
    "        <div style=\"width:20%;margin: 0px auto\">\n",
    "            <h1>Thái Hoàng Nhân<br> 18521182 <br /> Leader </h1>\n",
    "            <details>\n",
    "                <summary>Image</summary>\n",
    "                <img style=\"width:100%\"\n",
    "                    src=\"https://raw.githubusercontent.com/hoangnhancs/CS112.L11.KHTN/master/resources/images/HoangNhan.png\">\n",
    "            </details>\n",
    "        </div>\n",
    "        <br>\n",
    "        <div style=\"width:20% ;margin:0px auto\">\n",
    "            <h1>Lưu Hoàng Sơn<br>18521348 <br /> Member</h1>\n",
    "            <details>\n",
    "                <summary>Image</summary>\n",
    "                <img style=\"width:100%\"\n",
    "                    src=\"https://raw.githubusercontent.com/hoangnhancs/CS112.L11.KHTN/master/resources/images/HoangSon.png\">\n",
    "            </details>\n",
    "        </div>\n",
    "        <br>\n",
    "        <div style=\"width:20%; margin:0px auto\">\n",
    "            <h1>Đào Thị Thu Nga<br> 18521135 <br /> Member </h1>\n",
    "            <details>\n",
    "                <summary>Image</summary>\n",
    "                <img style=\"width:100%\"\n",
    "                    src=\"https://raw.githubusercontent.com/hoangnhancs/CS112.L11.KHTN/master/resources/images/ThuNga.png\">\n",
    "            </details>\n",
    "        </div>\n",
    "    </div>\n",
    "\n",
    "<hr>\n",
    "<p>For Contact</p>\n",
    "<p>Thái Hoàng Nhân: 18521182@gm.uit.edu.vn or <a href=\"https://github.com/hoangnhancs\">github</a> or <a href=\"https://www.facebook.com/profile.php?id=100027617961231\">facebook</a></p>\n",
    "<p>Lưu Hoàng Sơn: 18521348@gm.uit.edu.vn or <a href=\"https://github.com/sonlhcsuit\">github</a> or <a href=\"https://www.facebook.com/sjIv3r\">facebook</a></p>\n",
    "<p>Đào Thị Thu Nga: 18521135@gm.uit.edu.vn or <a href=\"https://github.com/DAOTHITHUNGA\">github</a> or <a href=\"https://www.facebook.com/vonguocmo03092000\">facebook</a></p>"
   ]
  },
  {
   "cell_type": "markdown",
   "metadata": {
    "id": "7KvvjY9XK4hB"
   },
   "source": [
    "# KHÓA SỐ"
   ]
  },
  {
   "cell_type": "markdown",
   "metadata": {
    "id": "WgK2teHXK4hC"
   },
   "source": [
    "Để tăng độ an toàn chống hiện tượng cướp ngân hàng ngày càng phổ biến người ta dùng khóa số với mã mở khóa đơn giản nhưng rất hiệu quả. Trên cửa ra vào hiển thị một xâu khá dài các ký tự số. Các chữ số có thể di chuyển đổi chổ cho nhau hoặc bị xóa. Muốn mở khóa người ta phải di chuyển các chữ số và trong trường hợp cần thiết – xóa vài chữ số để nhận được xâu lớn nhất thỏa mãn điều kiện đã cài đặt. Điều kiện này được thay đổi thường xuyên. Hôm nay điều kiện đó là “Số nhận được phải chia hết cho $3$”. Số nhận được có thể bắt đầu bằng các chữ số $0$. Xâu “$000$” sẽ lớn hơn xâu “$00$”.\n",
    "\n",
    "Hãy xác định khóa mở cửa.\n",
    "\n",
    "*Dữ liệu*: Vào từ thiết bị nhập chuẩn gồm một xâu ký tự số có độ dài lớn hơn $2$ và không vượt quá $105$.\n",
    "\n",
    "*Kết quả*: Đưa ra thiết bị xuất chuẩn xâu khóa mở cửa.\n",
    "\n",
    "*Ví dụ*:\n",
    "\n",
    "|    INPUT    |    OUTPUT    |\n",
    "--------------|--------------|\n",
    "|105          |510           |"
   ]
  },
  {
   "cell_type": "markdown",
   "metadata": {
    "id": "VlebutkHK4hD"
   },
   "source": [
    "## 1. Abstraction:\n"
   ]
  },
  {
   "cell_type": "markdown",
   "metadata": {
    "id": "E3lBTkrdK4hD"
   },
   "source": [
    "Tìm chuỗi số lớn nhất chia hết cho $3$ từ chuỗi đã cho bằng cách đảo chuỗi, xóa chữ số của chuỗi\n",
    "## Constrain:\n",
    "- Độ dài của chuỗi là l thì $2 \\le l \\le 10^5$"
   ]
  },
  {
   "cell_type": "markdown",
   "metadata": {
    "id": "eQZ7eSQ0K4hE"
   },
   "source": [
    "## 2. Pattern Recognition"
   ]
  },
  {
   "cell_type": "markdown",
   "metadata": {
    "id": "68pxtsYlK4hF"
   },
   "source": [
    "Ta có $\\overline{a_1a_2...a_{n-1}a_n}$ $mod$ $3$ $=$ $(a_1 + a_2 + ... + a_{n-1} + a_n)$  $mod$  $3$\n",
    "\n",
    "$\\Rightarrow$ Hướng giải quyết vấn đề:\n",
    "- Tính số dư $n$ của chuỗi số khi chia cho $3$\n",
    "- Tách các chữ số của chuỗi số dưới dạng 1 dictionary\n",
    "\n",
    "#### Nếu số dư khác $0$: \n",
    "- Nếu tồn tại chữ số có cùng số dư với chuỗi số khi chia cho $3$ thì ta sẽ bỏ 1 chữ số nhỏ nhất\n",
    "- Nếu không tồn tại, thì bỏ 2 chữ số có số dư $3-n$ khi chia cho 3 nhỏ nhất\n",
    "- Sắp xếp chuỗi theo thứ tự giảm dần.\n",
    "\n",
    "##### Ví dụ : \n",
    "1. input : 752413 \n",
    ">   B1    : (752413 mod 3) = 1 (n)  \n",
    ">   B2    : Xét các chữ số trong dãy có giá trị nào bằng 1.  \n",
    ">   B3    : Loại bỏ phần tử cùng giá trị với n và sắp xếp chuỗi theo thứ tự giảm dần   \n",
    ">   Output: 75432   \n",
    "2. input : 641633\n",
    ">   B1    : (641633 mod 3) = 2 (n)  \n",
    ">   B2    : Xét các chữ số trong dãy không có chữ số nào có giá trị nào bằng 1.   \n",
    ">   B3    : Xét 2 chữ số nhỏ nhất có số dư chia cho 3 là 1 .Là số 4 và 1.   \n",
    ">   B4    : Loại bỏ 2 chữ số 4 và 1 .Sau đó sắp xếp chuỗi theo thứ tự giảm dần    \n",
    ">   Output: 6633   \n",
    "\n",
    "#### Nếu số dư bằng $0$:\n",
    "Sắp xếp chuỗi theo thứ tự giảm dần.\n",
    "##### Ví dụ :       \n",
    "1. input : 76593   \n",
    ">    B1    :  76593 chia hết 3    \n",
    ">    B2    : Sắp xếp giảm dần dãy trên.    \n",
    ">    Output: 97653   "
   ]
  },
  {
   "cell_type": "markdown",
   "metadata": {
    "id": "P36MUGpeK4hG"
   },
   "source": [
    "## 3. Design Algorithms"
   ]
  },
  {
   "cell_type": "markdown",
   "metadata": {
    "id": "x_xU99sWK4hG"
   },
   "source": [
    "Vì khá đơn giản nên ta có thể cài đặt thuật toán luôn"
   ]
  },
  {
   "cell_type": "markdown",
   "metadata": {
    "id": "0r9TUFdvK4hH"
   },
   "source": [
    "## 4. Implement"
   ]
  },
  {
   "cell_type": "code",
   "execution_count": null,
   "metadata": {
    "id": "Tm1Vrd30K4hI",
    "outputId": "6dcfb912-8ad6-413a-86c3-634d15637093"
   },
   "outputs": [
    {
     "name": "stdout",
     "output_type": "stream",
     "text": [
      "510"
     ]
    }
   ],
   "source": [
    "from collections import Counter\n",
    "n = input().strip()\n",
    "count_number = Counter(n)\n",
    "#print(\"Count number is: \",count_number)\n",
    "# mod_number = {0:set(), 1:set(), 2:set()}\n",
    "# for number in count_number:\n",
    "#     number = int(number)\n",
    "#     if number%3:\n",
    "#         mod_number[number%3].add(str(number))\n",
    "mod_number = []\n",
    "#print(mod_number)\n",
    "mod_number.append([])\n",
    "mod_number.append(['1','4','7'])\n",
    "mod_number.append(['2','5','8'])\n",
    "mod_number = [[x for x in d if x in count_number] for d in mod_number]\n",
    "#print(\"Mod number is: \",mod_number)\n",
    "sum_digit = sum(int(digit)*count_number[digit] for digit in count_number)\n",
    "#print(\"Sum digits is: \",sum_digit)\n",
    "mod = sum_digit%3\n",
    "#print(\"Mod is: \",mod)\n",
    "\n",
    "if mod:\n",
    "    # for number in mod_number[mod]:\n",
    "    #     print(count_number[str(number)])\n",
    "    count_digit_same_mode = sum(int(count_number[number]) for number in mod_number[mod])\n",
    "    #print(\"Count number of digit has same mod is: \",count_digit_same_mode)\n",
    "    number_digit_delete = 1\n",
    "    if not count_digit_same_mode:\n",
    "        mod = 3 - mod   \n",
    "        number_digit_delete = 2\n",
    "    # print(\"Mod become: \",mod)\n",
    "    # print(\"Number digit delete is: \",number_digit_delete)\n",
    "    # print(\"Numbers have mod {} in mod_number is: \".format(mod),mod_number[mod])\n",
    "    for _ in mod_number[mod]:\n",
    "        # print(\"Count number {} is: \".format(_),count_number[str(_)])\n",
    "        __ = min(number_digit_delete, count_number[_])\n",
    "        number_digit_delete -= __\n",
    "        count_number[_] -= __\n",
    "#print(count_number)\n",
    "for _ in sorted(count_number.keys(), reverse=True):\n",
    "    print(_*count_number[_], end=\"\")\n"
   ]
  },
  {
   "source": [
    "## 5. Result:"
   ],
   "cell_type": "markdown",
   "metadata": {}
  },
  {
   "source": [
    "![image.png](data:image/png;base64,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)"
   ],
   "cell_type": "markdown",
   "metadata": {}
  },
  {
   "cell_type": "markdown",
   "metadata": {
    "id": "MgILpDx5Sajd"
   },
   "source": [
    "# CYCLIC ISOMORPHISM¶\n"
   ]
  },
  {
   "cell_type": "markdown",
   "metadata": {
    "id": "_-mJM7qHShPk"
   },
   "source": [
    "Apparently, the query \"How many times does a string x appear in a string s?\" is one of the most basic problems of string manipulation. Tèo has learned about this problem, and he can solve it in a blink of an eye. Therefore, he wants to challenge himself by\n",
    "complicating the problem. So, he tries solving another problem: given a string $s$ and n strings $x_i$, for each string $x_i$, find the number of successive substrings of $s$ that are cyclically isomorphic to $x_i$.\n",
    "\n",
    "Two strings are called `cyclically isomorphic` strings if one string is a `rotation` of the other. In this case, rotation is defined as an operation of `rearranging` the characters in a string by moving some `consecutive` characters (maybe none) from the beginning to the end of the string in the same order, while shifting all other characters to the preceding position. For example, the string \"bcda\" is a rotation of \"abcd\", but the string \"bdca\" is not a rotation of \"abcd\". This problem is kind of tricky to Tèo. Let’s help him to solve it\n",
    "\n",
    "**Constraint**\n",
    "\n",
    "INPUT:\n",
    "- The first line contains a non-empty string $s$. The length of $s$ is not greater than $10^6$ characters.\n",
    "- The second line contains an integer $n$ $(1 \\le n \\le 10^5)$ - the number of queries.\n",
    "- The following n lines: the $i-th$ line contains the string $x_i$ - the string for the $i$-th query. The total length of $x_i$ is less than or equal to $10^6$ characters.\n",
    "\n",
    "In this problem, strings only consist of lowercase English letters.\n",
    "\n",
    "OUTPUT:  \n",
    "- For each query $x_i$ print a single integer that is the number consecutive substrings of $s$ are cyclical isomorphic to $x_i$. Print the answers to the queries in the order they are given in the input.\n",
    "\n",
    "**Example**   \n",
    "\n",
    "|Input                          |Output    |\n",
    "|-------------------------------|----------|\n",
    "|babbabbabbabbabbabbabbabbabbab |18        |\n",
    "|10                             |16        |\n",
    "|bbab                           |9         |\n",
    "|abbabbab                       |18        |\n",
    "|abba                           |8         |\n",
    "|abbab                          |10        |\n",
    "|abbabba                        |18        |\n",
    "|a                              |9         |\n",
    "|babb                           |0         |\n",
    "|abba                           |25        |\n",
    "|aabaaaa                        |          |\n",
    "|babbab                         |          |"
   ]
  },
  {
   "cell_type": "markdown",
   "metadata": {},
   "source": [
    "## 1.Abstraction"
   ]
  },
  {
   "cell_type": "markdown",
   "metadata": {},
   "source": [
    "## 2.Pattern Recognition"
   ]
  },
  {
   "cell_type": "markdown",
   "metadata": {},
   "source": [
    "## 3. Design Algorithms"
   ]
  },
  {
   "cell_type": "markdown",
   "metadata": {},
   "source": [
    "## 4. Implement"
   ]
  },
  {
   "source": [
    "## 5. Result:"
   ],
   "cell_type": "markdown",
   "metadata": {}
  },
  {
   "source": [
    "# Kết quả Wecode:"
   ],
   "cell_type": "markdown",
   "metadata": {}
  },
  {
   "source": [
    "![image.png](data:image/png;base64,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)"
   ],
   "cell_type": "markdown",
   "metadata": {}
  }
 ],
 "metadata": {
  "colab": {
   "include_colab_link": true,
   "name": "Report.ipynb",
   "provenance": []
  },
  "kernelspec": {
   "display_name": "Python 3",
   "language": "python",
   "name": "python3"
  },
  "language_info": {
   "codemirror_mode": {
    "name": "ipython",
    "version": 3
   },
   "file_extension": ".py",
   "mimetype": "text/x-python",
   "name": "python",
   "nbconvert_exporter": "python",
   "pygments_lexer": "ipython3",
   "version": "3.8.5"
  }
 },
 "nbformat": 4,
 "nbformat_minor": 4
}