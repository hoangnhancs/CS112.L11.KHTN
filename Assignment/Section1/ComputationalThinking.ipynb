{
 "metadata": {
  "language_info": {
   "codemirror_mode": {
    "name": "ipython",
    "version": 3
   },
   "file_extension": ".py",
   "mimetype": "text/x-python",
   "name": "python",
   "nbconvert_exporter": "python",
   "pygments_lexer": "ipython3",
   "version": 3
  },
  "orig_nbformat": 2
 },
 "nbformat": 4,
 "nbformat_minor": 2,
 "cells": [
  {
   "source": [
    "### TASK 2 : TÌM HIỂU VỀ COMPUTATIONAL THINKING \n",
    "\n",
    "#### Computational thinking là : Được gọi là tư duy tính toán. Là quá trình kĩ năng chúng ta sẽ nhìn nhận và giải quyết vấn đề chú trọng vào tư duy logic và phản biện . Khi nhìn nhận một vấn đề ta cần giải quyết bài toán theo một hệ thống để ra một giải pháp hiệu quả mà con người và máy đều hiểu được.\n",
    "#### Bao gồm 4 bước :\n",
    "- Decomposition : Việc tách một vấn đề khó giải quyết về những bài toán dễ giải quyết hơn. \n",
    "- Patterns recognition : Nhận ra các bài toán quen thuộc từ những bài toán được đưa ra ở phần Decomposition. \n",
    "- Abstractions : Chọn ra bài toán có cách giải quyết tốt  nhất ,loại bỏ những thứ không cần thiết để tập trung vào bài toán .\n",
    "- Algorithmic thinking  : Cách thức chúng ta phân ra bài toán từ bài toán khó về bài toán quen thuộc theo một hệ thống hợp lý . Là tập hợp các hướng dẫn để giải quyết bài toán.\n",
    "\n",
    "### Ví dụ : \n",
    "\n",
    "#### Đặt vấn đề : Chọn cách tốt để đi học từ KTX Khu A tới UIT không bị trễ giờ học.\n",
    "-   Decomposition : đưa về  bài toán là tìm đường đi ngắn nhất và thuận tiện nhất với phương tiện đi lại.\n",
    "- Patterns recognition : Có 3 phương tiện đi lại chính là : đi bộ , xe buýt, xe máy . Đều vận hành trên con đường ngắn nhất là đi qua đường .... Sau nhiều lần đi thì nhận thấy việc đi xe máy sẽ giảm thiểu thời gian nhất , vì đi bộ tốn tầm 30p , đi xe buýt sẽ tốn 20p để đi bộ từ tòa ktx Khu A ra trạm xe buýt .\n",
    "- Abstraction thinking : Chọn đi xe máy tới trường ,nhưng bạn không có xe máy .Có 2 giải pháp được đưa ra là sẽ đi grab hoặc đi nhờ xe bạn . Cả 2 giải pháp đều hiệu quả hơn là đi bộ và đi xe buýt \n",
    "- Algorithmic thinking  : \n",
    "    *  Bước 1 : Xác định các phương tiện có thể đi trên đường thuận tiện nhất.\n",
    "    *  Bước 2 : Chọn đi xe máy làm phương tiện tốt nhất.\n",
    "    *  Bước 3 : Từ vấn đề đi xe máy . Có hai hướng để chọn là đi nhờ bạn hoặc gọi Grab.\n",
    "    * Bước 4 : Gọi bạn nếu trong vòng 5p có thể đi thì chọn đây là giải pháp tốt nhất. Nếu đợi bạn qá lâu thì việc đi bộ ra cổng bắt grab sẽ là giải pháp tiếp theo tuy tốn chi phí nhưng đây đã thỏa mãn yêu cầu là đến đúng giờ học.\n",
    "\n",
    "\n",
    "\n",
    "\n",
    "\n"
   ],
   "cell_type": "markdown",
   "metadata": {}
  },
  {
   "source": [],
   "cell_type": "markdown",
   "metadata": {}
  },
  {
   "source": [],
   "cell_type": "markdown",
   "metadata": {}
  }
 ]
}