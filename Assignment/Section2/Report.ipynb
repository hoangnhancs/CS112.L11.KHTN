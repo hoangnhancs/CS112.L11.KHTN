{
 "cells": [
  {
   "cell_type": "markdown",
   "metadata": {},
   "source": [
    "[![Open In Colab](https://colab.research.google.com/assets/colab-badge.svg)](https://colab.research.google.com/github/hoangnhancs/CS112.L11.KHTN/blob/master/Section2/Report.ipynb)   \n",
    "If it doesn't redirect into new tab, please use `ctrl` + click or `cmd` + click(for mac user)   \n",
    "![](https://i.postimg.cc/k445hYdx/logo-uit.png)"
   ]
  },
  {
   "cell_type": "markdown",
   "metadata": {},
   "source": [
    "<link rel=\"stylesheet\" href=\"https://stackpath.bootstrapcdn.com/font-awesome/4.7.0/css/font-awesome.min.css\" integrity=\"sha384-wvfXpqpZZVQGK6TAh5PVlGOfQNHSoD2xbE+QkPxCAFlNEevoEH3Sl0sibVcOQVnN\" crossorigin=\"anonymous\">\n",
    "<script src='https://cdnjs.cloudflare.com/ajax/libs/mathjax/2.7.5/MathJax.js?config=TeX-MML-AM_CHTML' async></script>\n",
    "\n",
    "<h1>N004's MEMBERS</h1>\n",
    "<div style=\"display:flex; width:100%\">\n",
    "        <div style=\"width:20%;margin: 0px auto\">\n",
    "            <h1>Thái Hoàng Nhân<br> 18521182 <br /> Leader </h1>\n",
    "            <details>\n",
    "                <summary>Image</summary>\n",
    "                <img style=\"width:100%\"\n",
    "                    src=\"https://raw.githubusercontent.com/hoangnhancs/CS112.L11.KHTN/master/resources/images/HoangNhan.png\">\n",
    "            </details>\n",
    "        </div>\n",
    "        <br>\n",
    "        <div style=\"width:20% ;margin:0px auto\">\n",
    "            <h1>Lưu Hoàng Sơn<br>18521348 <br /> Member</h1>\n",
    "            <details>\n",
    "                <summary>Image</summary>\n",
    "                <img style=\"width:100%\"\n",
    "                    src=\"https://raw.githubusercontent.com/hoangnhancs/CS112.L11.KHTN/master/resources/images/HoangSon.png\">\n",
    "            </details>\n",
    "        </div>\n",
    "        <br>\n",
    "        <div style=\"width:20%; margin:0px auto\">\n",
    "            <h1>Đào Thị Thu Nga<br> 18521135 <br /> Member </h1>\n",
    "            <details>\n",
    "                <summary>Image</summary>\n",
    "                <img style=\"width:100%\"\n",
    "                    src=\"https://raw.githubusercontent.com/hoangnhancs/CS112.L11.KHTN/master/resources/images/ThuNga.png\">\n",
    "            </details>\n",
    "        </div>\n",
    "    </div>\n",
    "\n",
    "<hr>\n",
    "<p>For Contact</p>\n",
    "<p>Thái Hoàng Nhân: 18521182@gm.uit.edu.vn or <a href=\"https://github.com/hoangnhancs\">github</a> or <a href=\"https://www.facebook.com/profile.php?id=100027617961231\">facebook</a></p>\n",
    "<p>Lưu Hoàng Sơn: 18521348@gm.uit.edu.vn or <a href=\"https://github.com/sonlhcsuit\">github</a> or <a href=\"https://www.facebook.com/sjIv3r\">facebook</a></p>\n",
    "<p>Đào Thị Thu Nga: 18521135@gm.uit.edu.vn or <a href=\"https://github.com/DAOTHITHUNGA\">github</a> or <a href=\"https://www.facebook.com/vonguocmo03092000\">facebook</a></p>"
   ]
  },
  {
   "cell_type": "markdown",
   "metadata": {},
   "source": [
    "# Sea Weed (Tảo biển)\n",
    "Tảo biển sinh sản rất nhanh khi có môi trường thuận lợi với chúng và có những loài còn tiết ra môi trường những chất độc hại.\n",
    "\n",
    "Một loại tảo nâu trong môi trường nước bị ô nhiễm nặng sinh sản theo quy luật sau:\n",
    "\n",
    "Ngày đầu tiên (ngày $0$) có $n$ cá thể ở mức $1$,\n",
    "Ở mỗi ngày tiếp theo, mỗi cá thể mức $i$ sinh ra $i$ cá thể mức $1$, các cá thể mới sinh sẽ sinh sôi, phát triển từ ngày hôm sau.\n",
    "Bản thân các cá thể mức $i$ phát triển thành mức $i+1$ và chu kỳ phát triển trong ngày chấm dứt.\n",
    "Hãy xác định sau $k$ ngày trong nước biển có bao nhiêu cá thể.\n",
    "\n",
    "Dữ liệu: Vào từ thiết bị nhập chuẩn gồm một dòng chứa 2 số nguyên $n$ và $k$ ($1 \\le n \\le 1000$, $1 \\le k \\le 10^{18}$).\n",
    "\n",
    "Kết quả: Đưa ra thiết bị xuất chuẩn một số nguyên – số lượng cá thể  tảo theo mô đun $10^9$+7.\n",
    "\n",
    "|INPUT      | OUTPUT|\n",
    "|-----------|-------|\n",
    "|3  2       | 15    |\n"
   ]
  },
  {
   "cell_type": "markdown",
   "metadata": {},
   "source": [
    "## 1. Abstraction:\n",
    "Ta có thể nhìn bảng thống kê như sau: \n",
    "> $a_i$ : Lượng cá thể mức i   \n",
    "> $\\Sigma_{1}^k a_i$: Tổng các cá thể ở ngày k   \n",
    "> k: số ngày đã trải qua \n",
    "\n",
    "Giả sử ở ngày 0 có 1 cá thể mức 1: $a_1$ = 1  \n",
    "\n",
    "|Ngày |$\\Sigma_{1}^k a_i$   | $a_1$| $a_2$| $a_3$| $a_4$| $a_5$| $a_6$| $a_7$|\n",
    "|-----|---------------------|------|------|------|------|------|------|------|\n",
    "|    0|                **1**|     1|     0|     0|     0|     0|     0|     0|\n",
    "|    1|                **2**|     1|     1|     0|     0|     0|     0|     0|\n",
    "|    2|                **5**|     3|     1|     1|     0|     0|     0|     0|\n",
    "|    3|               **13**|     8|     3|     1|     1|     0|     0|     0|\n",
    "|    4|               **34**|    21|     8|     3|     1|     1|     0|     0|\n",
    "|    5|               **89**|    55|    21|     8|     3|     1|     1|     0|\n",
    "\n",
    "Ta có thể nhận thấy đây là dãy fibonacci quen thuộc nhưng có một chút thiếu sót, hãy xem xét quy luật của dãy \n",
    "\n",
    "|i    |0|1|2|3|4|5|6|7 |8 | 9|10|11|12 |13 |14 |\n",
    "|-----|-|-|-|-|-|-|-|--|--|--|--|--|---|---|---|\n",
    "|f_i  |0|1|1|2|3|5|8|13|21|34|55|89|144|233|377|\n",
    "\n",
    "Từ 2 bảng trên ta có thể nhận ra đây là được số cá thể ngày k chính là số fibonacci ở vị trí thứ $2k+1$  \n",
    "**Tóm lại** Tìm tích của $n$ với phần tử thứ $2k + 1$ của dãy fibonacci. Hay tìm tích $n * fib(2k + 1)$.\n",
    "\n",
    "### Constrain:\n",
    "- Máy tính sử dụng để kiểm tra có chip core i3 ($10^7$ operation per second)\n",
    "- Số cá thể ban đầu nằm trong đoạn $[1, 1000]$ ($1 \\le n \\le 1000$)\n",
    "- Số ngày nằm trong đoạn $[1, 10^{18}]$ ($1 \\le k \\le 10^{18}$) "
   ]
  },
  {
   "cell_type": "markdown",
   "metadata": {},
   "source": [
    "## 2. Pattern Recognition:\n",
    "Có rất nhiều cách để tính 1 số fibonacci ở vị trí thứ n, 3 cách chính sẽ được sử dụng để xem xét cách tốt nhất  \n",
    "\n",
    "### 1. Sử dụng đệ quy:\n",
    "Đệ quy là một phương pháp tính dãy fibonacci cổ điển mà hầu hết các học sinh, sinh viên đều biết. Nó là phương pháp dùng trong các chương trình máy tính trong đó có một hàm tự gọi chính nó.\n",
    "Tuy nhiên cách này lại có yếu điểm chính là phải phụ thuộc vào call-stack. Nếu tính số fibonacci ở vị trí thứ i lớn thì dễ gây ra hiện tượng tràn callstack (stack over flow). Hơn nữa cách này có độ phức tạp cao.    \n",
    "Time complexity:  O($2^n$)  \n",
    "Lí do tại sao lại là $2^n$ là bởi vì chúng ta gọi đệ quy 2 lần (ứng với fib(n-1) và fib(n-2) và tiếp tục xuống tiếp cho đến khi bằng số fibonacci thứ 1 là 1. Như vậy callstack tree sẽ càng ngày càng to ra theo số mũ."
   ]
  },
  {
   "cell_type": "code",
   "execution_count": 2,
   "metadata": {
    "tags": []
   },
   "outputs": [
    {
     "name": "stdout",
     "output_type": "stream",
     "text": [
      "55\n",
      "0.0003800392150878906\n"
     ]
    }
   ],
   "source": [
    "import time\n",
    "def fib(k):\n",
    "    if k==1:\n",
    "        return 1\n",
    "    if k==2:\n",
    "        return 1\n",
    "    if k!=0 and k!=1:\n",
    "        return fib(k-1)+fib(k-2)\n",
    "start = time.time()\n",
    "print(fib(10))\n",
    "end = time.time()\n",
    "print(end - start)"
   ]
  },
  {
   "cell_type": "markdown",
   "metadata": {},
   "source": [
    "### 2. Sử dụng quy hoạch động:\n",
    "Chúng ta có thể cải tiến bằng cách sử dụng vòng lặp để tính các số fibonacci rồi sau đó lưu lại vào một cái mảng để lấy ra sử dụng. Cách này sẽ tiết kiệm độ phức tạp thời gian nhưng phải đánh đổi độ phức tạp bộ nhớ (quy hoạch động).  \n",
    "\n",
    "Time complexity: O($n$)   \n",
    "Space comfexity: O($n$)   "
   ]
  },
  {
   "cell_type": "code",
   "execution_count": 3,
   "metadata": {
    "tags": []
   },
   "outputs": [
    {
     "name": "stdout",
     "output_type": "stream",
     "text": [
      "55\n",
      "0.0003440380096435547\n"
     ]
    }
   ],
   "source": [
    "import time\n",
    "def fib(k):\n",
    "    _fib = [1] * k\n",
    "    if (k==0 or k==1):\n",
    "        return _fib[k]\n",
    "    else:\n",
    "        for i in range (2, k):\n",
    "            _fib[i] = _fib[i-1] + _fib[i-2]\n",
    "        \n",
    "    return _fib[k-1]\n",
    "start = time.time()\n",
    "print(fib(10))\n",
    "end = time.time()\n",
    "print(end - start)"
   ]
  },
  {
   "cell_type": "markdown",
   "metadata": {},
   "source": [
    "Chúng ta cũng có thể cải tiến không lưu trữ n phần tử fibonacci nữa mà chỉ lưu 3 phần tử cần thiết.  \n",
    "Time complexity: O($n$)  \n",
    "Space comfexity: O($1$)  "
   ]
  },
  {
   "cell_type": "code",
   "execution_count": 5,
   "metadata": {},
   "outputs": [
    {
     "name": "stdout",
     "output_type": "stream",
     "text": [
      "55\n",
      "0.00027108192443847656\n"
     ]
    }
   ],
   "source": [
    "import time\n",
    "def fib(n):\n",
    "    a = 0\n",
    "    b = 1\n",
    "    if n == 0: \n",
    "        return a \n",
    "    elif n == 1: \n",
    "        return b \n",
    "    else: \n",
    "        for i in range(2,n+1): \n",
    "            c = a + b \n",
    "            a = b \n",
    "            b = c \n",
    "        return b \n",
    "start = time.time()\n",
    "print(fib(10))\n",
    "end = time.time()\n",
    "print(end - start)"
   ]
  },
  {
   "cell_type": "markdown",
   "metadata": {
    "tags": []
   },
   "source": [
    "Ngoài cách sử dụng vòng lặp, ta cũng có một cách khác nhanh hơn là sử dụng phép nhân ma trận. Công thức sau đã được chứng minh:   \n",
    "$$Fibonacci(n) = F^n  = {\\begin{pmatrix}1 & 1\\\\1 & 0\\end{pmatrix}}^n = \\begin{pmatrix}F_{n+1} & F_n\\\\F_n & F_{n-1}\\end{pmatrix}$$   \n",
    "Time complexity: O($n$)  \n",
    "Space complexity: O($1$)  "
   ]
  },
  {
   "cell_type": "code",
   "execution_count": 6,
   "metadata": {},
   "outputs": [
    {
     "name": "stdout",
     "output_type": "stream",
     "text": [
      "55\n",
      "0.00017786026000976562\n"
     ]
    }
   ],
   "source": [
    "import time\n",
    "def fib(n): \n",
    "    F = [[1, 1], \n",
    "         [1, 0]] \n",
    "    result = None\n",
    "    if (n == 0): \n",
    "        return 0\n",
    "    result = power(F, n - 1) \n",
    "    return result[0][0] \n",
    "  \n",
    "def multiply(F, M): \n",
    "    base =[]\n",
    "    result = [[None,None],[None,None]]\n",
    "    x = (F[0][0] * M[0][0] + \n",
    "         F[0][1] * M[1][0]) \n",
    "    y = (F[0][0] * M[0][1] +\n",
    "         F[0][1] * M[1][1]) \n",
    "    z = (F[1][0] * M[0][0] + \n",
    "         F[1][1] * M[1][0]) \n",
    "    w = (F[1][0] * M[0][1] + \n",
    "         F[1][1] * M[1][1]) \n",
    "      \n",
    "    result[0][0] = x \n",
    "    result[0][1] = y \n",
    "    result[1][0] = z \n",
    "    result[1][1] = w \n",
    "    return result \n",
    "  \n",
    "def power(F, n): \n",
    "    M = [[1, 1], \n",
    "         [1, 0]] \n",
    "    # n - 1 times multiply the \n",
    "    # matrix to {{1,0},{0,1}} \n",
    "    for i in range(2, n +  1): \n",
    "        F = multiply(F, M) \n",
    "    return F\n",
    "start = time.time()\n",
    "print(fib(10))\n",
    "end = time.time()\n",
    "print(end - start)"
   ]
  },
  {
   "cell_type": "markdown",
   "metadata": {},
   "source": [
    "Tất cả các cách trên đều có thể sử dụng một kỹ thuật khác để cải tiến, nghĩa là thay thế công thức fibonaci bằng công thức sau:\n",
    "$$\n",
    "\\left\\{ \n",
    "\\begin{array}{c} \n",
    "{F_{2n-1} = {F_n}^2 + {F_{n-1}}^2(*)}\\\\ \n",
    "{F_{2n} = (2F_{n-1}+F_n)F_n(**)}\n",
    "\\end{array}\n",
    "\\right. \n",
    "$$  \n",
    "Trước tiên, ta sẽ chứng minh: $F_{m+n} = F_{m-1}F_{n} + F_{m}F_{n+1}(1)$\n",
    "\n",
    "Thật vậy, với $n=1 \\rightarrow F_n=F_1=1, F_{n+1}=F_2=1$\n",
    "\n",
    "$(1) \\leftrightarrow F_{m+1} = F_{m-1} + F_m$ (đúng với mọi $m$)\n",
    "\n",
    "Ta sẽ quy nạp bài toán này, giả sử đúng đến $n = k$ và $n = k-1$.\n",
    "\n",
    "Ta sẽ chứng minh $(1)$ đúng với $n = k+1$.\n",
    "\n",
    "Với $n = k+1$,\n",
    "$(1) \\leftrightarrow F_{m+k+1} = F_{m-1}F_{k+1} + F_{m}F_{k+2}$\n",
    "$ \\leftrightarrow F_{m+k} + F_{m+k-1} = F_{m-1}F_{k+1} + F_{m}F_{k+2}$\n",
    "$ \\leftrightarrow (F_{m-1}F_{k} + F_{m}F_{k+1}) + (F_{m-1}F_{k-1} + F_{m}F_{k}) = F_{m-1}F_{k+1} + F_{m}F_{k+2}$\n",
    "$ \\leftrightarrow F_{m-1}(F_{k}+F_{k-1}) + F_{m}(F_{k+1}+F_{k}) = F_{m-1}F_{k+2} + F_{m}F_{k+1}$\n",
    "$ \\leftrightarrow F_{m-1}F_{k+1} + F_{m}F_{k+2} = F_{m-1}F_{k+1} + F_{m}F_{k+2}$ (đúng)\n",
    "\n",
    "Vậy, với $m = n$, ta sẽ có:\n",
    "$F_{2n} = F_{n-1}F_n + F_nF_{n+1}$\n",
    "\n",
    "$= F_n(F_{n-1}+F_{n+1})$\n",
    "$= F_n(2F_{n-1}+F_n)$ $(**)$ được chứng minh\n",
    "\n",
    "Với $m=n-1$, ta sẽ có \n",
    "\n",
    "$F_{2n-1} = F_{n-2}F_n + F_{n-1}F_{n+1}$\n",
    "\n",
    "$= (F_n - F_{n-1})F_n + (F_n+F_{n-1})F_{n-1}$\n",
    "$= {F_n}^2 + {F_{n-1}}^2$ $(*)$ được chứng minh    \n",
    "\n",
    "<hr>\n",
    "\n",
    "Với công thức này thì chúng ta sẽ chỉ tính những số fibonacci cần thiết mà thôi ( với mỗi trường hợp chẵn hoặc lẻ)    \n",
    "Time complexity: O($\\log{n}$)    \n",
    "Space complexity: O($1$)  "
   ]
  },
  {
   "cell_type": "code",
   "execution_count": 13,
   "metadata": {},
   "outputs": [
    {
     "name": "stdout",
     "output_type": "stream",
     "text": [
      "43466557686937456435688527675040625802564660517371780402481729089536555417949051890403879840079255169295922593080322634775209689623239873322471161642996440906533187938298969649928516003704476137795166849228875\n",
      "0.0003268718719482422\n"
     ]
    }
   ],
   "source": [
    "import time\n",
    "MAX = 10000000\n",
    "  \n",
    "# Create an array for memoization \n",
    "f = [0] * MAX\n",
    "  \n",
    "# Returns n'th fuibonacci number using table f[] \n",
    "def fib(n) : \n",
    "    # Base cases \n",
    "    if (n == 0) : \n",
    "        return 0\n",
    "    if (n == 1 or n == 2) : \n",
    "        f[n] = 1\n",
    "        return (f[n]) \n",
    "  \n",
    "    # If fib(n) is already computed \n",
    "    if (f[n]) : \n",
    "        return f[n] \n",
    "  \n",
    "    if( n & 1) : \n",
    "        k = (n + 1) // 2\n",
    "    else :  \n",
    "        k = n // 2\n",
    "  \n",
    "    # Applying above formula [Note value n&1 is 1 \n",
    "    # if n is odd, else 0. \n",
    "    if((n & 1) ) : \n",
    "        f[n] = (fib(k) * fib(k) + fib(k-1) * fib(k-1)) \n",
    "    else : \n",
    "        f[n] = (2*fib(k-1) + fib(k))*fib(k) \n",
    "  \n",
    "    return f[n] \n",
    "  \n",
    "\n",
    "n = 1000\n",
    "start = time.time()\n",
    "print(fib(n))\n",
    "end = time.time()\n",
    "print(end - start)"
   ]
  },
  {
   "cell_type": "markdown",
   "metadata": {},
   "source": [
    "### 3. Sử dụng phương trình dãy số:\n",
    "Dãy fibonaci được tổng quát với công thức GẦN ĐÚNG như sau:\n",
    "$F_n = \\frac{({\\frac{1+\\sqrt{5}}{2}})^n + ({\\frac{1-\\sqrt{5}}{2}})^n}{\\sqrt{5}}$"
   ]
  },
  {
   "cell_type": "code",
   "execution_count": 10,
   "metadata": {
    "tags": []
   },
   "outputs": [
    {
     "name": "stdout",
     "output_type": "stream",
     "text": [
      "4.3466557686938915e+208\n"
     ]
    }
   ],
   "source": [
    "from math import *\n",
    "import time\n",
    "def fib(n):\n",
    "    a = (1+sqrt(5))/2\n",
    "    b = (1-sqrt(5))/2\n",
    "    return (pow(a, n)+ pow(b, n))/sqrt(5)\n",
    "start = time.time()\n",
    "print(fib(1000))"
   ]
  },
  {
   "cell_type": "markdown",
   "metadata": {},
   "source": [
    "Phương pháp này có độ phức tạp thuật toán là O(1) nhưng lại không lý tưởng bởi vì khả năng tính toán trên số thực của python có sai số khiến cho kết quả sẽ không chính xác như tính toán trên số nguyên."
   ]
  },
  {
   "cell_type": "markdown",
   "metadata": {},
   "source": [
    "## 3. Design Algorithms\n",
    "Chúng ta có thể cài đặt ngay dựa trên các dạng đã nhận ra ở trên "
   ]
  },
  {
   "cell_type": "markdown",
   "metadata": {},
   "source": [
    "## 4. Implement "
   ]
  },
  {
   "cell_type": "code",
   "execution_count": 1,
   "metadata": {
    "tags": []
   },
   "outputs": [
    {
     "name": "stdin",
     "output_type": "stream",
     "text": [
      " 100 100000\n"
     ]
    },
    {
     "name": "stdout",
     "output_type": "stream",
     "text": [
      "579989419\n"
     ]
    }
   ],
   "source": [
    "def fib(n): \n",
    "    F = [[1, 1], \n",
    "         [1, 0]] \n",
    "    if (n == 0): \n",
    "        return 0\n",
    "    power(F, n - 1) \n",
    "      \n",
    "    return F[0][0] \n",
    "  \n",
    "def multiply(F, M): \n",
    "  \n",
    "    x = (F[0][0] * M[0][0] + \n",
    "         F[0][1] * M[1][0]) \n",
    "    y = (F[0][0] * M[0][1] +\n",
    "         F[0][1] * M[1][1]) \n",
    "    z = (F[1][0] * M[0][0] + \n",
    "         F[1][1] * M[1][0]) \n",
    "    w = (F[1][0] * M[0][1] + \n",
    "         F[1][1] * M[1][1]) \n",
    "      \n",
    "    F[0][0] = x  %1000000007\n",
    "    F[0][1] = y  %1000000007\n",
    "    F[1][0] = z  %1000000007\n",
    "    F[1][1] = w  %1000000007\n",
    "  \n",
    "def power(F, n): \n",
    "  \n",
    "    M = [[1, 1], \n",
    "         [1, 0]] \n",
    "  \n",
    "    # n - 1 times multiply the \n",
    "    # matrix to {{1,0},{0,1}} \n",
    "    for i in range(2, n + 1): \n",
    "        multiply(F, M) \n",
    "  \n",
    "\n",
    "x, y = map(int, input().split(' '))\n",
    "\n",
    "def fibs_seq_holt(n,k):\n",
    "    return fib(2*k+1)*n %1000000007\n",
    "\n",
    "print(fibs_seq_holt(x,y))"
   ]
  },
  {
   "cell_type": "markdown",
   "metadata": {},
   "source": [
    "#### Kết quả wecode \n",
    "<img src=\"https://raw.githubusercontent.com/hoangnhancs/CS112.L11.KHTN/master/resources/images/section2_Counting_stars_pic5.png\">"
   ]
  },
  {
   "source": [
    "![image.png](data:image/png;base64,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)"
   ],
   "cell_type": "markdown",
   "metadata": {}
  },
  {
   "cell_type": "markdown",
   "metadata": {},
   "source": [
    "# Counting Stars\n",
    "Buổi tối, Anh và Tân thích cùng nhau ngắm bầu trời đêm đầy sao.Họ sẽ ngồi dưới đất, nhâm nhi một chút trà và nhìn chằm chằm vào những ngôi sao sáng trên bầu trời. Trong tầm mắt của họ, có một cái cây hình nón rất cao ngăn tầm nhìn ra làm hai phần, vì vậy họ coi cái cây như một dấu mốc: Các ngôi sao của Anh ở bên phải của cây và các ngôi sao của Tân ở bên trái. Mỗi đêm, Anh rất thích đếm các vì sao của mình, vì vậy cậu ấy biết chính xác rằng có n ngôi sao ở phía của mình (giả sử rằng số ngôi sao không đổi). Gần đây, cậu ấy muốn thử một cái gì đó mới. Cậu ta tưởng tượng ra một hệ tọa độ: cậu đặt gốc của hệ tọa độ tại giao điểm của mặt đất và cây, trục Ox dọc theo mặt đất ở bên trái cây và trục Oy hướng lên trên cây (xem hình minh họa)   \n",
    "\n",
    "<img src=\"https://raw.githubusercontent.com/hoangnhancs/CS112.L11.KHTN/master/resources/images/section2_Counting_stars_pic1.png\">   \n",
    "\n",
    "Để làm cho mọi thứ trở nên thú vị hơn, Anh tưởng tượng ra hai tia phát ra từ gốc tọa độ với các góc $\\alpha_1$  và  $\\alpha_2$ với trục Ox\n",
    "\n",
    "Bây giờ cậu chọn bất kỳ ngôi sao nào nằm giữa các tia sáng này. Lưu ý rằng cậu không thể chọn những ngôi sao nằm trên tia sáng. Sau đó, cậu tưởng tượng ra hai tia nữa phát ra từ ngôi sao này ở cùng góc  $\\alpha_1$  và  $\\alpha_2$  với trục Ox và chọn một ngôi sao khác nằm hoàn toàn ở giữa các tia mới. Cậu ta lặp lại hành động này cho đến khi nào vẫn còn có thể chọn một ngôi sao nằm giữa các tia phát ra từ ngôi sao đã chọn trước đó.\n",
    "\n",
    "<img src=\"https://raw.githubusercontent.com/hoangnhancs/CS112.L11.KHTN/master/resources/images/section2_Counting_stars_pic2.png\">   \n",
    "Kết quả là Anh được một chuỗi sao. Tìm số sao m tối đa mà chuỗi của Anh có thể chứa. Lưu ý rằng chuỗi phải bắt đầu từ điểm gốc của hệ tọa độ; điểm này không được tính khi đếm số m ngôi sao trong chuỗi\n",
    "\n",
    "## Input:\n",
    "- Dòng đầu tiên: Một số  integer n ($1\\le n \\le10^5$) - Số ngôi sao\n",
    "- Dòng thứ hai: 2 phân số đơn giản thể hiện mối quan hệ \"a/b c/d\", sao cho $\\frac{a}{b} = \\frac{sin({\\alpha}_{1})}{cos({\\alpha}_{1})}$, $\\frac{c}{d} = \\frac{sin({\\alpha}_{2})}{cos({\\alpha}_{2})}$, ($0 \\le a,b,c,d \\le 10^5, 0^{\\circ} \\le {\\alpha}_{1} < {\\alpha}_{2} \\le 90^{\\circ}, \\frac{a}{b} \\neq \\frac{c}{d}$)\n",
    "- n dòng tiếp theo: cặp số integer $x_i, y_i(1 \\le x_i , y_i \\le 10^5)$ - Tọa độ các ngôi sao, biết rằng mọi ngôi sao có tọa độ khác nhau.\n",
    "\n",
    "## Output \n",
    "In ra một số m - Số sao lớn nhất mà chuỗi của Jerry có thể chứa\n",
    "\n",
    "\n",
    "INPUT   | OUTPUT  |\n",
    "--------|---------|       \n",
    "15      | 5       |\n",
    "1/4 2/1 |         |\n",
    "3 1     |         |\n",
    "6 2     |         |\n",
    "9 3     |         |\n",
    "12 4    |         |\n",
    "15 5    |         |\n",
    "2 1     |         |\n",
    "4 2     |         |\n",
    "5 3     |         |\n",
    "7 4     |         |\n",
    "1 3     |         |\n",
    "3 4     |         |\n",
    "2 5     |         |\n",
    "4 5     |         |\n",
    "1 6     |         |\n",
    "6 6     |         |"
   ]
  },
  {
   "cell_type": "markdown",
   "metadata": {},
   "source": [
    "## 1.Abstraction:\n",
    "\n",
    "Như vậy điều chúng ta có thể làm là cố gắng tìm ra một chuỗi sao, sao cho độ dài chuỗi sao dài nhất có thể. Chẳng hạn như ví dụ này. \n",
    "\n",
    "<img src=\"https://raw.githubusercontent.com/hoangnhancs/CS112.L11.KHTN/master/resources/images/section2_Counting_stars_pic3.png\">\n",
    "\n",
    "\n",
    "Sau khi chọn 1 ngôi sao thì chúng ta tiếp tục cố gắng chọn ngôi sao nào có thể \"nhìn\" được nhiều sao nhất có thể dựa trên góc nhìn đã cho (tất nhiên là sẽ giảm đi vài sao đã đi quá lố)\n",
    "\n",
    "Vậy nên bài toán này được trừu tượng hóa như sau: Cho một dãy các điểm có tọa độ $x_i,y_i$, tìm chuỗi điểm dài nhất $(x_1,y_1),(x_2,y_2),...,(x_m,y_m)$ sao cho đường thẳng đi qua 2 điểm $(x_i,y_i)$ và $(x_{i-1},y_{i-1})$có hệ số góc  $\\alpha_3$  nằm trong góc \"nhìn\" được tạo bởi 2 đường thẳng có hệ số góc $\\alpha_1$ và $\\alpha_2$ sao cho $\\alpha_1 < \\alpha_3 < \\alpha_2$"
   ]
  },
  {
   "cell_type": "markdown",
   "metadata": {},
   "source": [
    "## 2. Pattern Recognition:"
   ]
  },
  {
   "cell_type": "markdown",
   "metadata": {},
   "source": [
    "Để có thể thỏa mãn được yêu cầu đề bài thì góc $\\alpha_3$ phải thỏa mãn \n",
    "\n",
    "$\\alpha_1 < \\alpha_3 < \\alpha_2 (*)$\n",
    "\n",
    "$\\leftrightarrow tan(\\alpha_1) < tan(\\alpha_3) < tan(\\alpha_2)(**)$\n",
    "\n",
    "$\\leftrightarrow \\frac{a}{b} < \\frac{y_i - y_{i-1}}{x_i - x_{i-1}} < \\frac{c}{d}$\n",
    "\n",
    "$\\leftrightarrow by_i - ax_i > by_{i-1} - ax_{i-1}$ và $cx_i - dy_i > cx_{i-1} - dy_{i-1}(***)$\n",
    "\n",
    "\n",
    "<img src=\"https://raw.githubusercontent.com/hoangnhancs/CS112.L11.KHTN/master/resources/images/section2_Counting_stars_pic4.png\">\n",
    "\n",
    "\n",
    "Ta thấy mỗi điểm $(X_i,X_{i-1})$đều có thể biểu diễn dưới dạng con số $by_{i} - ax_{i}$ (với $\\alpha_1$) hoặc $cx_{i} - dy_{i} $(với $\\alpha_2$ ). Bằng cách sử dụng hàm \n",
    "\n",
    "- $F(X_i) = f(x_i,y_i) = -ax_i + by_i $\n",
    "- $G(X_i) = g(x_i,y_i) = -cx_i + dy_i $\n",
    "\n",
    "Như vậy để kiểm tra điều kiện $(**)$ với cặp điểm $X_i,X_j$ thì ta có thể chứng minh cách sau:\n",
    "\n",
    "- $F(X_i) \\gt F(X_j)$   \n",
    "và    \n",
    "- $G(X_i) \\gt G(X_j)$   \n",
    "\n",
    "thì đường thẳng tạo bởi $X_i$ và $X_j$ sẽ thỏa điều kiện (điểm $X_i$ có thể \"nhìn\" $X_j$ - Chẳng hạn như trong ví dụ C có thể nhìn thấy D,D có thể thấy E,...)\n",
    "\n",
    "Vậy nếu chúng ta đưa tất cả các điểm đã nhận được $$X_i (x_i,y_i)$$ thành $$\\Delta X_i(F(X_i),G(X_i))$$\n",
    "\n",
    "Vậy thì chúng ta chỉ cần tìm dãy nào thỏa mãn điều kiện $(***)$ là được. Để tiết kiệm thời gian thì ta có thể sắp xếp tăng dần $\\Delta X_i$ dựa theo $F(X_i)$. Sau đó áp dụng kỹ thuật tìm dãy con tăng lớn nhất đối với $G(X_i)$ hoặc ngược lại!     \n",
    "\n",
    "Đưa về dạng bài toán tìm dãy con tăng(hoặc giảm) lớn nhất!"
   ]
  },
  {
   "cell_type": "markdown",
   "metadata": {},
   "source": [
    "### 1. Đệ quy\n",
    "Giải thuật đầu tiên và đơn giản nhất có thể giải quyết bài toán này chính là sử dụng đệ quy như sau:  \n",
    "- $L(i) = 1 + max( L(j) )$ khi $ 0 < j < i$ và $arr[j] < arr[i]$ hoặc    \n",
    "- $L(i) = 1$, nếu không có j thỏa mãn 2 điều kiện trên \n",
    "\n",
    "Tuy nhiên giải thuật này lại có độ phức tạp:   \n",
    "- Time Complexity : $O(2^n)$  \n",
    "- Space Complexity : $O(1)$"
   ]
  },
  {
   "cell_type": "code",
   "execution_count": 2,
   "metadata": {},
   "outputs": [
    {
     "name": "stdout",
     "output_type": "stream",
     "text": [
      "5\n",
      "0.00013899803161621094\n"
     ]
    }
   ],
   "source": [
    "import time \n",
    "global maximum \n",
    "  \n",
    "def lis(arr , n ): \n",
    "\n",
    "    global maximum \n",
    "\n",
    "    # quit case \n",
    "    if n == 1 : \n",
    "        return 1\n",
    "  \n",
    "    # maxEndingHere is the length of LIS ending at arr[n-1] \n",
    "    maxEndingHere = 1\n",
    "\n",
    "    for i in range(1, n): \n",
    "        res = lis(arr , i) \n",
    "        if arr[i-1] < arr[n-1] and res+1 > maxEndingHere: \n",
    "            maxEndingHere = res +1\n",
    "\n",
    "    maximum = max(maximum , maxEndingHere) \n",
    "  \n",
    "    return maxEndingHere \n",
    "  \n",
    "def LIS(arr): \n",
    "    global maximum \n",
    "  \n",
    "    n = len(arr) \n",
    "    maximum = 1\n",
    "    lis(arr , n) \n",
    "  \n",
    "    return maximum \n",
    "\n",
    "array = [10 , 22 , 9 , 33 , 21 , 50 , 41 , 60] \n",
    "start = time.time()\n",
    "ans = LIS(array)\n",
    "end = time.time()\n",
    "print(ans)\n",
    "print(end - start)"
   ]
  },
  {
   "cell_type": "markdown",
   "metadata": {},
   "source": [
    "### 2. Quy hoạch động \n",
    "Sử dụng kỹ thuật quy hoạch động với bằng cách sử dụng một mảng phụ để lưu số phần tử dãy con tăng kết thúc tại phần tử đó. Lúc ban đầu thì tất cả phần tử của mảng phụ đều sẽ là 1 bởi vì mỗi phần tử đều là dãy tăng (chính nó). Mỗi lần lặp qua một phần tử thứ i. Ta đều kiểm tra xem phần tử thứ i có lớn hơn các( lặp lại từ đầu mảng phụ tới i-1 ) phần tử ở trước hay không, nếu có thì có thể thêm phần tử i vào dãy tăng (update mảng phụ)   \n",
    "**Lưu ý**: Mỗi lần muốn update mảng phụ ta phải luôn chọn xem dãy con nào có độ dài lớn nhất. \n",
    "Độ phức tạp của giải thuật này là:   \n",
    "- Time Complexity : $O(n^2)$  \n",
    "- Space Complexity : $O(n)$"
   ]
  },
  {
   "cell_type": "code",
   "execution_count": 30,
   "metadata": {},
   "outputs": [
    {
     "name": "stdout",
     "output_type": "stream",
     "text": [
      "5\n",
      "6.604194641113281e-05\n"
     ]
    }
   ],
   "source": [
    "import time \n",
    "def LIS(arr): \n",
    "    n = len(arr) \n",
    "    \n",
    "    lis = [1]*n # 1 là bởi vì mỗi phần tử đều là dãy tăng ( chính nó )\n",
    "  \n",
    "    for i in range (1 , n): \n",
    "        for j in range(0 , i): \n",
    "            if arr[i] > arr[j] and lis[i]< lis[j] + 1 : # lis[i]< lis[j] + 1 để luôn chắc chắn lần nào update thì dãy con kết thúc tại vị trí thứ i luôn là lớn nhất \n",
    "                lis[i] = lis[j]+1\n",
    "\n",
    "    maximum = 0\n",
    "#     print(lis)\n",
    "    for i in range(n): \n",
    "        maximum = max(maximum , lis[i]) \n",
    "  \n",
    "    return maximum \n",
    "\n",
    "array = [10 , 22 , 9 , 33 , 21 , 50 , 41 , 60] \n",
    "start = time.time()\n",
    "ans = LIS(array)\n",
    "end = time.time()\n",
    "print(ans)\n",
    "print(end - start)"
   ]
  },
  {
   "cell_type": "markdown",
   "metadata": {},
   "source": [
    "### 3. Quy hoạch động kết hợp tìm kiếm nhị phân \n",
    "Ý tưởng chính của sự kết hợp này là sử dụng các phần tử \"tiềm năng\". Phần tử tiềm năng ở đây là phần tử lớn vừa đủ để tạo thành dãy con tăng, mà không bỏ qua các phần tử khác. (Độ chênh lệch so với phần tử cuối của dãy ít nhất - và phải lớn hơn).   \n",
    "Ví dụ:    \n",
    "- **2**, 5, **3**, **7**, 11, **8**, **10**, **13**, 6 (3 được xem là tiềm năng hơn )   \n",
    "- **2**, **5**, 3, **7**, 11, **8**, **10**, **13**, 6   \n",
    "Ở 2 dãy con trên thì dãy đầu tiên sẽ được chọn bởi vì độ lệch 2 phần tử đầu tiên là ít nhất có thể   \n",
    "Hoặc đơn giản hơn, tiềm năng nghĩa là những phần tử có thể bắt đầu một dãy con tăng mới (có thể) có độ dài dài hơn dãy con tăng trước  \n",
    "- 2, 5, 3, **1, 2, 3, 4, 5, 6** \n",
    "\n",
    "Vậy tóm lại ta sẽ có 2 trường hợp để một phần tử $A_i$ có tiềm năng hay không:\n",
    "- Nếu $A_i$ lớn hơn tất cả phần tử của dãy con đã có thì mở rộng dãy con đã có với phần tử $A_i$ đồng thời lưu trữ lại dãy con cũ \n",
    "- Nếu $A_i$ lớn hơn 1 \"phần\" của dãy con thì tạo ra một bản sao, thêm $A_i$ vào đúng vị trí của nó, sau đó cắt bỏ đi phần thừa. Đồng thời cũng loại bỏ đi các dãy con có cùng độ dài  "
   ]
  },
  {
   "cell_type": "code",
   "execution_count": 31,
   "metadata": {},
   "outputs": [
    {
     "name": "stdout",
     "output_type": "stream",
     "text": [
      "5\n",
      "6.580352783203125e-05\n"
     ]
    }
   ],
   "source": [
    "def BinSearch(A, l, r, key): \n",
    "    while (r - l > 1): \n",
    "      \n",
    "        m = l + (r - l)//2\n",
    "        if (A[m] >= key): \n",
    "            r = m \n",
    "        else: \n",
    "            l = m \n",
    "    return r \n",
    "   \n",
    "def LIS(A, size): \n",
    "  \n",
    "    # Add boundary case, \n",
    "    # when array size is one \n",
    "   \n",
    "    tailTable = [0 for i in range(size + 1)] \n",
    "    len = 0 # always points empty slot \n",
    "   \n",
    "    tailTable[0] = A[0] \n",
    "    len = 1\n",
    "    for i in range(1, size): \n",
    "      \n",
    "        if (A[i] < tailTable[0]): \n",
    "  \n",
    "            # new smallest value \n",
    "            tailTable[0] = A[i] \n",
    "   \n",
    "        elif (A[i] > tailTable[len-1]): \n",
    "  \n",
    "            # A[i] wants to extend \n",
    "            # largest subsequence \n",
    "            tailTable[len] = A[i] \n",
    "            len+= 1\n",
    "   \n",
    "        else: \n",
    "            # A[i] wants to be current \n",
    "            # end candidate of an existing \n",
    "            # subsequence. It will replace \n",
    "            # ceil value in tailTable \n",
    "            tailTable[BinSearch(tailTable, -1, len-1, A[i])] = A[i] \n",
    "          \n",
    "   \n",
    "    return len\n",
    "  \n",
    "\n",
    "array = [10 , 22 , 9 , 33 , 21 , 50 , 41 , 60] \n",
    "start = time.time()\n",
    "ans = LIS(array,len(array))\n",
    "end = time.time()\n",
    "print(ans)\n",
    "print(end - start)"
   ]
  },
  {
   "cell_type": "markdown",
   "metadata": {},
   "source": [
    "## 3. Design Algorithms:"
   ]
  },
  {
   "cell_type": "markdown",
   "metadata": {},
   "source": [
    "Chúng ta có thể chia bài toán này thành các giai đoạn    \n",
    "- Nhập\n",
    "- Chuyển đổi 1 điểm từ dạng (x,y) thành dạng  $\\Delta X_i(F(X_i),G(X_i))$\n",
    "- Sắp xếp tăng dần đối với x mới (tất cả các điểm ở phía sau đều nằm ở \"dưới\" điểm phía trước) và (nếu cùng x mới thì giảm dần đối với y mới)\n",
    "- Áp dụng giải thuật tìm dãy con tăng dài nhất đã phát biểu ở trên (cái số 3 - Bởi vì cách tìm dãy con tăng dài nhất này đủ đạt yêu cầu của bài toán đã cho)   \n",
    "Với \n",
    "- $F(X_i) = f(x_i,y_i) = -ax_i + by_i $\n",
    "- $G(X_i) = g(x_i,y_i) = -cx_i + dy_i $\n",
    "\n",
    "\n",
    "> input -> n    \n",
    "> input -> a,b,c,d        \n",
    "> input -> point[1],point[2],...,point[n]      \n",
    "> Sắp xếp mảng point theo thứ tự tăng dần c*point[0] - d*point[1]    \n",
    "> Loop i <- 1 to n    \n",
    ">  Chặt nhị phân j lớn nhất thỏa lis[j] < b*point[1] - a*point[0]    \n",
    ">  dp[i] = j + 1   \n",
    ">  lis[dp[i]] = min(lis[dp[i]], b*point[1] - a*point[0])   \n",
    "> output <- len(lis)"
   ]
  },
  {
   "cell_type": "markdown",
   "metadata": {},
   "source": [
    "## 4. Implement"
   ]
  },
  {
   "cell_type": "code",
   "execution_count": null,
   "metadata": {},
   "outputs": [],
   "source": [
    "from bisect import *\n",
    "n = int(input())\n",
    "a, b, c, d = map(int,input().replace('/',' ').split())\n",
    "\n",
    "points = []\n",
    "for i in range(0,n):\n",
    "    x,y = map(int,input().split(' '))\n",
    "    points.append((x,y))\n",
    "\n",
    "points = [(c * x - d * y, b * y - a * x) for x, y in points]\n",
    "points = sorted((x,-y) for x,y in points if x > 0 and y > 0)\n",
    "\n",
    "# dãy con tăng \n",
    "\n",
    "def LIS(A): \n",
    "    l = []\n",
    "    for x,y in A:\n",
    "        v = bisect_left(l, -y)\n",
    "\n",
    "        if v == len(l):\n",
    "            l.append(-y)\n",
    "        else:\n",
    "            l[v] = -y\n",
    "\n",
    "    return len(l)\n",
    "\n",
    "ans = LIS(points)\n",
    "print(ans)"
   ]
  },
  {
   "cell_type": "markdown",
   "metadata": {},
   "source": [
    "#### Kết quả wecode \n",
    "<img src=\"https://raw.githubusercontent.com/hoangnhancs/CS112.L11.KHTN/master/resources/images/section2_Counting_stars_pic5.png\">"
   ]
  },
  {
   "source": [
    "![image.png](data:image/png;base64,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)"
   ],
   "cell_type": "markdown",
   "metadata": {}
  }
 ],
 "metadata": {
  "kernelspec": {
   "display_name": "Python 3",
   "language": "python",
   "name": "python3"
  },
  "language_info": {
   "codemirror_mode": {
    "name": "ipython",
    "version": 3
   },
   "file_extension": ".py",
   "mimetype": "text/x-python",
   "name": "python",
   "nbconvert_exporter": "python",
   "pygments_lexer": "ipython3",
   "version": "3.8.5"
  }
 },
 "nbformat": 4,
 "nbformat_minor": 4
}