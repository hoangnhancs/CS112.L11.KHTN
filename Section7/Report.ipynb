{
 "cells": [
  {
   "cell_type": "markdown",
   "metadata": {},
   "source": [
    "<a href=\"https://colab.research.google.com/github/hoangnhancs/CS112.L11.KHTN/blob/master/Section7/Report.ipynb\" target=\"blank\"><img src=\"https://colab.research.google.com/assets/colab-badge.svg\" alt=\"Open In Colab\"/></a>   \n",
    "If it doesn't redirect into new tab, please use `ctrl` + click or `cmd` + click(for mac user)   \n",
    "![](https://i.postimg.cc/k445hYdx/logo-uit.png)"
   ]
  },
  {
   "cell_type": "markdown",
   "metadata": {},
   "source": [
    "<link rel=\"stylesheet\" href=\"https://stackpath.bootstrapcdn.com/font-awesome/4.7.0/css/font-awesome.min.css\" integrity=\"sha384-wvfXpqpZZVQGK6TAh5PVlGOfQNHSoD2xbE+QkPxCAFlNEevoEH3Sl0sibVcOQVnN\" crossorigin=\"anonymous\">\n",
    "<script src='https://cdnjs.cloudflare.com/ajax/libs/mathjax/2.7.5/MathJax.js?config=TeX-MML-AM_CHTML' async></script>\n",
    "\n",
    "<h1>N004's MEMBERS</h1>\n",
    "<div style=\"display:flex; width:100%\">\n",
    "        <div style=\"width:20%;margin: 0px auto\">\n",
    "            <h1>Thái Hoàng Nhân<br> 18521182 <br /> Leader </h1>\n",
    "            <details>\n",
    "                <summary>Image</summary>\n",
    "                <img style=\"width:100%\"\n",
    "                    src=\"https://raw.githubusercontent.com/hoangnhancs/CS112.L11.KHTN/master/resources/images/HoangNhan.png\">\n",
    "            </details>\n",
    "        </div>\n",
    "        <br>\n",
    "        <div style=\"width:20% ;margin:0px auto\">\n",
    "            <h1>Lưu Hoàng Sơn<br>18521348 <br /> Member</h1>\n",
    "            <details>\n",
    "                <summary>Image</summary>\n",
    "                <img style=\"width:100%\"\n",
    "                    src=\"https://raw.githubusercontent.com/hoangnhancs/CS112.L11.KHTN/master/resources/images/HoangSon.png\">\n",
    "            </details>\n",
    "        </div>\n",
    "        <br>\n",
    "        <div style=\"width:20%; margin:0px auto\">\n",
    "            <h1>Đào Thị Thu Nga<br> 18521135 <br /> Member </h1>\n",
    "            <details>\n",
    "                <summary>Image</summary>\n",
    "                <img style=\"width:100%\"\n",
    "                    src=\"https://raw.githubusercontent.com/hoangnhancs/CS112.L11.KHTN/master/resources/images/ThuNga.png\">\n",
    "            </details>\n",
    "        </div>\n",
    "    </div>\n",
    "\n",
    "<hr>\n",
    "<p>For Contact</p>\n",
    "<p>Thái Hoàng Nhân: 18521182@gm.uit.edu.vn or <a href=\"https://github.com/hoangnhancs\">github</a> or <a href=\"https://www.facebook.com/profile.php?id=100027617961231\">facebook</a></p>\n",
    "<p>Lưu Hoàng Sơn: 18521348@gm.uit.edu.vn or <a href=\"https://github.com/sonlhcsuit\">github</a> or <a href=\"https://www.facebook.com/sjIv3r\">facebook</a></p>\n",
    "<p>Đào Thị Thu Nga: 18521135@gm.uit.edu.vn or <a href=\"https://github.com/DAOTHITHUNGA\">github</a> or <a href=\"https://www.facebook.com/vonguocmo03092000\">facebook</a></p>"
   ]
  },
  {
   "cell_type": "markdown",
   "metadata": {},
   "source": [
    "# Phân số"
   ]
  },
  {
   "cell_type": "markdown",
   "metadata": {},
   "source": [
    "## 1. Abstraction:\n",
    "Cho 2 phân số đúng và tối giản $\\frac{a}{b} $,$\\frac{c}{d}$   . Mỗi phép biến đổi là tăng a và b lên 1, sau đó giản ước phân số nhận được.\n",
    "\n",
    "Hãy xác định sau bao nhiêu bước biến đổi từ phân số thứ nhất ban đầu nhận được phân số thứ 2 đã cho.\n",
    "\n",
    "Dữ liệu: Vào từ thiết bị nhập chuẩn gồm 4 dòng, mỗi dòng chứa 1 số nguyên $$ a, b, c, d, 0 < a < b \\le 10^5, 0 < c < d \\le 10^5,$$ a và b nguyên tố cùng nhau, c và d nguyên tố cùng nhau $ \\frac{a}{b} \\ne \\frac{c}{d}$\n",
    "\n",
    "Kết quả: Đưa ra thiết bị xuất chuẩn số 0 nếu không có cách biến đổi hoặc một số nguyên – số lượng phép biến đổi.\n",
    "\n",
    "Ví dụ:\n",
    "\n",
    "|INPUT      | OUTPUT|\n",
    "|-----------|-------|\n",
    "|1 6 2 3    |5      |\n",
    "\n",
    "Bài toán rút gọn phân số - tìm ước chung lớn nhất của a,b "
   ]
  },
  {
   "cell_type": "markdown",
   "metadata": {},
   "source": [
    "## 2. Pattern Recognition\n",
    "Xử lý bài toán tìm ước chung lớn nhất của a,b "
   ]
  },
  {
   "cell_type": "markdown",
   "metadata": {},
   "source": [
    "## 3. Design Algorithms\n",
    "Bởi vì thuật toán tìm ước chung khá đơn giản: Giải thuật Euclid nên chúng ta có thể thực hiện luôn"
   ]
  },
  {
   "cell_type": "markdown",
   "metadata": {},
   "source": [
    "## 4. Implement"
   ]
  },
  {
   "cell_type": "code",
   "execution_count": 3,
   "metadata": {},
   "outputs": [
    {
     "name": "stdin",
     "output_type": "stream",
     "text": [
      " 1\n",
      " 6\n",
      " 2\n",
      " 3\n"
     ]
    },
    {
     "name": "stdout",
     "output_type": "stream",
     "text": [
      "5\n"
     ]
    }
   ],
   "source": [
    "import math\n",
    "a = int(input())\n",
    "b = int(input())\n",
    "c = int(input())\n",
    "d = int(input())\n",
    "if (d*a - c*b)%(c-d) != 0 or (d*a - b*c)>0:\n",
    "    print(0)\n",
    "else: \n",
    "    upper_bound = (d*a - c*b)//(c-d)\n",
    "    count = 0\n",
    "    while (a*d!=b*c):\n",
    "        a = a + 1\n",
    "        b = b + 1\n",
    "        gcd = math.gcd(a,b)\n",
    "        a = a//gcd\n",
    "        b = b//gcd\n",
    "        count = count +1\n",
    "        if count > upper_bound:\n",
    "            break\n",
    "    if count > upper_bound:\n",
    "        print(0)\n",
    "    else:\n",
    "        print(count)\n",
    "\n",
    "#note test"
   ]
  },
  {
   "cell_type": "markdown",
   "metadata": {},
   "source": [
    "# Chuỗi con tương đương"
   ]
  },
  {
   "cell_type": "markdown",
   "metadata": {},
   "source": [
    "## 1. Abstraction:\n",
    "Cho xâu s chỉ chứa các ký tự la tinh thường độ dài n không quá 105. Ký hiệu **s[i..j]** là xâu con các ký tự liên tiếp nhau của s từ vị trí **i** đến vị trí **j**. Hai xâu con **x = s[a..b]** và **y = s[c..d]** được gọi là cùng một lớp tương đương nếu có cách đổi chỗ các ký tự trong một xâu để nhận được xâu kia. Các vị trí được đánh số từ 1 trở đi.\n",
    "\n",
    "Ví dụ với s = “abcbacaac”, **s[1..3]** tương đương với **s[4..6]**, còn **s[1..3]** không tương đương với **s[5..7]**.\n",
    "\n",
    "Cho **q** truy vấn, mỗi truy vấn là 4 số nguyên **a, b, c, d** xác định các xâu con **x** và **y**. Với mỗi truy vấn hãy xác định hai xâu con này có cùng một lớp tương đương hay không và đưa ra câu trả lời tương ứng “YES” hoặc “NO”.\n",
    "\n",
    "Dữ liệu: Vào từ thiết bị nhập chuẩn:\n",
    "\n",
    "Dòng đầu tiên chứa xâu **s**,\n",
    "\n",
    "Dòng thứ 2 chứa số nguyên **q** ($ 1 \\le  q  \\le 10^5)$,\n",
    "\n",
    "Mỗi dòng trong q dòng tiếp theo chứa 4 số nguyên  **a, b, c, d**  $(1 \\le a \\le b \\le n, 1 \\le c \\le d \\le n)$\n",
    "\n",
    "Kết quả: Đưa ra thiết bị xuất chuẩn các câu trả lời xác định được cho mỗi truy vấn, mỗi câu trả lời trên một dòng.\n",
    "\n",
    "Dữ liệu mẫu:\n",
    "\n",
    "|INPUT                   |OUTPUT  |\n",
    "|------------------------|--------|\n",
    "|abcbacaac               |YES     |\n",
    "|2                       |NO      |\n",
    "|1 3 4 6                 |        |\n",
    "|1 3 5 7                 |        |\n",
    "\n",
    "Tóm lại: Số lượng mỗi loại phần tử của xâu x có bằng xâu y hay không "
   ]
  },
  {
   "cell_type": "markdown",
   "metadata": {},
   "source": [
    "## 2. Pattern Recognition\n",
    "Nhóm nhận ra được đây là bài toán đếm số lượng phần tử mỗi loại "
   ]
  },
  {
   "cell_type": "markdown",
   "metadata": {},
   "source": [
    "## 3. Design Algorithms\n",
    "### Giải thuật 1\n",
    "Sắp xếp xâu a, xâu b theo thứ tự alphabet và so sánh\n",
    "Tuy nhiên cách này lại có vấn đề là mỗi lần với mỗi câu query thì lại so sánh. Không đáp ứng được dủ thời gian\n",
    "### Giải thuật 2\n",
    "Mã hoá từng ký tự thành 1 con số chênh lệch nhau đủ lớn (ví dụ $2^1 $ tới $2^{26}$)\n",
    "Mỗi lần muốn tìm số lượng mỗi loại phần tử thì chúng ta chỉ cần tìm tổng của dãy con thì sẽ đáp ứng được yêu cầu  "
   ]
  },
  {
   "cell_type": "markdown",
   "metadata": {},
   "source": [
    "## 4. Implement"
   ]
  },
  {
   "cell_type": "code",
   "execution_count": null,
   "metadata": {},
   "outputs": [],
   "source": [
    "from sys import stdin,stdout\n",
    "\n",
    "input_s = stdin.readline()\n",
    "input_s = input_s.strip()\n",
    "n =int(stdin.readline())\n",
    "value = {}\n",
    "for i in range(97,123):\n",
    "    value[chr(i)]= 1<<i-97\n",
    "# print(value)\n",
    "sums = [0 for _ in range(len(input_s)+1)]\n",
    "\n",
    "for i in range(len(input_s)):\n",
    "    sums[i+1] = sums[i] + value[input_s[i]]\n",
    "# print(sums)\n",
    "\n",
    "for i in range(n):\n",
    "    a,b,c,d = map(int,stdin.readline().strip().split(' '))\n",
    "    # print(sums[b], sums[a - 1])\n",
    "    # print(sums[d], sums[c - 1])\n",
    "    if(sums[b]-sums[a-1]==sums[d]-sums[c-1]):\n",
    "        stdout.write('YES\\n')\n",
    "    else:\n",
    "        stdout.write('NO\\n')"
   ]
  }
 ],
 "metadata": {
  "kernelspec": {
   "display_name": "Python 3",
   "language": "python",
   "name": "python3"
  },
  "language_info": {
   "codemirror_mode": {
    "name": "ipython",
    "version": 3
   },
   "file_extension": ".py",
   "mimetype": "text/x-python",
   "name": "python",
   "nbconvert_exporter": "python",
   "pygments_lexer": "ipython3",
   "version": "3.8.5"
  }
 },
 "nbformat": 4,
 "nbformat_minor": 4
}
