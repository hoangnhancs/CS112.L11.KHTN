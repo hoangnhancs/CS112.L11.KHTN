{
 "cells": [
  {
   "cell_type": "markdown",
   "metadata": {
    "id": "lYhdvD5E-o-W"
   },
   "source": [
    "<a href=\"https://colab.research.google.com/github/hoangnhancs/CS112.L11.KHTN/blob/master/Section9/Report.ipynb\" target=\"_blank\"><img src=\"https://colab.research.google.com/assets/colab-badge.svg\" alt=\"Open In Colab\"/></a>   \n",
    "If it doesn't redirect into new tab, please use `ctrl` + click or `cmd` + click(for mac user)   \n",
    "![](https://i.postimg.cc/k445hYdx/logo-uit.png)"
   ]
  },
  {
   "cell_type": "markdown",
   "metadata": {
    "id": "wus8chdT-o-W"
   },
   "source": [
    "<link rel=\"stylesheet\" href=\"https://stackpath.bootstrapcdn.com/font-awesome/4.7.0/css/font-awesome.min.css\" integrity=\"sha384-wvfXpqpZZVQGK6TAh5PVlGOfQNHSoD2xbE+QkPxCAFlNEevoEH3Sl0sibVcOQVnN\" crossorigin=\"anonymous\">\n",
    "<script src='https://cdnjs.cloudflare.com/ajax/libs/mathjax/2.7.5/MathJax.js?config=TeX-MML-AM_CHTML' async></script>\n",
    "\n",
    "<h1>N004's MEMBERS</h1>\n",
    "<div style=\"display:flex; width:100%\">\n",
    "        <div style=\"width:20%;margin: 0px auto\">\n",
    "            <h1>Thái Hoàng Nhân<br> 18521182 <br /> Leader </h1>\n",
    "            <details>\n",
    "                <summary>Image</summary>\n",
    "                <img style=\"width:100%\"\n",
    "                    src=\"https://raw.githubusercontent.com/hoangnhancs/CS112.L11.KHTN/master/resources/images/HoangNhan.png\">\n",
    "            </details>\n",
    "        </div>\n",
    "        <br>\n",
    "        <div style=\"width:20% ;margin:0px auto\">\n",
    "            <h1>Lưu Hoàng Sơn<br>18521348 <br /> Member</h1>\n",
    "            <details>\n",
    "                <summary>Image</summary>\n",
    "                <img style=\"width:100%\"\n",
    "                    src=\"https://raw.githubusercontent.com/hoangnhancs/CS112.L11.KHTN/master/resources/images/HoangSon.png\">\n",
    "            </details>\n",
    "        </div>\n",
    "        <br>\n",
    "        <div style=\"width:20%; margin:0px auto\">\n",
    "            <h1>Đào Thị Thu Nga<br> 18521135 <br /> Member </h1>\n",
    "            <details>\n",
    "                <summary>Image</summary>\n",
    "                <img style=\"width:100%\"\n",
    "                    src=\"https://raw.githubusercontent.com/hoangnhancs/CS112.L11.KHTN/master/resources/images/ThuNga.png\">\n",
    "            </details>\n",
    "        </div>\n",
    "    </div>\n",
    "\n",
    "<hr>\n",
    "<p>For Contact</p>\n",
    "<p>Thái Hoàng Nhân: 18521182@gm.uit.edu.vn or <a href=\"https://github.com/hoangnhancs\">github</a> or <a href=\"https://www.facebook.com/profile.php?id=100027617961231\">facebook</a></p>\n",
    "<p>Lưu Hoàng Sơn: 18521348@gm.uit.edu.vn or <a href=\"https://github.com/sonlhcsuit\">github</a> or <a href=\"https://www.facebook.com/sjIv3r\">facebook</a></p>\n",
    "<p>Đào Thị Thu Nga: 18521135@gm.uit.edu.vn or <a href=\"https://github.com/DAOTHITHUNGA\">github</a> or <a href=\"https://www.facebook.com/vonguocmo03092000\">facebook</a></p>"
   ]
  },
  {
   "cell_type": "markdown",
   "metadata": {},
   "source": [
    "## ĐÈN LED \n",
    "\n",
    "Alice vừa hoàn thành một hợp đồng lắp bảng hiển thị số bằng đèn LED. Mỗi chữ số được hiển thị trong một khung chữ nhật với 7 ống đèn LED. Bằng cách bật các ống đèn LED thích hợp ta có thể hiển thị chữ số bất kỳ. Số đèn sáng càng nhiều thì việc hiển thị chữ số đó càng tốn năng lượng. Ví dụ, hiển thị chữ số 9 sẽ tốn năng lượng hơn hiển thị chữ số 7.\n",
    "\n",
    "<img src=\"https://raw.githubusercontent.com/hoangnhancs/CS112.L11.KHTN/master/resources/images/Section9_LED.png\" alt=\"led\"/>\n",
    "\n",
    "Sau khi bàn giao sản phẩm trong tay Alice còn thừa lại một số khá nhiều các khung hiển thị số và một cục pin nguồn. Dung lượng pin cho phép bật sáng n ống đèn LED. Alice muốn dùng pin bật đúng n ống đèn để hiển thị một số và số hiển thị được phải có tổng chữ số là lớn nhất.\n",
    "\n",
    "Hãy xác định tổng lớn nhất của các chữ số của số có thể bật sáng.\n",
    "\n",
    "*Dữ liệu*: Vào từ thiết bị nhập chuẩn gồm một dòng chứa số nguyên *n* $(2 \\le n \\le 106)$.\n",
    "\n",
    "*Kết quả*: Đưa ra thiết bị xuất chuẩn một số nguyên – tổng lớn nhất đạt được.\n",
    "\n",
    "Ví dụ:\n",
    "\n",
    "|INPUT|OUTPUT|\n",
    "|-----|------|\n",
    "|7    |11    |"
   ]
  },
  {
   "cell_type": "markdown",
   "metadata": {},
   "source": [
    "## 1.Abstraction\n",
    "Tìm số A sao cho tổng chữ số của số đó là lớn nhất, với mỗi chữ số $a_i$ của số A được tạo ra từ phép biến đổi $f$ từ chữ số $b_i$ của số B sao cho tổng các chữ số $b_i$ bằng $n$ cho trước .  \n",
    "Theo công thức toán học: \n",
    "$$ \\overline{a_1a_2...a_m} \\leftrightarrow \\forall \\ {a_i} = f(b_i)\\ \\ (i=1\\div m) $$\n",
    "$$ \\Sigma_{i=1}^{n}{b_i} = n$$"
   ]
  },
  {
   "cell_type": "markdown",
   "metadata": {},
   "source": [
    "## 2.Pattern Recognition\n",
    "Phân tách số $n$ thành tổng các số $b_i$ sao cho khi biến đổi thì tổng các số $a_i$ là lớn nhất "
   ]
  },
  {
   "cell_type": "markdown",
   "metadata": {},
   "source": [
    "## 3.Design Algorithms\n",
    "Trước tiên cần định nghĩa phép biến đổi từ *b* sang số *a* \n",
    "> b -> a (b khung thì có thể hiển thị số a)  \n",
    "> 6 -> 0      \n",
    "> 2 -> 1  \n",
    "> 5 -> 2  \n",
    "> 5 -> 3  \n",
    "> 4 -> 4   \n",
    "> 5 -> 2   \n",
    "> 6 -> 6   \n",
    "> 3 -> 7   \n",
    "> 7 -> 8  \n",
    "> 6 -> 9  \n",
    "\n",
    "\n",
    "Lấy ví dụ là số 7. Ta có thể tách ra thành số $34$  \n",
    "Sau khi thực hiện phép biến đổi dựa trên bảng thì ta thu được số $74$. Tổng là 11 (lớn nhất)  \n",
    "Nhìn vào bảng thì có thể nhận ra được cùng một số 5 thì có thể chuyển ra nhiều số khác nhau. Vì yêu cầu lớn nhất nên chúng ta chỉ cần số lớn nhất.\n",
    "> 2 -> 1    \n",
    "> 4 -> 4   \n",
    "> 5 -> 2     \n",
    "> 3 -> 7   \n",
    "> 7 -> 8  \n",
    "> 6 -> 9 \n",
    "\n",
    "Tuy nhiên chúng ta chỉ cần 3 số quan trọng là\n",
    "> 2 -> 1    \n",
    "> 4 -> 4  \n",
    "> 3 -> 7 \n",
    "\n",
    "Khi dùng số 7 hoặc 6 để tạo ra 8 hoặc 9 thì chúng ta có thể dùng 2 số 3 để tạo ra 2 số 7 với tổng là 14. Dùng 5 để tạo ra 2 cũng sẽ ko làm bài toán tốt hơn. (Chúng ta có thể dùng 3 và 2 để tạo ra 8)  \n",
    "  \n",
    "Vậy đối với số $n$ đề bài, ta lấy ra phần nguyên của phép chia cho 3. Nếu phần dư la 1 thì ta trừ phần nguyên đi 1, lấy phần nguyên còn lại nhân cho 7 và cộng thêm 4 (4->4). Nếu phần dư là 2 thì lấy phần nguyên còn lại nhân cho 7 và cộng thêm 2"
   ]
  },
  {
   "cell_type": "markdown",
   "metadata": {},
   "source": [
    "## 4.Implement"
   ]
  },
  {
   "cell_type": "code",
   "execution_count": 2,
   "metadata": {},
   "outputs": [
    {
     "name": "stdin",
     "output_type": "stream",
     "text": [
      " 7\n"
     ]
    },
    {
     "name": "stdout",
     "output_type": "stream",
     "text": [
      "11\n"
     ]
    }
   ],
   "source": [
    "n = int(input())\n",
    "\n",
    "mod = n%3\n",
    "if mod == 1:\n",
    "    print(7*(n//3 - 1) + 4)\n",
    "elif mod == 0:\n",
    "    print(7*(n//3))\n",
    "elif mod == 2:\n",
    "    print(7*(n//3) +  1)"
   ]
  },
  {
   "cell_type": "markdown",
   "metadata": {},
   "source": [
    "## PHẦN THƯỞNG "
   ]
  },
  {
   "cell_type": "markdown",
   "metadata": {},
   "source": [
    "## 1.Abstraction\n",
    "\n",
    "Harry và Hermione thắng cuộc trong một trò chơi truyền hình và bây giờ là giai đoạn trao thưởng. Quy tắc trao thưởng là như sau: có n phần thưởng xếp thành một hàng dài, đánh số từ 1 đến **n**. Tùy thuộc vào số điểm đã đạt được của cặp chơi, người dẫn chương trình sẽ nói một số **k** $(1 \\le k \\le \\frac{n}{3})$. Một người chơi sẽ chọn cho mình k phần thưởng xếp liên tiếp nhau, người thứ hai cũng sẽ chọn cho mình k phần thưởng xếp liên tiếp nhau trong số còn lại. Hermione là nữ nên được ưu tiên chọn trước.\n",
    "\n",
    "Trò chơi đã kết thúc. Bây giờ không cần phải đồng tâm hiệp lực. Hermione vẫn còn rất giận Harry về một câu nói vô tâm mà chắc bây giờ Harry cũng không nhớ là mình nói cái gì và khi nào. Hermione hiểu rất rõ giá trị mỗi phần thưởng đối với Harry, cụ thể là phần thưởng thứ i sẽ có giá trị $a_i, i= 1 \\div n$ và quyết định cách chọn của mình sao cho tổng giá trị phần thưởng mà Harry có thể đạt được càng nhỏ càng tốt. Về tổng giá trị phần thưởng của mình, Hermione không mảy may quan tâm!\n",
    "\n",
    "Hãy xác định **x** – tổng nhỏ nhất giá trị phần thưởng mà Hermione có thể chọn để Harry không có cách chọn phần thưởng với tổng giá trị lớn hơn x.\n",
    "\n",
    "$Dữ liệu$: Vào từ thiết bị nhập chuẩn:\n",
    "\n",
    "Dòng đầu tiên chứa 2 số nguyên **n** và **k** $(3 \\le n \\le 10^5, 1 \\le k \\le \\frac{n}{3})$,\n",
    "Dòng thứ 2 chứa n số nguyên $a_1, a_2, . . ., a_n (1 \\le ai \\le 10^9, i = 1 \\div n)$.  \n",
    "$Kết quả$: Đưa ra thiết bị xuất chuẩn số nguyên x.\n",
    "\n",
    "$Ví dụ$:\n",
    "\n",
    "|INPUT              |OUTPUT|\n",
    "|-------------------|------|\n",
    "|10 2               |7     |\n",
    "|1 2 4 5 2 4 2 2 1 6|      |\n"
   ]
  },
  {
   "cell_type": "markdown",
   "metadata": {},
   "source": [
    "## 2.Pattern Recognition"
   ]
  },
  {
   "cell_type": "markdown",
   "metadata": {},
   "source": [
    "## 3.Design Algorithms"
   ]
  },
  {
   "cell_type": "markdown",
   "metadata": {},
   "source": [
    "## 4.Implement"
   ]
  }
 ],
 "metadata": {
  "kernelspec": {
   "display_name": "Python 3",
   "language": "python",
   "name": "python3"
  },
  "language_info": {
   "codemirror_mode": {
    "name": "ipython",
    "version": 3
   },
   "file_extension": ".py",
   "mimetype": "text/x-python",
   "name": "python",
   "nbconvert_exporter": "python",
   "pygments_lexer": "ipython3",
   "version": "3.8.5"
  }
 },
 "nbformat": 4,
 "nbformat_minor": 4
}
